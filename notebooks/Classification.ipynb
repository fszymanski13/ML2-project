{
 "cells": [
  {
   "cell_type": "markdown",
   "metadata": {},
   "source": [
    "## Classification\n",
    "### Stroke Prediction Dataset\n",
    "\n",
    "#### Attribute Information:\n",
    "1) id: unique identifier\n",
    "2) gender: \"Male\", \"Female\" or \"Other\"\n",
    "3) age: age of the patient\n",
    "4) hypertension: 0 if the patient doesn't have hypertension, 1 if the patient has hypertension\n",
    "5) heart_disease: 0 if the patient doesn't have any heart diseases, 1 if the patient has a heart disease\n",
    "6) ever_married: \"No\" or \"Yes\"\n",
    "7) work_type: \"children\", \"Govt_jov\", \"Never_worked\", \"Private\" or \"Self-employed\"\n",
    "8) Residence_type: \"Rural\" or \"Urban\"\n",
    "9) avg_glucose_level: average glucose level in blood\n",
    "10) bmi: body mass index\n",
    "11) smoking_status: \"formerly smoked\", \"never smoked\", \"smokes\" or \"Unknown\"*\n",
    "12) stroke: 1 if the patient had a stroke or 0 if not\n",
    "*Note: \"Unknown\" in smoking_status means that the information is unavailable for this patient"
   ]
  },
  {
   "cell_type": "code",
   "execution_count": 44,
   "metadata": {},
   "outputs": [],
   "source": [
    "import pandas as pd\n",
    "import numpy as np\n",
    "\n",
    "from numpy import loadtxt\n",
    "from xgboost import XGBClassifier\n",
    "from sklearn.model_selection import train_test_split\n",
    "from sklearn.metrics import accuracy_score\n",
    "from sklearn import preprocessing \n",
    "from sklearn.metrics import roc_curve, auc\n",
    "import matplotlib.pyplot as plt\n",
    "import toad\n",
    "import seaborn as sns\n",
    "from sklearn.neural_network import MLPClassifier\n",
    "from sklearn.preprocessing import StandardScaler, OneHotEncoder\n",
    "from sklearn.impute import SimpleImputer\n",
    "from sklearn.pipeline import Pipeline\n",
    "from sklearn.compose import ColumnTransformer\n",
    "import dalex as dx\n",
    "from mlxtend.feature_selection import SequentialFeatureSelector"
   ]
  },
  {
   "cell_type": "code",
   "execution_count": 89,
   "metadata": {},
   "outputs": [],
   "source": [
    "df = pd.read_csv(r'C:\\Users\\HP\\Desktop\\szkolne\\5 rok\\ml2\\ML2-project\\data\\c1.csv')\n",
    "\n",
    "list_dummies = ['ever_married', 'smoking_status', 'Residence_type', 'work_type', 'gender']\n",
    "df = pd.get_dummies(df, columns=[var for var in list_dummies], drop_first=True)\n",
    "df.drop(columns = ['id'], inplace=True)"
   ]
  },
  {
   "cell_type": "code",
   "execution_count": 47,
   "metadata": {},
   "outputs": [
    {
     "data": {
      "text/plain": [
       "Index(['age', 'avg_glucose_level', 'bmi', 'feat01', 'feat02', 'feat03',\n",
       "       'feat04', 'feat05', 'feat06', 'feat07', 'feat08', 'feat09', 'feat10',\n",
       "       'heart_disease', 'hypertension', 'stroke', 'ever_married_Yes',\n",
       "       'smoking_status_formerly smoked', 'smoking_status_never smoked',\n",
       "       'smoking_status_smokes', 'Residence_type_Urban',\n",
       "       'work_type_Never_worked', 'work_type_Private',\n",
       "       'work_type_Self-employed', 'work_type_children', 'gender_Male',\n",
       "       'gender_Other'],\n",
       "      dtype='object')"
      ]
     },
     "execution_count": 47,
     "metadata": {},
     "output_type": "execute_result"
    }
   ],
   "source": [
    "df.columns"
   ]
  },
  {
   "cell_type": "code",
   "execution_count": 32,
   "metadata": {},
   "outputs": [
    {
     "data": {
      "text/plain": [
       "feat10                           -0.132068\n",
       "feat02                           -0.131935\n",
       "work_type_children               -0.115262\n",
       "feat05                           -0.031556\n",
       "work_type_Never_worked           -0.020550\n",
       "feat09                           -0.020025\n",
       "feat07                           -0.013926\n",
       "feat03                           -0.008295\n",
       "smoking_status_never smoked      -0.005569\n",
       "gender_Other                     -0.004373\n",
       "feat04                           -0.001355\n",
       "smoking_status_smokes             0.012033\n",
       "gender_Male                       0.012291\n",
       "feat06                            0.012787\n",
       "work_type_Private                 0.016037\n",
       "Residence_type_Urban              0.020846\n",
       "feat08                            0.028268\n",
       "bmi                               0.057851\n",
       "work_type_Self-employed           0.082867\n",
       "smoking_status_formerly smoked    0.086081\n",
       "ever_married_Yes                  0.147214\n",
       "feat01                            0.165246\n",
       "hypertension                      0.166696\n",
       "heart_disease                     0.172797\n",
       "avg_glucose_level                 0.173630\n",
       "age                               0.327436\n",
       "stroke                            1.000000\n",
       "Name: stroke, dtype: float64"
      ]
     },
     "execution_count": 32,
     "metadata": {},
     "output_type": "execute_result"
    }
   ],
   "source": [
    "\n",
    "# plt.figure(figsize=(15, 10))\n",
    "# sns.heatmap(corr_matrix, annot=True, cmap='coolwarm', fmt=\".2f\")\n",
    "# plt.title('Correlation Plot for All Variables')\n",
    "# plt.show()\n"
   ]
  },
  {
   "cell_type": "code",
   "execution_count": 56,
   "metadata": {},
   "outputs": [
    {
     "data": {
      "text/html": [
       "<div>\n",
       "<style scoped>\n",
       "    .dataframe tbody tr th:only-of-type {\n",
       "        vertical-align: middle;\n",
       "    }\n",
       "\n",
       "    .dataframe tbody tr th {\n",
       "        vertical-align: top;\n",
       "    }\n",
       "\n",
       "    .dataframe thead th {\n",
       "        text-align: right;\n",
       "    }\n",
       "</style>\n",
       "<table border=\"1\" class=\"dataframe\">\n",
       "  <thead>\n",
       "    <tr style=\"text-align: right;\">\n",
       "      <th></th>\n",
       "      <th>age</th>\n",
       "      <th>avg_glucose_level</th>\n",
       "      <th>bmi</th>\n",
       "      <th>feat01</th>\n",
       "      <th>feat02</th>\n",
       "      <th>feat03</th>\n",
       "      <th>feat04</th>\n",
       "      <th>feat05</th>\n",
       "      <th>feat06</th>\n",
       "      <th>feat07</th>\n",
       "      <th>...</th>\n",
       "      <th>smoking_status_formerly smoked</th>\n",
       "      <th>smoking_status_never smoked</th>\n",
       "      <th>smoking_status_smokes</th>\n",
       "      <th>Residence_type_Urban</th>\n",
       "      <th>work_type_Never_worked</th>\n",
       "      <th>work_type_Private</th>\n",
       "      <th>work_type_Self-employed</th>\n",
       "      <th>work_type_children</th>\n",
       "      <th>gender_Male</th>\n",
       "      <th>gender_Other</th>\n",
       "    </tr>\n",
       "  </thead>\n",
       "  <tbody>\n",
       "    <tr>\n",
       "      <th>0</th>\n",
       "      <td>43.0</td>\n",
       "      <td>92.71</td>\n",
       "      <td>30.5</td>\n",
       "      <td>0.621595</td>\n",
       "      <td>0.663593</td>\n",
       "      <td>1.070288</td>\n",
       "      <td>1.274483</td>\n",
       "      <td>1.390726</td>\n",
       "      <td>1.096495</td>\n",
       "      <td>1.071132</td>\n",
       "      <td>...</td>\n",
       "      <td>True</td>\n",
       "      <td>False</td>\n",
       "      <td>False</td>\n",
       "      <td>True</td>\n",
       "      <td>False</td>\n",
       "      <td>True</td>\n",
       "      <td>False</td>\n",
       "      <td>False</td>\n",
       "      <td>True</td>\n",
       "      <td>False</td>\n",
       "    </tr>\n",
       "    <tr>\n",
       "      <th>1</th>\n",
       "      <td>59.0</td>\n",
       "      <td>93.90</td>\n",
       "      <td>42.2</td>\n",
       "      <td>0.285822</td>\n",
       "      <td>0.405060</td>\n",
       "      <td>1.272207</td>\n",
       "      <td>0.950317</td>\n",
       "      <td>1.560437</td>\n",
       "      <td>1.150817</td>\n",
       "      <td>1.110254</td>\n",
       "      <td>...</td>\n",
       "      <td>False</td>\n",
       "      <td>True</td>\n",
       "      <td>False</td>\n",
       "      <td>False</td>\n",
       "      <td>False</td>\n",
       "      <td>True</td>\n",
       "      <td>False</td>\n",
       "      <td>False</td>\n",
       "      <td>True</td>\n",
       "      <td>False</td>\n",
       "    </tr>\n",
       "    <tr>\n",
       "      <th>2</th>\n",
       "      <td>25.0</td>\n",
       "      <td>92.14</td>\n",
       "      <td>36.2</td>\n",
       "      <td>0.695876</td>\n",
       "      <td>0.496342</td>\n",
       "      <td>1.466843</td>\n",
       "      <td>1.026262</td>\n",
       "      <td>0.513870</td>\n",
       "      <td>1.040822</td>\n",
       "      <td>0.869922</td>\n",
       "      <td>...</td>\n",
       "      <td>False</td>\n",
       "      <td>False</td>\n",
       "      <td>False</td>\n",
       "      <td>False</td>\n",
       "      <td>False</td>\n",
       "      <td>True</td>\n",
       "      <td>False</td>\n",
       "      <td>False</td>\n",
       "      <td>True</td>\n",
       "      <td>False</td>\n",
       "    </tr>\n",
       "    <tr>\n",
       "      <th>3</th>\n",
       "      <td>74.0</td>\n",
       "      <td>205.84</td>\n",
       "      <td>54.6</td>\n",
       "      <td>0.718109</td>\n",
       "      <td>0.408475</td>\n",
       "      <td>0.643750</td>\n",
       "      <td>0.895183</td>\n",
       "      <td>0.965370</td>\n",
       "      <td>0.891297</td>\n",
       "      <td>1.499150</td>\n",
       "      <td>...</td>\n",
       "      <td>False</td>\n",
       "      <td>True</td>\n",
       "      <td>False</td>\n",
       "      <td>True</td>\n",
       "      <td>False</td>\n",
       "      <td>False</td>\n",
       "      <td>True</td>\n",
       "      <td>False</td>\n",
       "      <td>False</td>\n",
       "      <td>False</td>\n",
       "    </tr>\n",
       "    <tr>\n",
       "      <th>4</th>\n",
       "      <td>34.0</td>\n",
       "      <td>79.80</td>\n",
       "      <td>37.4</td>\n",
       "      <td>0.472225</td>\n",
       "      <td>0.463821</td>\n",
       "      <td>1.161195</td>\n",
       "      <td>1.308394</td>\n",
       "      <td>0.802539</td>\n",
       "      <td>1.571430</td>\n",
       "      <td>0.318545</td>\n",
       "      <td>...</td>\n",
       "      <td>False</td>\n",
       "      <td>False</td>\n",
       "      <td>True</td>\n",
       "      <td>True</td>\n",
       "      <td>False</td>\n",
       "      <td>True</td>\n",
       "      <td>False</td>\n",
       "      <td>False</td>\n",
       "      <td>False</td>\n",
       "      <td>False</td>\n",
       "    </tr>\n",
       "  </tbody>\n",
       "</table>\n",
       "<p>5 rows × 27 columns</p>\n",
       "</div>"
      ],
      "text/plain": [
       "    age  avg_glucose_level   bmi    feat01    feat02    feat03    feat04  \\\n",
       "0  43.0              92.71  30.5  0.621595  0.663593  1.070288  1.274483   \n",
       "1  59.0              93.90  42.2  0.285822  0.405060  1.272207  0.950317   \n",
       "2  25.0              92.14  36.2  0.695876  0.496342  1.466843  1.026262   \n",
       "3  74.0             205.84  54.6  0.718109  0.408475  0.643750  0.895183   \n",
       "4  34.0              79.80  37.4  0.472225  0.463821  1.161195  1.308394   \n",
       "\n",
       "     feat05    feat06    feat07  ...  smoking_status_formerly smoked  \\\n",
       "0  1.390726  1.096495  1.071132  ...                            True   \n",
       "1  1.560437  1.150817  1.110254  ...                           False   \n",
       "2  0.513870  1.040822  0.869922  ...                           False   \n",
       "3  0.965370  0.891297  1.499150  ...                           False   \n",
       "4  0.802539  1.571430  0.318545  ...                           False   \n",
       "\n",
       "   smoking_status_never smoked  smoking_status_smokes  Residence_type_Urban  \\\n",
       "0                        False                  False                  True   \n",
       "1                         True                  False                 False   \n",
       "2                        False                  False                 False   \n",
       "3                         True                  False                  True   \n",
       "4                        False                   True                  True   \n",
       "\n",
       "   work_type_Never_worked  work_type_Private  work_type_Self-employed  \\\n",
       "0                   False               True                    False   \n",
       "1                   False               True                    False   \n",
       "2                   False               True                    False   \n",
       "3                   False              False                     True   \n",
       "4                   False               True                    False   \n",
       "\n",
       "   work_type_children  gender_Male  gender_Other  \n",
       "0               False         True         False  \n",
       "1               False         True         False  \n",
       "2               False         True         False  \n",
       "3               False        False         False  \n",
       "4               False        False         False  \n",
       "\n",
       "[5 rows x 27 columns]"
      ]
     },
     "execution_count": 56,
     "metadata": {},
     "output_type": "execute_result"
    }
   ],
   "source": [
    "df.head()"
   ]
  },
  {
   "cell_type": "markdown",
   "metadata": {},
   "source": [
    "### Data split"
   ]
  },
  {
   "cell_type": "code",
   "execution_count": 90,
   "metadata": {},
   "outputs": [],
   "source": [
    "X = df.drop(['stroke'], axis=1)\n",
    "y = df['stroke']\n",
    "\n",
    "lbl = preprocessing.LabelEncoder() \n",
    "# col_invalid = ['ever_married', 'gender', 'Residence_type', 'smoking_status', 'work_type']\n",
    "# for col in col_invalid:\n",
    "#     X[col] = lbl.fit_transform(X[col].astype(str))\n",
    "\n",
    "\n",
    "\n",
    "seed = 15\n",
    "test_size = 0.2\n",
    "X_train, X_test, y_train, y_test = train_test_split(X, y, test_size=test_size, random_state=seed)"
   ]
  },
  {
   "cell_type": "code",
   "execution_count": 83,
   "metadata": {},
   "outputs": [
    {
     "data": {
      "text/plain": [
       "feat02                           -0.136845\n",
       "feat10                           -0.126966\n",
       "work_type_children               -0.120322\n",
       "feat05                           -0.028097\n",
       "feat09                           -0.021788\n",
       "work_type_Never_worked           -0.021256\n",
       "feat07                           -0.015267\n",
       "gender_Other                     -0.004866\n",
       "feat03                            0.003144\n",
       "smoking_status_smokes             0.004534\n",
       "gender_Male                       0.006714\n",
       "smoking_status_never smoked       0.009373\n",
       "feat06                            0.009857\n",
       "feat04                            0.015449\n",
       "Residence_type_Urban              0.019580\n",
       "work_type_Private                 0.022062\n",
       "feat08                            0.026335\n",
       "bmi                               0.058879\n",
       "smoking_status_formerly smoked    0.072038\n",
       "work_type_Self-employed           0.072377\n",
       "ever_married_Yes                  0.145252\n",
       "heart_disease                     0.156595\n",
       "feat01                            0.159089\n",
       "hypertension                      0.161297\n",
       "avg_glucose_level                 0.166620\n",
       "age                               0.326954\n",
       "stroke                            1.000000\n",
       "Name: stroke, dtype: float64"
      ]
     },
     "execution_count": 83,
     "metadata": {},
     "output_type": "execute_result"
    }
   ],
   "source": [
    "X_train.columns\n",
    "\n",
    "selected_feat = ['feat01',\n",
    " 'feat02',\n",
    " 'feat03',\n",
    " 'feat06',\n",
    " 'feat08',\n",
    " 'feat09',\n",
    " 'feat10',\n",
    " 'heart_disease',\n",
    " 'hypertension',\n",
    " 'ever_married_Yes',\n",
    " 'smoking_status_smokes',\n",
    " 'Residence_type_Urban',\n",
    " 'work_type_Never_worked',\n",
    " 'gender_Male',\n",
    " 'gender_Other',\n",
    " 'age_group_1',\n",
    " 'age_group_3',\n",
    " 'avg_glucose_level_group_1',\n",
    " 'avg_glucose_level_group_2',\n",
    " 'avg_glucose_level_group_3',\n",
    " 'bmi_group_1',\n",
    " 'bmi_group_2',\n",
    " 'bmi_group_3',\n",
    " 'feat05_group_1',\n",
    " 'feat05_group_2']\n",
    "\n",
    "\n",
    "\n",
    "corr_train_df = pd.concat([X_train, y_train], axis = 1)\n",
    "\n",
    "corr_matrix = corr_train_df.corr()\n",
    "corr_matrix['stroke'].sort_values()"
   ]
  },
  {
   "cell_type": "code",
   "execution_count": 5,
   "metadata": {},
   "outputs": [],
   "source": [
    "# # Set up subplots with 2 columns and 7 rows\n",
    "# num_rows = 15\n",
    "# num_columns = 3\n",
    "# fig, axes = plt.subplots(nrows=num_rows, ncols=num_columns, figsize=(20, 30))\n",
    "\n",
    "# # Flatten the 2D array of subplots into a 1D array for easy indexing\n",
    "# axes = axes.flatten()\n",
    "\n",
    "# # Plot histograms for each variable on separate subplots\n",
    "# for i, variable in enumerate(X_train.columns):\n",
    "#     X_train[variable].hist(ax=axes[i], color='skyblue')\n",
    "#     axes[i].set_title(f'Histogram for {variable}')\n",
    "#     axes[i].set_xlabel(variable)\n",
    "#     axes[i].set_ylabel('Frequency')\n",
    "\n",
    "# # Remove any empty subplots if there are fewer variables than total subplots\n",
    "# for j in range(len(X_train.columns), num_rows * num_columns):\n",
    "#     fig.delaxes(axes[j])\n",
    "\n",
    "# # Adjust layout for better appearance\n",
    "# plt.tight_layout()\n",
    "\n",
    "# # Show the plot\n",
    "# plt.show()"
   ]
  },
  {
   "cell_type": "code",
   "execution_count": 84,
   "metadata": {},
   "outputs": [
    {
     "name": "stdout",
     "output_type": "stream",
     "text": [
      "[ 0.24 26.   46.   62.   82.  ]\n",
      "[ 55.23    77.9825  92.345  118.92   271.74  ]\n",
      "[13.2   24.4   28.7   32.825 97.6  ]\n",
      "[0.28989827 0.82402106 1.06406014 1.30644424 1.79666385]\n"
     ]
    },
    {
     "data": {
      "text/html": [
       "<div>\n",
       "<style scoped>\n",
       "    .dataframe tbody tr th:only-of-type {\n",
       "        vertical-align: middle;\n",
       "    }\n",
       "\n",
       "    .dataframe tbody tr th {\n",
       "        vertical-align: top;\n",
       "    }\n",
       "\n",
       "    .dataframe thead th {\n",
       "        text-align: right;\n",
       "    }\n",
       "</style>\n",
       "<table border=\"1\" class=\"dataframe\">\n",
       "  <thead>\n",
       "    <tr style=\"text-align: right;\">\n",
       "      <th></th>\n",
       "      <th>feat01</th>\n",
       "      <th>feat02</th>\n",
       "      <th>feat03</th>\n",
       "      <th>feat04</th>\n",
       "      <th>feat06</th>\n",
       "      <th>feat07</th>\n",
       "      <th>feat08</th>\n",
       "      <th>feat09</th>\n",
       "      <th>feat10</th>\n",
       "      <th>heart_disease</th>\n",
       "      <th>...</th>\n",
       "      <th>age_group_3</th>\n",
       "      <th>avg_glucose_level_group_1</th>\n",
       "      <th>avg_glucose_level_group_2</th>\n",
       "      <th>avg_glucose_level_group_3</th>\n",
       "      <th>bmi_group_1</th>\n",
       "      <th>bmi_group_2</th>\n",
       "      <th>bmi_group_3</th>\n",
       "      <th>feat05_group_1</th>\n",
       "      <th>feat05_group_2</th>\n",
       "      <th>feat05_group_3</th>\n",
       "    </tr>\n",
       "  </thead>\n",
       "  <tbody>\n",
       "    <tr>\n",
       "      <th>3790</th>\n",
       "      <td>0.479357</td>\n",
       "      <td>0.468511</td>\n",
       "      <td>0.875598</td>\n",
       "      <td>1.193794</td>\n",
       "      <td>0.446517</td>\n",
       "      <td>0.748220</td>\n",
       "      <td>1.023412</td>\n",
       "      <td>0.956672</td>\n",
       "      <td>0.686742</td>\n",
       "      <td>0</td>\n",
       "      <td>...</td>\n",
       "      <td>False</td>\n",
       "      <td>False</td>\n",
       "      <td>True</td>\n",
       "      <td>False</td>\n",
       "      <td>False</td>\n",
       "      <td>False</td>\n",
       "      <td>False</td>\n",
       "      <td>False</td>\n",
       "      <td>True</td>\n",
       "      <td>False</td>\n",
       "    </tr>\n",
       "    <tr>\n",
       "      <th>4104</th>\n",
       "      <td>0.778167</td>\n",
       "      <td>0.612455</td>\n",
       "      <td>0.724449</td>\n",
       "      <td>1.152877</td>\n",
       "      <td>1.554044</td>\n",
       "      <td>1.199502</td>\n",
       "      <td>0.994388</td>\n",
       "      <td>0.488902</td>\n",
       "      <td>0.699923</td>\n",
       "      <td>0</td>\n",
       "      <td>...</td>\n",
       "      <td>False</td>\n",
       "      <td>False</td>\n",
       "      <td>True</td>\n",
       "      <td>False</td>\n",
       "      <td>False</td>\n",
       "      <td>False</td>\n",
       "      <td>False</td>\n",
       "      <td>True</td>\n",
       "      <td>False</td>\n",
       "      <td>False</td>\n",
       "    </tr>\n",
       "    <tr>\n",
       "      <th>1329</th>\n",
       "      <td>0.619608</td>\n",
       "      <td>0.329020</td>\n",
       "      <td>1.694285</td>\n",
       "      <td>0.393456</td>\n",
       "      <td>1.115212</td>\n",
       "      <td>1.010597</td>\n",
       "      <td>0.654167</td>\n",
       "      <td>1.637885</td>\n",
       "      <td>0.650925</td>\n",
       "      <td>0</td>\n",
       "      <td>...</td>\n",
       "      <td>False</td>\n",
       "      <td>False</td>\n",
       "      <td>False</td>\n",
       "      <td>False</td>\n",
       "      <td>True</td>\n",
       "      <td>False</td>\n",
       "      <td>False</td>\n",
       "      <td>False</td>\n",
       "      <td>False</td>\n",
       "      <td>True</td>\n",
       "    </tr>\n",
       "    <tr>\n",
       "      <th>1530</th>\n",
       "      <td>0.642394</td>\n",
       "      <td>0.508069</td>\n",
       "      <td>1.376599</td>\n",
       "      <td>0.549300</td>\n",
       "      <td>0.369053</td>\n",
       "      <td>0.651213</td>\n",
       "      <td>1.002546</td>\n",
       "      <td>1.454605</td>\n",
       "      <td>0.654388</td>\n",
       "      <td>0</td>\n",
       "      <td>...</td>\n",
       "      <td>False</td>\n",
       "      <td>False</td>\n",
       "      <td>False</td>\n",
       "      <td>False</td>\n",
       "      <td>False</td>\n",
       "      <td>True</td>\n",
       "      <td>False</td>\n",
       "      <td>False</td>\n",
       "      <td>False</td>\n",
       "      <td>True</td>\n",
       "    </tr>\n",
       "    <tr>\n",
       "      <th>1595</th>\n",
       "      <td>0.553066</td>\n",
       "      <td>0.482170</td>\n",
       "      <td>0.631171</td>\n",
       "      <td>1.320802</td>\n",
       "      <td>0.816885</td>\n",
       "      <td>1.160169</td>\n",
       "      <td>1.323103</td>\n",
       "      <td>1.379332</td>\n",
       "      <td>0.485783</td>\n",
       "      <td>0</td>\n",
       "      <td>...</td>\n",
       "      <td>False</td>\n",
       "      <td>False</td>\n",
       "      <td>False</td>\n",
       "      <td>False</td>\n",
       "      <td>False</td>\n",
       "      <td>False</td>\n",
       "      <td>False</td>\n",
       "      <td>False</td>\n",
       "      <td>False</td>\n",
       "      <td>True</td>\n",
       "    </tr>\n",
       "  </tbody>\n",
       "</table>\n",
       "<p>5 rows × 34 columns</p>\n",
       "</div>"
      ],
      "text/plain": [
       "        feat01    feat02    feat03    feat04    feat06    feat07    feat08  \\\n",
       "3790  0.479357  0.468511  0.875598  1.193794  0.446517  0.748220  1.023412   \n",
       "4104  0.778167  0.612455  0.724449  1.152877  1.554044  1.199502  0.994388   \n",
       "1329  0.619608  0.329020  1.694285  0.393456  1.115212  1.010597  0.654167   \n",
       "1530  0.642394  0.508069  1.376599  0.549300  0.369053  0.651213  1.002546   \n",
       "1595  0.553066  0.482170  0.631171  1.320802  0.816885  1.160169  1.323103   \n",
       "\n",
       "        feat09    feat10  heart_disease  ...  age_group_3  \\\n",
       "3790  0.956672  0.686742              0  ...        False   \n",
       "4104  0.488902  0.699923              0  ...        False   \n",
       "1329  1.637885  0.650925              0  ...        False   \n",
       "1530  1.454605  0.654388              0  ...        False   \n",
       "1595  1.379332  0.485783              0  ...        False   \n",
       "\n",
       "      avg_glucose_level_group_1  avg_glucose_level_group_2  \\\n",
       "3790                      False                       True   \n",
       "4104                      False                       True   \n",
       "1329                      False                      False   \n",
       "1530                      False                      False   \n",
       "1595                      False                      False   \n",
       "\n",
       "      avg_glucose_level_group_3  bmi_group_1  bmi_group_2  bmi_group_3  \\\n",
       "3790                      False        False        False        False   \n",
       "4104                      False        False        False        False   \n",
       "1329                      False         True        False        False   \n",
       "1530                      False        False         True        False   \n",
       "1595                      False        False        False        False   \n",
       "\n",
       "      feat05_group_1  feat05_group_2  feat05_group_3  \n",
       "3790           False            True           False  \n",
       "4104            True           False           False  \n",
       "1329           False           False            True  \n",
       "1530           False           False            True  \n",
       "1595           False           False            True  \n",
       "\n",
       "[5 rows x 34 columns]"
      ]
     },
     "execution_count": 84,
     "metadata": {},
     "output_type": "execute_result"
    }
   ],
   "source": [
    "vars_to_bin = ['age','avg_glucose_level', 'bmi', 'feat05']\n",
    "\n",
    "for var in vars_to_bin:    \n",
    "    X_test[var] = X_test[var].fillna(X_test[var].median())\n",
    "    quantiles = np.percentile(X_test[var], [0, 25, 50, 75, 100])\n",
    "    print(quantiles)\n",
    "    # Define bins based on quantiles\n",
    "    # bins = [quantiles[0], quantiles[1], quantiles[2], quantiles[75], quantiles[100]]\n",
    "\n",
    "    # Use pd.cut to bin the 'Age' variable\n",
    "    X_test[var+'_group'] = pd.cut(X_test[var], bins=quantiles, labels=False, include_lowest=True, duplicates='drop')\n",
    "\n",
    "    X_test =  X_test.drop([var], axis=1)\n",
    "\n",
    "    \n",
    "X_test = pd.get_dummies(X_test, columns=[var+'_group' for var in vars_to_bin], drop_first=True)\n",
    "\n",
    "for col in X_test.columns:\n",
    "    if col.endswith('.0'):\n",
    "        new_col_name = col[:-2]  # Remove the \".0\" at the end\n",
    "        X_test.rename(columns={col: new_col_name}, inplace=True)\n",
    "\n",
    "X_test.head()\n"
   ]
  },
  {
   "cell_type": "code",
   "execution_count": 85,
   "metadata": {},
   "outputs": [
    {
     "name": "stdout",
     "output_type": "stream",
     "text": [
      "[8.0e-02 2.6e+01 4.6e+01 6.2e+01 8.2e+01]\n",
      "[ 48.78  77.14  92.22 114.46 269.12]\n",
      "[10.3 23.8 28.  32.8 92. ]\n",
      "[0.21886148 0.79518938 1.03853078 1.29257767 1.80572623]\n"
     ]
    },
    {
     "data": {
      "text/html": [
       "<div>\n",
       "<style scoped>\n",
       "    .dataframe tbody tr th:only-of-type {\n",
       "        vertical-align: middle;\n",
       "    }\n",
       "\n",
       "    .dataframe tbody tr th {\n",
       "        vertical-align: top;\n",
       "    }\n",
       "\n",
       "    .dataframe thead th {\n",
       "        text-align: right;\n",
       "    }\n",
       "</style>\n",
       "<table border=\"1\" class=\"dataframe\">\n",
       "  <thead>\n",
       "    <tr style=\"text-align: right;\">\n",
       "      <th></th>\n",
       "      <th>feat01</th>\n",
       "      <th>feat02</th>\n",
       "      <th>feat03</th>\n",
       "      <th>feat04</th>\n",
       "      <th>feat06</th>\n",
       "      <th>feat07</th>\n",
       "      <th>feat08</th>\n",
       "      <th>feat09</th>\n",
       "      <th>feat10</th>\n",
       "      <th>heart_disease</th>\n",
       "      <th>...</th>\n",
       "      <th>age_group_3</th>\n",
       "      <th>avg_glucose_level_group_1</th>\n",
       "      <th>avg_glucose_level_group_2</th>\n",
       "      <th>avg_glucose_level_group_3</th>\n",
       "      <th>bmi_group_1</th>\n",
       "      <th>bmi_group_2</th>\n",
       "      <th>bmi_group_3</th>\n",
       "      <th>feat05_group_1</th>\n",
       "      <th>feat05_group_2</th>\n",
       "      <th>feat05_group_3</th>\n",
       "    </tr>\n",
       "  </thead>\n",
       "  <tbody>\n",
       "    <tr>\n",
       "      <th>3409</th>\n",
       "      <td>0.570176</td>\n",
       "      <td>0.606486</td>\n",
       "      <td>0.521926</td>\n",
       "      <td>1.368079</td>\n",
       "      <td>0.574529</td>\n",
       "      <td>0.480470</td>\n",
       "      <td>1.261147</td>\n",
       "      <td>0.797288</td>\n",
       "      <td>0.437841</td>\n",
       "      <td>0</td>\n",
       "      <td>...</td>\n",
       "      <td>False</td>\n",
       "      <td>False</td>\n",
       "      <td>False</td>\n",
       "      <td>False</td>\n",
       "      <td>False</td>\n",
       "      <td>False</td>\n",
       "      <td>False</td>\n",
       "      <td>False</td>\n",
       "      <td>False</td>\n",
       "      <td>False</td>\n",
       "    </tr>\n",
       "    <tr>\n",
       "      <th>1228</th>\n",
       "      <td>0.660515</td>\n",
       "      <td>0.359121</td>\n",
       "      <td>0.594148</td>\n",
       "      <td>1.152842</td>\n",
       "      <td>0.990169</td>\n",
       "      <td>1.079975</td>\n",
       "      <td>1.427459</td>\n",
       "      <td>1.199606</td>\n",
       "      <td>0.455256</td>\n",
       "      <td>1</td>\n",
       "      <td>...</td>\n",
       "      <td>True</td>\n",
       "      <td>False</td>\n",
       "      <td>False</td>\n",
       "      <td>True</td>\n",
       "      <td>True</td>\n",
       "      <td>False</td>\n",
       "      <td>False</td>\n",
       "      <td>False</td>\n",
       "      <td>False</td>\n",
       "      <td>False</td>\n",
       "    </tr>\n",
       "    <tr>\n",
       "      <th>1116</th>\n",
       "      <td>0.421662</td>\n",
       "      <td>0.537413</td>\n",
       "      <td>0.450923</td>\n",
       "      <td>1.466377</td>\n",
       "      <td>1.265348</td>\n",
       "      <td>0.832882</td>\n",
       "      <td>1.315593</td>\n",
       "      <td>1.359815</td>\n",
       "      <td>0.446375</td>\n",
       "      <td>0</td>\n",
       "      <td>...</td>\n",
       "      <td>False</td>\n",
       "      <td>False</td>\n",
       "      <td>True</td>\n",
       "      <td>False</td>\n",
       "      <td>True</td>\n",
       "      <td>False</td>\n",
       "      <td>False</td>\n",
       "      <td>False</td>\n",
       "      <td>False</td>\n",
       "      <td>False</td>\n",
       "    </tr>\n",
       "    <tr>\n",
       "      <th>1014</th>\n",
       "      <td>0.602786</td>\n",
       "      <td>0.611396</td>\n",
       "      <td>0.844011</td>\n",
       "      <td>0.491453</td>\n",
       "      <td>0.591935</td>\n",
       "      <td>1.372342</td>\n",
       "      <td>0.725023</td>\n",
       "      <td>1.572925</td>\n",
       "      <td>0.558244</td>\n",
       "      <td>0</td>\n",
       "      <td>...</td>\n",
       "      <td>False</td>\n",
       "      <td>False</td>\n",
       "      <td>False</td>\n",
       "      <td>False</td>\n",
       "      <td>True</td>\n",
       "      <td>False</td>\n",
       "      <td>False</td>\n",
       "      <td>False</td>\n",
       "      <td>False</td>\n",
       "      <td>False</td>\n",
       "    </tr>\n",
       "    <tr>\n",
       "      <th>3834</th>\n",
       "      <td>0.667395</td>\n",
       "      <td>0.611071</td>\n",
       "      <td>0.570149</td>\n",
       "      <td>0.705432</td>\n",
       "      <td>0.760872</td>\n",
       "      <td>1.442572</td>\n",
       "      <td>1.175770</td>\n",
       "      <td>0.789481</td>\n",
       "      <td>0.552294</td>\n",
       "      <td>0</td>\n",
       "      <td>...</td>\n",
       "      <td>False</td>\n",
       "      <td>False</td>\n",
       "      <td>False</td>\n",
       "      <td>True</td>\n",
       "      <td>False</td>\n",
       "      <td>False</td>\n",
       "      <td>True</td>\n",
       "      <td>False</td>\n",
       "      <td>False</td>\n",
       "      <td>True</td>\n",
       "    </tr>\n",
       "  </tbody>\n",
       "</table>\n",
       "<p>5 rows × 34 columns</p>\n",
       "</div>"
      ],
      "text/plain": [
       "        feat01    feat02    feat03    feat04    feat06    feat07    feat08  \\\n",
       "3409  0.570176  0.606486  0.521926  1.368079  0.574529  0.480470  1.261147   \n",
       "1228  0.660515  0.359121  0.594148  1.152842  0.990169  1.079975  1.427459   \n",
       "1116  0.421662  0.537413  0.450923  1.466377  1.265348  0.832882  1.315593   \n",
       "1014  0.602786  0.611396  0.844011  0.491453  0.591935  1.372342  0.725023   \n",
       "3834  0.667395  0.611071  0.570149  0.705432  0.760872  1.442572  1.175770   \n",
       "\n",
       "        feat09    feat10  heart_disease  ...  age_group_3  \\\n",
       "3409  0.797288  0.437841              0  ...        False   \n",
       "1228  1.199606  0.455256              1  ...         True   \n",
       "1116  1.359815  0.446375              0  ...        False   \n",
       "1014  1.572925  0.558244              0  ...        False   \n",
       "3834  0.789481  0.552294              0  ...        False   \n",
       "\n",
       "      avg_glucose_level_group_1  avg_glucose_level_group_2  \\\n",
       "3409                      False                      False   \n",
       "1228                      False                      False   \n",
       "1116                      False                       True   \n",
       "1014                      False                      False   \n",
       "3834                      False                      False   \n",
       "\n",
       "      avg_glucose_level_group_3  bmi_group_1  bmi_group_2  bmi_group_3  \\\n",
       "3409                      False        False        False        False   \n",
       "1228                       True         True        False        False   \n",
       "1116                      False         True        False        False   \n",
       "1014                      False         True        False        False   \n",
       "3834                       True        False        False         True   \n",
       "\n",
       "      feat05_group_1  feat05_group_2  feat05_group_3  \n",
       "3409           False           False           False  \n",
       "1228           False           False           False  \n",
       "1116           False           False           False  \n",
       "1014           False           False           False  \n",
       "3834           False           False            True  \n",
       "\n",
       "[5 rows x 34 columns]"
      ]
     },
     "execution_count": 85,
     "metadata": {},
     "output_type": "execute_result"
    }
   ],
   "source": [
    "# vars_to_bin = ['age','avg_glucose_level', 'bmi', 'feat03', 'feat05']\n",
    "\n",
    "for var in vars_to_bin:    \n",
    "    X_train[var] = X_train[var].fillna(X_train[var].median())\n",
    "    quantiles = np.percentile(X_train[var], [0, 25, 50, 75, 100])\n",
    "    print(quantiles)\n",
    "    # Define bins based on quantiles\n",
    "    # bins = [quantiles[0], quantiles[1], quantiles[2], quantiles[75], quantiles[100]]\n",
    "\n",
    "    # Use pd.cut to bin the 'Age' variable\n",
    "    X_train[var+'_group'] = pd.cut(X_train[var], bins=quantiles, labels=False, include_lowest=True, duplicates='drop')\n",
    "\n",
    "    X_train =  X_train.drop([var], axis=1)\n",
    "\n",
    "    \n",
    "X_train = pd.get_dummies(X_train, columns=[var+'_group' for var in vars_to_bin], drop_first=True)\n",
    "\n",
    "for col in X_train.columns:\n",
    "    if col.endswith('.0'):\n",
    "        new_col_name = col[:-2]  # Remove the \".0\" at the end\n",
    "        X_train.rename(columns={col: new_col_name}, inplace=True)\n",
    "\n",
    "X_train.head()"
   ]
  },
  {
   "cell_type": "code",
   "execution_count": 52,
   "metadata": {},
   "outputs": [
    {
     "ename": "KeyError",
     "evalue": "\"['bmi_group_3'] not found in axis\"",
     "output_type": "error",
     "traceback": [
      "\u001b[1;31m---------------------------------------------------------------------------\u001b[0m",
      "\u001b[1;31mKeyError\u001b[0m                                  Traceback (most recent call last)",
      "\u001b[1;32mc:\\Users\\zumiaz\\OneDrive - SAS\\Desktop\\moje\\ml2\\projekt\\ML2-project\\notebooks\\Classification.ipynb Cell 13\u001b[0m line \u001b[0;36m1\n\u001b[0;32m      <a href='vscode-notebook-cell:/c%3A/Users/zumiaz/OneDrive%20-%20SAS/Desktop/moje/ml2/projekt/ML2-project/notebooks/Classification.ipynb#X15sZmlsZQ%3D%3D?line=0'>1</a>\u001b[0m cols_to_drop \u001b[39m=\u001b[39m [\u001b[39m'\u001b[39m\u001b[39msmoking_status_formerly smoked\u001b[39m\u001b[39m'\u001b[39m , \u001b[39m'\u001b[39m\u001b[39mgender_Other\u001b[39m\u001b[39m'\u001b[39m, \n\u001b[0;32m      <a href='vscode-notebook-cell:/c%3A/Users/zumiaz/OneDrive%20-%20SAS/Desktop/moje/ml2/projekt/ML2-project/notebooks/Classification.ipynb#X15sZmlsZQ%3D%3D?line=1'>2</a>\u001b[0m                 \u001b[39m'\u001b[39m\u001b[39mwork_type_Never_worked\u001b[39m\u001b[39m'\u001b[39m,\n\u001b[0;32m      <a href='vscode-notebook-cell:/c%3A/Users/zumiaz/OneDrive%20-%20SAS/Desktop/moje/ml2/projekt/ML2-project/notebooks/Classification.ipynb#X15sZmlsZQ%3D%3D?line=2'>3</a>\u001b[0m                 \u001b[39m'\u001b[39m\u001b[39mbmi_group_3\u001b[39m\u001b[39m'\u001b[39m,\n\u001b[1;32m   (...)\u001b[0m\n\u001b[0;32m     <a href='vscode-notebook-cell:/c%3A/Users/zumiaz/OneDrive%20-%20SAS/Desktop/moje/ml2/projekt/ML2-project/notebooks/Classification.ipynb#X15sZmlsZQ%3D%3D?line=9'>10</a>\u001b[0m \n\u001b[0;32m     <a href='vscode-notebook-cell:/c%3A/Users/zumiaz/OneDrive%20-%20SAS/Desktop/moje/ml2/projekt/ML2-project/notebooks/Classification.ipynb#X15sZmlsZQ%3D%3D?line=10'>11</a>\u001b[0m                 ]\n\u001b[0;32m     <a href='vscode-notebook-cell:/c%3A/Users/zumiaz/OneDrive%20-%20SAS/Desktop/moje/ml2/projekt/ML2-project/notebooks/Classification.ipynb#X15sZmlsZQ%3D%3D?line=12'>13</a>\u001b[0m \u001b[39m# 'Residence_type_Urban', 'gender_Male' feat05_group_1, age_group_1, 'smoking_status_never smoked', 'ever_married_Yes'\u001b[39;00m\n\u001b[1;32m---> <a href='vscode-notebook-cell:/c%3A/Users/zumiaz/OneDrive%20-%20SAS/Desktop/moje/ml2/projekt/ML2-project/notebooks/Classification.ipynb#X15sZmlsZQ%3D%3D?line=14'>15</a>\u001b[0m X_train \u001b[39m=\u001b[39m X_train\u001b[39m.\u001b[39;49mdrop(columns \u001b[39m=\u001b[39;49m cols_to_drop)\n\u001b[0;32m     <a href='vscode-notebook-cell:/c%3A/Users/zumiaz/OneDrive%20-%20SAS/Desktop/moje/ml2/projekt/ML2-project/notebooks/Classification.ipynb#X15sZmlsZQ%3D%3D?line=15'>16</a>\u001b[0m X_test \u001b[39m=\u001b[39m X_test\u001b[39m.\u001b[39mdrop(columns \u001b[39m=\u001b[39m cols_to_drop)\n",
      "File \u001b[1;32m~\\AppData\\Local\\Packages\\PythonSoftwareFoundation.Python.3.8_qbz5n2kfra8p0\\LocalCache\\local-packages\\Python38\\site-packages\\pandas\\core\\frame.py:5258\u001b[0m, in \u001b[0;36mDataFrame.drop\u001b[1;34m(self, labels, axis, index, columns, level, inplace, errors)\u001b[0m\n\u001b[0;32m   5110\u001b[0m \u001b[39mdef\u001b[39;00m \u001b[39mdrop\u001b[39m(\n\u001b[0;32m   5111\u001b[0m     \u001b[39mself\u001b[39m,\n\u001b[0;32m   5112\u001b[0m     labels: IndexLabel \u001b[39m=\u001b[39m \u001b[39mNone\u001b[39;00m,\n\u001b[1;32m   (...)\u001b[0m\n\u001b[0;32m   5119\u001b[0m     errors: IgnoreRaise \u001b[39m=\u001b[39m \u001b[39m\"\u001b[39m\u001b[39mraise\u001b[39m\u001b[39m\"\u001b[39m,\n\u001b[0;32m   5120\u001b[0m ) \u001b[39m-\u001b[39m\u001b[39m>\u001b[39m DataFrame \u001b[39m|\u001b[39m \u001b[39mNone\u001b[39;00m:\n\u001b[0;32m   5121\u001b[0m \u001b[39m    \u001b[39m\u001b[39m\"\"\"\u001b[39;00m\n\u001b[0;32m   5122\u001b[0m \u001b[39m    Drop specified labels from rows or columns.\u001b[39;00m\n\u001b[0;32m   5123\u001b[0m \n\u001b[1;32m   (...)\u001b[0m\n\u001b[0;32m   5256\u001b[0m \u001b[39m            weight  1.0     0.8\u001b[39;00m\n\u001b[0;32m   5257\u001b[0m \u001b[39m    \"\"\"\u001b[39;00m\n\u001b[1;32m-> 5258\u001b[0m     \u001b[39mreturn\u001b[39;00m \u001b[39msuper\u001b[39;49m()\u001b[39m.\u001b[39;49mdrop(\n\u001b[0;32m   5259\u001b[0m         labels\u001b[39m=\u001b[39;49mlabels,\n\u001b[0;32m   5260\u001b[0m         axis\u001b[39m=\u001b[39;49maxis,\n\u001b[0;32m   5261\u001b[0m         index\u001b[39m=\u001b[39;49mindex,\n\u001b[0;32m   5262\u001b[0m         columns\u001b[39m=\u001b[39;49mcolumns,\n\u001b[0;32m   5263\u001b[0m         level\u001b[39m=\u001b[39;49mlevel,\n\u001b[0;32m   5264\u001b[0m         inplace\u001b[39m=\u001b[39;49minplace,\n\u001b[0;32m   5265\u001b[0m         errors\u001b[39m=\u001b[39;49merrors,\n\u001b[0;32m   5266\u001b[0m     )\n",
      "File \u001b[1;32m~\\AppData\\Local\\Packages\\PythonSoftwareFoundation.Python.3.8_qbz5n2kfra8p0\\LocalCache\\local-packages\\Python38\\site-packages\\pandas\\core\\generic.py:4549\u001b[0m, in \u001b[0;36mNDFrame.drop\u001b[1;34m(self, labels, axis, index, columns, level, inplace, errors)\u001b[0m\n\u001b[0;32m   4547\u001b[0m \u001b[39mfor\u001b[39;00m axis, labels \u001b[39min\u001b[39;00m axes\u001b[39m.\u001b[39mitems():\n\u001b[0;32m   4548\u001b[0m     \u001b[39mif\u001b[39;00m labels \u001b[39mis\u001b[39;00m \u001b[39mnot\u001b[39;00m \u001b[39mNone\u001b[39;00m:\n\u001b[1;32m-> 4549\u001b[0m         obj \u001b[39m=\u001b[39m obj\u001b[39m.\u001b[39;49m_drop_axis(labels, axis, level\u001b[39m=\u001b[39;49mlevel, errors\u001b[39m=\u001b[39;49merrors)\n\u001b[0;32m   4551\u001b[0m \u001b[39mif\u001b[39;00m inplace:\n\u001b[0;32m   4552\u001b[0m     \u001b[39mself\u001b[39m\u001b[39m.\u001b[39m_update_inplace(obj)\n",
      "File \u001b[1;32m~\\AppData\\Local\\Packages\\PythonSoftwareFoundation.Python.3.8_qbz5n2kfra8p0\\LocalCache\\local-packages\\Python38\\site-packages\\pandas\\core\\generic.py:4591\u001b[0m, in \u001b[0;36mNDFrame._drop_axis\u001b[1;34m(self, labels, axis, level, errors, only_slice)\u001b[0m\n\u001b[0;32m   4589\u001b[0m         new_axis \u001b[39m=\u001b[39m axis\u001b[39m.\u001b[39mdrop(labels, level\u001b[39m=\u001b[39mlevel, errors\u001b[39m=\u001b[39merrors)\n\u001b[0;32m   4590\u001b[0m     \u001b[39melse\u001b[39;00m:\n\u001b[1;32m-> 4591\u001b[0m         new_axis \u001b[39m=\u001b[39m axis\u001b[39m.\u001b[39;49mdrop(labels, errors\u001b[39m=\u001b[39;49merrors)\n\u001b[0;32m   4592\u001b[0m     indexer \u001b[39m=\u001b[39m axis\u001b[39m.\u001b[39mget_indexer(new_axis)\n\u001b[0;32m   4594\u001b[0m \u001b[39m# Case for non-unique axis\u001b[39;00m\n\u001b[0;32m   4595\u001b[0m \u001b[39melse\u001b[39;00m:\n",
      "File \u001b[1;32m~\\AppData\\Local\\Packages\\PythonSoftwareFoundation.Python.3.8_qbz5n2kfra8p0\\LocalCache\\local-packages\\Python38\\site-packages\\pandas\\core\\indexes\\base.py:6699\u001b[0m, in \u001b[0;36mIndex.drop\u001b[1;34m(self, labels, errors)\u001b[0m\n\u001b[0;32m   6697\u001b[0m \u001b[39mif\u001b[39;00m mask\u001b[39m.\u001b[39many():\n\u001b[0;32m   6698\u001b[0m     \u001b[39mif\u001b[39;00m errors \u001b[39m!=\u001b[39m \u001b[39m\"\u001b[39m\u001b[39mignore\u001b[39m\u001b[39m\"\u001b[39m:\n\u001b[1;32m-> 6699\u001b[0m         \u001b[39mraise\u001b[39;00m \u001b[39mKeyError\u001b[39;00m(\u001b[39mf\u001b[39m\u001b[39m\"\u001b[39m\u001b[39m{\u001b[39;00m\u001b[39mlist\u001b[39m(labels[mask])\u001b[39m}\u001b[39;00m\u001b[39m not found in axis\u001b[39m\u001b[39m\"\u001b[39m)\n\u001b[0;32m   6700\u001b[0m     indexer \u001b[39m=\u001b[39m indexer[\u001b[39m~\u001b[39mmask]\n\u001b[0;32m   6701\u001b[0m \u001b[39mreturn\u001b[39;00m \u001b[39mself\u001b[39m\u001b[39m.\u001b[39mdelete(indexer)\n",
      "\u001b[1;31mKeyError\u001b[0m: \"['bmi_group_3'] not found in axis\""
     ]
    }
   ],
   "source": [
    "# cols_to_drop = ['smoking_status_formerly smoked' , 'gender_Other', \n",
    "#                 'work_type_Never_worked',\n",
    "#                 'bmi_group_3',\n",
    "#                   # 'work_type_Self-employed', \n",
    "#                 # 'Residence_type_Urban', \n",
    "#                 # 'feat03_group_3',\n",
    "#                 'work_type_children',\n",
    "#                 # 'feat04',\n",
    "#                 'smoking_status_never smoked' \n",
    "\n",
    "#                 ]\n",
    "\n",
    "# # 'Residence_type_Urban', 'gender_Male' feat05_group_1, age_group_1, 'smoking_status_never smoked', 'ever_married_Yes'\n",
    "\n",
    "# X_train = X_train.drop(columns = cols_to_drop)\n",
    "# X_test = X_test.drop(columns = cols_to_drop)"
   ]
  },
  {
   "cell_type": "code",
   "execution_count": 41,
   "metadata": {},
   "outputs": [
    {
     "data": {
      "image/png": "[encoded data removed]",
      "text/plain": [
       "<Figure size 2000x3000 with 7 Axes>"
      ]
     },
     "metadata": {},
     "output_type": "display_data"
    }
   ],
   "source": [
    "variables_to_plot = [col for col in X_train.columns if X_train[col].nunique() > 2]\n",
    "\n",
    "# Set up subplots with 2 columns and 7 rows\n",
    "num_rows = 10\n",
    "num_columns = 3\n",
    "fig, axes = plt.subplots(nrows=num_rows, ncols=num_columns, figsize=(20, 30))\n",
    "\n",
    "\n",
    "# Flatten the 2D array of subplots into a 1D array for easy indexing\n",
    "axes = axes.flatten()\n",
    "\n",
    "# Plot boxplots for each variable on separate subplots\n",
    "for i, variable in enumerate(variables_to_plot):\n",
    "    X_train.boxplot(column=variable, ax=axes[i], color='skyblue')\n",
    "    axes[i].set_title(f'Boxplot for {variable}')\n",
    "    axes[i].set_xlabel(variable)\n",
    "    axes[i].set_ylabel('Value')\n",
    "\n",
    "# Remove any empty subplots if there are fewer variables than total subplots\n",
    "for j in range(len(variables_to_plot), num_rows * num_columns):\n",
    "    fig.delaxes(axes[j])\n",
    "\n",
    "# Adjust layout for better appearance\n",
    "plt.tight_layout()\n",
    "\n",
    "# Show the plot\n",
    "plt.show()"
   ]
  },
  {
   "cell_type": "code",
   "execution_count": 96,
   "metadata": {},
   "outputs": [
    {
     "name": "stdout",
     "output_type": "stream",
     "text": [
      "(4287, 9)\n",
      "(1072, 9)\n",
      "Accuracy: 92.35%\n"
     ]
    },
    {
     "data": {
      "image/png": "[encoded data removed]",
      "text/plain": [
       "<Figure size 800x600 with 1 Axes>"
      ]
     },
     "metadata": {},
     "output_type": "display_data"
    }
   ],
   "source": [
    "numerical_features = ['feat01', 'feat02',\n",
    "        'feat04', 'feat06', 'feat07', 'feat08', 'feat09',\n",
    "       'feat10']\n",
    "# numerical_features.extend()\n",
    "numerical_transformer = Pipeline(\n",
    "    steps=[\n",
    "        ('imputer', SimpleImputer(strategy='median')),\n",
    "        ('scaler', StandardScaler())\n",
    "    ]\n",
    ")\n",
    "\n",
    "categorical_features = [ 'Residence_type_Urban', 'ever_married_Yes',\n",
    "        'smoking_status_never smoked',\n",
    "       'smoking_status_smokes', 'Residence_type_Urban',\n",
    "       'work_type_Never_worked', 'work_type_Private',\n",
    "       'work_type_Self-employed', 'work_type_children',\n",
    "    #    'gender_Other',\n",
    "         'age_group_1', 'age_group_2', 'age_group_3',\n",
    "       'avg_glucose_level_group_1', 'avg_glucose_level_group_2',\n",
    "       'avg_glucose_level_group_3', 'bmi_group_1', 'bmi_group_2',\n",
    "       'feat03_group_1', 'feat03_group_2', 'feat03_group_3',\n",
    "       'feat05_group_1', 'feat05_group_2', 'feat05_group_3', 'heart_disease', 'hypertension']\n",
    "\n",
    "\n",
    "\n",
    "categorical_transformer = Pipeline(\n",
    "    steps=[\n",
    "        ('imputer', SimpleImputer(strategy='constant', fill_value=np.nan)),\n",
    "        # ('onehot', OneHotEncoder(handle_unknown='ignore'))\n",
    "    ]\n",
    ")\n",
    "\n",
    "preprocessor = ColumnTransformer(\n",
    "    transformers=[\n",
    "        ('num', numerical_transformer, numerical_features),\n",
    "        ('cat', categorical_transformer, categorical_features)\n",
    "    ]\n",
    ")\n",
    "\n",
    "selected_feat = ['heart_disease',\n",
    " 'hypertension',\n",
    " 'ever_married_Yes',\n",
    " 'smoking_status_formerly smoked',\n",
    " 'smoking_status_never smoked',\n",
    " 'smoking_status_smokes',\n",
    " 'Residence_type_Urban',\n",
    " 'work_type_Never_worked',\n",
    " 'work_type_children',\n",
    " 'gender_Male',\n",
    " 'gender_Other',\n",
    " 'age_group_1',\n",
    " 'age_group_2',\n",
    " 'age_group_3',\n",
    " 'avg_glucose_level_group_1',\n",
    " 'avg_glucose_level_group_2',\n",
    " 'avg_glucose_level_group_3',\n",
    " 'bmi_group_1',\n",
    " 'bmi_group_2',\n",
    " 'bmi_group_3']\n",
    "\n",
    "\n",
    "selected_feat = ['age',\n",
    " 'bmi',\n",
    " 'hypertension',\n",
    " 'smoking_status_formerly smoked',\n",
    " 'smoking_status_never smoked',\n",
    " 'smoking_status_smokes',\n",
    " 'work_type_Never_worked',\n",
    " 'gender_Male',\n",
    " 'gender_Other']\n",
    "\n",
    "X_train = X_train[selected_feat]\n",
    "X_test = X_test[selected_feat]\n",
    "\n",
    "\n",
    "\n",
    "model = XGBClassifier()\n",
    "# model.fit(X_train, y_train)\n",
    "\n",
    "clf = Pipeline(steps=[\n",
    "    # ('preprocessor', preprocessor),\n",
    "                      ('classifier', model)])\n",
    "\n",
    "print(X_train.shape)\n",
    "print(X_test.shape)\n",
    "\n",
    "clf.fit(X_train, y_train)\n",
    "\n",
    "\n",
    "# # model.feature_importances_\n",
    "# sorted_idx = clf.feature_importances_.argsort()\n",
    "# plt.figure(figsize=(10,15))\n",
    "# plt.barh(X_train.columns[sorted_idx], model.feature_importances_[sorted_idx])\n",
    "# plt.show()\n",
    "\n",
    "\n",
    "# fit model no training data\n",
    "\n",
    "\n",
    "y_pred = clf.predict(X_test)\n",
    "predictions = [round(value) for value in y_pred]\n",
    "\n",
    "accuracy = accuracy_score(y_test, predictions)\n",
    "print(\"Accuracy: %.2f%%\" % (accuracy * 100.0))\n",
    "\n",
    "# 3. Get predicted probabilities for both training and testing data\n",
    "y_train_prob = clf.predict_proba(X_train)[:, 1]\n",
    "y_test_prob = clf.predict_proba(X_test)[:, 1]\n",
    "\n",
    "# 4. Compute ROC curves and AUC for both datasets\n",
    "fpr_train, tpr_train, _ = roc_curve(y_train, y_train_prob)\n",
    "roc_auc_train = auc(fpr_train, tpr_train)\n",
    "\n",
    "fpr_test, tpr_test, _ = roc_curve(y_test, y_test_prob)\n",
    "roc_auc_test = auc(fpr_test, tpr_test)\n",
    "\n",
    "# Plot both ROC curves on one graph\n",
    "plt.figure(figsize=(8, 6))\n",
    "plt.plot(fpr_train, tpr_train, color='darkorange', lw=2, label=f'Train ROC curve (AUC = {roc_auc_train:.2f})')\n",
    "plt.plot(fpr_test, tpr_test, color='navy', lw=2, label=f'Test ROC curve (AUC = {roc_auc_test:.2f})')\n",
    "plt.plot([0, 1], [0, 1], color='gray', lw=1, linestyle='--')\n",
    "plt.xlim([0.0, 1.0])\n",
    "plt.ylim([0.0, 1.05])\n",
    "plt.xlabel('False Positive Rate')\n",
    "plt.ylabel('True Positive Rate')\n",
    "plt.title('Receiver Operating Characteristic (ROC)')\n",
    "plt.legend(loc='lower right')\n",
    "plt.show()\n",
    "\n",
    "# model.feature_importances_\n",
    "# sorted_idx = model.feature_importances_.argsort()\n",
    "# plt.figure(figsize=(10,15))\n",
    "# plt.barh(X_train.columns[sorted_idx], model.feature_importances_[sorted_idx])\n",
    "# plt.show()"
   ]
  },
  {
   "cell_type": "code",
   "execution_count": 78,
   "metadata": {},
   "outputs": [
    {
     "data": {
      "text/plain": [
       "Index(['feat01', 'feat02', 'feat03', 'feat04', 'feat06', 'feat07', 'feat08',\n",
       "       'feat09', 'feat10', 'heart_disease', 'hypertension', 'ever_married_Yes',\n",
       "       'smoking_status_formerly smoked', 'smoking_status_never smoked',\n",
       "       'smoking_status_smokes', 'Residence_type_Urban',\n",
       "       'work_type_Never_worked', 'work_type_Private',\n",
       "       'work_type_Self-employed', 'work_type_children', 'gender_Male',\n",
       "       'gender_Other', 'age_group_1', 'age_group_2', 'age_group_3',\n",
       "       'avg_glucose_level_group_1', 'avg_glucose_level_group_2',\n",
       "       'avg_glucose_level_group_3', 'bmi_group_1', 'bmi_group_2',\n",
       "       'bmi_group_3', 'feat05_group_1', 'feat05_group_2', 'feat05_group_3'],\n",
       "      dtype='object')"
      ]
     },
     "execution_count": 78,
     "metadata": {},
     "output_type": "execute_result"
    }
   ],
   "source": [
    "X_train.columns"
   ]
  },
  {
   "cell_type": "code",
   "execution_count": 16,
   "metadata": {},
   "outputs": [
    {
     "name": "stdout",
     "output_type": "stream",
     "text": [
      "Preparation of a new explainer is initiated\n",
      "\n",
      "  -> data              : 4287 rows 34 cols\n",
      "  -> target variable   : Parameter 'y' was a pandas.Series. Converted to a numpy.ndarray.\n",
      "  -> target variable   : 4287 values\n",
      "  -> model_class       : xgboost.sklearn.XGBClassifier (default)\n",
      "  -> label             : Not specified, model's class short name will be used. (default)\n",
      "  -> predict function  : <function yhat_proba_default at 0x0000020EEB821EE0> will be used (default)\n",
      "  -> predict function  : Accepts pandas.DataFrame and numpy.ndarray.\n",
      "  -> predicted values  : min = 5.48e-06, mean = 0.0922, max = 0.995\n",
      "  -> model type        : classification will be used (default)\n",
      "  -> residual function : difference between y and yhat (default)\n",
      "  -> residuals         : min = -0.14, mean = -8.76e-05, max = 0.22\n",
      "  -> model_info        : package sklearn\n",
      "\n",
      "A new explainer has been created!\n"
     ]
    }
   ],
   "source": [
    "exp = dx.Explainer(clf, X_train, y_train)\n",
    "imp = exp.model_parts(type = \"variable_importance\")\n",
    "# plt.plot(imp)"
   ]
  },
  {
   "cell_type": "code",
   "execution_count": 17,
   "metadata": {},
   "outputs": [
    {
     "data": {
      "text/html": [
       "<div>\n",
       "<style scoped>\n",
       "    .dataframe tbody tr th:only-of-type {\n",
       "        vertical-align: middle;\n",
       "    }\n",
       "\n",
       "    .dataframe tbody tr th {\n",
       "        vertical-align: top;\n",
       "    }\n",
       "\n",
       "    .dataframe thead th {\n",
       "        text-align: right;\n",
       "    }\n",
       "</style>\n",
       "<table border=\"1\" class=\"dataframe\">\n",
       "  <thead>\n",
       "    <tr style=\"text-align: right;\">\n",
       "      <th></th>\n",
       "      <th>variable</th>\n",
       "      <th>dropout_loss</th>\n",
       "      <th>label</th>\n",
       "    </tr>\n",
       "  </thead>\n",
       "  <tbody>\n",
       "    <tr>\n",
       "      <th>0</th>\n",
       "      <td>Residence_type_Urban</td>\n",
       "      <td>0.000000</td>\n",
       "      <td>XGBClassifier</td>\n",
       "    </tr>\n",
       "    <tr>\n",
       "      <th>1</th>\n",
       "      <td>smoking_status_never smoked</td>\n",
       "      <td>0.000000</td>\n",
       "      <td>XGBClassifier</td>\n",
       "    </tr>\n",
       "    <tr>\n",
       "      <th>2</th>\n",
       "      <td>hypertension</td>\n",
       "      <td>0.000000</td>\n",
       "      <td>XGBClassifier</td>\n",
       "    </tr>\n",
       "    <tr>\n",
       "      <th>3</th>\n",
       "      <td>heart_disease</td>\n",
       "      <td>0.000000</td>\n",
       "      <td>XGBClassifier</td>\n",
       "    </tr>\n",
       "    <tr>\n",
       "      <th>4</th>\n",
       "      <td>gender_Male</td>\n",
       "      <td>0.000000</td>\n",
       "      <td>XGBClassifier</td>\n",
       "    </tr>\n",
       "    <tr>\n",
       "      <th>5</th>\n",
       "      <td>feat10_group_1</td>\n",
       "      <td>0.000000</td>\n",
       "      <td>XGBClassifier</td>\n",
       "    </tr>\n",
       "    <tr>\n",
       "      <th>6</th>\n",
       "      <td>feat05_group_3</td>\n",
       "      <td>0.000000</td>\n",
       "      <td>XGBClassifier</td>\n",
       "    </tr>\n",
       "    <tr>\n",
       "      <th>7</th>\n",
       "      <td>feat05_group_2</td>\n",
       "      <td>0.000000</td>\n",
       "      <td>XGBClassifier</td>\n",
       "    </tr>\n",
       "    <tr>\n",
       "      <th>8</th>\n",
       "      <td>smoking_status_smokes</td>\n",
       "      <td>0.000000</td>\n",
       "      <td>XGBClassifier</td>\n",
       "    </tr>\n",
       "    <tr>\n",
       "      <th>9</th>\n",
       "      <td>ever_married_Yes</td>\n",
       "      <td>0.000000</td>\n",
       "      <td>XGBClassifier</td>\n",
       "    </tr>\n",
       "    <tr>\n",
       "      <th>10</th>\n",
       "      <td>work_type_Private</td>\n",
       "      <td>0.000000</td>\n",
       "      <td>XGBClassifier</td>\n",
       "    </tr>\n",
       "    <tr>\n",
       "      <th>11</th>\n",
       "      <td>_full_model_</td>\n",
       "      <td>0.000000</td>\n",
       "      <td>XGBClassifier</td>\n",
       "    </tr>\n",
       "    <tr>\n",
       "      <th>12</th>\n",
       "      <td>age_group_1</td>\n",
       "      <td>0.000000</td>\n",
       "      <td>XGBClassifier</td>\n",
       "    </tr>\n",
       "    <tr>\n",
       "      <th>13</th>\n",
       "      <td>avg_glucose_level_group_1</td>\n",
       "      <td>0.000000</td>\n",
       "      <td>XGBClassifier</td>\n",
       "    </tr>\n",
       "    <tr>\n",
       "      <th>14</th>\n",
       "      <td>avg_glucose_level_group_3</td>\n",
       "      <td>0.000000</td>\n",
       "      <td>XGBClassifier</td>\n",
       "    </tr>\n",
       "    <tr>\n",
       "      <th>15</th>\n",
       "      <td>avg_glucose_level_group_2</td>\n",
       "      <td>0.000000</td>\n",
       "      <td>XGBClassifier</td>\n",
       "    </tr>\n",
       "    <tr>\n",
       "      <th>16</th>\n",
       "      <td>feat05_group_1</td>\n",
       "      <td>0.000001</td>\n",
       "      <td>XGBClassifier</td>\n",
       "    </tr>\n",
       "    <tr>\n",
       "      <th>17</th>\n",
       "      <td>feat02_group_3</td>\n",
       "      <td>0.000001</td>\n",
       "      <td>XGBClassifier</td>\n",
       "    </tr>\n",
       "    <tr>\n",
       "      <th>18</th>\n",
       "      <td>feat01_group_1</td>\n",
       "      <td>0.000001</td>\n",
       "      <td>XGBClassifier</td>\n",
       "    </tr>\n",
       "    <tr>\n",
       "      <th>19</th>\n",
       "      <td>bmi_group_2</td>\n",
       "      <td>0.000004</td>\n",
       "      <td>XGBClassifier</td>\n",
       "    </tr>\n",
       "    <tr>\n",
       "      <th>20</th>\n",
       "      <td>bmi_group_1</td>\n",
       "      <td>0.000007</td>\n",
       "      <td>XGBClassifier</td>\n",
       "    </tr>\n",
       "    <tr>\n",
       "      <th>21</th>\n",
       "      <td>feat02_group_1</td>\n",
       "      <td>0.000008</td>\n",
       "      <td>XGBClassifier</td>\n",
       "    </tr>\n",
       "    <tr>\n",
       "      <th>22</th>\n",
       "      <td>feat01_group_2</td>\n",
       "      <td>0.000037</td>\n",
       "      <td>XGBClassifier</td>\n",
       "    </tr>\n",
       "    <tr>\n",
       "      <th>23</th>\n",
       "      <td>feat10_group_3</td>\n",
       "      <td>0.000073</td>\n",
       "      <td>XGBClassifier</td>\n",
       "    </tr>\n",
       "    <tr>\n",
       "      <th>24</th>\n",
       "      <td>feat10_group_2</td>\n",
       "      <td>0.000175</td>\n",
       "      <td>XGBClassifier</td>\n",
       "    </tr>\n",
       "    <tr>\n",
       "      <th>25</th>\n",
       "      <td>feat04</td>\n",
       "      <td>0.000634</td>\n",
       "      <td>XGBClassifier</td>\n",
       "    </tr>\n",
       "    <tr>\n",
       "      <th>26</th>\n",
       "      <td>feat09</td>\n",
       "      <td>0.000719</td>\n",
       "      <td>XGBClassifier</td>\n",
       "    </tr>\n",
       "    <tr>\n",
       "      <th>27</th>\n",
       "      <td>feat06</td>\n",
       "      <td>0.000817</td>\n",
       "      <td>XGBClassifier</td>\n",
       "    </tr>\n",
       "    <tr>\n",
       "      <th>28</th>\n",
       "      <td>feat08</td>\n",
       "      <td>0.001154</td>\n",
       "      <td>XGBClassifier</td>\n",
       "    </tr>\n",
       "    <tr>\n",
       "      <th>29</th>\n",
       "      <td>feat03</td>\n",
       "      <td>0.001962</td>\n",
       "      <td>XGBClassifier</td>\n",
       "    </tr>\n",
       "    <tr>\n",
       "      <th>30</th>\n",
       "      <td>feat02_group_2</td>\n",
       "      <td>0.002662</td>\n",
       "      <td>XGBClassifier</td>\n",
       "    </tr>\n",
       "    <tr>\n",
       "      <th>31</th>\n",
       "      <td>feat07</td>\n",
       "      <td>0.002890</td>\n",
       "      <td>XGBClassifier</td>\n",
       "    </tr>\n",
       "    <tr>\n",
       "      <th>32</th>\n",
       "      <td>feat01_group_3</td>\n",
       "      <td>0.005202</td>\n",
       "      <td>XGBClassifier</td>\n",
       "    </tr>\n",
       "    <tr>\n",
       "      <th>33</th>\n",
       "      <td>age_group_2</td>\n",
       "      <td>0.008459</td>\n",
       "      <td>XGBClassifier</td>\n",
       "    </tr>\n",
       "    <tr>\n",
       "      <th>34</th>\n",
       "      <td>age_group_3</td>\n",
       "      <td>0.112583</td>\n",
       "      <td>XGBClassifier</td>\n",
       "    </tr>\n",
       "    <tr>\n",
       "      <th>35</th>\n",
       "      <td>_baseline_</td>\n",
       "      <td>0.489367</td>\n",
       "      <td>XGBClassifier</td>\n",
       "    </tr>\n",
       "  </tbody>\n",
       "</table>\n",
       "</div>"
      ],
      "text/plain": [
       "<dalex.model_explanations._variable_importance.object.VariableImportance at 0x20eec45fc40>"
      ]
     },
     "execution_count": 17,
     "metadata": {},
     "output_type": "execute_result"
    }
   ],
   "source": [
    "imp"
   ]
  },
  {
   "cell_type": "code",
   "execution_count": 94,
   "metadata": {},
   "outputs": [
    {
     "name": "stderr",
     "output_type": "stream",
     "text": [
      "[Parallel(n_jobs=-1)]: Using backend LokyBackend with 8 concurrent workers.\n",
      "[Parallel(n_jobs=-1)]: Done  26 out of  26 | elapsed:   15.1s finished\n",
      "\n",
      "[2024-01-19 18:53:02] Features: 1/26 -- score: 0.8312838204356127[Parallel(n_jobs=-1)]: Using backend LokyBackend with 8 concurrent workers.\n",
      "[Parallel(n_jobs=-1)]: Done  23 out of  25 | elapsed:    0.9s remaining:    0.0s\n",
      "[Parallel(n_jobs=-1)]: Done  25 out of  25 | elapsed:    1.0s finished\n",
      "\n",
      "[2024-01-19 18:53:03] Features: 2/26 -- score: 0.9012660808751427[Parallel(n_jobs=-1)]: Using backend LokyBackend with 8 concurrent workers.\n",
      "[Parallel(n_jobs=-1)]: Done  22 out of  24 | elapsed:    1.2s remaining:    0.0s\n",
      "[Parallel(n_jobs=-1)]: Done  24 out of  24 | elapsed:    1.2s finished\n",
      "\n",
      "[2024-01-19 18:53:04] Features: 3/26 -- score: 0.9061037884903443[Parallel(n_jobs=-1)]: Using backend LokyBackend with 8 concurrent workers.\n",
      "[Parallel(n_jobs=-1)]: Done  20 out of  23 | elapsed:    1.0s remaining:    0.1s\n",
      "[Parallel(n_jobs=-1)]: Done  23 out of  23 | elapsed:    1.1s finished\n",
      "\n",
      "[2024-01-19 18:53:06] Features: 4/26 -- score: 0.9065376604198815[Parallel(n_jobs=-1)]: Using backend LokyBackend with 8 concurrent workers.\n",
      "[Parallel(n_jobs=-1)]: Done  19 out of  22 | elapsed:    1.0s remaining:    0.1s\n",
      "[Parallel(n_jobs=-1)]: Done  22 out of  22 | elapsed:    1.1s finished\n",
      "\n",
      "[2024-01-19 18:53:07] Features: 5/26 -- score: 0.909560185521272[Parallel(n_jobs=-1)]: Using backend LokyBackend with 8 concurrent workers.\n",
      "[Parallel(n_jobs=-1)]: Done  17 out of  21 | elapsed:    1.0s remaining:    0.1s\n",
      "[Parallel(n_jobs=-1)]: Done  21 out of  21 | elapsed:    1.1s finished\n",
      "\n",
      "[2024-01-19 18:53:08] Features: 6/26 -- score: 0.909560185521272[Parallel(n_jobs=-1)]: Using backend LokyBackend with 8 concurrent workers.\n",
      "[Parallel(n_jobs=-1)]: Done  16 out of  20 | elapsed:    0.9s remaining:    0.1s\n",
      "[Parallel(n_jobs=-1)]: Done  20 out of  20 | elapsed:    1.1s finished\n",
      "\n",
      "[2024-01-19 18:53:09] Features: 7/26 -- score: 0.909560185521272[Parallel(n_jobs=-1)]: Using backend LokyBackend with 8 concurrent workers.\n",
      "[Parallel(n_jobs=-1)]: Done  14 out of  19 | elapsed:    0.8s remaining:    0.2s\n",
      "[Parallel(n_jobs=-1)]: Done  19 out of  19 | elapsed:    1.0s finished\n",
      "\n",
      "[2024-01-19 18:53:10] Features: 8/26 -- score: 0.9087533596319585[Parallel(n_jobs=-1)]: Using backend LokyBackend with 8 concurrent workers.\n",
      "[Parallel(n_jobs=-1)]: Done  13 out of  18 | elapsed:    0.9s remaining:    0.3s\n",
      "[Parallel(n_jobs=-1)]: Done  18 out of  18 | elapsed:    1.1s finished\n",
      "\n",
      "[2024-01-19 18:53:12] Features: 9/26 -- score: 0.9099253805963623[Parallel(n_jobs=-1)]: Using backend LokyBackend with 8 concurrent workers.\n",
      "[Parallel(n_jobs=-1)]: Done  11 out of  17 | elapsed:    1.3s remaining:    0.6s\n",
      "[Parallel(n_jobs=-1)]: Done  17 out of  17 | elapsed:    1.6s finished\n",
      "\n",
      "[2024-01-19 18:53:13] Features: 10/26 -- score: 0.9090949872254909[Parallel(n_jobs=-1)]: Using backend LokyBackend with 8 concurrent workers.\n",
      "[Parallel(n_jobs=-1)]: Done  10 out of  16 | elapsed:    1.2s remaining:    0.7s\n",
      "[Parallel(n_jobs=-1)]: Done  16 out of  16 | elapsed:    1.6s finished\n",
      "\n",
      "[2024-01-19 18:53:15] Features: 11/26 -- score: 0.9079204762789218[Parallel(n_jobs=-1)]: Using backend LokyBackend with 8 concurrent workers.\n",
      "[Parallel(n_jobs=-1)]: Done   8 out of  15 | elapsed:    1.0s remaining:    0.9s\n",
      "[Parallel(n_jobs=-1)]: Done  15 out of  15 | elapsed:    1.4s finished\n",
      "\n",
      "[2024-01-19 18:53:16] Features: 12/26 -- score: 0.9097278966332455[Parallel(n_jobs=-1)]: Using backend LokyBackend with 8 concurrent workers.\n",
      "[Parallel(n_jobs=-1)]: Done   7 out of  14 | elapsed:    0.8s remaining:    0.8s\n",
      "[Parallel(n_jobs=-1)]: Done  14 out of  14 | elapsed:    1.3s finished\n",
      "\n",
      "[2024-01-19 18:53:18] Features: 13/26 -- score: 0.9049055036238155[Parallel(n_jobs=-1)]: Using backend LokyBackend with 8 concurrent workers.\n",
      "[Parallel(n_jobs=-1)]: Done   5 out of  13 | elapsed:    0.7s remaining:    1.2s\n",
      "[Parallel(n_jobs=-1)]: Done  13 out of  13 | elapsed:    1.2s finished\n",
      "\n",
      "[2024-01-19 18:53:19] Features: 14/26 -- score: 0.9064224759785731[Parallel(n_jobs=-1)]: Using backend LokyBackend with 8 concurrent workers.\n",
      "[Parallel(n_jobs=-1)]: Done   4 out of  12 | elapsed:    0.6s remaining:    1.3s\n",
      "[Parallel(n_jobs=-1)]: Done  12 out of  12 | elapsed:    1.2s finished\n",
      "\n",
      "[2024-01-19 18:53:21] Features: 15/26 -- score: 0.9051773357665325[Parallel(n_jobs=-1)]: Using backend LokyBackend with 8 concurrent workers.\n",
      "[Parallel(n_jobs=-1)]: Done   2 out of  11 | elapsed:    0.6s remaining:    2.9s\n",
      "[Parallel(n_jobs=-1)]: Done   8 out of  11 | elapsed:    0.7s remaining:    0.2s\n",
      "[Parallel(n_jobs=-1)]: Done  11 out of  11 | elapsed:    1.0s finished\n",
      "\n",
      "[2024-01-19 18:53:22] Features: 16/26 -- score: 0.9052817835216294[Parallel(n_jobs=-1)]: Using backend LokyBackend with 8 concurrent workers.\n",
      "[Parallel(n_jobs=-1)]: Done   7 out of  10 | elapsed:    0.6s remaining:    0.2s\n",
      "[Parallel(n_jobs=-1)]: Done  10 out of  10 | elapsed:    1.0s finished\n",
      "\n",
      "[2024-01-19 18:53:23] Features: 17/26 -- score: 0.892828282505841[Parallel(n_jobs=-1)]: Using backend LokyBackend with 8 concurrent workers.\n",
      "[Parallel(n_jobs=-1)]: Done   4 out of   9 | elapsed:    0.7s remaining:    0.8s\n",
      "[Parallel(n_jobs=-1)]: Done   9 out of   9 | elapsed:    1.1s finished\n",
      "\n",
      "[2024-01-19 18:53:24] Features: 18/26 -- score: 0.8922834415593016[Parallel(n_jobs=-1)]: Using backend LokyBackend with 8 concurrent workers.\n",
      "[Parallel(n_jobs=-1)]: Done   3 out of   8 | elapsed:    0.7s remaining:    1.2s\n",
      "[Parallel(n_jobs=-1)]: Done   8 out of   8 | elapsed:    0.7s finished\n",
      "\n",
      "[2024-01-19 18:53:25] Features: 19/26 -- score: 0.8939901510840619[Parallel(n_jobs=-1)]: Using backend LokyBackend with 8 concurrent workers.\n",
      "[Parallel(n_jobs=-1)]: Done   4 out of   7 | elapsed:    0.7s remaining:    0.5s\n",
      "[Parallel(n_jobs=-1)]: Done   7 out of   7 | elapsed:    0.8s finished\n",
      "\n",
      "[2024-01-19 18:53:26] Features: 20/26 -- score: 0.8930714452793181[Parallel(n_jobs=-1)]: Using backend LokyBackend with 8 concurrent workers.\n",
      "[Parallel(n_jobs=-1)]: Done   3 out of   6 | elapsed:    0.7s remaining:    0.7s\n",
      "[Parallel(n_jobs=-1)]: Done   6 out of   6 | elapsed:    0.8s finished\n",
      "\n",
      "[2024-01-19 18:53:27] Features: 21/26 -- score: 0.8870476646555895[Parallel(n_jobs=-1)]: Using backend LokyBackend with 8 concurrent workers.\n",
      "[Parallel(n_jobs=-1)]: Done   2 out of   5 | elapsed:    0.7s remaining:    1.1s\n",
      "[Parallel(n_jobs=-1)]: Done   5 out of   5 | elapsed:    0.7s finished\n",
      "\n",
      "[2024-01-19 18:53:27] Features: 22/26 -- score: 0.8884090288062731[Parallel(n_jobs=-1)]: Using backend LokyBackend with 8 concurrent workers.\n",
      "[Parallel(n_jobs=-1)]: Done   4 out of   4 | elapsed:    0.7s finished\n",
      "\n",
      "[2024-01-19 18:53:28] Features: 23/26 -- score: 0.8835061968656838[Parallel(n_jobs=-1)]: Using backend LokyBackend with 8 concurrent workers.\n",
      "[Parallel(n_jobs=-1)]: Done   3 out of   3 | elapsed:    0.6s finished\n",
      "\n",
      "[2024-01-19 18:53:29] Features: 24/26 -- score: 0.8791526779899383[Parallel(n_jobs=-1)]: Using backend LokyBackend with 8 concurrent workers.\n",
      "[Parallel(n_jobs=-1)]: Done   2 out of   2 | elapsed:    0.6s finished\n",
      "\n",
      "[2024-01-19 18:53:30] Features: 25/26 -- score: 0.8817516825550982[Parallel(n_jobs=-1)]: Using backend LokyBackend with 8 concurrent workers.\n",
      "\n",
      "[2024-01-19 18:53:30] Features: 26/26 -- score: 0.8722674199643504"
     ]
    }
   ],
   "source": [
    "scale_pos_weight = (y_train.shape[0] - y_train.sum()) / y_train.sum()\n",
    "\n",
    "\n",
    "FFS_LGB_prec_full = SequentialFeatureSelector(\n",
    "    XGBClassifier(scale_pos_weight=scale_pos_weight, random_state=123),\n",
    "    k_features=(1,26),\n",
    "    forward=True,\n",
    "    verbose=2,\n",
    "    cv=3,\n",
    "    scoring = 'roc_auc',\n",
    "    n_jobs=-1).fit(X_train, y_train)"
   ]
  },
  {
   "cell_type": "code",
   "execution_count": 93,
   "metadata": {},
   "outputs": [
    {
     "data": {
      "text/html": [
       "<div>\n",
       "<style scoped>\n",
       "    .dataframe tbody tr th:only-of-type {\n",
       "        vertical-align: middle;\n",
       "    }\n",
       "\n",
       "    .dataframe tbody tr th {\n",
       "        vertical-align: top;\n",
       "    }\n",
       "\n",
       "    .dataframe thead th {\n",
       "        text-align: right;\n",
       "    }\n",
       "</style>\n",
       "<table border=\"1\" class=\"dataframe\">\n",
       "  <thead>\n",
       "    <tr style=\"text-align: right;\">\n",
       "      <th></th>\n",
       "      <th>age</th>\n",
       "      <th>avg_glucose_level</th>\n",
       "      <th>bmi</th>\n",
       "      <th>feat01</th>\n",
       "      <th>feat02</th>\n",
       "      <th>feat03</th>\n",
       "      <th>feat04</th>\n",
       "      <th>feat05</th>\n",
       "      <th>feat06</th>\n",
       "      <th>feat07</th>\n",
       "      <th>...</th>\n",
       "      <th>smoking_status_formerly smoked</th>\n",
       "      <th>smoking_status_never smoked</th>\n",
       "      <th>smoking_status_smokes</th>\n",
       "      <th>Residence_type_Urban</th>\n",
       "      <th>work_type_Never_worked</th>\n",
       "      <th>work_type_Private</th>\n",
       "      <th>work_type_Self-employed</th>\n",
       "      <th>work_type_children</th>\n",
       "      <th>gender_Male</th>\n",
       "      <th>gender_Other</th>\n",
       "    </tr>\n",
       "  </thead>\n",
       "  <tbody>\n",
       "    <tr>\n",
       "      <th>3409</th>\n",
       "      <td>13.0</td>\n",
       "      <td>63.22</td>\n",
       "      <td>18.5</td>\n",
       "      <td>0.570176</td>\n",
       "      <td>0.606486</td>\n",
       "      <td>0.521926</td>\n",
       "      <td>1.368079</td>\n",
       "      <td>0.705436</td>\n",
       "      <td>0.574529</td>\n",
       "      <td>0.480470</td>\n",
       "      <td>...</td>\n",
       "      <td>True</td>\n",
       "      <td>False</td>\n",
       "      <td>False</td>\n",
       "      <td>True</td>\n",
       "      <td>False</td>\n",
       "      <td>False</td>\n",
       "      <td>False</td>\n",
       "      <td>True</td>\n",
       "      <td>False</td>\n",
       "      <td>False</td>\n",
       "    </tr>\n",
       "    <tr>\n",
       "      <th>1228</th>\n",
       "      <td>78.0</td>\n",
       "      <td>224.15</td>\n",
       "      <td>NaN</td>\n",
       "      <td>0.660515</td>\n",
       "      <td>0.359121</td>\n",
       "      <td>0.594148</td>\n",
       "      <td>1.152842</td>\n",
       "      <td>0.769563</td>\n",
       "      <td>0.990169</td>\n",
       "      <td>1.079975</td>\n",
       "      <td>...</td>\n",
       "      <td>False</td>\n",
       "      <td>False</td>\n",
       "      <td>False</td>\n",
       "      <td>True</td>\n",
       "      <td>False</td>\n",
       "      <td>True</td>\n",
       "      <td>False</td>\n",
       "      <td>False</td>\n",
       "      <td>True</td>\n",
       "      <td>False</td>\n",
       "    </tr>\n",
       "    <tr>\n",
       "      <th>1116</th>\n",
       "      <td>40.0</td>\n",
       "      <td>104.64</td>\n",
       "      <td>24.9</td>\n",
       "      <td>0.421662</td>\n",
       "      <td>0.537413</td>\n",
       "      <td>0.450923</td>\n",
       "      <td>1.466377</td>\n",
       "      <td>0.757969</td>\n",
       "      <td>1.265348</td>\n",
       "      <td>0.832882</td>\n",
       "      <td>...</td>\n",
       "      <td>False</td>\n",
       "      <td>False</td>\n",
       "      <td>False</td>\n",
       "      <td>True</td>\n",
       "      <td>False</td>\n",
       "      <td>True</td>\n",
       "      <td>False</td>\n",
       "      <td>False</td>\n",
       "      <td>True</td>\n",
       "      <td>False</td>\n",
       "    </tr>\n",
       "    <tr>\n",
       "      <th>1014</th>\n",
       "      <td>49.0</td>\n",
       "      <td>67.68</td>\n",
       "      <td>24.8</td>\n",
       "      <td>0.602786</td>\n",
       "      <td>0.611396</td>\n",
       "      <td>0.844011</td>\n",
       "      <td>0.491453</td>\n",
       "      <td>0.723060</td>\n",
       "      <td>0.591935</td>\n",
       "      <td>1.372342</td>\n",
       "      <td>...</td>\n",
       "      <td>True</td>\n",
       "      <td>False</td>\n",
       "      <td>False</td>\n",
       "      <td>True</td>\n",
       "      <td>False</td>\n",
       "      <td>True</td>\n",
       "      <td>False</td>\n",
       "      <td>False</td>\n",
       "      <td>False</td>\n",
       "      <td>False</td>\n",
       "    </tr>\n",
       "    <tr>\n",
       "      <th>3834</th>\n",
       "      <td>40.0</td>\n",
       "      <td>153.24</td>\n",
       "      <td>38.2</td>\n",
       "      <td>0.667395</td>\n",
       "      <td>0.611071</td>\n",
       "      <td>0.570149</td>\n",
       "      <td>0.705432</td>\n",
       "      <td>1.493823</td>\n",
       "      <td>0.760872</td>\n",
       "      <td>1.442572</td>\n",
       "      <td>...</td>\n",
       "      <td>False</td>\n",
       "      <td>False</td>\n",
       "      <td>False</td>\n",
       "      <td>True</td>\n",
       "      <td>False</td>\n",
       "      <td>True</td>\n",
       "      <td>False</td>\n",
       "      <td>False</td>\n",
       "      <td>False</td>\n",
       "      <td>False</td>\n",
       "    </tr>\n",
       "    <tr>\n",
       "      <th>...</th>\n",
       "      <td>...</td>\n",
       "      <td>...</td>\n",
       "      <td>...</td>\n",
       "      <td>...</td>\n",
       "      <td>...</td>\n",
       "      <td>...</td>\n",
       "      <td>...</td>\n",
       "      <td>...</td>\n",
       "      <td>...</td>\n",
       "      <td>...</td>\n",
       "      <td>...</td>\n",
       "      <td>...</td>\n",
       "      <td>...</td>\n",
       "      <td>...</td>\n",
       "      <td>...</td>\n",
       "      <td>...</td>\n",
       "      <td>...</td>\n",
       "      <td>...</td>\n",
       "      <td>...</td>\n",
       "      <td>...</td>\n",
       "      <td>...</td>\n",
       "    </tr>\n",
       "    <tr>\n",
       "      <th>3271</th>\n",
       "      <td>5.0</td>\n",
       "      <td>104.55</td>\n",
       "      <td>16.3</td>\n",
       "      <td>0.547479</td>\n",
       "      <td>0.540067</td>\n",
       "      <td>1.226619</td>\n",
       "      <td>0.761907</td>\n",
       "      <td>0.939234</td>\n",
       "      <td>0.924596</td>\n",
       "      <td>1.301093</td>\n",
       "      <td>...</td>\n",
       "      <td>False</td>\n",
       "      <td>False</td>\n",
       "      <td>False</td>\n",
       "      <td>False</td>\n",
       "      <td>False</td>\n",
       "      <td>False</td>\n",
       "      <td>False</td>\n",
       "      <td>True</td>\n",
       "      <td>True</td>\n",
       "      <td>False</td>\n",
       "    </tr>\n",
       "    <tr>\n",
       "      <th>2715</th>\n",
       "      <td>51.0</td>\n",
       "      <td>86.25</td>\n",
       "      <td>29.0</td>\n",
       "      <td>0.388300</td>\n",
       "      <td>0.766376</td>\n",
       "      <td>1.409998</td>\n",
       "      <td>0.636542</td>\n",
       "      <td>0.632279</td>\n",
       "      <td>0.744006</td>\n",
       "      <td>1.463443</td>\n",
       "      <td>...</td>\n",
       "      <td>False</td>\n",
       "      <td>True</td>\n",
       "      <td>False</td>\n",
       "      <td>True</td>\n",
       "      <td>False</td>\n",
       "      <td>False</td>\n",
       "      <td>False</td>\n",
       "      <td>False</td>\n",
       "      <td>False</td>\n",
       "      <td>False</td>\n",
       "    </tr>\n",
       "    <tr>\n",
       "      <th>2204</th>\n",
       "      <td>59.0</td>\n",
       "      <td>60.64</td>\n",
       "      <td>20.0</td>\n",
       "      <td>0.649106</td>\n",
       "      <td>0.562244</td>\n",
       "      <td>0.625305</td>\n",
       "      <td>1.226736</td>\n",
       "      <td>0.847527</td>\n",
       "      <td>0.689423</td>\n",
       "      <td>0.806393</td>\n",
       "      <td>...</td>\n",
       "      <td>False</td>\n",
       "      <td>True</td>\n",
       "      <td>False</td>\n",
       "      <td>False</td>\n",
       "      <td>False</td>\n",
       "      <td>True</td>\n",
       "      <td>False</td>\n",
       "      <td>False</td>\n",
       "      <td>False</td>\n",
       "      <td>False</td>\n",
       "    </tr>\n",
       "    <tr>\n",
       "      <th>2693</th>\n",
       "      <td>12.0</td>\n",
       "      <td>70.07</td>\n",
       "      <td>24.5</td>\n",
       "      <td>0.357520</td>\n",
       "      <td>0.414479</td>\n",
       "      <td>1.468133</td>\n",
       "      <td>0.916039</td>\n",
       "      <td>1.162535</td>\n",
       "      <td>0.775409</td>\n",
       "      <td>1.332973</td>\n",
       "      <td>...</td>\n",
       "      <td>True</td>\n",
       "      <td>False</td>\n",
       "      <td>False</td>\n",
       "      <td>True</td>\n",
       "      <td>False</td>\n",
       "      <td>False</td>\n",
       "      <td>False</td>\n",
       "      <td>True</td>\n",
       "      <td>True</td>\n",
       "      <td>False</td>\n",
       "    </tr>\n",
       "    <tr>\n",
       "      <th>3829</th>\n",
       "      <td>60.0</td>\n",
       "      <td>213.03</td>\n",
       "      <td>20.2</td>\n",
       "      <td>0.544674</td>\n",
       "      <td>0.621464</td>\n",
       "      <td>0.956723</td>\n",
       "      <td>1.492934</td>\n",
       "      <td>0.867248</td>\n",
       "      <td>1.394835</td>\n",
       "      <td>1.300219</td>\n",
       "      <td>...</td>\n",
       "      <td>False</td>\n",
       "      <td>False</td>\n",
       "      <td>True</td>\n",
       "      <td>True</td>\n",
       "      <td>False</td>\n",
       "      <td>False</td>\n",
       "      <td>False</td>\n",
       "      <td>False</td>\n",
       "      <td>True</td>\n",
       "      <td>False</td>\n",
       "    </tr>\n",
       "  </tbody>\n",
       "</table>\n",
       "<p>4287 rows × 26 columns</p>\n",
       "</div>"
      ],
      "text/plain": [
       "       age  avg_glucose_level   bmi    feat01    feat02    feat03    feat04  \\\n",
       "3409  13.0              63.22  18.5  0.570176  0.606486  0.521926  1.368079   \n",
       "1228  78.0             224.15   NaN  0.660515  0.359121  0.594148  1.152842   \n",
       "1116  40.0             104.64  24.9  0.421662  0.537413  0.450923  1.466377   \n",
       "1014  49.0              67.68  24.8  0.602786  0.611396  0.844011  0.491453   \n",
       "3834  40.0             153.24  38.2  0.667395  0.611071  0.570149  0.705432   \n",
       "...    ...                ...   ...       ...       ...       ...       ...   \n",
       "3271   5.0             104.55  16.3  0.547479  0.540067  1.226619  0.761907   \n",
       "2715  51.0              86.25  29.0  0.388300  0.766376  1.409998  0.636542   \n",
       "2204  59.0              60.64  20.0  0.649106  0.562244  0.625305  1.226736   \n",
       "2693  12.0              70.07  24.5  0.357520  0.414479  1.468133  0.916039   \n",
       "3829  60.0             213.03  20.2  0.544674  0.621464  0.956723  1.492934   \n",
       "\n",
       "        feat05    feat06    feat07  ...  smoking_status_formerly smoked  \\\n",
       "3409  0.705436  0.574529  0.480470  ...                            True   \n",
       "1228  0.769563  0.990169  1.079975  ...                           False   \n",
       "1116  0.757969  1.265348  0.832882  ...                           False   \n",
       "1014  0.723060  0.591935  1.372342  ...                            True   \n",
       "3834  1.493823  0.760872  1.442572  ...                           False   \n",
       "...        ...       ...       ...  ...                             ...   \n",
       "3271  0.939234  0.924596  1.301093  ...                           False   \n",
       "2715  0.632279  0.744006  1.463443  ...                           False   \n",
       "2204  0.847527  0.689423  0.806393  ...                           False   \n",
       "2693  1.162535  0.775409  1.332973  ...                            True   \n",
       "3829  0.867248  1.394835  1.300219  ...                           False   \n",
       "\n",
       "      smoking_status_never smoked  smoking_status_smokes  \\\n",
       "3409                        False                  False   \n",
       "1228                        False                  False   \n",
       "1116                        False                  False   \n",
       "1014                        False                  False   \n",
       "3834                        False                  False   \n",
       "...                           ...                    ...   \n",
       "3271                        False                  False   \n",
       "2715                         True                  False   \n",
       "2204                         True                  False   \n",
       "2693                        False                  False   \n",
       "3829                        False                   True   \n",
       "\n",
       "      Residence_type_Urban  work_type_Never_worked  work_type_Private  \\\n",
       "3409                  True                   False              False   \n",
       "1228                  True                   False               True   \n",
       "1116                  True                   False               True   \n",
       "1014                  True                   False               True   \n",
       "3834                  True                   False               True   \n",
       "...                    ...                     ...                ...   \n",
       "3271                 False                   False              False   \n",
       "2715                  True                   False              False   \n",
       "2204                 False                   False               True   \n",
       "2693                  True                   False              False   \n",
       "3829                  True                   False              False   \n",
       "\n",
       "      work_type_Self-employed  work_type_children  gender_Male  gender_Other  \n",
       "3409                    False                True        False         False  \n",
       "1228                    False               False         True         False  \n",
       "1116                    False               False         True         False  \n",
       "1014                    False               False        False         False  \n",
       "3834                    False               False        False         False  \n",
       "...                       ...                 ...          ...           ...  \n",
       "3271                    False                True         True         False  \n",
       "2715                    False               False        False         False  \n",
       "2204                    False               False        False         False  \n",
       "2693                    False                True         True         False  \n",
       "3829                    False               False         True         False  \n",
       "\n",
       "[4287 rows x 26 columns]"
      ]
     },
     "execution_count": 93,
     "metadata": {},
     "output_type": "execute_result"
    }
   ],
   "source": [
    "# X_train"
   ]
  },
  {
   "cell_type": "code",
   "execution_count": 95,
   "metadata": {},
   "outputs": [
    {
     "data": {
      "text/plain": [
       "['age',\n",
       " 'bmi',\n",
       " 'hypertension',\n",
       " 'smoking_status_formerly smoked',\n",
       " 'smoking_status_never smoked',\n",
       " 'smoking_status_smokes',\n",
       " 'work_type_Never_worked',\n",
       " 'gender_Male',\n",
       " 'gender_Other']"
      ]
     },
     "execution_count": 95,
     "metadata": {},
     "output_type": "execute_result"
    }
   ],
   "source": [
    "# list(FFS_LGB_prec_full.k_feature_names_)\n",
    "# len(list(FFS_LGB_prec_full.k_feature_names_))\n",
    "\n",
    "selected_features_full_xgb = list(FFS_LGB_prec_full.k_feature_names_)\n",
    "selected_features_full_xgb"
   ]
  },
  {
   "cell_type": "code",
   "execution_count": 70,
   "metadata": {},
   "outputs": [
    {
     "data": {
      "text/plain": [
       "['feat01',\n",
       " 'feat02',\n",
       " 'feat03',\n",
       " 'feat06',\n",
       " 'feat08',\n",
       " 'feat09',\n",
       " 'feat10',\n",
       " 'heart_disease',\n",
       " 'hypertension',\n",
       " 'ever_married_Yes',\n",
       " 'smoking_status_smokes',\n",
       " 'Residence_type_Urban',\n",
       " 'work_type_Never_worked',\n",
       " 'gender_Male',\n",
       " 'gender_Other',\n",
       " 'age_group_1',\n",
       " 'age_group_3',\n",
       " 'avg_glucose_level_group_1',\n",
       " 'avg_glucose_level_group_2',\n",
       " 'avg_glucose_level_group_3',\n",
       " 'bmi_group_1',\n",
       " 'bmi_group_2',\n",
       " 'bmi_group_3',\n",
       " 'feat05_group_1',\n",
       " 'feat05_group_2']"
      ]
     },
     "execution_count": 70,
     "metadata": {},
     "output_type": "execute_result"
    }
   ],
   "source": [
    "selected_features_full_xgb"
   ]
  },
  {
   "cell_type": "code",
   "execution_count": 65,
   "metadata": {},
   "outputs": [
    {
     "data": {
      "text/plain": [
       "['accuracy',\n",
       " 'adjusted_mutual_info_score',\n",
       " 'adjusted_rand_score',\n",
       " 'average_precision',\n",
       " 'balanced_accuracy',\n",
       " 'completeness_score',\n",
       " 'explained_variance',\n",
       " 'f1',\n",
       " 'f1_macro',\n",
       " 'f1_micro',\n",
       " 'f1_samples',\n",
       " 'f1_weighted',\n",
       " 'fowlkes_mallows_score',\n",
       " 'homogeneity_score',\n",
       " 'jaccard',\n",
       " 'jaccard_macro',\n",
       " 'jaccard_micro',\n",
       " 'jaccard_samples',\n",
       " 'jaccard_weighted',\n",
       " 'matthews_corrcoef',\n",
       " 'max_error',\n",
       " 'mutual_info_score',\n",
       " 'neg_brier_score',\n",
       " 'neg_log_loss',\n",
       " 'neg_mean_absolute_error',\n",
       " 'neg_mean_absolute_percentage_error',\n",
       " 'neg_mean_gamma_deviance',\n",
       " 'neg_mean_poisson_deviance',\n",
       " 'neg_mean_squared_error',\n",
       " 'neg_mean_squared_log_error',\n",
       " 'neg_median_absolute_error',\n",
       " 'neg_negative_likelihood_ratio',\n",
       " 'neg_root_mean_squared_error',\n",
       " 'normalized_mutual_info_score',\n",
       " 'positive_likelihood_ratio',\n",
       " 'precision',\n",
       " 'precision_macro',\n",
       " 'precision_micro',\n",
       " 'precision_samples',\n",
       " 'precision_weighted',\n",
       " 'r2',\n",
       " 'rand_score',\n",
       " 'recall',\n",
       " 'recall_macro',\n",
       " 'recall_micro',\n",
       " 'recall_samples',\n",
       " 'recall_weighted',\n",
       " 'roc_auc',\n",
       " 'roc_auc_ovo',\n",
       " 'roc_auc_ovo_weighted',\n",
       " 'roc_auc_ovr',\n",
       " 'roc_auc_ovr_weighted',\n",
       " 'top_k_accuracy',\n",
       " 'v_measure_score']"
      ]
     },
     "execution_count": 65,
     "metadata": {},
     "output_type": "execute_result"
    }
   ],
   "source": [
    "import sklearn\n",
    "sklearn.metrics.get_scorer_names()"
   ]
  },
  {
   "cell_type": "code",
   "execution_count": 61,
   "metadata": {},
   "outputs": [
    {
     "data": {
      "text/html": [
       "<div>\n",
       "<style scoped>\n",
       "    .dataframe tbody tr th:only-of-type {\n",
       "        vertical-align: middle;\n",
       "    }\n",
       "\n",
       "    .dataframe tbody tr th {\n",
       "        vertical-align: top;\n",
       "    }\n",
       "\n",
       "    .dataframe thead th {\n",
       "        text-align: right;\n",
       "    }\n",
       "</style>\n",
       "<table border=\"1\" class=\"dataframe\">\n",
       "  <thead>\n",
       "    <tr style=\"text-align: right;\">\n",
       "      <th></th>\n",
       "      <th>recall</th>\n",
       "      <th>precision</th>\n",
       "      <th>f1</th>\n",
       "      <th>accuracy</th>\n",
       "      <th>auc</th>\n",
       "    </tr>\n",
       "  </thead>\n",
       "  <tbody>\n",
       "    <tr>\n",
       "      <th>XGBClassifier</th>\n",
       "      <td>1.0</td>\n",
       "      <td>1.0</td>\n",
       "      <td>1.0</td>\n",
       "      <td>1.0</td>\n",
       "      <td>1.0</td>\n",
       "    </tr>\n",
       "  </tbody>\n",
       "</table>\n",
       "</div>"
      ],
      "text/plain": [
       "               recall  precision   f1  accuracy  auc\n",
       "XGBClassifier     1.0        1.0  1.0       1.0  1.0"
      ]
     },
     "execution_count": 61,
     "metadata": {},
     "output_type": "execute_result"
    }
   ],
   "source": [
    "mp = exp.model_performance(model_type = 'classification')\n",
    "mp.result"
   ]
  },
  {
   "cell_type": "code",
   "execution_count": 62,
   "metadata": {},
   "outputs": [],
   "source": [
    "# print(mp.result.auc[0])\n",
    "# mp.plot(geom=\"roc\")"
   ]
  },
  {
   "cell_type": "code",
   "execution_count": 97,
   "metadata": {},
   "outputs": [
    {
     "name": "stderr",
     "output_type": "stream",
     "text": [
      "Calculating ceteris paribus: 100%|██████████| 34/34 [00:02<00:00, 12.35it/s]\n",
      "Calculating ceteris paribus: 100%|██████████| 34/34 [00:02<00:00, 12.22it/s]\n",
      "Calculating accumulated dependency: 100%|██████████| 8/8 [00:00<00:00, 13.27it/s]\n"
     ]
    },
    {
     "data": {
      "application/vnd.plotly.v1+json": {
       "config": {
        "displaylogo": false,
        "modeBarButtonsToRemove": [
         "sendDataToCloud",
         "lasso2d",
         "autoScale2d",
         "select2d",
         "zoom2d",
         "pan2d",
         "zoomIn2d",
         "zoomOut2d",
         "resetScale2d",
         "toggleSpikelines",
         "hoverCompareCartesian",
         "hoverClosestCartesian"
        ],
        "plotlyServerURL": "https://plot.ly",
        "staticPlot": false,
        "toImageButtonOptions": {
         "height": null,
         "width": null
        }
       },
       "data": [
        {
         "customdata": [
          [
           0.08954008668661118,
           "pdp",
           "feat03"
          ],
          [
           0.08954008668661118,
           "pdp",
           "feat03"
          ],
          [
           0.08954008668661118,
           "pdp",
           "feat03"
          ],
          [
           0.08954008668661118,
           "pdp",
           "feat03"
          ],
          [
           0.08954008668661118,
           "pdp",
           "feat03"
          ],
          [
           0.08954008668661118,
           "pdp",
           "feat03"
          ],
          [
           0.08954008668661118,
           "pdp",
           "feat03"
          ],
          [
           0.08954008668661118,
           "pdp",
           "feat03"
          ],
          [
           0.08954008668661118,
           "pdp",
           "feat03"
          ],
          [
           0.08954008668661118,
           "pdp",
           "feat03"
          ],
          [
           0.08954008668661118,
           "pdp",
           "feat03"
          ],
          [
           0.08954008668661118,
           "pdp",
           "feat03"
          ],
          [
           0.08954008668661118,
           "pdp",
           "feat03"
          ],
          [
           0.08954008668661118,
           "pdp",
           "feat03"
          ],
          [
           0.08954008668661118,
           "pdp",
           "feat03"
          ],
          [
           0.08954008668661118,
           "pdp",
           "feat03"
          ],
          [
           0.08954008668661118,
           "pdp",
           "feat03"
          ],
          [
           0.08954008668661118,
           "pdp",
           "feat03"
          ],
          [
           0.08954008668661118,
           "pdp",
           "feat03"
          ],
          [
           0.08954008668661118,
           "pdp",
           "feat03"
          ],
          [
           0.08954008668661118,
           "pdp",
           "feat03"
          ],
          [
           0.08954008668661118,
           "pdp",
           "feat03"
          ],
          [
           0.08954008668661118,
           "pdp",
           "feat03"
          ],
          [
           0.08954008668661118,
           "pdp",
           "feat03"
          ],
          [
           0.08954008668661118,
           "pdp",
           "feat03"
          ],
          [
           0.08954008668661118,
           "pdp",
           "feat03"
          ],
          [
           0.08954008668661118,
           "pdp",
           "feat03"
          ],
          [
           0.08954008668661118,
           "pdp",
           "feat03"
          ],
          [
           0.08954008668661118,
           "pdp",
           "feat03"
          ],
          [
           0.08954008668661118,
           "pdp",
           "feat03"
          ],
          [
           0.08954008668661118,
           "pdp",
           "feat03"
          ],
          [
           0.08954008668661118,
           "pdp",
           "feat03"
          ],
          [
           0.08954008668661118,
           "pdp",
           "feat03"
          ],
          [
           0.08954008668661118,
           "pdp",
           "feat03"
          ],
          [
           0.08954008668661118,
           "pdp",
           "feat03"
          ],
          [
           0.08954008668661118,
           "pdp",
           "feat03"
          ],
          [
           0.08954008668661118,
           "pdp",
           "feat03"
          ],
          [
           0.08954008668661118,
           "pdp",
           "feat03"
          ],
          [
           0.08954008668661118,
           "pdp",
           "feat03"
          ],
          [
           0.08954008668661118,
           "pdp",
           "feat03"
          ],
          [
           0.08954008668661118,
           "pdp",
           "feat03"
          ],
          [
           0.08954008668661118,
           "pdp",
           "feat03"
          ],
          [
           0.08954008668661118,
           "pdp",
           "feat03"
          ],
          [
           0.08954008668661118,
           "pdp",
           "feat03"
          ],
          [
           0.08954008668661118,
           "pdp",
           "feat03"
          ],
          [
           0.08954008668661118,
           "pdp",
           "feat03"
          ],
          [
           0.08954008668661118,
           "pdp",
           "feat03"
          ],
          [
           0.08954008668661118,
           "pdp",
           "feat03"
          ],
          [
           0.08954008668661118,
           "pdp",
           "feat03"
          ],
          [
           0.08954008668661118,
           "pdp",
           "feat03"
          ],
          [
           0.08954008668661118,
           "pdp",
           "feat03"
          ],
          [
           0.08954008668661118,
           "pdp",
           "feat03"
          ],
          [
           0.08954008668661118,
           "pdp",
           "feat03"
          ],
          [
           0.08954008668661118,
           "pdp",
           "feat03"
          ],
          [
           0.08954008668661118,
           "pdp",
           "feat03"
          ],
          [
           0.08954008668661118,
           "pdp",
           "feat03"
          ],
          [
           0.08954008668661118,
           "pdp",
           "feat03"
          ],
          [
           0.08954008668661118,
           "pdp",
           "feat03"
          ],
          [
           0.08954008668661118,
           "pdp",
           "feat03"
          ],
          [
           0.08954008668661118,
           "pdp",
           "feat03"
          ],
          [
           0.08954008668661118,
           "pdp",
           "feat03"
          ],
          [
           0.08954008668661118,
           "pdp",
           "feat03"
          ],
          [
           0.08954008668661118,
           "pdp",
           "feat03"
          ],
          [
           0.08954008668661118,
           "pdp",
           "feat03"
          ],
          [
           0.08954008668661118,
           "pdp",
           "feat03"
          ],
          [
           0.08954008668661118,
           "pdp",
           "feat03"
          ],
          [
           0.08954008668661118,
           "pdp",
           "feat03"
          ],
          [
           0.08954008668661118,
           "pdp",
           "feat03"
          ],
          [
           0.08954008668661118,
           "pdp",
           "feat03"
          ],
          [
           0.08954008668661118,
           "pdp",
           "feat03"
          ],
          [
           0.08954008668661118,
           "pdp",
           "feat03"
          ],
          [
           0.08954008668661118,
           "pdp",
           "feat03"
          ],
          [
           0.08954008668661118,
           "pdp",
           "feat03"
          ],
          [
           0.08954008668661118,
           "pdp",
           "feat03"
          ],
          [
           0.08954008668661118,
           "pdp",
           "feat03"
          ],
          [
           0.08954008668661118,
           "pdp",
           "feat03"
          ],
          [
           0.08954008668661118,
           "pdp",
           "feat03"
          ],
          [
           0.08954008668661118,
           "pdp",
           "feat03"
          ],
          [
           0.08954008668661118,
           "pdp",
           "feat03"
          ],
          [
           0.08954008668661118,
           "pdp",
           "feat03"
          ],
          [
           0.08954008668661118,
           "pdp",
           "feat03"
          ],
          [
           0.08954008668661118,
           "pdp",
           "feat03"
          ],
          [
           0.08954008668661118,
           "pdp",
           "feat03"
          ],
          [
           0.08954008668661118,
           "pdp",
           "feat03"
          ],
          [
           0.08954008668661118,
           "pdp",
           "feat03"
          ],
          [
           0.08954008668661118,
           "pdp",
           "feat03"
          ],
          [
           0.08954008668661118,
           "pdp",
           "feat03"
          ],
          [
           0.08954008668661118,
           "pdp",
           "feat03"
          ],
          [
           0.08954008668661118,
           "pdp",
           "feat03"
          ],
          [
           0.08954008668661118,
           "pdp",
           "feat03"
          ],
          [
           0.08954008668661118,
           "pdp",
           "feat03"
          ],
          [
           0.08954008668661118,
           "pdp",
           "feat03"
          ],
          [
           0.08954008668661118,
           "pdp",
           "feat03"
          ],
          [
           0.08954008668661118,
           "pdp",
           "feat03"
          ],
          [
           0.08954008668661118,
           "pdp",
           "feat03"
          ],
          [
           0.08954008668661118,
           "pdp",
           "feat03"
          ],
          [
           0.08954008668661118,
           "pdp",
           "feat03"
          ],
          [
           0.08954008668661118,
           "pdp",
           "feat03"
          ],
          [
           0.08954008668661118,
           "pdp",
           "feat03"
          ],
          [
           0.08954008668661118,
           "pdp",
           "feat03"
          ],
          [
           0.08954008668661118,
           "pdp",
           "feat03"
          ]
         ],
         "hovertemplate": "<b>%{hovertext}</b><br><br>prediction=%{y:.3f}<br>mean_prediction=%{customdata[0]:.3f}<extra></extra>",
         "hovertext": [
          "pdp",
          "pdp",
          "pdp",
          "pdp",
          "pdp",
          "pdp",
          "pdp",
          "pdp",
          "pdp",
          "pdp",
          "pdp",
          "pdp",
          "pdp",
          "pdp",
          "pdp",
          "pdp",
          "pdp",
          "pdp",
          "pdp",
          "pdp",
          "pdp",
          "pdp",
          "pdp",
          "pdp",
          "pdp",
          "pdp",
          "pdp",
          "pdp",
          "pdp",
          "pdp",
          "pdp",
          "pdp",
          "pdp",
          "pdp",
          "pdp",
          "pdp",
          "pdp",
          "pdp",
          "pdp",
          "pdp",
          "pdp",
          "pdp",
          "pdp",
          "pdp",
          "pdp",
          "pdp",
          "pdp",
          "pdp",
          "pdp",
          "pdp",
          "pdp",
          "pdp",
          "pdp",
          "pdp",
          "pdp",
          "pdp",
          "pdp",
          "pdp",
          "pdp",
          "pdp",
          "pdp",
          "pdp",
          "pdp",
          "pdp",
          "pdp",
          "pdp",
          "pdp",
          "pdp",
          "pdp",
          "pdp",
          "pdp",
          "pdp",
          "pdp",
          "pdp",
          "pdp",
          "pdp",
          "pdp",
          "pdp",
          "pdp",
          "pdp",
          "pdp",
          "pdp",
          "pdp",
          "pdp",
          "pdp",
          "pdp",
          "pdp",
          "pdp",
          "pdp",
          "pdp",
          "pdp",
          "pdp",
          "pdp",
          "pdp",
          "pdp",
          "pdp",
          "pdp",
          "pdp",
          "pdp",
          "pdp",
          "pdp"
         ],
         "legendgroup": "pdp",
         "line": {
          "color": "#8bdcbe",
          "dash": "solid",
          "width": 2
         },
         "marker": {
          "symbol": "circle"
         },
         "mode": "lines",
         "name": "pdp",
         "opacity": 1,
         "orientation": "v",
         "showlegend": true,
         "type": "scatter",
         "x": [
          0.1413094839674609,
          0.1581555090788442,
          0.17500153419022751,
          0.19184755930161085,
          0.20869358441299415,
          0.22553960952437746,
          0.2423856346357608,
          0.2592316597471441,
          0.2760776848585274,
          0.2929237099699107,
          0.309769735081294,
          0.32661576019267735,
          0.3434617853040607,
          0.36030781041544396,
          0.3771538355268273,
          0.3939998606382106,
          0.4108458857495939,
          0.42769191086097724,
          0.4445379359723605,
          0.46138396108374385,
          0.47822998619512713,
          0.49507601130651047,
          0.5119220364178938,
          0.5287680615292771,
          0.5456140866406605,
          0.5624601117520438,
          0.579306136863427,
          0.5961521619748104,
          0.6129981870861937,
          0.6298442121975769,
          0.6466902373089602,
          0.6635362624203436,
          0.6803822875317269,
          0.6972283126431102,
          0.7140743377544936,
          0.7309203628658768,
          0.7477663879772601,
          0.7646124130886435,
          0.7814584382000268,
          0.7983044633114101,
          0.8151504884227934,
          0.8319965135341767,
          0.84884253864556,
          0.8656885637569434,
          0.8825345888683267,
          0.89938061397971,
          0.9162266390910933,
          0.9330726642024766,
          0.9499186893138599,
          0.9667647144252433,
          0.9836107395366266,
          1.0004567646480098,
          1.0173027897593931,
          1.0341488148707765,
          1.0509948399821598,
          1.0678408650935431,
          1.0846868902049265,
          1.1015329153163096,
          1.118378940427693,
          1.1352249655390763,
          1.1520709906504596,
          1.168917015761843,
          1.1857630408732263,
          1.2026090659846096,
          1.219455091095993,
          1.2363011162073763,
          1.2531471413187596,
          1.269993166430143,
          1.2868391915415263,
          1.3036852166529096,
          1.3205312417642927,
          1.337377266875676,
          1.3542232919870594,
          1.3710693170984427,
          1.387915342209826,
          1.4047613673212094,
          1.4216073924325927,
          1.438453417543976,
          1.4552994426553594,
          1.4721454677667427,
          1.4889914928781258,
          1.5058375179895092,
          1.5226835431008925,
          1.5395295682122758,
          1.5563755933236592,
          1.5732216184350425,
          1.5900676435464258,
          1.6069136686578092,
          1.6237596937691925,
          1.6406057188805758,
          1.6574517439919592,
          1.6742977691033423,
          1.6911437942147256,
          1.707989819326109,
          1.7248358444374923,
          1.7416818695488756,
          1.758527894660259,
          1.7753739197716423,
          1.7922199448830256,
          1.809065969994409,
          1.825911995105792
         ],
         "xaxis": "x7",
         "y": [
          0.07604635506868362,
          0.07604635506868362,
          0.07604635506868362,
          0.07604635506868362,
          0.07604635506868362,
          0.07604635506868362,
          0.07604635506868362,
          0.07604635506868362,
          0.07604635506868362,
          0.07604635506868362,
          0.07604635506868362,
          0.07604635506868362,
          0.07604635506868362,
          0.07604635506868362,
          0.07775545120239258,
          0.07775545120239258,
          0.07775545120239258,
          0.0732543095946312,
          0.07154861837625504,
          0.07154861837625504,
          0.07154861837625504,
          0.07123943418264389,
          0.07275938242673874,
          0.07126744836568832,
          0.07049094885587692,
          0.07039467245340347,
          0.06993367522954941,
          0.07105160504579544,
          0.06969471275806427,
          0.06914198398590088,
          0.07988696545362473,
          0.08229903876781464,
          0.08418024331331253,
          0.08447928726673126,
          0.08447928726673126,
          0.08361471444368362,
          0.07935825735330582,
          0.07641427963972092,
          0.07611016184091568,
          0.07656385004520416,
          0.07708761841058731,
          0.07868297398090363,
          0.08000421524047852,
          0.07947561889886856,
          0.07380563020706177,
          0.07203088700771332,
          0.06534963846206665,
          0.0651165172457695,
          0.06672793626785278,
          0.06656050682067871,
          0.06654949486255646,
          0.06535601615905762,
          0.0660722404718399,
          0.06461407244205475,
          0.06452909857034683,
          0.06503038853406906,
          0.06655798852443695,
          0.07572328299283981,
          0.07522120326757431,
          0.07604247331619263,
          0.0742478221654892,
          0.08050070703029633,
          0.08173148334026337,
          0.07360250502824783,
          0.074668750166893,
          0.07521320134401321,
          0.07967694103717804,
          0.07905212044715881,
          0.07930169999599457,
          0.0724625363945961,
          0.07438837736845016,
          0.07340650260448456,
          0.07177368551492691,
          0.071419857442379,
          0.07427942007780075,
          0.07388997077941895,
          0.07300648093223572,
          0.07334108650684357,
          0.07590322941541672,
          0.07628074288368225,
          0.07673589885234833,
          0.07783327251672745,
          0.0874238908290863,
          0.0874238908290863,
          0.08764392882585526,
          0.08593892306089401,
          0.08730640262365341,
          0.08730640262365341,
          0.08335188776254654,
          0.08335188776254654,
          0.08335188776254654,
          0.08335188776254654,
          0.08335188776254654,
          0.08335188776254654,
          0.08335188776254654,
          0.08335188776254654,
          0.08335188776254654,
          0.08335188776254654,
          0.08335188776254654,
          0.08335188776254654,
          0.08335188776254654
         ],
         "yaxis": "y7"
        },
        {
         "customdata": [
          [
           0.08954008668661118,
           "pdp",
           "feat04"
          ],
          [
           0.08954008668661118,
           "pdp",
           "feat04"
          ],
          [
           0.08954008668661118,
           "pdp",
           "feat04"
          ],
          [
           0.08954008668661118,
           "pdp",
           "feat04"
          ],
          [
           0.08954008668661118,
           "pdp",
           "feat04"
          ],
          [
           0.08954008668661118,
           "pdp",
           "feat04"
          ],
          [
           0.08954008668661118,
           "pdp",
           "feat04"
          ],
          [
           0.08954008668661118,
           "pdp",
           "feat04"
          ],
          [
           0.08954008668661118,
           "pdp",
           "feat04"
          ],
          [
           0.08954008668661118,
           "pdp",
           "feat04"
          ],
          [
           0.08954008668661118,
           "pdp",
           "feat04"
          ],
          [
           0.08954008668661118,
           "pdp",
           "feat04"
          ],
          [
           0.08954008668661118,
           "pdp",
           "feat04"
          ],
          [
           0.08954008668661118,
           "pdp",
           "feat04"
          ],
          [
           0.08954008668661118,
           "pdp",
           "feat04"
          ],
          [
           0.08954008668661118,
           "pdp",
           "feat04"
          ],
          [
           0.08954008668661118,
           "pdp",
           "feat04"
          ],
          [
           0.08954008668661118,
           "pdp",
           "feat04"
          ],
          [
           0.08954008668661118,
           "pdp",
           "feat04"
          ],
          [
           0.08954008668661118,
           "pdp",
           "feat04"
          ],
          [
           0.08954008668661118,
           "pdp",
           "feat04"
          ],
          [
           0.08954008668661118,
           "pdp",
           "feat04"
          ],
          [
           0.08954008668661118,
           "pdp",
           "feat04"
          ],
          [
           0.08954008668661118,
           "pdp",
           "feat04"
          ],
          [
           0.08954008668661118,
           "pdp",
           "feat04"
          ],
          [
           0.08954008668661118,
           "pdp",
           "feat04"
          ],
          [
           0.08954008668661118,
           "pdp",
           "feat04"
          ],
          [
           0.08954008668661118,
           "pdp",
           "feat04"
          ],
          [
           0.08954008668661118,
           "pdp",
           "feat04"
          ],
          [
           0.08954008668661118,
           "pdp",
           "feat04"
          ],
          [
           0.08954008668661118,
           "pdp",
           "feat04"
          ],
          [
           0.08954008668661118,
           "pdp",
           "feat04"
          ],
          [
           0.08954008668661118,
           "pdp",
           "feat04"
          ],
          [
           0.08954008668661118,
           "pdp",
           "feat04"
          ],
          [
           0.08954008668661118,
           "pdp",
           "feat04"
          ],
          [
           0.08954008668661118,
           "pdp",
           "feat04"
          ],
          [
           0.08954008668661118,
           "pdp",
           "feat04"
          ],
          [
           0.08954008668661118,
           "pdp",
           "feat04"
          ],
          [
           0.08954008668661118,
           "pdp",
           "feat04"
          ],
          [
           0.08954008668661118,
           "pdp",
           "feat04"
          ],
          [
           0.08954008668661118,
           "pdp",
           "feat04"
          ],
          [
           0.08954008668661118,
           "pdp",
           "feat04"
          ],
          [
           0.08954008668661118,
           "pdp",
           "feat04"
          ],
          [
           0.08954008668661118,
           "pdp",
           "feat04"
          ],
          [
           0.08954008668661118,
           "pdp",
           "feat04"
          ],
          [
           0.08954008668661118,
           "pdp",
           "feat04"
          ],
          [
           0.08954008668661118,
           "pdp",
           "feat04"
          ],
          [
           0.08954008668661118,
           "pdp",
           "feat04"
          ],
          [
           0.08954008668661118,
           "pdp",
           "feat04"
          ],
          [
           0.08954008668661118,
           "pdp",
           "feat04"
          ],
          [
           0.08954008668661118,
           "pdp",
           "feat04"
          ],
          [
           0.08954008668661118,
           "pdp",
           "feat04"
          ],
          [
           0.08954008668661118,
           "pdp",
           "feat04"
          ],
          [
           0.08954008668661118,
           "pdp",
           "feat04"
          ],
          [
           0.08954008668661118,
           "pdp",
           "feat04"
          ],
          [
           0.08954008668661118,
           "pdp",
           "feat04"
          ],
          [
           0.08954008668661118,
           "pdp",
           "feat04"
          ],
          [
           0.08954008668661118,
           "pdp",
           "feat04"
          ],
          [
           0.08954008668661118,
           "pdp",
           "feat04"
          ],
          [
           0.08954008668661118,
           "pdp",
           "feat04"
          ],
          [
           0.08954008668661118,
           "pdp",
           "feat04"
          ],
          [
           0.08954008668661118,
           "pdp",
           "feat04"
          ],
          [
           0.08954008668661118,
           "pdp",
           "feat04"
          ],
          [
           0.08954008668661118,
           "pdp",
           "feat04"
          ],
          [
           0.08954008668661118,
           "pdp",
           "feat04"
          ],
          [
           0.08954008668661118,
           "pdp",
           "feat04"
          ],
          [
           0.08954008668661118,
           "pdp",
           "feat04"
          ],
          [
           0.08954008668661118,
           "pdp",
           "feat04"
          ],
          [
           0.08954008668661118,
           "pdp",
           "feat04"
          ],
          [
           0.08954008668661118,
           "pdp",
           "feat04"
          ],
          [
           0.08954008668661118,
           "pdp",
           "feat04"
          ],
          [
           0.08954008668661118,
           "pdp",
           "feat04"
          ],
          [
           0.08954008668661118,
           "pdp",
           "feat04"
          ],
          [
           0.08954008668661118,
           "pdp",
           "feat04"
          ],
          [
           0.08954008668661118,
           "pdp",
           "feat04"
          ],
          [
           0.08954008668661118,
           "pdp",
           "feat04"
          ],
          [
           0.08954008668661118,
           "pdp",
           "feat04"
          ],
          [
           0.08954008668661118,
           "pdp",
           "feat04"
          ],
          [
           0.08954008668661118,
           "pdp",
           "feat04"
          ],
          [
           0.08954008668661118,
           "pdp",
           "feat04"
          ],
          [
           0.08954008668661118,
           "pdp",
           "feat04"
          ],
          [
           0.08954008668661118,
           "pdp",
           "feat04"
          ],
          [
           0.08954008668661118,
           "pdp",
           "feat04"
          ],
          [
           0.08954008668661118,
           "pdp",
           "feat04"
          ],
          [
           0.08954008668661118,
           "pdp",
           "feat04"
          ],
          [
           0.08954008668661118,
           "pdp",
           "feat04"
          ],
          [
           0.08954008668661118,
           "pdp",
           "feat04"
          ],
          [
           0.08954008668661118,
           "pdp",
           "feat04"
          ],
          [
           0.08954008668661118,
           "pdp",
           "feat04"
          ],
          [
           0.08954008668661118,
           "pdp",
           "feat04"
          ],
          [
           0.08954008668661118,
           "pdp",
           "feat04"
          ],
          [
           0.08954008668661118,
           "pdp",
           "feat04"
          ],
          [
           0.08954008668661118,
           "pdp",
           "feat04"
          ],
          [
           0.08954008668661118,
           "pdp",
           "feat04"
          ],
          [
           0.08954008668661118,
           "pdp",
           "feat04"
          ],
          [
           0.08954008668661118,
           "pdp",
           "feat04"
          ],
          [
           0.08954008668661118,
           "pdp",
           "feat04"
          ],
          [
           0.08954008668661118,
           "pdp",
           "feat04"
          ],
          [
           0.08954008668661118,
           "pdp",
           "feat04"
          ],
          [
           0.08954008668661118,
           "pdp",
           "feat04"
          ],
          [
           0.08954008668661118,
           "pdp",
           "feat04"
          ]
         ],
         "hovertemplate": "<b>%{hovertext}</b><br><br>prediction=%{y:.3f}<br>mean_prediction=%{customdata[0]:.3f}<extra></extra>",
         "hovertext": [
          "pdp",
          "pdp",
          "pdp",
          "pdp",
          "pdp",
          "pdp",
          "pdp",
          "pdp",
          "pdp",
          "pdp",
          "pdp",
          "pdp",
          "pdp",
          "pdp",
          "pdp",
          "pdp",
          "pdp",
          "pdp",
          "pdp",
          "pdp",
          "pdp",
          "pdp",
          "pdp",
          "pdp",
          "pdp",
          "pdp",
          "pdp",
          "pdp",
          "pdp",
          "pdp",
          "pdp",
          "pdp",
          "pdp",
          "pdp",
          "pdp",
          "pdp",
          "pdp",
          "pdp",
          "pdp",
          "pdp",
          "pdp",
          "pdp",
          "pdp",
          "pdp",
          "pdp",
          "pdp",
          "pdp",
          "pdp",
          "pdp",
          "pdp",
          "pdp",
          "pdp",
          "pdp",
          "pdp",
          "pdp",
          "pdp",
          "pdp",
          "pdp",
          "pdp",
          "pdp",
          "pdp",
          "pdp",
          "pdp",
          "pdp",
          "pdp",
          "pdp",
          "pdp",
          "pdp",
          "pdp",
          "pdp",
          "pdp",
          "pdp",
          "pdp",
          "pdp",
          "pdp",
          "pdp",
          "pdp",
          "pdp",
          "pdp",
          "pdp",
          "pdp",
          "pdp",
          "pdp",
          "pdp",
          "pdp",
          "pdp",
          "pdp",
          "pdp",
          "pdp",
          "pdp",
          "pdp",
          "pdp",
          "pdp",
          "pdp",
          "pdp",
          "pdp",
          "pdp",
          "pdp",
          "pdp",
          "pdp",
          "pdp"
         ],
         "legendgroup": "pdp",
         "line": {
          "color": "#8bdcbe",
          "dash": "solid",
          "width": 2
         },
         "marker": {
          "symbol": "circle"
         },
         "mode": "lines",
         "name": "pdp",
         "opacity": 1,
         "orientation": "v",
         "showlegend": false,
         "type": "scatter",
         "x": [
          0.0596270794048905,
          0.07695500652386546,
          0.0942829336428404,
          0.11161086076181537,
          0.12893878788079033,
          0.1462667149997653,
          0.16359464211874022,
          0.1809225692377152,
          0.19825049635669015,
          0.2155784234756651,
          0.23290635059464007,
          0.250234277713615,
          0.26756220483258997,
          0.28489013195156493,
          0.30221805907053984,
          0.3195459861895148,
          0.33687391330848976,
          0.3542018404274647,
          0.3715297675464397,
          0.38885769466541464,
          0.4061856217843896,
          0.4235135489033645,
          0.4408414760223395,
          0.45816940314131444,
          0.4754973302602894,
          0.49282525737926436,
          0.5101531844982393,
          0.5274811116172143,
          0.5448090387361892,
          0.5621369658551643,
          0.5794648929741392,
          0.5967928200931142,
          0.6141207472120891,
          0.631448674331064,
          0.648776601450039,
          0.6661045285690139,
          0.6834324556879889,
          0.7007603828069638,
          0.7180883099259389,
          0.7354162370449138,
          0.7527441641638888,
          0.7700720912828637,
          0.7874000184018386,
          0.8047279455208136,
          0.8220558726397885,
          0.8393837997587635,
          0.8567117268777384,
          0.8740396539967135,
          0.8913675811156884,
          0.9086955082346633,
          0.9260234353536383,
          0.9433513624726132,
          0.9606792895915882,
          0.9780072167105631,
          0.9953351438295381,
          1.012663070948513,
          1.029990998067488,
          1.047318925186463,
          1.064646852305438,
          1.0819747794244128,
          1.0993027065433878,
          1.1166306336623628,
          1.1339585607813378,
          1.1512864879003126,
          1.1686144150192876,
          1.1859423421382627,
          1.2032702692572375,
          1.2205981963762125,
          1.2379261234951875,
          1.2552540506141625,
          1.2725819777331373,
          1.2899099048521123,
          1.3072378319710873,
          1.3245657590900621,
          1.3418936862090372,
          1.3592216133280122,
          1.3765495404469872,
          1.393877467565962,
          1.411205394684937,
          1.428533321803912,
          1.445861248922887,
          1.4631891760418618,
          1.4805171031608368,
          1.4978450302798119,
          1.5151729573987867,
          1.5325008845177617,
          1.5498288116367367,
          1.5671567387557117,
          1.5844846658746865,
          1.6018125929936615,
          1.6191405201126365,
          1.6364684472316113,
          1.6537963743505864,
          1.6711243014695614,
          1.6884522285885364,
          1.7057801557075112,
          1.7231080828264862,
          1.7404360099454612,
          1.757763937064436,
          1.775091864183411,
          1.792419791302386
         ],
         "xaxis": "x8",
         "y": [
          0.07835779339075089,
          0.07835779339075089,
          0.07835779339075089,
          0.07835779339075089,
          0.07835779339075089,
          0.07835779339075089,
          0.07835779339075089,
          0.07835779339075089,
          0.07835779339075089,
          0.07835779339075089,
          0.07835779339075089,
          0.07835779339075089,
          0.07835779339075089,
          0.07835779339075089,
          0.07835779339075089,
          0.07643527537584305,
          0.07643527537584305,
          0.07643527537584305,
          0.07643527537584305,
          0.07465243339538574,
          0.06990443170070648,
          0.06212589144706726,
          0.06212589144706726,
          0.06212589144706726,
          0.06116514280438423,
          0.06116514280438423,
          0.06462118029594421,
          0.0716552659869194,
          0.07425832003355026,
          0.07353084534406662,
          0.07739090919494629,
          0.0761609822511673,
          0.0774155929684639,
          0.07198584079742432,
          0.07223262637853622,
          0.07956650108098984,
          0.07989221811294556,
          0.07859624177217484,
          0.07794246822595596,
          0.07983732968568802,
          0.0793885588645935,
          0.07985086739063263,
          0.08077094703912735,
          0.08154936879873276,
          0.08144884556531906,
          0.08582096546888351,
          0.08601483702659607,
          0.08740945905447006,
          0.08604919165372849,
          0.09109209477901459,
          0.09388982504606247,
          0.09616146981716156,
          0.09471385926008224,
          0.08820538222789764,
          0.07804059982299805,
          0.0735231414437294,
          0.0740213617682457,
          0.07700731605291367,
          0.07573144137859344,
          0.07061924040317535,
          0.07234928756952286,
          0.0726313516497612,
          0.07280977815389633,
          0.07338389754295349,
          0.07293162494897842,
          0.07151292264461517,
          0.07217364013195038,
          0.07339579612016678,
          0.07836215198040009,
          0.07577922195196152,
          0.07444674521684647,
          0.08479142934083939,
          0.08586983382701874,
          0.07631483674049377,
          0.07692986726760864,
          0.07698146998882294,
          0.07680186629295349,
          0.07741453498601913,
          0.0792749673128128,
          0.08218526840209961,
          0.08218526840209961,
          0.0833725854754448,
          0.08390211313962936,
          0.08390211313962936,
          0.08186530321836472,
          0.08186530321836472,
          0.08196717500686646,
          0.08036084473133087,
          0.08036084473133087,
          0.08206135034561157,
          0.08206135034561157,
          0.08206135034561157,
          0.08206135034561157,
          0.08206135034561157,
          0.08206135034561157,
          0.08206135034561157,
          0.08206135034561157,
          0.08206135034561157,
          0.08206135034561157,
          0.08206135034561157,
          0.08206135034561157
         ],
         "yaxis": "y8"
        },
        {
         "customdata": [
          [
           0.08954008668661118,
           "pdp",
           "feat06"
          ],
          [
           0.08954008668661118,
           "pdp",
           "feat06"
          ],
          [
           0.08954008668661118,
           "pdp",
           "feat06"
          ],
          [
           0.08954008668661118,
           "pdp",
           "feat06"
          ],
          [
           0.08954008668661118,
           "pdp",
           "feat06"
          ],
          [
           0.08954008668661118,
           "pdp",
           "feat06"
          ],
          [
           0.08954008668661118,
           "pdp",
           "feat06"
          ],
          [
           0.08954008668661118,
           "pdp",
           "feat06"
          ],
          [
           0.08954008668661118,
           "pdp",
           "feat06"
          ],
          [
           0.08954008668661118,
           "pdp",
           "feat06"
          ],
          [
           0.08954008668661118,
           "pdp",
           "feat06"
          ],
          [
           0.08954008668661118,
           "pdp",
           "feat06"
          ],
          [
           0.08954008668661118,
           "pdp",
           "feat06"
          ],
          [
           0.08954008668661118,
           "pdp",
           "feat06"
          ],
          [
           0.08954008668661118,
           "pdp",
           "feat06"
          ],
          [
           0.08954008668661118,
           "pdp",
           "feat06"
          ],
          [
           0.08954008668661118,
           "pdp",
           "feat06"
          ],
          [
           0.08954008668661118,
           "pdp",
           "feat06"
          ],
          [
           0.08954008668661118,
           "pdp",
           "feat06"
          ],
          [
           0.08954008668661118,
           "pdp",
           "feat06"
          ],
          [
           0.08954008668661118,
           "pdp",
           "feat06"
          ],
          [
           0.08954008668661118,
           "pdp",
           "feat06"
          ],
          [
           0.08954008668661118,
           "pdp",
           "feat06"
          ],
          [
           0.08954008668661118,
           "pdp",
           "feat06"
          ],
          [
           0.08954008668661118,
           "pdp",
           "feat06"
          ],
          [
           0.08954008668661118,
           "pdp",
           "feat06"
          ],
          [
           0.08954008668661118,
           "pdp",
           "feat06"
          ],
          [
           0.08954008668661118,
           "pdp",
           "feat06"
          ],
          [
           0.08954008668661118,
           "pdp",
           "feat06"
          ],
          [
           0.08954008668661118,
           "pdp",
           "feat06"
          ],
          [
           0.08954008668661118,
           "pdp",
           "feat06"
          ],
          [
           0.08954008668661118,
           "pdp",
           "feat06"
          ],
          [
           0.08954008668661118,
           "pdp",
           "feat06"
          ],
          [
           0.08954008668661118,
           "pdp",
           "feat06"
          ],
          [
           0.08954008668661118,
           "pdp",
           "feat06"
          ],
          [
           0.08954008668661118,
           "pdp",
           "feat06"
          ],
          [
           0.08954008668661118,
           "pdp",
           "feat06"
          ],
          [
           0.08954008668661118,
           "pdp",
           "feat06"
          ],
          [
           0.08954008668661118,
           "pdp",
           "feat06"
          ],
          [
           0.08954008668661118,
           "pdp",
           "feat06"
          ],
          [
           0.08954008668661118,
           "pdp",
           "feat06"
          ],
          [
           0.08954008668661118,
           "pdp",
           "feat06"
          ],
          [
           0.08954008668661118,
           "pdp",
           "feat06"
          ],
          [
           0.08954008668661118,
           "pdp",
           "feat06"
          ],
          [
           0.08954008668661118,
           "pdp",
           "feat06"
          ],
          [
           0.08954008668661118,
           "pdp",
           "feat06"
          ],
          [
           0.08954008668661118,
           "pdp",
           "feat06"
          ],
          [
           0.08954008668661118,
           "pdp",
           "feat06"
          ],
          [
           0.08954008668661118,
           "pdp",
           "feat06"
          ],
          [
           0.08954008668661118,
           "pdp",
           "feat06"
          ],
          [
           0.08954008668661118,
           "pdp",
           "feat06"
          ],
          [
           0.08954008668661118,
           "pdp",
           "feat06"
          ],
          [
           0.08954008668661118,
           "pdp",
           "feat06"
          ],
          [
           0.08954008668661118,
           "pdp",
           "feat06"
          ],
          [
           0.08954008668661118,
           "pdp",
           "feat06"
          ],
          [
           0.08954008668661118,
           "pdp",
           "feat06"
          ],
          [
           0.08954008668661118,
           "pdp",
           "feat06"
          ],
          [
           0.08954008668661118,
           "pdp",
           "feat06"
          ],
          [
           0.08954008668661118,
           "pdp",
           "feat06"
          ],
          [
           0.08954008668661118,
           "pdp",
           "feat06"
          ],
          [
           0.08954008668661118,
           "pdp",
           "feat06"
          ],
          [
           0.08954008668661118,
           "pdp",
           "feat06"
          ],
          [
           0.08954008668661118,
           "pdp",
           "feat06"
          ],
          [
           0.08954008668661118,
           "pdp",
           "feat06"
          ],
          [
           0.08954008668661118,
           "pdp",
           "feat06"
          ],
          [
           0.08954008668661118,
           "pdp",
           "feat06"
          ],
          [
           0.08954008668661118,
           "pdp",
           "feat06"
          ],
          [
           0.08954008668661118,
           "pdp",
           "feat06"
          ],
          [
           0.08954008668661118,
           "pdp",
           "feat06"
          ],
          [
           0.08954008668661118,
           "pdp",
           "feat06"
          ],
          [
           0.08954008668661118,
           "pdp",
           "feat06"
          ],
          [
           0.08954008668661118,
           "pdp",
           "feat06"
          ],
          [
           0.08954008668661118,
           "pdp",
           "feat06"
          ],
          [
           0.08954008668661118,
           "pdp",
           "feat06"
          ],
          [
           0.08954008668661118,
           "pdp",
           "feat06"
          ],
          [
           0.08954008668661118,
           "pdp",
           "feat06"
          ],
          [
           0.08954008668661118,
           "pdp",
           "feat06"
          ],
          [
           0.08954008668661118,
           "pdp",
           "feat06"
          ],
          [
           0.08954008668661118,
           "pdp",
           "feat06"
          ],
          [
           0.08954008668661118,
           "pdp",
           "feat06"
          ],
          [
           0.08954008668661118,
           "pdp",
           "feat06"
          ],
          [
           0.08954008668661118,
           "pdp",
           "feat06"
          ],
          [
           0.08954008668661118,
           "pdp",
           "feat06"
          ],
          [
           0.08954008668661118,
           "pdp",
           "feat06"
          ],
          [
           0.08954008668661118,
           "pdp",
           "feat06"
          ],
          [
           0.08954008668661118,
           "pdp",
           "feat06"
          ],
          [
           0.08954008668661118,
           "pdp",
           "feat06"
          ],
          [
           0.08954008668661118,
           "pdp",
           "feat06"
          ],
          [
           0.08954008668661118,
           "pdp",
           "feat06"
          ],
          [
           0.08954008668661118,
           "pdp",
           "feat06"
          ],
          [
           0.08954008668661118,
           "pdp",
           "feat06"
          ],
          [
           0.08954008668661118,
           "pdp",
           "feat06"
          ],
          [
           0.08954008668661118,
           "pdp",
           "feat06"
          ],
          [
           0.08954008668661118,
           "pdp",
           "feat06"
          ],
          [
           0.08954008668661118,
           "pdp",
           "feat06"
          ],
          [
           0.08954008668661118,
           "pdp",
           "feat06"
          ],
          [
           0.08954008668661118,
           "pdp",
           "feat06"
          ],
          [
           0.08954008668661118,
           "pdp",
           "feat06"
          ],
          [
           0.08954008668661118,
           "pdp",
           "feat06"
          ],
          [
           0.08954008668661118,
           "pdp",
           "feat06"
          ],
          [
           0.08954008668661118,
           "pdp",
           "feat06"
          ]
         ],
         "hovertemplate": "<b>%{hovertext}</b><br><br>prediction=%{y:.3f}<br>mean_prediction=%{customdata[0]:.3f}<extra></extra>",
         "hovertext": [
          "pdp",
          "pdp",
          "pdp",
          "pdp",
          "pdp",
          "pdp",
          "pdp",
          "pdp",
          "pdp",
          "pdp",
          "pdp",
          "pdp",
          "pdp",
          "pdp",
          "pdp",
          "pdp",
          "pdp",
          "pdp",
          "pdp",
          "pdp",
          "pdp",
          "pdp",
          "pdp",
          "pdp",
          "pdp",
          "pdp",
          "pdp",
          "pdp",
          "pdp",
          "pdp",
          "pdp",
          "pdp",
          "pdp",
          "pdp",
          "pdp",
          "pdp",
          "pdp",
          "pdp",
          "pdp",
          "pdp",
          "pdp",
          "pdp",
          "pdp",
          "pdp",
          "pdp",
          "pdp",
          "pdp",
          "pdp",
          "pdp",
          "pdp",
          "pdp",
          "pdp",
          "pdp",
          "pdp",
          "pdp",
          "pdp",
          "pdp",
          "pdp",
          "pdp",
          "pdp",
          "pdp",
          "pdp",
          "pdp",
          "pdp",
          "pdp",
          "pdp",
          "pdp",
          "pdp",
          "pdp",
          "pdp",
          "pdp",
          "pdp",
          "pdp",
          "pdp",
          "pdp",
          "pdp",
          "pdp",
          "pdp",
          "pdp",
          "pdp",
          "pdp",
          "pdp",
          "pdp",
          "pdp",
          "pdp",
          "pdp",
          "pdp",
          "pdp",
          "pdp",
          "pdp",
          "pdp",
          "pdp",
          "pdp",
          "pdp",
          "pdp",
          "pdp",
          "pdp",
          "pdp",
          "pdp",
          "pdp",
          "pdp"
         ],
         "legendgroup": "pdp",
         "line": {
          "color": "#8bdcbe",
          "dash": "solid",
          "width": 2
         },
         "marker": {
          "symbol": "circle"
         },
         "mode": "lines",
         "name": "pdp",
         "opacity": 1,
         "orientation": "v",
         "showlegend": false,
         "type": "scatter",
         "x": [
          0.0205924851590005,
          0.038912129315667746,
          0.05723177347233499,
          0.07555141762900223,
          0.09387106178566948,
          0.11219070594233672,
          0.13051035009900397,
          0.1488299942556712,
          0.16714963841233846,
          0.18546928256900572,
          0.20378892672567295,
          0.22210857088234018,
          0.24042821503900744,
          0.25874785919567467,
          0.27706750335234187,
          0.2953871475090092,
          0.3137067916656764,
          0.3320264358223437,
          0.3503460799790109,
          0.3686657241356781,
          0.3869853682923454,
          0.4053050124490126,
          0.42362465660567983,
          0.44194430076234714,
          0.46026394491901435,
          0.47858358907568166,
          0.49690323323234886,
          0.5152228773890161,
          0.5335425215456833,
          0.5518621657023506,
          0.5701818098590178,
          0.5885014540156851,
          0.6068210981723523,
          0.6251407423290195,
          0.6434603864856868,
          0.661780030642354,
          0.6800996747990213,
          0.6984193189556885,
          0.7167389631123557,
          0.7350586072690231,
          0.7533782514256903,
          0.7716978955823575,
          0.7900175397390248,
          0.808337183895692,
          0.8266568280523592,
          0.8449764722090265,
          0.8632961163656937,
          0.881615760522361,
          0.8999354046790282,
          0.9182550488356954,
          0.9365746929923627,
          0.9548943371490299,
          0.9732139813056973,
          0.9915336254623645,
          1.0098532696190317,
          1.028172913775699,
          1.046492557932366,
          1.0648122020890334,
          1.0831318462457007,
          1.101451490402368,
          1.119771134559035,
          1.1380907787157024,
          1.1564104228723697,
          1.1747300670290368,
          1.1930497111857041,
          1.2113693553423714,
          1.2296889994990385,
          1.2480086436557059,
          1.2663282878123732,
          1.2846479319690403,
          1.3029675761257076,
          1.3212872202823749,
          1.3396068644390422,
          1.3579265085957093,
          1.3762461527523766,
          1.394565796909044,
          1.412885441065711,
          1.4312050852223783,
          1.4495247293790456,
          1.4678443735357127,
          1.48616401769238,
          1.5044836618490474,
          1.5228033060057145,
          1.5411229501623818,
          1.559442594319049,
          1.5777622384757162,
          1.5960818826323835,
          1.6144015267890508,
          1.632721170945718,
          1.6510408151023852,
          1.6693604592590525,
          1.6876801034157198,
          1.705999747572387,
          1.7243193917290542,
          1.7426390358857216,
          1.7609586800423886,
          1.779278324199056,
          1.7975979683557233,
          1.8159176125123904,
          1.8342372566690577,
          1.8525569008257248
         ],
         "xaxis": "x5",
         "y": [
          0.06711236387491226,
          0.06711236387491226,
          0.06711236387491226,
          0.06711236387491226,
          0.06711236387491226,
          0.06711236387491226,
          0.06711236387491226,
          0.06711236387491226,
          0.06711236387491226,
          0.06711236387491226,
          0.06711236387491226,
          0.06711236387491226,
          0.06711236387491226,
          0.06665349006652832,
          0.06665349006652832,
          0.06665349006652832,
          0.06665349006652832,
          0.06665349006652832,
          0.06665349006652832,
          0.06665349006652832,
          0.07112400233745575,
          0.07112400233745575,
          0.07112400233745575,
          0.07112400233745575,
          0.07112400233745575,
          0.07361637055873871,
          0.07560823112726212,
          0.07671289145946503,
          0.07628719508647919,
          0.07948068529367447,
          0.08194248378276825,
          0.08183704316616058,
          0.08383313566446304,
          0.0893462598323822,
          0.08995754271745682,
          0.09267301857471466,
          0.08888652920722961,
          0.08428487181663513,
          0.078201062977314,
          0.0862586498260498,
          0.1018960177898407,
          0.09561473876237869,
          0.09626883268356323,
          0.10886170715093613,
          0.09175360202789307,
          0.08811599761247635,
          0.08496364951133728,
          0.0813126340508461,
          0.08125896751880646,
          0.08406805247068405,
          0.0857909545302391,
          0.08390702307224274,
          0.08183581382036209,
          0.08195605874061584,
          0.08149673789739609,
          0.08669807761907578,
          0.08747711032629013,
          0.0885668620467186,
          0.08771907538175583,
          0.08808550238609314,
          0.08829854428768158,
          0.08695292472839355,
          0.08616506308317184,
          0.07815618813037872,
          0.0754009485244751,
          0.07492616772651672,
          0.07493074238300323,
          0.07787524908781052,
          0.08119507879018784,
          0.08410537242889404,
          0.0821811631321907,
          0.08322561532258987,
          0.08233096450567245,
          0.0834604799747467,
          0.0666331797838211,
          0.06287221610546112,
          0.06287221610546112,
          0.06894362717866898,
          0.08036341518163681,
          0.07990425080060959,
          0.08121137320995331,
          0.07207898795604706,
          0.07207898795604706,
          0.07207898795604706,
          0.07207898795604706,
          0.07207898795604706,
          0.07207898795604706,
          0.07207898795604706,
          0.07207898795604706,
          0.07207898795604706,
          0.07207898795604706,
          0.07207898795604706,
          0.07207898795604706,
          0.07207898795604706,
          0.07207898795604706,
          0.07207898795604706,
          0.07207898795604706,
          0.07207898795604706,
          0.07207898795604706,
          0.07207898795604706,
          0.07207898795604706
         ],
         "yaxis": "y5"
        },
        {
         "customdata": [
          [
           0.08954008668661118,
           "pdp",
           "feat07"
          ],
          [
           0.08954008668661118,
           "pdp",
           "feat07"
          ],
          [
           0.08954008668661118,
           "pdp",
           "feat07"
          ],
          [
           0.08954008668661118,
           "pdp",
           "feat07"
          ],
          [
           0.08954008668661118,
           "pdp",
           "feat07"
          ],
          [
           0.08954008668661118,
           "pdp",
           "feat07"
          ],
          [
           0.08954008668661118,
           "pdp",
           "feat07"
          ],
          [
           0.08954008668661118,
           "pdp",
           "feat07"
          ],
          [
           0.08954008668661118,
           "pdp",
           "feat07"
          ],
          [
           0.08954008668661118,
           "pdp",
           "feat07"
          ],
          [
           0.08954008668661118,
           "pdp",
           "feat07"
          ],
          [
           0.08954008668661118,
           "pdp",
           "feat07"
          ],
          [
           0.08954008668661118,
           "pdp",
           "feat07"
          ],
          [
           0.08954008668661118,
           "pdp",
           "feat07"
          ],
          [
           0.08954008668661118,
           "pdp",
           "feat07"
          ],
          [
           0.08954008668661118,
           "pdp",
           "feat07"
          ],
          [
           0.08954008668661118,
           "pdp",
           "feat07"
          ],
          [
           0.08954008668661118,
           "pdp",
           "feat07"
          ],
          [
           0.08954008668661118,
           "pdp",
           "feat07"
          ],
          [
           0.08954008668661118,
           "pdp",
           "feat07"
          ],
          [
           0.08954008668661118,
           "pdp",
           "feat07"
          ],
          [
           0.08954008668661118,
           "pdp",
           "feat07"
          ],
          [
           0.08954008668661118,
           "pdp",
           "feat07"
          ],
          [
           0.08954008668661118,
           "pdp",
           "feat07"
          ],
          [
           0.08954008668661118,
           "pdp",
           "feat07"
          ],
          [
           0.08954008668661118,
           "pdp",
           "feat07"
          ],
          [
           0.08954008668661118,
           "pdp",
           "feat07"
          ],
          [
           0.08954008668661118,
           "pdp",
           "feat07"
          ],
          [
           0.08954008668661118,
           "pdp",
           "feat07"
          ],
          [
           0.08954008668661118,
           "pdp",
           "feat07"
          ],
          [
           0.08954008668661118,
           "pdp",
           "feat07"
          ],
          [
           0.08954008668661118,
           "pdp",
           "feat07"
          ],
          [
           0.08954008668661118,
           "pdp",
           "feat07"
          ],
          [
           0.08954008668661118,
           "pdp",
           "feat07"
          ],
          [
           0.08954008668661118,
           "pdp",
           "feat07"
          ],
          [
           0.08954008668661118,
           "pdp",
           "feat07"
          ],
          [
           0.08954008668661118,
           "pdp",
           "feat07"
          ],
          [
           0.08954008668661118,
           "pdp",
           "feat07"
          ],
          [
           0.08954008668661118,
           "pdp",
           "feat07"
          ],
          [
           0.08954008668661118,
           "pdp",
           "feat07"
          ],
          [
           0.08954008668661118,
           "pdp",
           "feat07"
          ],
          [
           0.08954008668661118,
           "pdp",
           "feat07"
          ],
          [
           0.08954008668661118,
           "pdp",
           "feat07"
          ],
          [
           0.08954008668661118,
           "pdp",
           "feat07"
          ],
          [
           0.08954008668661118,
           "pdp",
           "feat07"
          ],
          [
           0.08954008668661118,
           "pdp",
           "feat07"
          ],
          [
           0.08954008668661118,
           "pdp",
           "feat07"
          ],
          [
           0.08954008668661118,
           "pdp",
           "feat07"
          ],
          [
           0.08954008668661118,
           "pdp",
           "feat07"
          ],
          [
           0.08954008668661118,
           "pdp",
           "feat07"
          ],
          [
           0.08954008668661118,
           "pdp",
           "feat07"
          ],
          [
           0.08954008668661118,
           "pdp",
           "feat07"
          ],
          [
           0.08954008668661118,
           "pdp",
           "feat07"
          ],
          [
           0.08954008668661118,
           "pdp",
           "feat07"
          ],
          [
           0.08954008668661118,
           "pdp",
           "feat07"
          ],
          [
           0.08954008668661118,
           "pdp",
           "feat07"
          ],
          [
           0.08954008668661118,
           "pdp",
           "feat07"
          ],
          [
           0.08954008668661118,
           "pdp",
           "feat07"
          ],
          [
           0.08954008668661118,
           "pdp",
           "feat07"
          ],
          [
           0.08954008668661118,
           "pdp",
           "feat07"
          ],
          [
           0.08954008668661118,
           "pdp",
           "feat07"
          ],
          [
           0.08954008668661118,
           "pdp",
           "feat07"
          ],
          [
           0.08954008668661118,
           "pdp",
           "feat07"
          ],
          [
           0.08954008668661118,
           "pdp",
           "feat07"
          ],
          [
           0.08954008668661118,
           "pdp",
           "feat07"
          ],
          [
           0.08954008668661118,
           "pdp",
           "feat07"
          ],
          [
           0.08954008668661118,
           "pdp",
           "feat07"
          ],
          [
           0.08954008668661118,
           "pdp",
           "feat07"
          ],
          [
           0.08954008668661118,
           "pdp",
           "feat07"
          ],
          [
           0.08954008668661118,
           "pdp",
           "feat07"
          ],
          [
           0.08954008668661118,
           "pdp",
           "feat07"
          ],
          [
           0.08954008668661118,
           "pdp",
           "feat07"
          ],
          [
           0.08954008668661118,
           "pdp",
           "feat07"
          ],
          [
           0.08954008668661118,
           "pdp",
           "feat07"
          ],
          [
           0.08954008668661118,
           "pdp",
           "feat07"
          ],
          [
           0.08954008668661118,
           "pdp",
           "feat07"
          ],
          [
           0.08954008668661118,
           "pdp",
           "feat07"
          ],
          [
           0.08954008668661118,
           "pdp",
           "feat07"
          ],
          [
           0.08954008668661118,
           "pdp",
           "feat07"
          ],
          [
           0.08954008668661118,
           "pdp",
           "feat07"
          ],
          [
           0.08954008668661118,
           "pdp",
           "feat07"
          ],
          [
           0.08954008668661118,
           "pdp",
           "feat07"
          ],
          [
           0.08954008668661118,
           "pdp",
           "feat07"
          ],
          [
           0.08954008668661118,
           "pdp",
           "feat07"
          ],
          [
           0.08954008668661118,
           "pdp",
           "feat07"
          ],
          [
           0.08954008668661118,
           "pdp",
           "feat07"
          ],
          [
           0.08954008668661118,
           "pdp",
           "feat07"
          ],
          [
           0.08954008668661118,
           "pdp",
           "feat07"
          ],
          [
           0.08954008668661118,
           "pdp",
           "feat07"
          ],
          [
           0.08954008668661118,
           "pdp",
           "feat07"
          ],
          [
           0.08954008668661118,
           "pdp",
           "feat07"
          ],
          [
           0.08954008668661118,
           "pdp",
           "feat07"
          ],
          [
           0.08954008668661118,
           "pdp",
           "feat07"
          ],
          [
           0.08954008668661118,
           "pdp",
           "feat07"
          ],
          [
           0.08954008668661118,
           "pdp",
           "feat07"
          ],
          [
           0.08954008668661118,
           "pdp",
           "feat07"
          ],
          [
           0.08954008668661118,
           "pdp",
           "feat07"
          ],
          [
           0.08954008668661118,
           "pdp",
           "feat07"
          ],
          [
           0.08954008668661118,
           "pdp",
           "feat07"
          ],
          [
           0.08954008668661118,
           "pdp",
           "feat07"
          ],
          [
           0.08954008668661118,
           "pdp",
           "feat07"
          ]
         ],
         "hovertemplate": "<b>%{hovertext}</b><br><br>prediction=%{y:.3f}<br>mean_prediction=%{customdata[0]:.3f}<extra></extra>",
         "hovertext": [
          "pdp",
          "pdp",
          "pdp",
          "pdp",
          "pdp",
          "pdp",
          "pdp",
          "pdp",
          "pdp",
          "pdp",
          "pdp",
          "pdp",
          "pdp",
          "pdp",
          "pdp",
          "pdp",
          "pdp",
          "pdp",
          "pdp",
          "pdp",
          "pdp",
          "pdp",
          "pdp",
          "pdp",
          "pdp",
          "pdp",
          "pdp",
          "pdp",
          "pdp",
          "pdp",
          "pdp",
          "pdp",
          "pdp",
          "pdp",
          "pdp",
          "pdp",
          "pdp",
          "pdp",
          "pdp",
          "pdp",
          "pdp",
          "pdp",
          "pdp",
          "pdp",
          "pdp",
          "pdp",
          "pdp",
          "pdp",
          "pdp",
          "pdp",
          "pdp",
          "pdp",
          "pdp",
          "pdp",
          "pdp",
          "pdp",
          "pdp",
          "pdp",
          "pdp",
          "pdp",
          "pdp",
          "pdp",
          "pdp",
          "pdp",
          "pdp",
          "pdp",
          "pdp",
          "pdp",
          "pdp",
          "pdp",
          "pdp",
          "pdp",
          "pdp",
          "pdp",
          "pdp",
          "pdp",
          "pdp",
          "pdp",
          "pdp",
          "pdp",
          "pdp",
          "pdp",
          "pdp",
          "pdp",
          "pdp",
          "pdp",
          "pdp",
          "pdp",
          "pdp",
          "pdp",
          "pdp",
          "pdp",
          "pdp",
          "pdp",
          "pdp",
          "pdp",
          "pdp",
          "pdp",
          "pdp",
          "pdp",
          "pdp"
         ],
         "legendgroup": "pdp",
         "line": {
          "color": "#8bdcbe",
          "dash": "solid",
          "width": 2
         },
         "marker": {
          "symbol": "circle"
         },
         "mode": "lines",
         "name": "pdp",
         "opacity": 1,
         "orientation": "v",
         "showlegend": false,
         "type": "scatter",
         "x": [
          0.1056341687554374,
          0.12312707081454449,
          0.14061997287365158,
          0.15811287493275866,
          0.17560577699186578,
          0.1930986790509729,
          0.21059158111007997,
          0.22808448316918706,
          0.24557738522829414,
          0.2630702872874012,
          0.28056318934650837,
          0.29805609140561545,
          0.31554899346472254,
          0.3330418955238296,
          0.3505347975829367,
          0.36802769964204385,
          0.38552060170115093,
          0.403013503760258,
          0.4205064058193651,
          0.43799930787847224,
          0.45549220993757933,
          0.4729851119966864,
          0.4904780140557935,
          0.5079709161149005,
          0.5254638181740077,
          0.5429567202331148,
          0.5604496222922218,
          0.577942524351329,
          0.595435426410436,
          0.6129283284695431,
          0.6304212305286503,
          0.6479141325877573,
          0.6654070346468645,
          0.6828999367059716,
          0.7003928387650786,
          0.7178857408241858,
          0.7353786428832928,
          0.7528715449423999,
          0.7703644470015071,
          0.7878573490606141,
          0.8053502511197212,
          0.8228431531788283,
          0.8403360552379354,
          0.8578289572970426,
          0.8753218593561496,
          0.8928147614152567,
          0.9103076634743638,
          0.9278005655334709,
          0.9452934675925779,
          0.9627863696516851,
          0.9802792717107922,
          0.9977721737698992,
          1.0152650758290063,
          1.0327579778881133,
          1.0502508799472206,
          1.0677437820063276,
          1.0852366840654346,
          1.1027295861245419,
          1.120222488183649,
          1.1377153902427561,
          1.1552082923018632,
          1.1727011943609702,
          1.1901940964200772,
          1.2076869984791845,
          1.2251799005382915,
          1.2426728025973985,
          1.2601657046565058,
          1.2776586067156128,
          1.2951515087747199,
          1.3126444108338269,
          1.3301373128929341,
          1.3476302149520412,
          1.3651231170111482,
          1.3826160190702554,
          1.4001089211293625,
          1.4176018231884695,
          1.4350947252475768,
          1.4525876273066838,
          1.4700805293657908,
          1.4875734314248978,
          1.505066333484005,
          1.5225592355431121,
          1.5400521376022192,
          1.5575450396613264,
          1.5750379417204334,
          1.5925308437795405,
          1.6100237458386477,
          1.6275166478977547,
          1.6450095499568618,
          1.6625024520159688,
          1.679995354075076,
          1.697488256134183,
          1.7149811581932901,
          1.7324740602523974,
          1.7499669623115044,
          1.7674598643706114,
          1.7849527664297185,
          1.8024456684888257,
          1.8199385705479327,
          1.8374314726070398,
          1.854924374666147
         ],
         "xaxis": "x6",
         "y": [
          0.08318809419870377,
          0.08318809419870377,
          0.08318809419870377,
          0.08318809419870377,
          0.08318809419870377,
          0.08318809419870377,
          0.08318809419870377,
          0.08318809419870377,
          0.08318809419870377,
          0.08318809419870377,
          0.08318809419870377,
          0.08318809419870377,
          0.08318809419870377,
          0.08318809419870377,
          0.08318809419870377,
          0.08318809419870377,
          0.08589144796133041,
          0.08507595956325531,
          0.08398783206939697,
          0.08398783206939697,
          0.08398783206939697,
          0.08377093821763992,
          0.08346852660179138,
          0.06803157925605774,
          0.06627769023180008,
          0.06594464927911758,
          0.0678102895617485,
          0.06780918687582016,
          0.07785329222679138,
          0.07815147191286087,
          0.08198923617601395,
          0.0836000144481659,
          0.08137555420398712,
          0.07955914735794067,
          0.07690934836864471,
          0.07262375950813293,
          0.06901354342699051,
          0.06390010565519333,
          0.06151513382792473,
          0.06312083452939987,
          0.06316722184419632,
          0.06361465156078339,
          0.0729077160358429,
          0.07581772655248642,
          0.07883983105421066,
          0.0785427838563919,
          0.08122863620519638,
          0.0931638777256012,
          0.10122967511415482,
          0.0932416021823883,
          0.09021630138158798,
          0.09308092296123505,
          0.09144251048564911,
          0.09484217315912247,
          0.09382303804159164,
          0.08827348798513412,
          0.08735533803701401,
          0.07789881527423859,
          0.07234709709882736,
          0.075523242354393,
          0.07533968240022659,
          0.0688401386141777,
          0.0697280615568161,
          0.07019387185573578,
          0.07280857115983963,
          0.08326287567615509,
          0.0882096216082573,
          0.07183670997619629,
          0.0684095099568367,
          0.06335023045539856,
          0.06687049567699432,
          0.06728429347276688,
          0.0680229663848877,
          0.06316468119621277,
          0.061298441141843796,
          0.06597743183374405,
          0.06432253122329712,
          0.06774955987930298,
          0.06662149727344513,
          0.06147773191332817,
          0.05409371852874756,
          0.05409371852874756,
          0.05409371852874756,
          0.04489936679601669,
          0.04489936679601669,
          0.042718444019556046,
          0.042718444019556046,
          0.042718444019556046,
          0.042718444019556046,
          0.042718444019556046,
          0.042718444019556046,
          0.042718444019556046,
          0.042718444019556046,
          0.042718444019556046,
          0.042718444019556046,
          0.042718444019556046,
          0.042718444019556046,
          0.042718444019556046,
          0.042718444019556046,
          0.042718444019556046,
          0.042718444019556046
         ],
         "yaxis": "y6"
        },
        {
         "customdata": [
          [
           0.08954008668661118,
           "pdp",
           "feat08"
          ],
          [
           0.08954008668661118,
           "pdp",
           "feat08"
          ],
          [
           0.08954008668661118,
           "pdp",
           "feat08"
          ],
          [
           0.08954008668661118,
           "pdp",
           "feat08"
          ],
          [
           0.08954008668661118,
           "pdp",
           "feat08"
          ],
          [
           0.08954008668661118,
           "pdp",
           "feat08"
          ],
          [
           0.08954008668661118,
           "pdp",
           "feat08"
          ],
          [
           0.08954008668661118,
           "pdp",
           "feat08"
          ],
          [
           0.08954008668661118,
           "pdp",
           "feat08"
          ],
          [
           0.08954008668661118,
           "pdp",
           "feat08"
          ],
          [
           0.08954008668661118,
           "pdp",
           "feat08"
          ],
          [
           0.08954008668661118,
           "pdp",
           "feat08"
          ],
          [
           0.08954008668661118,
           "pdp",
           "feat08"
          ],
          [
           0.08954008668661118,
           "pdp",
           "feat08"
          ],
          [
           0.08954008668661118,
           "pdp",
           "feat08"
          ],
          [
           0.08954008668661118,
           "pdp",
           "feat08"
          ],
          [
           0.08954008668661118,
           "pdp",
           "feat08"
          ],
          [
           0.08954008668661118,
           "pdp",
           "feat08"
          ],
          [
           0.08954008668661118,
           "pdp",
           "feat08"
          ],
          [
           0.08954008668661118,
           "pdp",
           "feat08"
          ],
          [
           0.08954008668661118,
           "pdp",
           "feat08"
          ],
          [
           0.08954008668661118,
           "pdp",
           "feat08"
          ],
          [
           0.08954008668661118,
           "pdp",
           "feat08"
          ],
          [
           0.08954008668661118,
           "pdp",
           "feat08"
          ],
          [
           0.08954008668661118,
           "pdp",
           "feat08"
          ],
          [
           0.08954008668661118,
           "pdp",
           "feat08"
          ],
          [
           0.08954008668661118,
           "pdp",
           "feat08"
          ],
          [
           0.08954008668661118,
           "pdp",
           "feat08"
          ],
          [
           0.08954008668661118,
           "pdp",
           "feat08"
          ],
          [
           0.08954008668661118,
           "pdp",
           "feat08"
          ],
          [
           0.08954008668661118,
           "pdp",
           "feat08"
          ],
          [
           0.08954008668661118,
           "pdp",
           "feat08"
          ],
          [
           0.08954008668661118,
           "pdp",
           "feat08"
          ],
          [
           0.08954008668661118,
           "pdp",
           "feat08"
          ],
          [
           0.08954008668661118,
           "pdp",
           "feat08"
          ],
          [
           0.08954008668661118,
           "pdp",
           "feat08"
          ],
          [
           0.08954008668661118,
           "pdp",
           "feat08"
          ],
          [
           0.08954008668661118,
           "pdp",
           "feat08"
          ],
          [
           0.08954008668661118,
           "pdp",
           "feat08"
          ],
          [
           0.08954008668661118,
           "pdp",
           "feat08"
          ],
          [
           0.08954008668661118,
           "pdp",
           "feat08"
          ],
          [
           0.08954008668661118,
           "pdp",
           "feat08"
          ],
          [
           0.08954008668661118,
           "pdp",
           "feat08"
          ],
          [
           0.08954008668661118,
           "pdp",
           "feat08"
          ],
          [
           0.08954008668661118,
           "pdp",
           "feat08"
          ],
          [
           0.08954008668661118,
           "pdp",
           "feat08"
          ],
          [
           0.08954008668661118,
           "pdp",
           "feat08"
          ],
          [
           0.08954008668661118,
           "pdp",
           "feat08"
          ],
          [
           0.08954008668661118,
           "pdp",
           "feat08"
          ],
          [
           0.08954008668661118,
           "pdp",
           "feat08"
          ],
          [
           0.08954008668661118,
           "pdp",
           "feat08"
          ],
          [
           0.08954008668661118,
           "pdp",
           "feat08"
          ],
          [
           0.08954008668661118,
           "pdp",
           "feat08"
          ],
          [
           0.08954008668661118,
           "pdp",
           "feat08"
          ],
          [
           0.08954008668661118,
           "pdp",
           "feat08"
          ],
          [
           0.08954008668661118,
           "pdp",
           "feat08"
          ],
          [
           0.08954008668661118,
           "pdp",
           "feat08"
          ],
          [
           0.08954008668661118,
           "pdp",
           "feat08"
          ],
          [
           0.08954008668661118,
           "pdp",
           "feat08"
          ],
          [
           0.08954008668661118,
           "pdp",
           "feat08"
          ],
          [
           0.08954008668661118,
           "pdp",
           "feat08"
          ],
          [
           0.08954008668661118,
           "pdp",
           "feat08"
          ],
          [
           0.08954008668661118,
           "pdp",
           "feat08"
          ],
          [
           0.08954008668661118,
           "pdp",
           "feat08"
          ],
          [
           0.08954008668661118,
           "pdp",
           "feat08"
          ],
          [
           0.08954008668661118,
           "pdp",
           "feat08"
          ],
          [
           0.08954008668661118,
           "pdp",
           "feat08"
          ],
          [
           0.08954008668661118,
           "pdp",
           "feat08"
          ],
          [
           0.08954008668661118,
           "pdp",
           "feat08"
          ],
          [
           0.08954008668661118,
           "pdp",
           "feat08"
          ],
          [
           0.08954008668661118,
           "pdp",
           "feat08"
          ],
          [
           0.08954008668661118,
           "pdp",
           "feat08"
          ],
          [
           0.08954008668661118,
           "pdp",
           "feat08"
          ],
          [
           0.08954008668661118,
           "pdp",
           "feat08"
          ],
          [
           0.08954008668661118,
           "pdp",
           "feat08"
          ],
          [
           0.08954008668661118,
           "pdp",
           "feat08"
          ],
          [
           0.08954008668661118,
           "pdp",
           "feat08"
          ],
          [
           0.08954008668661118,
           "pdp",
           "feat08"
          ],
          [
           0.08954008668661118,
           "pdp",
           "feat08"
          ],
          [
           0.08954008668661118,
           "pdp",
           "feat08"
          ],
          [
           0.08954008668661118,
           "pdp",
           "feat08"
          ],
          [
           0.08954008668661118,
           "pdp",
           "feat08"
          ],
          [
           0.08954008668661118,
           "pdp",
           "feat08"
          ],
          [
           0.08954008668661118,
           "pdp",
           "feat08"
          ],
          [
           0.08954008668661118,
           "pdp",
           "feat08"
          ],
          [
           0.08954008668661118,
           "pdp",
           "feat08"
          ],
          [
           0.08954008668661118,
           "pdp",
           "feat08"
          ],
          [
           0.08954008668661118,
           "pdp",
           "feat08"
          ],
          [
           0.08954008668661118,
           "pdp",
           "feat08"
          ],
          [
           0.08954008668661118,
           "pdp",
           "feat08"
          ],
          [
           0.08954008668661118,
           "pdp",
           "feat08"
          ],
          [
           0.08954008668661118,
           "pdp",
           "feat08"
          ],
          [
           0.08954008668661118,
           "pdp",
           "feat08"
          ],
          [
           0.08954008668661118,
           "pdp",
           "feat08"
          ],
          [
           0.08954008668661118,
           "pdp",
           "feat08"
          ],
          [
           0.08954008668661118,
           "pdp",
           "feat08"
          ],
          [
           0.08954008668661118,
           "pdp",
           "feat08"
          ],
          [
           0.08954008668661118,
           "pdp",
           "feat08"
          ],
          [
           0.08954008668661118,
           "pdp",
           "feat08"
          ],
          [
           0.08954008668661118,
           "pdp",
           "feat08"
          ],
          [
           0.08954008668661118,
           "pdp",
           "feat08"
          ]
         ],
         "hovertemplate": "<b>%{hovertext}</b><br><br>prediction=%{y:.3f}<br>mean_prediction=%{customdata[0]:.3f}<extra></extra>",
         "hovertext": [
          "pdp",
          "pdp",
          "pdp",
          "pdp",
          "pdp",
          "pdp",
          "pdp",
          "pdp",
          "pdp",
          "pdp",
          "pdp",
          "pdp",
          "pdp",
          "pdp",
          "pdp",
          "pdp",
          "pdp",
          "pdp",
          "pdp",
          "pdp",
          "pdp",
          "pdp",
          "pdp",
          "pdp",
          "pdp",
          "pdp",
          "pdp",
          "pdp",
          "pdp",
          "pdp",
          "pdp",
          "pdp",
          "pdp",
          "pdp",
          "pdp",
          "pdp",
          "pdp",
          "pdp",
          "pdp",
          "pdp",
          "pdp",
          "pdp",
          "pdp",
          "pdp",
          "pdp",
          "pdp",
          "pdp",
          "pdp",
          "pdp",
          "pdp",
          "pdp",
          "pdp",
          "pdp",
          "pdp",
          "pdp",
          "pdp",
          "pdp",
          "pdp",
          "pdp",
          "pdp",
          "pdp",
          "pdp",
          "pdp",
          "pdp",
          "pdp",
          "pdp",
          "pdp",
          "pdp",
          "pdp",
          "pdp",
          "pdp",
          "pdp",
          "pdp",
          "pdp",
          "pdp",
          "pdp",
          "pdp",
          "pdp",
          "pdp",
          "pdp",
          "pdp",
          "pdp",
          "pdp",
          "pdp",
          "pdp",
          "pdp",
          "pdp",
          "pdp",
          "pdp",
          "pdp",
          "pdp",
          "pdp",
          "pdp",
          "pdp",
          "pdp",
          "pdp",
          "pdp",
          "pdp",
          "pdp",
          "pdp",
          "pdp"
         ],
         "legendgroup": "pdp",
         "line": {
          "color": "#8bdcbe",
          "dash": "solid",
          "width": 2
         },
         "marker": {
          "symbol": "circle"
         },
         "mode": "lines",
         "name": "pdp",
         "opacity": 1,
         "orientation": "v",
         "showlegend": false,
         "type": "scatter",
         "x": [
          0.1391154653726862,
          0.15653957744781655,
          0.17396368952294688,
          0.19138780159807722,
          0.20881191367320756,
          0.2262360257483379,
          0.24366013782346824,
          0.2610842498985986,
          0.2785083619737289,
          0.29593247404885925,
          0.3133565861239896,
          0.3307806981991199,
          0.34820481027425026,
          0.3656289223493806,
          0.38305303442451094,
          0.4004771464996413,
          0.4179012585747716,
          0.43532537064990195,
          0.4527494827250323,
          0.47017359480016263,
          0.48759770687529297,
          0.5050218189504233,
          0.5224459310255536,
          0.539870043100684,
          0.5572941551758144,
          0.5747182672509447,
          0.5921423793260749,
          0.6095664914012053,
          0.6269906034763357,
          0.6444147155514661,
          0.6618388276265963,
          0.6792629397017267,
          0.6966870517768571,
          0.7141111638519875,
          0.7315352759271176,
          0.748959388002248,
          0.7663835000773784,
          0.7838076121525088,
          0.801231724227639,
          0.8186558363027694,
          0.8360799483778998,
          0.8535040604530302,
          0.8709281725281603,
          0.8883522846032907,
          0.9057763966784211,
          0.9232005087535515,
          0.9406246208286817,
          0.9580487329038121,
          0.9754728449789425,
          0.9928969570540729,
          1.010321069129203,
          1.0277451812043334,
          1.0451692932794638,
          1.0625934053545942,
          1.0800175174297244,
          1.0974416295048548,
          1.1148657415799852,
          1.1322898536551156,
          1.149713965730246,
          1.1671380778053762,
          1.1845621898805065,
          1.201986301955637,
          1.219410414030767,
          1.2368345261058975,
          1.254258638181028,
          1.2716827502561583,
          1.2891068623312887,
          1.3065309744064189,
          1.3239550864815492,
          1.3413791985566796,
          1.3588033106318098,
          1.3762274227069402,
          1.3936515347820706,
          1.411075646857201,
          1.4284997589323314,
          1.4459238710074616,
          1.463347983082592,
          1.4807720951577223,
          1.4981962072328525,
          1.515620319307983,
          1.5330444313831133,
          1.5504685434582437,
          1.567892655533374,
          1.5853167676085043,
          1.6027408796836347,
          1.620164991758765,
          1.6375891038338952,
          1.6550132159090256,
          1.672437327984156,
          1.6898614400592864,
          1.7072855521344168,
          1.724709664209547,
          1.7421337762846774,
          1.7595578883598078,
          1.776982000434938,
          1.7944061125100683,
          1.8118302245851987,
          1.829254336660329,
          1.8466784487354595,
          1.8641025608105897,
          1.88152667288572
         ],
         "xaxis": "x3",
         "y": [
          0.07163665443658829,
          0.07163665443658829,
          0.07163665443658829,
          0.07163665443658829,
          0.07163665443658829,
          0.07163665443658829,
          0.07163665443658829,
          0.07163665443658829,
          0.07163665443658829,
          0.07163665443658829,
          0.07163665443658829,
          0.07163665443658829,
          0.07163665443658829,
          0.07163665443658829,
          0.07163665443658829,
          0.07163665443658829,
          0.07163665443658829,
          0.07905826717615128,
          0.08036933839321136,
          0.07912646979093552,
          0.07912646979093552,
          0.07223697751760483,
          0.07223697751760483,
          0.07340522855520248,
          0.07286515086889267,
          0.08162377029657364,
          0.08159813284873962,
          0.07979957014322281,
          0.0745052844285965,
          0.07176576554775238,
          0.07731208950281143,
          0.0771011933684349,
          0.08188624680042267,
          0.08245223015546799,
          0.09235025197267532,
          0.08368171751499176,
          0.08151749521493912,
          0.08993681520223618,
          0.08851081132888794,
          0.08210190385580063,
          0.07793311774730682,
          0.07739751785993576,
          0.07711447775363922,
          0.07711447775363922,
          0.07111737877130508,
          0.07116124033927917,
          0.07127154618501663,
          0.07434727251529694,
          0.07362345606088638,
          0.0737980306148529,
          0.07345875352621078,
          0.0756484791636467,
          0.07678380608558655,
          0.07785393297672272,
          0.08064104616641998,
          0.0818379670381546,
          0.08501937985420227,
          0.08851210027933121,
          0.08884243667125702,
          0.08776142448186874,
          0.08793377876281738,
          0.08724050223827362,
          0.08676739037036896,
          0.0875469371676445,
          0.08515618741512299,
          0.08544956892728806,
          0.08634575456380844,
          0.09021883457899094,
          0.09056869894266129,
          0.08994220197200775,
          0.0911213755607605,
          0.09304112941026688,
          0.08041908591985703,
          0.09616286307573318,
          0.10713622719049454,
          0.07461455464363098,
          0.07461455464363098,
          0.07461455464363098,
          0.07503516227006912,
          0.07309403270483017,
          0.07309403270483017,
          0.08860109001398087,
          0.08860109001398087,
          0.08860109001398087,
          0.09100941568613052,
          0.09100941568613052,
          0.09100941568613052,
          0.09100941568613052,
          0.09100941568613052,
          0.09100941568613052,
          0.09100941568613052,
          0.09100941568613052,
          0.09100941568613052,
          0.09100941568613052,
          0.09100941568613052,
          0.09100941568613052,
          0.09100941568613052,
          0.09100941568613052,
          0.09100941568613052,
          0.09100941568613052,
          0.09100941568613052
         ],
         "yaxis": "y3"
        },
        {
         "customdata": [
          [
           0.08954008668661118,
           "pdp",
           "feat09"
          ],
          [
           0.08954008668661118,
           "pdp",
           "feat09"
          ],
          [
           0.08954008668661118,
           "pdp",
           "feat09"
          ],
          [
           0.08954008668661118,
           "pdp",
           "feat09"
          ],
          [
           0.08954008668661118,
           "pdp",
           "feat09"
          ],
          [
           0.08954008668661118,
           "pdp",
           "feat09"
          ],
          [
           0.08954008668661118,
           "pdp",
           "feat09"
          ],
          [
           0.08954008668661118,
           "pdp",
           "feat09"
          ],
          [
           0.08954008668661118,
           "pdp",
           "feat09"
          ],
          [
           0.08954008668661118,
           "pdp",
           "feat09"
          ],
          [
           0.08954008668661118,
           "pdp",
           "feat09"
          ],
          [
           0.08954008668661118,
           "pdp",
           "feat09"
          ],
          [
           0.08954008668661118,
           "pdp",
           "feat09"
          ],
          [
           0.08954008668661118,
           "pdp",
           "feat09"
          ],
          [
           0.08954008668661118,
           "pdp",
           "feat09"
          ],
          [
           0.08954008668661118,
           "pdp",
           "feat09"
          ],
          [
           0.08954008668661118,
           "pdp",
           "feat09"
          ],
          [
           0.08954008668661118,
           "pdp",
           "feat09"
          ],
          [
           0.08954008668661118,
           "pdp",
           "feat09"
          ],
          [
           0.08954008668661118,
           "pdp",
           "feat09"
          ],
          [
           0.08954008668661118,
           "pdp",
           "feat09"
          ],
          [
           0.08954008668661118,
           "pdp",
           "feat09"
          ],
          [
           0.08954008668661118,
           "pdp",
           "feat09"
          ],
          [
           0.08954008668661118,
           "pdp",
           "feat09"
          ],
          [
           0.08954008668661118,
           "pdp",
           "feat09"
          ],
          [
           0.08954008668661118,
           "pdp",
           "feat09"
          ],
          [
           0.08954008668661118,
           "pdp",
           "feat09"
          ],
          [
           0.08954008668661118,
           "pdp",
           "feat09"
          ],
          [
           0.08954008668661118,
           "pdp",
           "feat09"
          ],
          [
           0.08954008668661118,
           "pdp",
           "feat09"
          ],
          [
           0.08954008668661118,
           "pdp",
           "feat09"
          ],
          [
           0.08954008668661118,
           "pdp",
           "feat09"
          ],
          [
           0.08954008668661118,
           "pdp",
           "feat09"
          ],
          [
           0.08954008668661118,
           "pdp",
           "feat09"
          ],
          [
           0.08954008668661118,
           "pdp",
           "feat09"
          ],
          [
           0.08954008668661118,
           "pdp",
           "feat09"
          ],
          [
           0.08954008668661118,
           "pdp",
           "feat09"
          ],
          [
           0.08954008668661118,
           "pdp",
           "feat09"
          ],
          [
           0.08954008668661118,
           "pdp",
           "feat09"
          ],
          [
           0.08954008668661118,
           "pdp",
           "feat09"
          ],
          [
           0.08954008668661118,
           "pdp",
           "feat09"
          ],
          [
           0.08954008668661118,
           "pdp",
           "feat09"
          ],
          [
           0.08954008668661118,
           "pdp",
           "feat09"
          ],
          [
           0.08954008668661118,
           "pdp",
           "feat09"
          ],
          [
           0.08954008668661118,
           "pdp",
           "feat09"
          ],
          [
           0.08954008668661118,
           "pdp",
           "feat09"
          ],
          [
           0.08954008668661118,
           "pdp",
           "feat09"
          ],
          [
           0.08954008668661118,
           "pdp",
           "feat09"
          ],
          [
           0.08954008668661118,
           "pdp",
           "feat09"
          ],
          [
           0.08954008668661118,
           "pdp",
           "feat09"
          ],
          [
           0.08954008668661118,
           "pdp",
           "feat09"
          ],
          [
           0.08954008668661118,
           "pdp",
           "feat09"
          ],
          [
           0.08954008668661118,
           "pdp",
           "feat09"
          ],
          [
           0.08954008668661118,
           "pdp",
           "feat09"
          ],
          [
           0.08954008668661118,
           "pdp",
           "feat09"
          ],
          [
           0.08954008668661118,
           "pdp",
           "feat09"
          ],
          [
           0.08954008668661118,
           "pdp",
           "feat09"
          ],
          [
           0.08954008668661118,
           "pdp",
           "feat09"
          ],
          [
           0.08954008668661118,
           "pdp",
           "feat09"
          ],
          [
           0.08954008668661118,
           "pdp",
           "feat09"
          ],
          [
           0.08954008668661118,
           "pdp",
           "feat09"
          ],
          [
           0.08954008668661118,
           "pdp",
           "feat09"
          ],
          [
           0.08954008668661118,
           "pdp",
           "feat09"
          ],
          [
           0.08954008668661118,
           "pdp",
           "feat09"
          ],
          [
           0.08954008668661118,
           "pdp",
           "feat09"
          ],
          [
           0.08954008668661118,
           "pdp",
           "feat09"
          ],
          [
           0.08954008668661118,
           "pdp",
           "feat09"
          ],
          [
           0.08954008668661118,
           "pdp",
           "feat09"
          ],
          [
           0.08954008668661118,
           "pdp",
           "feat09"
          ],
          [
           0.08954008668661118,
           "pdp",
           "feat09"
          ],
          [
           0.08954008668661118,
           "pdp",
           "feat09"
          ],
          [
           0.08954008668661118,
           "pdp",
           "feat09"
          ],
          [
           0.08954008668661118,
           "pdp",
           "feat09"
          ],
          [
           0.08954008668661118,
           "pdp",
           "feat09"
          ],
          [
           0.08954008668661118,
           "pdp",
           "feat09"
          ],
          [
           0.08954008668661118,
           "pdp",
           "feat09"
          ],
          [
           0.08954008668661118,
           "pdp",
           "feat09"
          ],
          [
           0.08954008668661118,
           "pdp",
           "feat09"
          ],
          [
           0.08954008668661118,
           "pdp",
           "feat09"
          ],
          [
           0.08954008668661118,
           "pdp",
           "feat09"
          ],
          [
           0.08954008668661118,
           "pdp",
           "feat09"
          ],
          [
           0.08954008668661118,
           "pdp",
           "feat09"
          ],
          [
           0.08954008668661118,
           "pdp",
           "feat09"
          ],
          [
           0.08954008668661118,
           "pdp",
           "feat09"
          ],
          [
           0.08954008668661118,
           "pdp",
           "feat09"
          ],
          [
           0.08954008668661118,
           "pdp",
           "feat09"
          ],
          [
           0.08954008668661118,
           "pdp",
           "feat09"
          ],
          [
           0.08954008668661118,
           "pdp",
           "feat09"
          ],
          [
           0.08954008668661118,
           "pdp",
           "feat09"
          ],
          [
           0.08954008668661118,
           "pdp",
           "feat09"
          ],
          [
           0.08954008668661118,
           "pdp",
           "feat09"
          ],
          [
           0.08954008668661118,
           "pdp",
           "feat09"
          ],
          [
           0.08954008668661118,
           "pdp",
           "feat09"
          ],
          [
           0.08954008668661118,
           "pdp",
           "feat09"
          ],
          [
           0.08954008668661118,
           "pdp",
           "feat09"
          ],
          [
           0.08954008668661118,
           "pdp",
           "feat09"
          ],
          [
           0.08954008668661118,
           "pdp",
           "feat09"
          ],
          [
           0.08954008668661118,
           "pdp",
           "feat09"
          ],
          [
           0.08954008668661118,
           "pdp",
           "feat09"
          ],
          [
           0.08954008668661118,
           "pdp",
           "feat09"
          ],
          [
           0.08954008668661118,
           "pdp",
           "feat09"
          ]
         ],
         "hovertemplate": "<b>%{hovertext}</b><br><br>prediction=%{y:.3f}<br>mean_prediction=%{customdata[0]:.3f}<extra></extra>",
         "hovertext": [
          "pdp",
          "pdp",
          "pdp",
          "pdp",
          "pdp",
          "pdp",
          "pdp",
          "pdp",
          "pdp",
          "pdp",
          "pdp",
          "pdp",
          "pdp",
          "pdp",
          "pdp",
          "pdp",
          "pdp",
          "pdp",
          "pdp",
          "pdp",
          "pdp",
          "pdp",
          "pdp",
          "pdp",
          "pdp",
          "pdp",
          "pdp",
          "pdp",
          "pdp",
          "pdp",
          "pdp",
          "pdp",
          "pdp",
          "pdp",
          "pdp",
          "pdp",
          "pdp",
          "pdp",
          "pdp",
          "pdp",
          "pdp",
          "pdp",
          "pdp",
          "pdp",
          "pdp",
          "pdp",
          "pdp",
          "pdp",
          "pdp",
          "pdp",
          "pdp",
          "pdp",
          "pdp",
          "pdp",
          "pdp",
          "pdp",
          "pdp",
          "pdp",
          "pdp",
          "pdp",
          "pdp",
          "pdp",
          "pdp",
          "pdp",
          "pdp",
          "pdp",
          "pdp",
          "pdp",
          "pdp",
          "pdp",
          "pdp",
          "pdp",
          "pdp",
          "pdp",
          "pdp",
          "pdp",
          "pdp",
          "pdp",
          "pdp",
          "pdp",
          "pdp",
          "pdp",
          "pdp",
          "pdp",
          "pdp",
          "pdp",
          "pdp",
          "pdp",
          "pdp",
          "pdp",
          "pdp",
          "pdp",
          "pdp",
          "pdp",
          "pdp",
          "pdp",
          "pdp",
          "pdp",
          "pdp",
          "pdp",
          "pdp"
         ],
         "legendgroup": "pdp",
         "line": {
          "color": "#8bdcbe",
          "dash": "solid",
          "width": 2
         },
         "marker": {
          "symbol": "circle"
         },
         "mode": "lines",
         "name": "pdp",
         "opacity": 1,
         "orientation": "v",
         "showlegend": false,
         "type": "scatter",
         "x": [
          0.2407530786059586,
          0.25669677935720714,
          0.27264048010845565,
          0.28858418085970416,
          0.30452788161095273,
          0.32047158236220125,
          0.3364152831134498,
          0.3523589838646983,
          0.36830268461594684,
          0.38424638536719535,
          0.40019008611844387,
          0.41613378686969243,
          0.432077487620941,
          0.4480211883721895,
          0.46396488912343803,
          0.47990858987468654,
          0.49585229062593505,
          0.5117959913771836,
          0.5277396921284322,
          0.5436833928796807,
          0.5596270936309292,
          0.5755707943821777,
          0.5915144951334262,
          0.6074581958846748,
          0.6234018966359234,
          0.6393455973871719,
          0.6552892981384204,
          0.6712329988896689,
          0.6871766996409174,
          0.703120400392166,
          0.7190641011434145,
          0.7350078018946631,
          0.7509515026459116,
          0.7668952033971601,
          0.7828389041484086,
          0.7987826048996571,
          0.8147263056509058,
          0.8306700064021543,
          0.8466137071534028,
          0.8625574079046513,
          0.8785011086558998,
          0.8944448094071483,
          0.910388510158397,
          0.9263322109096455,
          0.942275911660894,
          0.9582196124121425,
          0.974163313163391,
          0.9901070139146395,
          1.0060507146658881,
          1.0219944154171365,
          1.0379381161683852,
          1.0538818169196336,
          1.0698255176708822,
          1.0857692184221306,
          1.1017129191733792,
          1.1176566199246278,
          1.1336003206758762,
          1.1495440214271249,
          1.1654877221783733,
          1.1814314229296219,
          1.1973751236808703,
          1.213318824432119,
          1.2292625251833675,
          1.245206225934616,
          1.2611499266858646,
          1.2770936274371132,
          1.2930373281883616,
          1.3089810289396102,
          1.3249247296908586,
          1.3408684304421072,
          1.3568121311933556,
          1.3727558319446043,
          1.388699532695853,
          1.4046432334471013,
          1.42058693419835,
          1.4365306349495983,
          1.452474335700847,
          1.4684180364520956,
          1.484361737203344,
          1.5003054379545926,
          1.516249138705841,
          1.5321928394570896,
          1.548136540208338,
          1.5640802409595866,
          1.5800239417108353,
          1.5959676424620837,
          1.6119113432133323,
          1.6278550439645807,
          1.6437987447158293,
          1.6597424454670777,
          1.6756861462183263,
          1.691629846969575,
          1.7075735477208234,
          1.723517248472072,
          1.7394609492233204,
          1.755404649974569,
          1.7713483507258176,
          1.787292051477066,
          1.8032357522283147,
          1.819179452979563,
          1.8351231537308117
         ],
         "xaxis": "x4",
         "y": [
          0.08347561210393906,
          0.08347561210393906,
          0.08347561210393906,
          0.08347561210393906,
          0.08347561210393906,
          0.08347561210393906,
          0.08347561210393906,
          0.08347561210393906,
          0.08347561210393906,
          0.07875613868236542,
          0.07875613868236542,
          0.08229009807109833,
          0.08229009807109833,
          0.08229009807109833,
          0.08076375722885132,
          0.08716484159231186,
          0.08910617977380753,
          0.08647552132606506,
          0.08905872702598572,
          0.08686289191246033,
          0.08262418955564499,
          0.08385427296161652,
          0.08350581675767899,
          0.08563930541276932,
          0.08975633233785629,
          0.08747085183858871,
          0.08747085183858871,
          0.09641730785369873,
          0.08497913926839828,
          0.08386510610580444,
          0.08032458275556564,
          0.08011234551668167,
          0.08329299837350845,
          0.08625778555870056,
          0.08498349785804749,
          0.08571430295705795,
          0.08519711345434189,
          0.07941246777772903,
          0.07943165302276611,
          0.08052349090576172,
          0.0791734978556633,
          0.07819445431232452,
          0.07768138498067856,
          0.07713185250759125,
          0.07720588147640228,
          0.07517462223768234,
          0.07766339182853699,
          0.07780054211616516,
          0.08285684883594513,
          0.08069448173046112,
          0.07888831943273544,
          0.0723542720079422,
          0.07303819805383682,
          0.07501513510942459,
          0.07892345637083054,
          0.07925434410572052,
          0.07277620583772659,
          0.0729474425315857,
          0.07488169521093369,
          0.07475558668375015,
          0.06952711194753647,
          0.06704840809106827,
          0.06811819970607758,
          0.07498645037412643,
          0.07731756567955017,
          0.0802614614367485,
          0.08252744376659393,
          0.0796944722533226,
          0.0777302011847496,
          0.07293620705604553,
          0.07947412133216858,
          0.07987657189369202,
          0.07643778622150421,
          0.0756673738360405,
          0.08055739104747772,
          0.08090689778327942,
          0.06999102979898453,
          0.07001052796840668,
          0.06863173097372055,
          0.06605695933103561,
          0.06605695933103561,
          0.06521464884281158,
          0.06653687357902527,
          0.06653687357902527,
          0.06549053639173508,
          0.06549053639173508,
          0.06549053639173508,
          0.06549053639173508,
          0.06549053639173508,
          0.06549053639173508,
          0.06549053639173508,
          0.06549053639173508,
          0.06549053639173508,
          0.06549053639173508,
          0.06549053639173508,
          0.06549053639173508,
          0.06549053639173508,
          0.06549053639173508,
          0.06549053639173508,
          0.06549053639173508,
          0.06549053639173508
         ],
         "yaxis": "y4"
        },
        {
         "customdata": [
          [
           0.08954008668661118,
           "pdp",
           "heart_disease"
          ],
          [
           0.08954008668661118,
           "pdp",
           "heart_disease"
          ],
          [
           0.08954008668661118,
           "pdp",
           "heart_disease"
          ],
          [
           0.08954008668661118,
           "pdp",
           "heart_disease"
          ],
          [
           0.08954008668661118,
           "pdp",
           "heart_disease"
          ],
          [
           0.08954008668661118,
           "pdp",
           "heart_disease"
          ],
          [
           0.08954008668661118,
           "pdp",
           "heart_disease"
          ],
          [
           0.08954008668661118,
           "pdp",
           "heart_disease"
          ],
          [
           0.08954008668661118,
           "pdp",
           "heart_disease"
          ],
          [
           0.08954008668661118,
           "pdp",
           "heart_disease"
          ],
          [
           0.08954008668661118,
           "pdp",
           "heart_disease"
          ],
          [
           0.08954008668661118,
           "pdp",
           "heart_disease"
          ],
          [
           0.08954008668661118,
           "pdp",
           "heart_disease"
          ],
          [
           0.08954008668661118,
           "pdp",
           "heart_disease"
          ],
          [
           0.08954008668661118,
           "pdp",
           "heart_disease"
          ],
          [
           0.08954008668661118,
           "pdp",
           "heart_disease"
          ],
          [
           0.08954008668661118,
           "pdp",
           "heart_disease"
          ],
          [
           0.08954008668661118,
           "pdp",
           "heart_disease"
          ],
          [
           0.08954008668661118,
           "pdp",
           "heart_disease"
          ],
          [
           0.08954008668661118,
           "pdp",
           "heart_disease"
          ],
          [
           0.08954008668661118,
           "pdp",
           "heart_disease"
          ],
          [
           0.08954008668661118,
           "pdp",
           "heart_disease"
          ],
          [
           0.08954008668661118,
           "pdp",
           "heart_disease"
          ],
          [
           0.08954008668661118,
           "pdp",
           "heart_disease"
          ],
          [
           0.08954008668661118,
           "pdp",
           "heart_disease"
          ],
          [
           0.08954008668661118,
           "pdp",
           "heart_disease"
          ],
          [
           0.08954008668661118,
           "pdp",
           "heart_disease"
          ],
          [
           0.08954008668661118,
           "pdp",
           "heart_disease"
          ],
          [
           0.08954008668661118,
           "pdp",
           "heart_disease"
          ],
          [
           0.08954008668661118,
           "pdp",
           "heart_disease"
          ],
          [
           0.08954008668661118,
           "pdp",
           "heart_disease"
          ],
          [
           0.08954008668661118,
           "pdp",
           "heart_disease"
          ],
          [
           0.08954008668661118,
           "pdp",
           "heart_disease"
          ],
          [
           0.08954008668661118,
           "pdp",
           "heart_disease"
          ],
          [
           0.08954008668661118,
           "pdp",
           "heart_disease"
          ],
          [
           0.08954008668661118,
           "pdp",
           "heart_disease"
          ],
          [
           0.08954008668661118,
           "pdp",
           "heart_disease"
          ],
          [
           0.08954008668661118,
           "pdp",
           "heart_disease"
          ],
          [
           0.08954008668661118,
           "pdp",
           "heart_disease"
          ],
          [
           0.08954008668661118,
           "pdp",
           "heart_disease"
          ],
          [
           0.08954008668661118,
           "pdp",
           "heart_disease"
          ],
          [
           0.08954008668661118,
           "pdp",
           "heart_disease"
          ],
          [
           0.08954008668661118,
           "pdp",
           "heart_disease"
          ],
          [
           0.08954008668661118,
           "pdp",
           "heart_disease"
          ],
          [
           0.08954008668661118,
           "pdp",
           "heart_disease"
          ],
          [
           0.08954008668661118,
           "pdp",
           "heart_disease"
          ],
          [
           0.08954008668661118,
           "pdp",
           "heart_disease"
          ],
          [
           0.08954008668661118,
           "pdp",
           "heart_disease"
          ],
          [
           0.08954008668661118,
           "pdp",
           "heart_disease"
          ],
          [
           0.08954008668661118,
           "pdp",
           "heart_disease"
          ],
          [
           0.08954008668661118,
           "pdp",
           "heart_disease"
          ],
          [
           0.08954008668661118,
           "pdp",
           "heart_disease"
          ],
          [
           0.08954008668661118,
           "pdp",
           "heart_disease"
          ],
          [
           0.08954008668661118,
           "pdp",
           "heart_disease"
          ],
          [
           0.08954008668661118,
           "pdp",
           "heart_disease"
          ],
          [
           0.08954008668661118,
           "pdp",
           "heart_disease"
          ],
          [
           0.08954008668661118,
           "pdp",
           "heart_disease"
          ],
          [
           0.08954008668661118,
           "pdp",
           "heart_disease"
          ],
          [
           0.08954008668661118,
           "pdp",
           "heart_disease"
          ],
          [
           0.08954008668661118,
           "pdp",
           "heart_disease"
          ],
          [
           0.08954008668661118,
           "pdp",
           "heart_disease"
          ],
          [
           0.08954008668661118,
           "pdp",
           "heart_disease"
          ],
          [
           0.08954008668661118,
           "pdp",
           "heart_disease"
          ],
          [
           0.08954008668661118,
           "pdp",
           "heart_disease"
          ],
          [
           0.08954008668661118,
           "pdp",
           "heart_disease"
          ],
          [
           0.08954008668661118,
           "pdp",
           "heart_disease"
          ],
          [
           0.08954008668661118,
           "pdp",
           "heart_disease"
          ],
          [
           0.08954008668661118,
           "pdp",
           "heart_disease"
          ],
          [
           0.08954008668661118,
           "pdp",
           "heart_disease"
          ],
          [
           0.08954008668661118,
           "pdp",
           "heart_disease"
          ],
          [
           0.08954008668661118,
           "pdp",
           "heart_disease"
          ],
          [
           0.08954008668661118,
           "pdp",
           "heart_disease"
          ],
          [
           0.08954008668661118,
           "pdp",
           "heart_disease"
          ],
          [
           0.08954008668661118,
           "pdp",
           "heart_disease"
          ],
          [
           0.08954008668661118,
           "pdp",
           "heart_disease"
          ],
          [
           0.08954008668661118,
           "pdp",
           "heart_disease"
          ],
          [
           0.08954008668661118,
           "pdp",
           "heart_disease"
          ],
          [
           0.08954008668661118,
           "pdp",
           "heart_disease"
          ],
          [
           0.08954008668661118,
           "pdp",
           "heart_disease"
          ],
          [
           0.08954008668661118,
           "pdp",
           "heart_disease"
          ],
          [
           0.08954008668661118,
           "pdp",
           "heart_disease"
          ],
          [
           0.08954008668661118,
           "pdp",
           "heart_disease"
          ],
          [
           0.08954008668661118,
           "pdp",
           "heart_disease"
          ],
          [
           0.08954008668661118,
           "pdp",
           "heart_disease"
          ],
          [
           0.08954008668661118,
           "pdp",
           "heart_disease"
          ],
          [
           0.08954008668661118,
           "pdp",
           "heart_disease"
          ],
          [
           0.08954008668661118,
           "pdp",
           "heart_disease"
          ],
          [
           0.08954008668661118,
           "pdp",
           "heart_disease"
          ],
          [
           0.08954008668661118,
           "pdp",
           "heart_disease"
          ],
          [
           0.08954008668661118,
           "pdp",
           "heart_disease"
          ],
          [
           0.08954008668661118,
           "pdp",
           "heart_disease"
          ],
          [
           0.08954008668661118,
           "pdp",
           "heart_disease"
          ],
          [
           0.08954008668661118,
           "pdp",
           "heart_disease"
          ],
          [
           0.08954008668661118,
           "pdp",
           "heart_disease"
          ],
          [
           0.08954008668661118,
           "pdp",
           "heart_disease"
          ],
          [
           0.08954008668661118,
           "pdp",
           "heart_disease"
          ],
          [
           0.08954008668661118,
           "pdp",
           "heart_disease"
          ],
          [
           0.08954008668661118,
           "pdp",
           "heart_disease"
          ],
          [
           0.08954008668661118,
           "pdp",
           "heart_disease"
          ],
          [
           0.08954008668661118,
           "pdp",
           "heart_disease"
          ],
          [
           0.08954008668661118,
           "pdp",
           "heart_disease"
          ]
         ],
         "hovertemplate": "<b>%{hovertext}</b><br><br>prediction=%{y:.3f}<br>mean_prediction=%{customdata[0]:.3f}<extra></extra>",
         "hovertext": [
          "pdp",
          "pdp",
          "pdp",
          "pdp",
          "pdp",
          "pdp",
          "pdp",
          "pdp",
          "pdp",
          "pdp",
          "pdp",
          "pdp",
          "pdp",
          "pdp",
          "pdp",
          "pdp",
          "pdp",
          "pdp",
          "pdp",
          "pdp",
          "pdp",
          "pdp",
          "pdp",
          "pdp",
          "pdp",
          "pdp",
          "pdp",
          "pdp",
          "pdp",
          "pdp",
          "pdp",
          "pdp",
          "pdp",
          "pdp",
          "pdp",
          "pdp",
          "pdp",
          "pdp",
          "pdp",
          "pdp",
          "pdp",
          "pdp",
          "pdp",
          "pdp",
          "pdp",
          "pdp",
          "pdp",
          "pdp",
          "pdp",
          "pdp",
          "pdp",
          "pdp",
          "pdp",
          "pdp",
          "pdp",
          "pdp",
          "pdp",
          "pdp",
          "pdp",
          "pdp",
          "pdp",
          "pdp",
          "pdp",
          "pdp",
          "pdp",
          "pdp",
          "pdp",
          "pdp",
          "pdp",
          "pdp",
          "pdp",
          "pdp",
          "pdp",
          "pdp",
          "pdp",
          "pdp",
          "pdp",
          "pdp",
          "pdp",
          "pdp",
          "pdp",
          "pdp",
          "pdp",
          "pdp",
          "pdp",
          "pdp",
          "pdp",
          "pdp",
          "pdp",
          "pdp",
          "pdp",
          "pdp",
          "pdp",
          "pdp",
          "pdp",
          "pdp",
          "pdp",
          "pdp",
          "pdp",
          "pdp",
          "pdp"
         ],
         "legendgroup": "pdp",
         "line": {
          "color": "#8bdcbe",
          "dash": "solid",
          "width": 2
         },
         "marker": {
          "symbol": "circle"
         },
         "mode": "lines",
         "name": "pdp",
         "opacity": 1,
         "orientation": "v",
         "showlegend": false,
         "type": "scatter",
         "x": [
          0,
          0.01,
          0.02,
          0.03,
          0.04,
          0.05,
          0.06,
          0.07,
          0.08,
          0.09,
          0.1,
          0.11,
          0.12,
          0.13,
          0.14,
          0.15,
          0.16,
          0.17,
          0.18,
          0.19,
          0.2,
          0.21,
          0.22,
          0.23,
          0.24,
          0.25,
          0.26,
          0.27,
          0.28,
          0.29,
          0.3,
          0.31,
          0.32,
          0.33,
          0.34,
          0.35000000000000003,
          0.36,
          0.37,
          0.38,
          0.39,
          0.4,
          0.41000000000000003,
          0.42,
          0.43,
          0.44,
          0.45,
          0.46,
          0.47000000000000003,
          0.48,
          0.49,
          0.5,
          0.51,
          0.52,
          0.53,
          0.54,
          0.55,
          0.56,
          0.5700000000000001,
          0.58,
          0.59,
          0.6,
          0.61,
          0.62,
          0.63,
          0.64,
          0.65,
          0.66,
          0.67,
          0.68,
          0.6900000000000001,
          0.7000000000000001,
          0.71,
          0.72,
          0.73,
          0.74,
          0.75,
          0.76,
          0.77,
          0.78,
          0.79,
          0.8,
          0.81,
          0.8200000000000001,
          0.8300000000000001,
          0.84,
          0.85,
          0.86,
          0.87,
          0.88,
          0.89,
          0.9,
          0.91,
          0.92,
          0.93,
          0.9400000000000001,
          0.9500000000000001,
          0.96,
          0.97,
          0.98,
          0.99,
          1
         ],
         "xaxis": "x",
         "y": [
          0.08651422709226608,
          0.08651422709226608,
          0.08651422709226608,
          0.08651422709226608,
          0.08651422709226608,
          0.08651422709226608,
          0.08651422709226608,
          0.08651422709226608,
          0.08651422709226608,
          0.08651422709226608,
          0.08651422709226608,
          0.08651422709226608,
          0.08651422709226608,
          0.08651422709226608,
          0.08651422709226608,
          0.08651422709226608,
          0.08651422709226608,
          0.08651422709226608,
          0.08651422709226608,
          0.08651422709226608,
          0.08651422709226608,
          0.08651422709226608,
          0.08651422709226608,
          0.08651422709226608,
          0.08651422709226608,
          0.08651422709226608,
          0.08651422709226608,
          0.08651422709226608,
          0.08651422709226608,
          0.08651422709226608,
          0.08651422709226608,
          0.08651422709226608,
          0.08651422709226608,
          0.08651422709226608,
          0.08651422709226608,
          0.08651422709226608,
          0.08651422709226608,
          0.08651422709226608,
          0.08651422709226608,
          0.08651422709226608,
          0.08651422709226608,
          0.08651422709226608,
          0.08651422709226608,
          0.08651422709226608,
          0.08651422709226608,
          0.08651422709226608,
          0.08651422709226608,
          0.08651422709226608,
          0.08651422709226608,
          0.08651422709226608,
          0.08651422709226608,
          0.08651422709226608,
          0.08651422709226608,
          0.08651422709226608,
          0.08651422709226608,
          0.08651422709226608,
          0.08651422709226608,
          0.08651422709226608,
          0.08651422709226608,
          0.08651422709226608,
          0.08651422709226608,
          0.08651422709226608,
          0.08651422709226608,
          0.08651422709226608,
          0.08651422709226608,
          0.08651422709226608,
          0.08651422709226608,
          0.08651422709226608,
          0.08651422709226608,
          0.08651422709226608,
          0.08651422709226608,
          0.08651422709226608,
          0.08651422709226608,
          0.08651422709226608,
          0.08651422709226608,
          0.08651422709226608,
          0.08651422709226608,
          0.08651422709226608,
          0.08651422709226608,
          0.08651422709226608,
          0.08651422709226608,
          0.08651422709226608,
          0.08651422709226608,
          0.08651422709226608,
          0.08651422709226608,
          0.08651422709226608,
          0.08651422709226608,
          0.08651422709226608,
          0.08651422709226608,
          0.08651422709226608,
          0.08651422709226608,
          0.08651422709226608,
          0.08651422709226608,
          0.08651422709226608,
          0.08651422709226608,
          0.08651422709226608,
          0.08651422709226608,
          0.08651422709226608,
          0.08651422709226608,
          0.08651422709226608,
          0.09548226743936539
         ],
         "yaxis": "y"
        },
        {
         "customdata": [
          [
           0.08954008668661118,
           "pdp",
           "hypertension"
          ],
          [
           0.08954008668661118,
           "pdp",
           "hypertension"
          ],
          [
           0.08954008668661118,
           "pdp",
           "hypertension"
          ],
          [
           0.08954008668661118,
           "pdp",
           "hypertension"
          ],
          [
           0.08954008668661118,
           "pdp",
           "hypertension"
          ],
          [
           0.08954008668661118,
           "pdp",
           "hypertension"
          ],
          [
           0.08954008668661118,
           "pdp",
           "hypertension"
          ],
          [
           0.08954008668661118,
           "pdp",
           "hypertension"
          ],
          [
           0.08954008668661118,
           "pdp",
           "hypertension"
          ],
          [
           0.08954008668661118,
           "pdp",
           "hypertension"
          ],
          [
           0.08954008668661118,
           "pdp",
           "hypertension"
          ],
          [
           0.08954008668661118,
           "pdp",
           "hypertension"
          ],
          [
           0.08954008668661118,
           "pdp",
           "hypertension"
          ],
          [
           0.08954008668661118,
           "pdp",
           "hypertension"
          ],
          [
           0.08954008668661118,
           "pdp",
           "hypertension"
          ],
          [
           0.08954008668661118,
           "pdp",
           "hypertension"
          ],
          [
           0.08954008668661118,
           "pdp",
           "hypertension"
          ],
          [
           0.08954008668661118,
           "pdp",
           "hypertension"
          ],
          [
           0.08954008668661118,
           "pdp",
           "hypertension"
          ],
          [
           0.08954008668661118,
           "pdp",
           "hypertension"
          ],
          [
           0.08954008668661118,
           "pdp",
           "hypertension"
          ],
          [
           0.08954008668661118,
           "pdp",
           "hypertension"
          ],
          [
           0.08954008668661118,
           "pdp",
           "hypertension"
          ],
          [
           0.08954008668661118,
           "pdp",
           "hypertension"
          ],
          [
           0.08954008668661118,
           "pdp",
           "hypertension"
          ],
          [
           0.08954008668661118,
           "pdp",
           "hypertension"
          ],
          [
           0.08954008668661118,
           "pdp",
           "hypertension"
          ],
          [
           0.08954008668661118,
           "pdp",
           "hypertension"
          ],
          [
           0.08954008668661118,
           "pdp",
           "hypertension"
          ],
          [
           0.08954008668661118,
           "pdp",
           "hypertension"
          ],
          [
           0.08954008668661118,
           "pdp",
           "hypertension"
          ],
          [
           0.08954008668661118,
           "pdp",
           "hypertension"
          ],
          [
           0.08954008668661118,
           "pdp",
           "hypertension"
          ],
          [
           0.08954008668661118,
           "pdp",
           "hypertension"
          ],
          [
           0.08954008668661118,
           "pdp",
           "hypertension"
          ],
          [
           0.08954008668661118,
           "pdp",
           "hypertension"
          ],
          [
           0.08954008668661118,
           "pdp",
           "hypertension"
          ],
          [
           0.08954008668661118,
           "pdp",
           "hypertension"
          ],
          [
           0.08954008668661118,
           "pdp",
           "hypertension"
          ],
          [
           0.08954008668661118,
           "pdp",
           "hypertension"
          ],
          [
           0.08954008668661118,
           "pdp",
           "hypertension"
          ],
          [
           0.08954008668661118,
           "pdp",
           "hypertension"
          ],
          [
           0.08954008668661118,
           "pdp",
           "hypertension"
          ],
          [
           0.08954008668661118,
           "pdp",
           "hypertension"
          ],
          [
           0.08954008668661118,
           "pdp",
           "hypertension"
          ],
          [
           0.08954008668661118,
           "pdp",
           "hypertension"
          ],
          [
           0.08954008668661118,
           "pdp",
           "hypertension"
          ],
          [
           0.08954008668661118,
           "pdp",
           "hypertension"
          ],
          [
           0.08954008668661118,
           "pdp",
           "hypertension"
          ],
          [
           0.08954008668661118,
           "pdp",
           "hypertension"
          ],
          [
           0.08954008668661118,
           "pdp",
           "hypertension"
          ],
          [
           0.08954008668661118,
           "pdp",
           "hypertension"
          ],
          [
           0.08954008668661118,
           "pdp",
           "hypertension"
          ],
          [
           0.08954008668661118,
           "pdp",
           "hypertension"
          ],
          [
           0.08954008668661118,
           "pdp",
           "hypertension"
          ],
          [
           0.08954008668661118,
           "pdp",
           "hypertension"
          ],
          [
           0.08954008668661118,
           "pdp",
           "hypertension"
          ],
          [
           0.08954008668661118,
           "pdp",
           "hypertension"
          ],
          [
           0.08954008668661118,
           "pdp",
           "hypertension"
          ],
          [
           0.08954008668661118,
           "pdp",
           "hypertension"
          ],
          [
           0.08954008668661118,
           "pdp",
           "hypertension"
          ],
          [
           0.08954008668661118,
           "pdp",
           "hypertension"
          ],
          [
           0.08954008668661118,
           "pdp",
           "hypertension"
          ],
          [
           0.08954008668661118,
           "pdp",
           "hypertension"
          ],
          [
           0.08954008668661118,
           "pdp",
           "hypertension"
          ],
          [
           0.08954008668661118,
           "pdp",
           "hypertension"
          ],
          [
           0.08954008668661118,
           "pdp",
           "hypertension"
          ],
          [
           0.08954008668661118,
           "pdp",
           "hypertension"
          ],
          [
           0.08954008668661118,
           "pdp",
           "hypertension"
          ],
          [
           0.08954008668661118,
           "pdp",
           "hypertension"
          ],
          [
           0.08954008668661118,
           "pdp",
           "hypertension"
          ],
          [
           0.08954008668661118,
           "pdp",
           "hypertension"
          ],
          [
           0.08954008668661118,
           "pdp",
           "hypertension"
          ],
          [
           0.08954008668661118,
           "pdp",
           "hypertension"
          ],
          [
           0.08954008668661118,
           "pdp",
           "hypertension"
          ],
          [
           0.08954008668661118,
           "pdp",
           "hypertension"
          ],
          [
           0.08954008668661118,
           "pdp",
           "hypertension"
          ],
          [
           0.08954008668661118,
           "pdp",
           "hypertension"
          ],
          [
           0.08954008668661118,
           "pdp",
           "hypertension"
          ],
          [
           0.08954008668661118,
           "pdp",
           "hypertension"
          ],
          [
           0.08954008668661118,
           "pdp",
           "hypertension"
          ],
          [
           0.08954008668661118,
           "pdp",
           "hypertension"
          ],
          [
           0.08954008668661118,
           "pdp",
           "hypertension"
          ],
          [
           0.08954008668661118,
           "pdp",
           "hypertension"
          ],
          [
           0.08954008668661118,
           "pdp",
           "hypertension"
          ],
          [
           0.08954008668661118,
           "pdp",
           "hypertension"
          ],
          [
           0.08954008668661118,
           "pdp",
           "hypertension"
          ],
          [
           0.08954008668661118,
           "pdp",
           "hypertension"
          ],
          [
           0.08954008668661118,
           "pdp",
           "hypertension"
          ],
          [
           0.08954008668661118,
           "pdp",
           "hypertension"
          ],
          [
           0.08954008668661118,
           "pdp",
           "hypertension"
          ],
          [
           0.08954008668661118,
           "pdp",
           "hypertension"
          ],
          [
           0.08954008668661118,
           "pdp",
           "hypertension"
          ],
          [
           0.08954008668661118,
           "pdp",
           "hypertension"
          ],
          [
           0.08954008668661118,
           "pdp",
           "hypertension"
          ],
          [
           0.08954008668661118,
           "pdp",
           "hypertension"
          ],
          [
           0.08954008668661118,
           "pdp",
           "hypertension"
          ],
          [
           0.08954008668661118,
           "pdp",
           "hypertension"
          ],
          [
           0.08954008668661118,
           "pdp",
           "hypertension"
          ],
          [
           0.08954008668661118,
           "pdp",
           "hypertension"
          ],
          [
           0.08954008668661118,
           "pdp",
           "hypertension"
          ]
         ],
         "hovertemplate": "<b>%{hovertext}</b><br><br>prediction=%{y:.3f}<br>mean_prediction=%{customdata[0]:.3f}<extra></extra>",
         "hovertext": [
          "pdp",
          "pdp",
          "pdp",
          "pdp",
          "pdp",
          "pdp",
          "pdp",
          "pdp",
          "pdp",
          "pdp",
          "pdp",
          "pdp",
          "pdp",
          "pdp",
          "pdp",
          "pdp",
          "pdp",
          "pdp",
          "pdp",
          "pdp",
          "pdp",
          "pdp",
          "pdp",
          "pdp",
          "pdp",
          "pdp",
          "pdp",
          "pdp",
          "pdp",
          "pdp",
          "pdp",
          "pdp",
          "pdp",
          "pdp",
          "pdp",
          "pdp",
          "pdp",
          "pdp",
          "pdp",
          "pdp",
          "pdp",
          "pdp",
          "pdp",
          "pdp",
          "pdp",
          "pdp",
          "pdp",
          "pdp",
          "pdp",
          "pdp",
          "pdp",
          "pdp",
          "pdp",
          "pdp",
          "pdp",
          "pdp",
          "pdp",
          "pdp",
          "pdp",
          "pdp",
          "pdp",
          "pdp",
          "pdp",
          "pdp",
          "pdp",
          "pdp",
          "pdp",
          "pdp",
          "pdp",
          "pdp",
          "pdp",
          "pdp",
          "pdp",
          "pdp",
          "pdp",
          "pdp",
          "pdp",
          "pdp",
          "pdp",
          "pdp",
          "pdp",
          "pdp",
          "pdp",
          "pdp",
          "pdp",
          "pdp",
          "pdp",
          "pdp",
          "pdp",
          "pdp",
          "pdp",
          "pdp",
          "pdp",
          "pdp",
          "pdp",
          "pdp",
          "pdp",
          "pdp",
          "pdp",
          "pdp",
          "pdp"
         ],
         "legendgroup": "pdp",
         "line": {
          "color": "#8bdcbe",
          "dash": "solid",
          "width": 2
         },
         "marker": {
          "symbol": "circle"
         },
         "mode": "lines",
         "name": "pdp",
         "opacity": 1,
         "orientation": "v",
         "showlegend": false,
         "type": "scatter",
         "x": [
          0,
          0.01,
          0.02,
          0.03,
          0.04,
          0.05,
          0.06,
          0.07,
          0.08,
          0.09,
          0.1,
          0.11,
          0.12,
          0.13,
          0.14,
          0.15,
          0.16,
          0.17,
          0.18,
          0.19,
          0.2,
          0.21,
          0.22,
          0.23,
          0.24,
          0.25,
          0.26,
          0.27,
          0.28,
          0.29,
          0.3,
          0.31,
          0.32,
          0.33,
          0.34,
          0.35000000000000003,
          0.36,
          0.37,
          0.38,
          0.39,
          0.4,
          0.41000000000000003,
          0.42,
          0.43,
          0.44,
          0.45,
          0.46,
          0.47000000000000003,
          0.48,
          0.49,
          0.5,
          0.51,
          0.52,
          0.53,
          0.54,
          0.55,
          0.56,
          0.5700000000000001,
          0.58,
          0.59,
          0.6,
          0.61,
          0.62,
          0.63,
          0.64,
          0.65,
          0.66,
          0.67,
          0.68,
          0.6900000000000001,
          0.7000000000000001,
          0.71,
          0.72,
          0.73,
          0.74,
          0.75,
          0.76,
          0.77,
          0.78,
          0.79,
          0.8,
          0.81,
          0.8200000000000001,
          0.8300000000000001,
          0.84,
          0.85,
          0.86,
          0.87,
          0.88,
          0.89,
          0.9,
          0.91,
          0.92,
          0.93,
          0.9400000000000001,
          0.9500000000000001,
          0.96,
          0.97,
          0.98,
          0.99,
          1
         ],
         "xaxis": "x2",
         "y": [
          0.08820510655641556,
          0.08820510655641556,
          0.08820510655641556,
          0.08820510655641556,
          0.08820510655641556,
          0.08820510655641556,
          0.08820510655641556,
          0.08820510655641556,
          0.08820510655641556,
          0.08820510655641556,
          0.08820510655641556,
          0.08820510655641556,
          0.08820510655641556,
          0.08820510655641556,
          0.08820510655641556,
          0.08820510655641556,
          0.08820510655641556,
          0.08820510655641556,
          0.08820510655641556,
          0.08820510655641556,
          0.08820510655641556,
          0.08820510655641556,
          0.08820510655641556,
          0.08820510655641556,
          0.08820510655641556,
          0.08820510655641556,
          0.08820510655641556,
          0.08820510655641556,
          0.08820510655641556,
          0.08820510655641556,
          0.08820510655641556,
          0.08820510655641556,
          0.08820510655641556,
          0.08820510655641556,
          0.08820510655641556,
          0.08820510655641556,
          0.08820510655641556,
          0.08820510655641556,
          0.08820510655641556,
          0.08820510655641556,
          0.08820510655641556,
          0.08820510655641556,
          0.08820510655641556,
          0.08820510655641556,
          0.08820510655641556,
          0.08820510655641556,
          0.08820510655641556,
          0.08820510655641556,
          0.08820510655641556,
          0.08820510655641556,
          0.08820510655641556,
          0.08820510655641556,
          0.08820510655641556,
          0.08820510655641556,
          0.08820510655641556,
          0.08820510655641556,
          0.08820510655641556,
          0.08820510655641556,
          0.08820510655641556,
          0.08820510655641556,
          0.08820510655641556,
          0.08820510655641556,
          0.08820510655641556,
          0.08820510655641556,
          0.08820510655641556,
          0.08820510655641556,
          0.08820510655641556,
          0.08820510655641556,
          0.08820510655641556,
          0.08820510655641556,
          0.08820510655641556,
          0.08820510655641556,
          0.08820510655641556,
          0.08820510655641556,
          0.08820510655641556,
          0.08820510655641556,
          0.08820510655641556,
          0.08820510655641556,
          0.08820510655641556,
          0.08820510655641556,
          0.08820510655641556,
          0.08820510655641556,
          0.08820510655641556,
          0.08820510655641556,
          0.08820510655641556,
          0.08820510655641556,
          0.08820510655641556,
          0.08820510655641556,
          0.08820510655641556,
          0.08820510655641556,
          0.08820510655641556,
          0.08820510655641556,
          0.08820510655641556,
          0.08820510655641556,
          0.08820510655641556,
          0.08820510655641556,
          0.08820510655641556,
          0.08820510655641556,
          0.08820510655641556,
          0.08820510655641556,
          0.0947406217455864
         ],
         "yaxis": "y2"
        },
        {
         "customdata": [
          [
           0.08389584720134735,
           "ale",
           "feat03"
          ],
          [
           0.08389584720134735,
           "ale",
           "feat03"
          ],
          [
           0.08389584720134735,
           "ale",
           "feat03"
          ],
          [
           0.08389584720134735,
           "ale",
           "feat03"
          ],
          [
           0.08389584720134735,
           "ale",
           "feat03"
          ],
          [
           0.08389584720134735,
           "ale",
           "feat03"
          ],
          [
           0.08389584720134735,
           "ale",
           "feat03"
          ],
          [
           0.08389584720134735,
           "ale",
           "feat03"
          ],
          [
           0.08389584720134735,
           "ale",
           "feat03"
          ],
          [
           0.08389584720134735,
           "ale",
           "feat03"
          ],
          [
           0.08389584720134735,
           "ale",
           "feat03"
          ],
          [
           0.08389584720134735,
           "ale",
           "feat03"
          ],
          [
           0.08389584720134735,
           "ale",
           "feat03"
          ],
          [
           0.08389584720134735,
           "ale",
           "feat03"
          ],
          [
           0.08389584720134735,
           "ale",
           "feat03"
          ],
          [
           0.08389584720134735,
           "ale",
           "feat03"
          ],
          [
           0.08389584720134735,
           "ale",
           "feat03"
          ],
          [
           0.08389584720134735,
           "ale",
           "feat03"
          ],
          [
           0.08389584720134735,
           "ale",
           "feat03"
          ],
          [
           0.08389584720134735,
           "ale",
           "feat03"
          ],
          [
           0.08389584720134735,
           "ale",
           "feat03"
          ],
          [
           0.08389584720134735,
           "ale",
           "feat03"
          ],
          [
           0.08389584720134735,
           "ale",
           "feat03"
          ],
          [
           0.08389584720134735,
           "ale",
           "feat03"
          ],
          [
           0.08389584720134735,
           "ale",
           "feat03"
          ],
          [
           0.08389584720134735,
           "ale",
           "feat03"
          ],
          [
           0.08389584720134735,
           "ale",
           "feat03"
          ],
          [
           0.08389584720134735,
           "ale",
           "feat03"
          ],
          [
           0.08389584720134735,
           "ale",
           "feat03"
          ],
          [
           0.08389584720134735,
           "ale",
           "feat03"
          ],
          [
           0.08389584720134735,
           "ale",
           "feat03"
          ],
          [
           0.08389584720134735,
           "ale",
           "feat03"
          ],
          [
           0.08389584720134735,
           "ale",
           "feat03"
          ],
          [
           0.08389584720134735,
           "ale",
           "feat03"
          ],
          [
           0.08389584720134735,
           "ale",
           "feat03"
          ],
          [
           0.08389584720134735,
           "ale",
           "feat03"
          ],
          [
           0.08389584720134735,
           "ale",
           "feat03"
          ],
          [
           0.08389584720134735,
           "ale",
           "feat03"
          ],
          [
           0.08389584720134735,
           "ale",
           "feat03"
          ],
          [
           0.08389584720134735,
           "ale",
           "feat03"
          ],
          [
           0.08389584720134735,
           "ale",
           "feat03"
          ],
          [
           0.08389584720134735,
           "ale",
           "feat03"
          ],
          [
           0.08389584720134735,
           "ale",
           "feat03"
          ],
          [
           0.08389584720134735,
           "ale",
           "feat03"
          ],
          [
           0.08389584720134735,
           "ale",
           "feat03"
          ],
          [
           0.08389584720134735,
           "ale",
           "feat03"
          ],
          [
           0.08389584720134735,
           "ale",
           "feat03"
          ],
          [
           0.08389584720134735,
           "ale",
           "feat03"
          ],
          [
           0.08389584720134735,
           "ale",
           "feat03"
          ],
          [
           0.08389584720134735,
           "ale",
           "feat03"
          ],
          [
           0.08389584720134735,
           "ale",
           "feat03"
          ],
          [
           0.08389584720134735,
           "ale",
           "feat03"
          ],
          [
           0.08389584720134735,
           "ale",
           "feat03"
          ],
          [
           0.08389584720134735,
           "ale",
           "feat03"
          ],
          [
           0.08389584720134735,
           "ale",
           "feat03"
          ],
          [
           0.08389584720134735,
           "ale",
           "feat03"
          ],
          [
           0.08389584720134735,
           "ale",
           "feat03"
          ],
          [
           0.08389584720134735,
           "ale",
           "feat03"
          ],
          [
           0.08389584720134735,
           "ale",
           "feat03"
          ],
          [
           0.08389584720134735,
           "ale",
           "feat03"
          ],
          [
           0.08389584720134735,
           "ale",
           "feat03"
          ],
          [
           0.08389584720134735,
           "ale",
           "feat03"
          ],
          [
           0.08389584720134735,
           "ale",
           "feat03"
          ],
          [
           0.08389584720134735,
           "ale",
           "feat03"
          ],
          [
           0.08389584720134735,
           "ale",
           "feat03"
          ],
          [
           0.08389584720134735,
           "ale",
           "feat03"
          ],
          [
           0.08389584720134735,
           "ale",
           "feat03"
          ],
          [
           0.08389584720134735,
           "ale",
           "feat03"
          ],
          [
           0.08389584720134735,
           "ale",
           "feat03"
          ],
          [
           0.08389584720134735,
           "ale",
           "feat03"
          ],
          [
           0.08389584720134735,
           "ale",
           "feat03"
          ],
          [
           0.08389584720134735,
           "ale",
           "feat03"
          ],
          [
           0.08389584720134735,
           "ale",
           "feat03"
          ],
          [
           0.08389584720134735,
           "ale",
           "feat03"
          ],
          [
           0.08389584720134735,
           "ale",
           "feat03"
          ],
          [
           0.08389584720134735,
           "ale",
           "feat03"
          ],
          [
           0.08389584720134735,
           "ale",
           "feat03"
          ],
          [
           0.08389584720134735,
           "ale",
           "feat03"
          ],
          [
           0.08389584720134735,
           "ale",
           "feat03"
          ],
          [
           0.08389584720134735,
           "ale",
           "feat03"
          ],
          [
           0.08389584720134735,
           "ale",
           "feat03"
          ],
          [
           0.08389584720134735,
           "ale",
           "feat03"
          ],
          [
           0.08389584720134735,
           "ale",
           "feat03"
          ],
          [
           0.08389584720134735,
           "ale",
           "feat03"
          ],
          [
           0.08389584720134735,
           "ale",
           "feat03"
          ],
          [
           0.08389584720134735,
           "ale",
           "feat03"
          ],
          [
           0.08389584720134735,
           "ale",
           "feat03"
          ],
          [
           0.08389584720134735,
           "ale",
           "feat03"
          ],
          [
           0.08389584720134735,
           "ale",
           "feat03"
          ],
          [
           0.08389584720134735,
           "ale",
           "feat03"
          ],
          [
           0.08389584720134735,
           "ale",
           "feat03"
          ],
          [
           0.08389584720134735,
           "ale",
           "feat03"
          ],
          [
           0.08389584720134735,
           "ale",
           "feat03"
          ],
          [
           0.08389584720134735,
           "ale",
           "feat03"
          ],
          [
           0.08389584720134735,
           "ale",
           "feat03"
          ],
          [
           0.08389584720134735,
           "ale",
           "feat03"
          ],
          [
           0.08389584720134735,
           "ale",
           "feat03"
          ],
          [
           0.08389584720134735,
           "ale",
           "feat03"
          ],
          [
           0.08389584720134735,
           "ale",
           "feat03"
          ],
          [
           0.08389584720134735,
           "ale",
           "feat03"
          ],
          [
           0.08389584720134735,
           "ale",
           "feat03"
          ]
         ],
         "hovertemplate": "<b>%{hovertext}</b><br><br>prediction=%{y:.3f}<br>mean_prediction=%{customdata[0]:.3f}<extra></extra>",
         "hovertext": [
          "ale",
          "ale",
          "ale",
          "ale",
          "ale",
          "ale",
          "ale",
          "ale",
          "ale",
          "ale",
          "ale",
          "ale",
          "ale",
          "ale",
          "ale",
          "ale",
          "ale",
          "ale",
          "ale",
          "ale",
          "ale",
          "ale",
          "ale",
          "ale",
          "ale",
          "ale",
          "ale",
          "ale",
          "ale",
          "ale",
          "ale",
          "ale",
          "ale",
          "ale",
          "ale",
          "ale",
          "ale",
          "ale",
          "ale",
          "ale",
          "ale",
          "ale",
          "ale",
          "ale",
          "ale",
          "ale",
          "ale",
          "ale",
          "ale",
          "ale",
          "ale",
          "ale",
          "ale",
          "ale",
          "ale",
          "ale",
          "ale",
          "ale",
          "ale",
          "ale",
          "ale",
          "ale",
          "ale",
          "ale",
          "ale",
          "ale",
          "ale",
          "ale",
          "ale",
          "ale",
          "ale",
          "ale",
          "ale",
          "ale",
          "ale",
          "ale",
          "ale",
          "ale",
          "ale",
          "ale",
          "ale",
          "ale",
          "ale",
          "ale",
          "ale",
          "ale",
          "ale",
          "ale",
          "ale",
          "ale",
          "ale",
          "ale",
          "ale",
          "ale",
          "ale",
          "ale",
          "ale",
          "ale",
          "ale",
          "ale",
          "ale"
         ],
         "legendgroup": "ale",
         "line": {
          "color": "#4378bf",
          "dash": "solid",
          "width": 2
         },
         "marker": {
          "symbol": "circle"
         },
         "mode": "lines",
         "name": "ale",
         "opacity": 1,
         "orientation": "v",
         "showlegend": true,
         "type": "scatter",
         "x": [
          0.1413094839674609,
          0.1581555090788442,
          0.17500153419022751,
          0.19184755930161085,
          0.20869358441299415,
          0.22553960952437746,
          0.2423856346357608,
          0.2592316597471441,
          0.2760776848585274,
          0.2929237099699107,
          0.309769735081294,
          0.32661576019267735,
          0.3434617853040607,
          0.36030781041544396,
          0.3771538355268273,
          0.3939998606382106,
          0.4108458857495939,
          0.42769191086097724,
          0.4445379359723605,
          0.46138396108374385,
          0.47822998619512713,
          0.49507601130651047,
          0.5119220364178938,
          0.5287680615292771,
          0.5456140866406605,
          0.5624601117520438,
          0.579306136863427,
          0.5961521619748104,
          0.6129981870861937,
          0.6298442121975769,
          0.6466902373089602,
          0.6635362624203436,
          0.6803822875317269,
          0.6972283126431102,
          0.7140743377544936,
          0.7309203628658768,
          0.7477663879772601,
          0.7646124130886435,
          0.7814584382000268,
          0.7983044633114101,
          0.8151504884227934,
          0.8319965135341767,
          0.84884253864556,
          0.8656885637569434,
          0.8825345888683267,
          0.89938061397971,
          0.9162266390910933,
          0.9330726642024766,
          0.9499186893138599,
          0.9667647144252433,
          0.9836107395366266,
          1.0004567646480098,
          1.0173027897593931,
          1.0341488148707765,
          1.0509948399821598,
          1.0678408650935431,
          1.0846868902049265,
          1.1015329153163096,
          1.118378940427693,
          1.1352249655390763,
          1.1520709906504596,
          1.168917015761843,
          1.1857630408732263,
          1.2026090659846096,
          1.219455091095993,
          1.2363011162073763,
          1.2531471413187596,
          1.269993166430143,
          1.2868391915415263,
          1.3036852166529096,
          1.3205312417642927,
          1.337377266875676,
          1.3542232919870594,
          1.3710693170984427,
          1.387915342209826,
          1.4047613673212094,
          1.4216073924325927,
          1.438453417543976,
          1.4552994426553594,
          1.4721454677667427,
          1.4889914928781258,
          1.5058375179895092,
          1.5226835431008925,
          1.5395295682122758,
          1.5563755933236592,
          1.5732216184350425,
          1.5900676435464258,
          1.6069136686578092,
          1.6237596937691925,
          1.6406057188805758,
          1.6574517439919592,
          1.6742977691033423,
          1.6911437942147256,
          1.707989819326109,
          1.7248358444374923,
          1.7416818695488756,
          1.758527894660259,
          1.7753739197716423,
          1.7922199448830256,
          1.809065969994409,
          1.825911995105792
         ],
         "xaxis": "x7",
         "y": [
          0.08392163139218461,
          0.08392163139218461,
          0.08392163139218461,
          0.08392163139218461,
          0.08392163139218461,
          0.08392163139218461,
          0.08392163139218461,
          0.08392163139218461,
          0.08392163139218461,
          0.08392163139218461,
          0.08392163139218461,
          0.08392163139218461,
          0.08392163139218461,
          0.08392163139218461,
          0.08540722084356399,
          0.08540722084356399,
          0.08540722084356399,
          0.07735027864540872,
          0.07447689557342678,
          0.07447689557342678,
          0.07447689557342678,
          0.07393944781524873,
          0.08038168596086749,
          0.07814179100604654,
          0.07649448265435443,
          0.07620024422274455,
          0.0760893688597827,
          0.07799956944538834,
          0.07601265720685962,
          0.0753417467851051,
          0.08707252865759389,
          0.09083125272902627,
          0.09375831476007972,
          0.09328457253125992,
          0.09328457253125992,
          0.09225608855680768,
          0.08798469598522135,
          0.08366295778478643,
          0.08376972245593489,
          0.08438212528934612,
          0.08465826287285783,
          0.08726080366525192,
          0.08976416528003849,
          0.0885518863531656,
          0.08255170678971487,
          0.08015792082792907,
          0.07434595033096536,
          0.07431776562524545,
          0.07697900779635838,
          0.07731280607297679,
          0.07737343568774689,
          0.07574938304852778,
          0.07684803759683999,
          0.07560060604494484,
          0.07603112237722734,
          0.07841345401996302,
          0.08033877206804457,
          0.09003030844283157,
          0.09019460030962517,
          0.09107725864529208,
          0.089055281104974,
          0.09235970802045042,
          0.09336912773505718,
          0.08727440455534494,
          0.08856557676192958,
          0.0895720233417821,
          0.09318326635890678,
          0.09339275201376836,
          0.09371104444912744,
          0.08370161359522299,
          0.08474503035936021,
          0.08453851590464442,
          0.08255106482755652,
          0.0823640160982438,
          0.08390295792692602,
          0.08339648135315351,
          0.08293016244658735,
          0.08141796296470191,
          0.08249986802411378,
          0.08265364000280344,
          0.08290109844996232,
          0.08386181477599938,
          0.091681117988348,
          0.091681117988348,
          0.09184986872382066,
          0.0903041134434987,
          0.0912243450070559,
          0.0912243450070559,
          0.08778433941276524,
          0.08778433941276524,
          0.08778433941276524,
          0.08778433941276524,
          0.08778433941276524,
          0.08778433941276524,
          0.08778433941276524,
          0.08778433941276524,
          0.08778433941276524,
          0.08778433941276524,
          0.08778433941276524,
          0.08778433941276524,
          0.08778433941276524
         ],
         "yaxis": "y7"
        },
        {
         "customdata": [
          [
           0.08389584720134735,
           "ale",
           "feat04"
          ],
          [
           0.08389584720134735,
           "ale",
           "feat04"
          ],
          [
           0.08389584720134735,
           "ale",
           "feat04"
          ],
          [
           0.08389584720134735,
           "ale",
           "feat04"
          ],
          [
           0.08389584720134735,
           "ale",
           "feat04"
          ],
          [
           0.08389584720134735,
           "ale",
           "feat04"
          ],
          [
           0.08389584720134735,
           "ale",
           "feat04"
          ],
          [
           0.08389584720134735,
           "ale",
           "feat04"
          ],
          [
           0.08389584720134735,
           "ale",
           "feat04"
          ],
          [
           0.08389584720134735,
           "ale",
           "feat04"
          ],
          [
           0.08389584720134735,
           "ale",
           "feat04"
          ],
          [
           0.08389584720134735,
           "ale",
           "feat04"
          ],
          [
           0.08389584720134735,
           "ale",
           "feat04"
          ],
          [
           0.08389584720134735,
           "ale",
           "feat04"
          ],
          [
           0.08389584720134735,
           "ale",
           "feat04"
          ],
          [
           0.08389584720134735,
           "ale",
           "feat04"
          ],
          [
           0.08389584720134735,
           "ale",
           "feat04"
          ],
          [
           0.08389584720134735,
           "ale",
           "feat04"
          ],
          [
           0.08389584720134735,
           "ale",
           "feat04"
          ],
          [
           0.08389584720134735,
           "ale",
           "feat04"
          ],
          [
           0.08389584720134735,
           "ale",
           "feat04"
          ],
          [
           0.08389584720134735,
           "ale",
           "feat04"
          ],
          [
           0.08389584720134735,
           "ale",
           "feat04"
          ],
          [
           0.08389584720134735,
           "ale",
           "feat04"
          ],
          [
           0.08389584720134735,
           "ale",
           "feat04"
          ],
          [
           0.08389584720134735,
           "ale",
           "feat04"
          ],
          [
           0.08389584720134735,
           "ale",
           "feat04"
          ],
          [
           0.08389584720134735,
           "ale",
           "feat04"
          ],
          [
           0.08389584720134735,
           "ale",
           "feat04"
          ],
          [
           0.08389584720134735,
           "ale",
           "feat04"
          ],
          [
           0.08389584720134735,
           "ale",
           "feat04"
          ],
          [
           0.08389584720134735,
           "ale",
           "feat04"
          ],
          [
           0.08389584720134735,
           "ale",
           "feat04"
          ],
          [
           0.08389584720134735,
           "ale",
           "feat04"
          ],
          [
           0.08389584720134735,
           "ale",
           "feat04"
          ],
          [
           0.08389584720134735,
           "ale",
           "feat04"
          ],
          [
           0.08389584720134735,
           "ale",
           "feat04"
          ],
          [
           0.08389584720134735,
           "ale",
           "feat04"
          ],
          [
           0.08389584720134735,
           "ale",
           "feat04"
          ],
          [
           0.08389584720134735,
           "ale",
           "feat04"
          ],
          [
           0.08389584720134735,
           "ale",
           "feat04"
          ],
          [
           0.08389584720134735,
           "ale",
           "feat04"
          ],
          [
           0.08389584720134735,
           "ale",
           "feat04"
          ],
          [
           0.08389584720134735,
           "ale",
           "feat04"
          ],
          [
           0.08389584720134735,
           "ale",
           "feat04"
          ],
          [
           0.08389584720134735,
           "ale",
           "feat04"
          ],
          [
           0.08389584720134735,
           "ale",
           "feat04"
          ],
          [
           0.08389584720134735,
           "ale",
           "feat04"
          ],
          [
           0.08389584720134735,
           "ale",
           "feat04"
          ],
          [
           0.08389584720134735,
           "ale",
           "feat04"
          ],
          [
           0.08389584720134735,
           "ale",
           "feat04"
          ],
          [
           0.08389584720134735,
           "ale",
           "feat04"
          ],
          [
           0.08389584720134735,
           "ale",
           "feat04"
          ],
          [
           0.08389584720134735,
           "ale",
           "feat04"
          ],
          [
           0.08389584720134735,
           "ale",
           "feat04"
          ],
          [
           0.08389584720134735,
           "ale",
           "feat04"
          ],
          [
           0.08389584720134735,
           "ale",
           "feat04"
          ],
          [
           0.08389584720134735,
           "ale",
           "feat04"
          ],
          [
           0.08389584720134735,
           "ale",
           "feat04"
          ],
          [
           0.08389584720134735,
           "ale",
           "feat04"
          ],
          [
           0.08389584720134735,
           "ale",
           "feat04"
          ],
          [
           0.08389584720134735,
           "ale",
           "feat04"
          ],
          [
           0.08389584720134735,
           "ale",
           "feat04"
          ],
          [
           0.08389584720134735,
           "ale",
           "feat04"
          ],
          [
           0.08389584720134735,
           "ale",
           "feat04"
          ],
          [
           0.08389584720134735,
           "ale",
           "feat04"
          ],
          [
           0.08389584720134735,
           "ale",
           "feat04"
          ],
          [
           0.08389584720134735,
           "ale",
           "feat04"
          ],
          [
           0.08389584720134735,
           "ale",
           "feat04"
          ],
          [
           0.08389584720134735,
           "ale",
           "feat04"
          ],
          [
           0.08389584720134735,
           "ale",
           "feat04"
          ],
          [
           0.08389584720134735,
           "ale",
           "feat04"
          ],
          [
           0.08389584720134735,
           "ale",
           "feat04"
          ],
          [
           0.08389584720134735,
           "ale",
           "feat04"
          ],
          [
           0.08389584720134735,
           "ale",
           "feat04"
          ],
          [
           0.08389584720134735,
           "ale",
           "feat04"
          ],
          [
           0.08389584720134735,
           "ale",
           "feat04"
          ],
          [
           0.08389584720134735,
           "ale",
           "feat04"
          ],
          [
           0.08389584720134735,
           "ale",
           "feat04"
          ],
          [
           0.08389584720134735,
           "ale",
           "feat04"
          ],
          [
           0.08389584720134735,
           "ale",
           "feat04"
          ],
          [
           0.08389584720134735,
           "ale",
           "feat04"
          ],
          [
           0.08389584720134735,
           "ale",
           "feat04"
          ],
          [
           0.08389584720134735,
           "ale",
           "feat04"
          ],
          [
           0.08389584720134735,
           "ale",
           "feat04"
          ],
          [
           0.08389584720134735,
           "ale",
           "feat04"
          ],
          [
           0.08389584720134735,
           "ale",
           "feat04"
          ],
          [
           0.08389584720134735,
           "ale",
           "feat04"
          ],
          [
           0.08389584720134735,
           "ale",
           "feat04"
          ],
          [
           0.08389584720134735,
           "ale",
           "feat04"
          ],
          [
           0.08389584720134735,
           "ale",
           "feat04"
          ],
          [
           0.08389584720134735,
           "ale",
           "feat04"
          ],
          [
           0.08389584720134735,
           "ale",
           "feat04"
          ],
          [
           0.08389584720134735,
           "ale",
           "feat04"
          ],
          [
           0.08389584720134735,
           "ale",
           "feat04"
          ],
          [
           0.08389584720134735,
           "ale",
           "feat04"
          ],
          [
           0.08389584720134735,
           "ale",
           "feat04"
          ],
          [
           0.08389584720134735,
           "ale",
           "feat04"
          ],
          [
           0.08389584720134735,
           "ale",
           "feat04"
          ],
          [
           0.08389584720134735,
           "ale",
           "feat04"
          ],
          [
           0.08389584720134735,
           "ale",
           "feat04"
          ]
         ],
         "hovertemplate": "<b>%{hovertext}</b><br><br>prediction=%{y:.3f}<br>mean_prediction=%{customdata[0]:.3f}<extra></extra>",
         "hovertext": [
          "ale",
          "ale",
          "ale",
          "ale",
          "ale",
          "ale",
          "ale",
          "ale",
          "ale",
          "ale",
          "ale",
          "ale",
          "ale",
          "ale",
          "ale",
          "ale",
          "ale",
          "ale",
          "ale",
          "ale",
          "ale",
          "ale",
          "ale",
          "ale",
          "ale",
          "ale",
          "ale",
          "ale",
          "ale",
          "ale",
          "ale",
          "ale",
          "ale",
          "ale",
          "ale",
          "ale",
          "ale",
          "ale",
          "ale",
          "ale",
          "ale",
          "ale",
          "ale",
          "ale",
          "ale",
          "ale",
          "ale",
          "ale",
          "ale",
          "ale",
          "ale",
          "ale",
          "ale",
          "ale",
          "ale",
          "ale",
          "ale",
          "ale",
          "ale",
          "ale",
          "ale",
          "ale",
          "ale",
          "ale",
          "ale",
          "ale",
          "ale",
          "ale",
          "ale",
          "ale",
          "ale",
          "ale",
          "ale",
          "ale",
          "ale",
          "ale",
          "ale",
          "ale",
          "ale",
          "ale",
          "ale",
          "ale",
          "ale",
          "ale",
          "ale",
          "ale",
          "ale",
          "ale",
          "ale",
          "ale",
          "ale",
          "ale",
          "ale",
          "ale",
          "ale",
          "ale",
          "ale",
          "ale",
          "ale",
          "ale",
          "ale"
         ],
         "legendgroup": "ale",
         "line": {
          "color": "#4378bf",
          "dash": "solid",
          "width": 2
         },
         "marker": {
          "symbol": "circle"
         },
         "mode": "lines",
         "name": "ale",
         "opacity": 1,
         "orientation": "v",
         "showlegend": false,
         "type": "scatter",
         "x": [
          0.0596270794048905,
          0.07695500652386546,
          0.0942829336428404,
          0.11161086076181537,
          0.12893878788079033,
          0.1462667149997653,
          0.16359464211874022,
          0.1809225692377152,
          0.19825049635669015,
          0.2155784234756651,
          0.23290635059464007,
          0.250234277713615,
          0.26756220483258997,
          0.28489013195156493,
          0.30221805907053984,
          0.3195459861895148,
          0.33687391330848976,
          0.3542018404274647,
          0.3715297675464397,
          0.38885769466541464,
          0.4061856217843896,
          0.4235135489033645,
          0.4408414760223395,
          0.45816940314131444,
          0.4754973302602894,
          0.49282525737926436,
          0.5101531844982393,
          0.5274811116172143,
          0.5448090387361892,
          0.5621369658551643,
          0.5794648929741392,
          0.5967928200931142,
          0.6141207472120891,
          0.631448674331064,
          0.648776601450039,
          0.6661045285690139,
          0.6834324556879889,
          0.7007603828069638,
          0.7180883099259389,
          0.7354162370449138,
          0.7527441641638888,
          0.7700720912828637,
          0.7874000184018386,
          0.8047279455208136,
          0.8220558726397885,
          0.8393837997587635,
          0.8567117268777384,
          0.8740396539967135,
          0.8913675811156884,
          0.9086955082346633,
          0.9260234353536383,
          0.9433513624726132,
          0.9606792895915882,
          0.9780072167105631,
          0.9953351438295381,
          1.012663070948513,
          1.029990998067488,
          1.047318925186463,
          1.064646852305438,
          1.0819747794244128,
          1.0993027065433878,
          1.1166306336623628,
          1.1339585607813378,
          1.1512864879003126,
          1.1686144150192876,
          1.1859423421382627,
          1.2032702692572375,
          1.2205981963762125,
          1.2379261234951875,
          1.2552540506141625,
          1.2725819777331373,
          1.2899099048521123,
          1.3072378319710873,
          1.3245657590900621,
          1.3418936862090372,
          1.3592216133280122,
          1.3765495404469872,
          1.393877467565962,
          1.411205394684937,
          1.428533321803912,
          1.445861248922887,
          1.4631891760418618,
          1.4805171031608368,
          1.4978450302798119,
          1.5151729573987867,
          1.5325008845177617,
          1.5498288116367367,
          1.5671567387557117,
          1.5844846658746865,
          1.6018125929936615,
          1.6191405201126365,
          1.6364684472316113,
          1.6537963743505864,
          1.6711243014695614,
          1.6884522285885364,
          1.7057801557075112,
          1.7231080828264862,
          1.7404360099454612,
          1.757763937064436,
          1.775091864183411,
          1.792419791302386
         ],
         "xaxis": "x8",
         "y": [
          0.08392163139218461,
          0.08392163139218461,
          0.08392163139218461,
          0.08392163139218461,
          0.08392163139218461,
          0.08392163139218461,
          0.08392163139218461,
          0.08392163139218461,
          0.08392163139218461,
          0.08392163139218461,
          0.08392163139218461,
          0.08392163139218461,
          0.08392163139218461,
          0.08392163139218461,
          0.08392163139218461,
          0.08191764024997557,
          0.08191764024997557,
          0.08191764024997557,
          0.08191764024997557,
          0.07903930474585599,
          0.07262187236009036,
          0.06172594875843602,
          0.06172594875843602,
          0.06172594875843602,
          0.0617556249647163,
          0.0617556249647163,
          0.06531889264520796,
          0.07147717185181822,
          0.07398155965901047,
          0.07268635518618527,
          0.07580506599750599,
          0.07304033390785115,
          0.07449400423174934,
          0.0659957897704276,
          0.06754784922648063,
          0.0715287077349893,
          0.06911938785427812,
          0.06805256107609893,
          0.06718722800479765,
          0.06872433561521471,
          0.06856049924043091,
          0.06877569458320967,
          0.07013106004335262,
          0.07242105768884792,
          0.07276256247596406,
          0.0762377064090585,
          0.0758616813922412,
          0.0771633495159673,
          0.07644579422124147,
          0.08671751722592516,
          0.08994770009307161,
          0.09522405152723332,
          0.09386629509427781,
          0.08491837410198975,
          0.07192945506983603,
          0.06724477328335567,
          0.06769668602750224,
          0.07206301642879301,
          0.07313976353965543,
          0.0716544409249379,
          0.07448722364443164,
          0.07484423616758921,
          0.07494097395148164,
          0.07645342523220544,
          0.07586429878922875,
          0.07486363937411497,
          0.07541105684023032,
          0.07662677868556671,
          0.07993595862345192,
          0.07777967190715988,
          0.07709470657323292,
          0.08527477645800913,
          0.08479765182248185,
          0.07263556799380552,
          0.072891230972651,
          0.07296908295818806,
          0.0715376801009468,
          0.07225582700390251,
          0.07506159329025909,
          0.07903017158337902,
          0.07903017158337902,
          0.08110802316518714,
          0.08142059376095287,
          0.08142059376095287,
          0.07867969729944124,
          0.07867969729944124,
          0.07879480692204414,
          0.07711549039494606,
          0.07711549039494606,
          0.07824624292661793,
          0.07824624292661793,
          0.07824624292661793,
          0.07824624292661793,
          0.07824624292661793,
          0.07824624292661793,
          0.07824624292661793,
          0.07824624292661793,
          0.07824624292661793,
          0.07824624292661793,
          0.07824624292661793,
          0.07824624292661793
         ],
         "yaxis": "y8"
        },
        {
         "customdata": [
          [
           0.08389584720134735,
           "ale",
           "feat06"
          ],
          [
           0.08389584720134735,
           "ale",
           "feat06"
          ],
          [
           0.08389584720134735,
           "ale",
           "feat06"
          ],
          [
           0.08389584720134735,
           "ale",
           "feat06"
          ],
          [
           0.08389584720134735,
           "ale",
           "feat06"
          ],
          [
           0.08389584720134735,
           "ale",
           "feat06"
          ],
          [
           0.08389584720134735,
           "ale",
           "feat06"
          ],
          [
           0.08389584720134735,
           "ale",
           "feat06"
          ],
          [
           0.08389584720134735,
           "ale",
           "feat06"
          ],
          [
           0.08389584720134735,
           "ale",
           "feat06"
          ],
          [
           0.08389584720134735,
           "ale",
           "feat06"
          ],
          [
           0.08389584720134735,
           "ale",
           "feat06"
          ],
          [
           0.08389584720134735,
           "ale",
           "feat06"
          ],
          [
           0.08389584720134735,
           "ale",
           "feat06"
          ],
          [
           0.08389584720134735,
           "ale",
           "feat06"
          ],
          [
           0.08389584720134735,
           "ale",
           "feat06"
          ],
          [
           0.08389584720134735,
           "ale",
           "feat06"
          ],
          [
           0.08389584720134735,
           "ale",
           "feat06"
          ],
          [
           0.08389584720134735,
           "ale",
           "feat06"
          ],
          [
           0.08389584720134735,
           "ale",
           "feat06"
          ],
          [
           0.08389584720134735,
           "ale",
           "feat06"
          ],
          [
           0.08389584720134735,
           "ale",
           "feat06"
          ],
          [
           0.08389584720134735,
           "ale",
           "feat06"
          ],
          [
           0.08389584720134735,
           "ale",
           "feat06"
          ],
          [
           0.08389584720134735,
           "ale",
           "feat06"
          ],
          [
           0.08389584720134735,
           "ale",
           "feat06"
          ],
          [
           0.08389584720134735,
           "ale",
           "feat06"
          ],
          [
           0.08389584720134735,
           "ale",
           "feat06"
          ],
          [
           0.08389584720134735,
           "ale",
           "feat06"
          ],
          [
           0.08389584720134735,
           "ale",
           "feat06"
          ],
          [
           0.08389584720134735,
           "ale",
           "feat06"
          ],
          [
           0.08389584720134735,
           "ale",
           "feat06"
          ],
          [
           0.08389584720134735,
           "ale",
           "feat06"
          ],
          [
           0.08389584720134735,
           "ale",
           "feat06"
          ],
          [
           0.08389584720134735,
           "ale",
           "feat06"
          ],
          [
           0.08389584720134735,
           "ale",
           "feat06"
          ],
          [
           0.08389584720134735,
           "ale",
           "feat06"
          ],
          [
           0.08389584720134735,
           "ale",
           "feat06"
          ],
          [
           0.08389584720134735,
           "ale",
           "feat06"
          ],
          [
           0.08389584720134735,
           "ale",
           "feat06"
          ],
          [
           0.08389584720134735,
           "ale",
           "feat06"
          ],
          [
           0.08389584720134735,
           "ale",
           "feat06"
          ],
          [
           0.08389584720134735,
           "ale",
           "feat06"
          ],
          [
           0.08389584720134735,
           "ale",
           "feat06"
          ],
          [
           0.08389584720134735,
           "ale",
           "feat06"
          ],
          [
           0.08389584720134735,
           "ale",
           "feat06"
          ],
          [
           0.08389584720134735,
           "ale",
           "feat06"
          ],
          [
           0.08389584720134735,
           "ale",
           "feat06"
          ],
          [
           0.08389584720134735,
           "ale",
           "feat06"
          ],
          [
           0.08389584720134735,
           "ale",
           "feat06"
          ],
          [
           0.08389584720134735,
           "ale",
           "feat06"
          ],
          [
           0.08389584720134735,
           "ale",
           "feat06"
          ],
          [
           0.08389584720134735,
           "ale",
           "feat06"
          ],
          [
           0.08389584720134735,
           "ale",
           "feat06"
          ],
          [
           0.08389584720134735,
           "ale",
           "feat06"
          ],
          [
           0.08389584720134735,
           "ale",
           "feat06"
          ],
          [
           0.08389584720134735,
           "ale",
           "feat06"
          ],
          [
           0.08389584720134735,
           "ale",
           "feat06"
          ],
          [
           0.08389584720134735,
           "ale",
           "feat06"
          ],
          [
           0.08389584720134735,
           "ale",
           "feat06"
          ],
          [
           0.08389584720134735,
           "ale",
           "feat06"
          ],
          [
           0.08389584720134735,
           "ale",
           "feat06"
          ],
          [
           0.08389584720134735,
           "ale",
           "feat06"
          ],
          [
           0.08389584720134735,
           "ale",
           "feat06"
          ],
          [
           0.08389584720134735,
           "ale",
           "feat06"
          ],
          [
           0.08389584720134735,
           "ale",
           "feat06"
          ],
          [
           0.08389584720134735,
           "ale",
           "feat06"
          ],
          [
           0.08389584720134735,
           "ale",
           "feat06"
          ],
          [
           0.08389584720134735,
           "ale",
           "feat06"
          ],
          [
           0.08389584720134735,
           "ale",
           "feat06"
          ],
          [
           0.08389584720134735,
           "ale",
           "feat06"
          ],
          [
           0.08389584720134735,
           "ale",
           "feat06"
          ],
          [
           0.08389584720134735,
           "ale",
           "feat06"
          ],
          [
           0.08389584720134735,
           "ale",
           "feat06"
          ],
          [
           0.08389584720134735,
           "ale",
           "feat06"
          ],
          [
           0.08389584720134735,
           "ale",
           "feat06"
          ],
          [
           0.08389584720134735,
           "ale",
           "feat06"
          ],
          [
           0.08389584720134735,
           "ale",
           "feat06"
          ],
          [
           0.08389584720134735,
           "ale",
           "feat06"
          ],
          [
           0.08389584720134735,
           "ale",
           "feat06"
          ],
          [
           0.08389584720134735,
           "ale",
           "feat06"
          ],
          [
           0.08389584720134735,
           "ale",
           "feat06"
          ],
          [
           0.08389584720134735,
           "ale",
           "feat06"
          ],
          [
           0.08389584720134735,
           "ale",
           "feat06"
          ],
          [
           0.08389584720134735,
           "ale",
           "feat06"
          ],
          [
           0.08389584720134735,
           "ale",
           "feat06"
          ],
          [
           0.08389584720134735,
           "ale",
           "feat06"
          ],
          [
           0.08389584720134735,
           "ale",
           "feat06"
          ],
          [
           0.08389584720134735,
           "ale",
           "feat06"
          ],
          [
           0.08389584720134735,
           "ale",
           "feat06"
          ],
          [
           0.08389584720134735,
           "ale",
           "feat06"
          ],
          [
           0.08389584720134735,
           "ale",
           "feat06"
          ],
          [
           0.08389584720134735,
           "ale",
           "feat06"
          ],
          [
           0.08389584720134735,
           "ale",
           "feat06"
          ],
          [
           0.08389584720134735,
           "ale",
           "feat06"
          ],
          [
           0.08389584720134735,
           "ale",
           "feat06"
          ],
          [
           0.08389584720134735,
           "ale",
           "feat06"
          ],
          [
           0.08389584720134735,
           "ale",
           "feat06"
          ],
          [
           0.08389584720134735,
           "ale",
           "feat06"
          ],
          [
           0.08389584720134735,
           "ale",
           "feat06"
          ],
          [
           0.08389584720134735,
           "ale",
           "feat06"
          ]
         ],
         "hovertemplate": "<b>%{hovertext}</b><br><br>prediction=%{y:.3f}<br>mean_prediction=%{customdata[0]:.3f}<extra></extra>",
         "hovertext": [
          "ale",
          "ale",
          "ale",
          "ale",
          "ale",
          "ale",
          "ale",
          "ale",
          "ale",
          "ale",
          "ale",
          "ale",
          "ale",
          "ale",
          "ale",
          "ale",
          "ale",
          "ale",
          "ale",
          "ale",
          "ale",
          "ale",
          "ale",
          "ale",
          "ale",
          "ale",
          "ale",
          "ale",
          "ale",
          "ale",
          "ale",
          "ale",
          "ale",
          "ale",
          "ale",
          "ale",
          "ale",
          "ale",
          "ale",
          "ale",
          "ale",
          "ale",
          "ale",
          "ale",
          "ale",
          "ale",
          "ale",
          "ale",
          "ale",
          "ale",
          "ale",
          "ale",
          "ale",
          "ale",
          "ale",
          "ale",
          "ale",
          "ale",
          "ale",
          "ale",
          "ale",
          "ale",
          "ale",
          "ale",
          "ale",
          "ale",
          "ale",
          "ale",
          "ale",
          "ale",
          "ale",
          "ale",
          "ale",
          "ale",
          "ale",
          "ale",
          "ale",
          "ale",
          "ale",
          "ale",
          "ale",
          "ale",
          "ale",
          "ale",
          "ale",
          "ale",
          "ale",
          "ale",
          "ale",
          "ale",
          "ale",
          "ale",
          "ale",
          "ale",
          "ale",
          "ale",
          "ale",
          "ale",
          "ale",
          "ale",
          "ale"
         ],
         "legendgroup": "ale",
         "line": {
          "color": "#4378bf",
          "dash": "solid",
          "width": 2
         },
         "marker": {
          "symbol": "circle"
         },
         "mode": "lines",
         "name": "ale",
         "opacity": 1,
         "orientation": "v",
         "showlegend": false,
         "type": "scatter",
         "x": [
          0.0205924851590005,
          0.038912129315667746,
          0.05723177347233499,
          0.07555141762900223,
          0.09387106178566948,
          0.11219070594233672,
          0.13051035009900397,
          0.1488299942556712,
          0.16714963841233846,
          0.18546928256900572,
          0.20378892672567295,
          0.22210857088234018,
          0.24042821503900744,
          0.25874785919567467,
          0.27706750335234187,
          0.2953871475090092,
          0.3137067916656764,
          0.3320264358223437,
          0.3503460799790109,
          0.3686657241356781,
          0.3869853682923454,
          0.4053050124490126,
          0.42362465660567983,
          0.44194430076234714,
          0.46026394491901435,
          0.47858358907568166,
          0.49690323323234886,
          0.5152228773890161,
          0.5335425215456833,
          0.5518621657023506,
          0.5701818098590178,
          0.5885014540156851,
          0.6068210981723523,
          0.6251407423290195,
          0.6434603864856868,
          0.661780030642354,
          0.6800996747990213,
          0.6984193189556885,
          0.7167389631123557,
          0.7350586072690231,
          0.7533782514256903,
          0.7716978955823575,
          0.7900175397390248,
          0.808337183895692,
          0.8266568280523592,
          0.8449764722090265,
          0.8632961163656937,
          0.881615760522361,
          0.8999354046790282,
          0.9182550488356954,
          0.9365746929923627,
          0.9548943371490299,
          0.9732139813056973,
          0.9915336254623645,
          1.0098532696190317,
          1.028172913775699,
          1.046492557932366,
          1.0648122020890334,
          1.0831318462457007,
          1.101451490402368,
          1.119771134559035,
          1.1380907787157024,
          1.1564104228723697,
          1.1747300670290368,
          1.1930497111857041,
          1.2113693553423714,
          1.2296889994990385,
          1.2480086436557059,
          1.2663282878123732,
          1.2846479319690403,
          1.3029675761257076,
          1.3212872202823749,
          1.3396068644390422,
          1.3579265085957093,
          1.3762461527523766,
          1.394565796909044,
          1.412885441065711,
          1.4312050852223783,
          1.4495247293790456,
          1.4678443735357127,
          1.48616401769238,
          1.5044836618490474,
          1.5228033060057145,
          1.5411229501623818,
          1.559442594319049,
          1.5777622384757162,
          1.5960818826323835,
          1.6144015267890508,
          1.632721170945718,
          1.6510408151023852,
          1.6693604592590525,
          1.6876801034157198,
          1.705999747572387,
          1.7243193917290542,
          1.7426390358857216,
          1.7609586800423886,
          1.779278324199056,
          1.7975979683557233,
          1.8159176125123904,
          1.8342372566690577,
          1.8525569008257248
         ],
         "xaxis": "x5",
         "y": [
          0.08392163139218461,
          0.08392163139218461,
          0.08392163139218461,
          0.08392163139218461,
          0.08392163139218461,
          0.08392163139218461,
          0.08392163139218461,
          0.08392163139218461,
          0.08392163139218461,
          0.08392163139218461,
          0.08392163139218461,
          0.08392163139218461,
          0.08392163139218461,
          0.08346600175048183,
          0.08346600175048183,
          0.08346600175048183,
          0.08346600175048183,
          0.08346600175048183,
          0.08346600175048183,
          0.08346600175048183,
          0.08821875101798478,
          0.08821875101798478,
          0.08821875101798478,
          0.08821875101798478,
          0.08821875101798478,
          0.0904850868188319,
          0.09221223575889526,
          0.09300936029009942,
          0.09161655796394293,
          0.09251818411142113,
          0.09403490402829998,
          0.09394355279271464,
          0.09522818282151467,
          0.09804427396166908,
          0.09787728777489828,
          0.09956697452731182,
          0.09678158016700794,
          0.09310620291542378,
          0.08609578498990536,
          0.09183129333552305,
          0.10454877173591806,
          0.09791400490769836,
          0.09957383923590049,
          0.11478583618331725,
          0.09976198484904282,
          0.09654833914066988,
          0.09295345212472449,
          0.09175468992300849,
          0.09149476651520623,
          0.09450427823291724,
          0.09774571936261289,
          0.09666324674260315,
          0.09451481151838222,
          0.09464652121906686,
          0.09392963045230021,
          0.09687657812531557,
          0.09792251373513527,
          0.09981021510628978,
          0.09937947154997907,
          0.10093429347539377,
          0.10154653434716138,
          0.10184497956572869,
          0.09981304992393558,
          0.09135799008190341,
          0.08975927609123978,
          0.08955655843785502,
          0.0895963644369603,
          0.09255007238963013,
          0.09594783743453546,
          0.09673630926895332,
          0.09724521386547774,
          0.09820820461085396,
          0.0970779169785958,
          0.09874458436335702,
          0.08266206861979795,
          0.07952870640523485,
          0.07952870640523485,
          0.08525208432168936,
          0.09497095367831586,
          0.09428282026958247,
          0.09648531074418613,
          0.09067704333754913,
          0.09067704333754913,
          0.09067704333754913,
          0.09067704333754913,
          0.09067704333754913,
          0.09067704333754913,
          0.09067704333754913,
          0.09067704333754913,
          0.09067704333754913,
          0.09067704333754913,
          0.09067704333754913,
          0.09067704333754913,
          0.09067704333754913,
          0.09067704333754913,
          0.09067704333754913,
          0.09067704333754913,
          0.09067704333754913,
          0.09067704333754913,
          0.09067704333754913,
          0.09067704333754913
         ],
         "yaxis": "y5"
        },
        {
         "customdata": [
          [
           0.08389584720134735,
           "ale",
           "feat07"
          ],
          [
           0.08389584720134735,
           "ale",
           "feat07"
          ],
          [
           0.08389584720134735,
           "ale",
           "feat07"
          ],
          [
           0.08389584720134735,
           "ale",
           "feat07"
          ],
          [
           0.08389584720134735,
           "ale",
           "feat07"
          ],
          [
           0.08389584720134735,
           "ale",
           "feat07"
          ],
          [
           0.08389584720134735,
           "ale",
           "feat07"
          ],
          [
           0.08389584720134735,
           "ale",
           "feat07"
          ],
          [
           0.08389584720134735,
           "ale",
           "feat07"
          ],
          [
           0.08389584720134735,
           "ale",
           "feat07"
          ],
          [
           0.08389584720134735,
           "ale",
           "feat07"
          ],
          [
           0.08389584720134735,
           "ale",
           "feat07"
          ],
          [
           0.08389584720134735,
           "ale",
           "feat07"
          ],
          [
           0.08389584720134735,
           "ale",
           "feat07"
          ],
          [
           0.08389584720134735,
           "ale",
           "feat07"
          ],
          [
           0.08389584720134735,
           "ale",
           "feat07"
          ],
          [
           0.08389584720134735,
           "ale",
           "feat07"
          ],
          [
           0.08389584720134735,
           "ale",
           "feat07"
          ],
          [
           0.08389584720134735,
           "ale",
           "feat07"
          ],
          [
           0.08389584720134735,
           "ale",
           "feat07"
          ],
          [
           0.08389584720134735,
           "ale",
           "feat07"
          ],
          [
           0.08389584720134735,
           "ale",
           "feat07"
          ],
          [
           0.08389584720134735,
           "ale",
           "feat07"
          ],
          [
           0.08389584720134735,
           "ale",
           "feat07"
          ],
          [
           0.08389584720134735,
           "ale",
           "feat07"
          ],
          [
           0.08389584720134735,
           "ale",
           "feat07"
          ],
          [
           0.08389584720134735,
           "ale",
           "feat07"
          ],
          [
           0.08389584720134735,
           "ale",
           "feat07"
          ],
          [
           0.08389584720134735,
           "ale",
           "feat07"
          ],
          [
           0.08389584720134735,
           "ale",
           "feat07"
          ],
          [
           0.08389584720134735,
           "ale",
           "feat07"
          ],
          [
           0.08389584720134735,
           "ale",
           "feat07"
          ],
          [
           0.08389584720134735,
           "ale",
           "feat07"
          ],
          [
           0.08389584720134735,
           "ale",
           "feat07"
          ],
          [
           0.08389584720134735,
           "ale",
           "feat07"
          ],
          [
           0.08389584720134735,
           "ale",
           "feat07"
          ],
          [
           0.08389584720134735,
           "ale",
           "feat07"
          ],
          [
           0.08389584720134735,
           "ale",
           "feat07"
          ],
          [
           0.08389584720134735,
           "ale",
           "feat07"
          ],
          [
           0.08389584720134735,
           "ale",
           "feat07"
          ],
          [
           0.08389584720134735,
           "ale",
           "feat07"
          ],
          [
           0.08389584720134735,
           "ale",
           "feat07"
          ],
          [
           0.08389584720134735,
           "ale",
           "feat07"
          ],
          [
           0.08389584720134735,
           "ale",
           "feat07"
          ],
          [
           0.08389584720134735,
           "ale",
           "feat07"
          ],
          [
           0.08389584720134735,
           "ale",
           "feat07"
          ],
          [
           0.08389584720134735,
           "ale",
           "feat07"
          ],
          [
           0.08389584720134735,
           "ale",
           "feat07"
          ],
          [
           0.08389584720134735,
           "ale",
           "feat07"
          ],
          [
           0.08389584720134735,
           "ale",
           "feat07"
          ],
          [
           0.08389584720134735,
           "ale",
           "feat07"
          ],
          [
           0.08389584720134735,
           "ale",
           "feat07"
          ],
          [
           0.08389584720134735,
           "ale",
           "feat07"
          ],
          [
           0.08389584720134735,
           "ale",
           "feat07"
          ],
          [
           0.08389584720134735,
           "ale",
           "feat07"
          ],
          [
           0.08389584720134735,
           "ale",
           "feat07"
          ],
          [
           0.08389584720134735,
           "ale",
           "feat07"
          ],
          [
           0.08389584720134735,
           "ale",
           "feat07"
          ],
          [
           0.08389584720134735,
           "ale",
           "feat07"
          ],
          [
           0.08389584720134735,
           "ale",
           "feat07"
          ],
          [
           0.08389584720134735,
           "ale",
           "feat07"
          ],
          [
           0.08389584720134735,
           "ale",
           "feat07"
          ],
          [
           0.08389584720134735,
           "ale",
           "feat07"
          ],
          [
           0.08389584720134735,
           "ale",
           "feat07"
          ],
          [
           0.08389584720134735,
           "ale",
           "feat07"
          ],
          [
           0.08389584720134735,
           "ale",
           "feat07"
          ],
          [
           0.08389584720134735,
           "ale",
           "feat07"
          ],
          [
           0.08389584720134735,
           "ale",
           "feat07"
          ],
          [
           0.08389584720134735,
           "ale",
           "feat07"
          ],
          [
           0.08389584720134735,
           "ale",
           "feat07"
          ],
          [
           0.08389584720134735,
           "ale",
           "feat07"
          ],
          [
           0.08389584720134735,
           "ale",
           "feat07"
          ],
          [
           0.08389584720134735,
           "ale",
           "feat07"
          ],
          [
           0.08389584720134735,
           "ale",
           "feat07"
          ],
          [
           0.08389584720134735,
           "ale",
           "feat07"
          ],
          [
           0.08389584720134735,
           "ale",
           "feat07"
          ],
          [
           0.08389584720134735,
           "ale",
           "feat07"
          ],
          [
           0.08389584720134735,
           "ale",
           "feat07"
          ],
          [
           0.08389584720134735,
           "ale",
           "feat07"
          ],
          [
           0.08389584720134735,
           "ale",
           "feat07"
          ],
          [
           0.08389584720134735,
           "ale",
           "feat07"
          ],
          [
           0.08389584720134735,
           "ale",
           "feat07"
          ],
          [
           0.08389584720134735,
           "ale",
           "feat07"
          ],
          [
           0.08389584720134735,
           "ale",
           "feat07"
          ],
          [
           0.08389584720134735,
           "ale",
           "feat07"
          ],
          [
           0.08389584720134735,
           "ale",
           "feat07"
          ],
          [
           0.08389584720134735,
           "ale",
           "feat07"
          ],
          [
           0.08389584720134735,
           "ale",
           "feat07"
          ],
          [
           0.08389584720134735,
           "ale",
           "feat07"
          ],
          [
           0.08389584720134735,
           "ale",
           "feat07"
          ],
          [
           0.08389584720134735,
           "ale",
           "feat07"
          ],
          [
           0.08389584720134735,
           "ale",
           "feat07"
          ],
          [
           0.08389584720134735,
           "ale",
           "feat07"
          ],
          [
           0.08389584720134735,
           "ale",
           "feat07"
          ],
          [
           0.08389584720134735,
           "ale",
           "feat07"
          ],
          [
           0.08389584720134735,
           "ale",
           "feat07"
          ],
          [
           0.08389584720134735,
           "ale",
           "feat07"
          ],
          [
           0.08389584720134735,
           "ale",
           "feat07"
          ],
          [
           0.08389584720134735,
           "ale",
           "feat07"
          ],
          [
           0.08389584720134735,
           "ale",
           "feat07"
          ],
          [
           0.08389584720134735,
           "ale",
           "feat07"
          ]
         ],
         "hovertemplate": "<b>%{hovertext}</b><br><br>prediction=%{y:.3f}<br>mean_prediction=%{customdata[0]:.3f}<extra></extra>",
         "hovertext": [
          "ale",
          "ale",
          "ale",
          "ale",
          "ale",
          "ale",
          "ale",
          "ale",
          "ale",
          "ale",
          "ale",
          "ale",
          "ale",
          "ale",
          "ale",
          "ale",
          "ale",
          "ale",
          "ale",
          "ale",
          "ale",
          "ale",
          "ale",
          "ale",
          "ale",
          "ale",
          "ale",
          "ale",
          "ale",
          "ale",
          "ale",
          "ale",
          "ale",
          "ale",
          "ale",
          "ale",
          "ale",
          "ale",
          "ale",
          "ale",
          "ale",
          "ale",
          "ale",
          "ale",
          "ale",
          "ale",
          "ale",
          "ale",
          "ale",
          "ale",
          "ale",
          "ale",
          "ale",
          "ale",
          "ale",
          "ale",
          "ale",
          "ale",
          "ale",
          "ale",
          "ale",
          "ale",
          "ale",
          "ale",
          "ale",
          "ale",
          "ale",
          "ale",
          "ale",
          "ale",
          "ale",
          "ale",
          "ale",
          "ale",
          "ale",
          "ale",
          "ale",
          "ale",
          "ale",
          "ale",
          "ale",
          "ale",
          "ale",
          "ale",
          "ale",
          "ale",
          "ale",
          "ale",
          "ale",
          "ale",
          "ale",
          "ale",
          "ale",
          "ale",
          "ale",
          "ale",
          "ale",
          "ale",
          "ale",
          "ale",
          "ale"
         ],
         "legendgroup": "ale",
         "line": {
          "color": "#4378bf",
          "dash": "solid",
          "width": 2
         },
         "marker": {
          "symbol": "circle"
         },
         "mode": "lines",
         "name": "ale",
         "opacity": 1,
         "orientation": "v",
         "showlegend": false,
         "type": "scatter",
         "x": [
          0.1056341687554374,
          0.12312707081454449,
          0.14061997287365158,
          0.15811287493275866,
          0.17560577699186578,
          0.1930986790509729,
          0.21059158111007997,
          0.22808448316918706,
          0.24557738522829414,
          0.2630702872874012,
          0.28056318934650837,
          0.29805609140561545,
          0.31554899346472254,
          0.3330418955238296,
          0.3505347975829367,
          0.36802769964204385,
          0.38552060170115093,
          0.403013503760258,
          0.4205064058193651,
          0.43799930787847224,
          0.45549220993757933,
          0.4729851119966864,
          0.4904780140557935,
          0.5079709161149005,
          0.5254638181740077,
          0.5429567202331148,
          0.5604496222922218,
          0.577942524351329,
          0.595435426410436,
          0.6129283284695431,
          0.6304212305286503,
          0.6479141325877573,
          0.6654070346468645,
          0.6828999367059716,
          0.7003928387650786,
          0.7178857408241858,
          0.7353786428832928,
          0.7528715449423999,
          0.7703644470015071,
          0.7878573490606141,
          0.8053502511197212,
          0.8228431531788283,
          0.8403360552379354,
          0.8578289572970426,
          0.8753218593561496,
          0.8928147614152567,
          0.9103076634743638,
          0.9278005655334709,
          0.9452934675925779,
          0.9627863696516851,
          0.9802792717107922,
          0.9977721737698992,
          1.0152650758290063,
          1.0327579778881133,
          1.0502508799472206,
          1.0677437820063276,
          1.0852366840654346,
          1.1027295861245419,
          1.120222488183649,
          1.1377153902427561,
          1.1552082923018632,
          1.1727011943609702,
          1.1901940964200772,
          1.2076869984791845,
          1.2251799005382915,
          1.2426728025973985,
          1.2601657046565058,
          1.2776586067156128,
          1.2951515087747199,
          1.3126444108338269,
          1.3301373128929341,
          1.3476302149520412,
          1.3651231170111482,
          1.3826160190702554,
          1.4001089211293625,
          1.4176018231884695,
          1.4350947252475768,
          1.4525876273066838,
          1.4700805293657908,
          1.4875734314248978,
          1.505066333484005,
          1.5225592355431121,
          1.5400521376022192,
          1.5575450396613264,
          1.5750379417204334,
          1.5925308437795405,
          1.6100237458386477,
          1.6275166478977547,
          1.6450095499568618,
          1.6625024520159688,
          1.679995354075076,
          1.697488256134183,
          1.7149811581932901,
          1.7324740602523974,
          1.7499669623115044,
          1.7674598643706114,
          1.7849527664297185,
          1.8024456684888257,
          1.8199385705479327,
          1.8374314726070398,
          1.854924374666147
         ],
         "xaxis": "x6",
         "y": [
          0.08392163139218461,
          0.08392163139218461,
          0.08392163139218461,
          0.08392163139218461,
          0.08392163139218461,
          0.08392163139218461,
          0.08392163139218461,
          0.08392163139218461,
          0.08392163139218461,
          0.08392163139218461,
          0.08392163139218461,
          0.08392163139218461,
          0.08392163139218461,
          0.08392163139218461,
          0.08392163139218461,
          0.08392163139218461,
          0.08629919404611298,
          0.0853318414280471,
          0.08484419605925342,
          0.08484419605925342,
          0.08484419605925342,
          0.08465129423582698,
          0.08437861882374577,
          0.07653551530011718,
          0.07611665621010348,
          0.07580513143508937,
          0.0766919136528216,
          0.07669031164296333,
          0.08290274046754345,
          0.08321828653489063,
          0.087009432474088,
          0.0877283034107781,
          0.08544517099061696,
          0.08407324693002341,
          0.08133030095098812,
          0.07635691659548735,
          0.07260475106771082,
          0.06852025719958353,
          0.06670998623216737,
          0.06830519896489079,
          0.06791801751048109,
          0.06732060404643876,
          0.0780788307639164,
          0.08049301257787289,
          0.08152519847700818,
          0.08119413248063666,
          0.08457982842059285,
          0.09387581698795837,
          0.09923383869041551,
          0.0912764453313033,
          0.0898962270783296,
          0.09103941286539907,
          0.09085904503740751,
          0.0944908536168959,
          0.09428479429172038,
          0.08971302607124573,
          0.08913191500110522,
          0.08335694327632996,
          0.08005575104470511,
          0.08519214665874288,
          0.08583240211725986,
          0.08121110762038163,
          0.08252212238941185,
          0.08337699851612433,
          0.08501253931610181,
          0.09472309869473435,
          0.09719227709376486,
          0.08311331865193662,
          0.07677472147613756,
          0.07185897778138851,
          0.07401315078341378,
          0.07397786128002279,
          0.07478270225132608,
          0.0715793228953298,
          0.07021514073706726,
          0.07119207166407945,
          0.07067821728245843,
          0.07675931974002559,
          0.07522025167344619,
          0.07166552921784924,
          0.066155589613511,
          0.066155589613511,
          0.066155589613511,
          0.05668427395949227,
          0.05668427395949227,
          0.0539229956815042,
          0.0539229956815042,
          0.0539229956815042,
          0.0539229956815042,
          0.0539229956815042,
          0.0539229956815042,
          0.0539229956815042,
          0.0539229956815042,
          0.0539229956815042,
          0.0539229956815042,
          0.0539229956815042,
          0.0539229956815042,
          0.0539229956815042,
          0.0539229956815042,
          0.0539229956815042,
          0.0539229956815042
         ],
         "yaxis": "y6"
        },
        {
         "customdata": [
          [
           0.08389584720134735,
           "ale",
           "feat08"
          ],
          [
           0.08389584720134735,
           "ale",
           "feat08"
          ],
          [
           0.08389584720134735,
           "ale",
           "feat08"
          ],
          [
           0.08389584720134735,
           "ale",
           "feat08"
          ],
          [
           0.08389584720134735,
           "ale",
           "feat08"
          ],
          [
           0.08389584720134735,
           "ale",
           "feat08"
          ],
          [
           0.08389584720134735,
           "ale",
           "feat08"
          ],
          [
           0.08389584720134735,
           "ale",
           "feat08"
          ],
          [
           0.08389584720134735,
           "ale",
           "feat08"
          ],
          [
           0.08389584720134735,
           "ale",
           "feat08"
          ],
          [
           0.08389584720134735,
           "ale",
           "feat08"
          ],
          [
           0.08389584720134735,
           "ale",
           "feat08"
          ],
          [
           0.08389584720134735,
           "ale",
           "feat08"
          ],
          [
           0.08389584720134735,
           "ale",
           "feat08"
          ],
          [
           0.08389584720134735,
           "ale",
           "feat08"
          ],
          [
           0.08389584720134735,
           "ale",
           "feat08"
          ],
          [
           0.08389584720134735,
           "ale",
           "feat08"
          ],
          [
           0.08389584720134735,
           "ale",
           "feat08"
          ],
          [
           0.08389584720134735,
           "ale",
           "feat08"
          ],
          [
           0.08389584720134735,
           "ale",
           "feat08"
          ],
          [
           0.08389584720134735,
           "ale",
           "feat08"
          ],
          [
           0.08389584720134735,
           "ale",
           "feat08"
          ],
          [
           0.08389584720134735,
           "ale",
           "feat08"
          ],
          [
           0.08389584720134735,
           "ale",
           "feat08"
          ],
          [
           0.08389584720134735,
           "ale",
           "feat08"
          ],
          [
           0.08389584720134735,
           "ale",
           "feat08"
          ],
          [
           0.08389584720134735,
           "ale",
           "feat08"
          ],
          [
           0.08389584720134735,
           "ale",
           "feat08"
          ],
          [
           0.08389584720134735,
           "ale",
           "feat08"
          ],
          [
           0.08389584720134735,
           "ale",
           "feat08"
          ],
          [
           0.08389584720134735,
           "ale",
           "feat08"
          ],
          [
           0.08389584720134735,
           "ale",
           "feat08"
          ],
          [
           0.08389584720134735,
           "ale",
           "feat08"
          ],
          [
           0.08389584720134735,
           "ale",
           "feat08"
          ],
          [
           0.08389584720134735,
           "ale",
           "feat08"
          ],
          [
           0.08389584720134735,
           "ale",
           "feat08"
          ],
          [
           0.08389584720134735,
           "ale",
           "feat08"
          ],
          [
           0.08389584720134735,
           "ale",
           "feat08"
          ],
          [
           0.08389584720134735,
           "ale",
           "feat08"
          ],
          [
           0.08389584720134735,
           "ale",
           "feat08"
          ],
          [
           0.08389584720134735,
           "ale",
           "feat08"
          ],
          [
           0.08389584720134735,
           "ale",
           "feat08"
          ],
          [
           0.08389584720134735,
           "ale",
           "feat08"
          ],
          [
           0.08389584720134735,
           "ale",
           "feat08"
          ],
          [
           0.08389584720134735,
           "ale",
           "feat08"
          ],
          [
           0.08389584720134735,
           "ale",
           "feat08"
          ],
          [
           0.08389584720134735,
           "ale",
           "feat08"
          ],
          [
           0.08389584720134735,
           "ale",
           "feat08"
          ],
          [
           0.08389584720134735,
           "ale",
           "feat08"
          ],
          [
           0.08389584720134735,
           "ale",
           "feat08"
          ],
          [
           0.08389584720134735,
           "ale",
           "feat08"
          ],
          [
           0.08389584720134735,
           "ale",
           "feat08"
          ],
          [
           0.08389584720134735,
           "ale",
           "feat08"
          ],
          [
           0.08389584720134735,
           "ale",
           "feat08"
          ],
          [
           0.08389584720134735,
           "ale",
           "feat08"
          ],
          [
           0.08389584720134735,
           "ale",
           "feat08"
          ],
          [
           0.08389584720134735,
           "ale",
           "feat08"
          ],
          [
           0.08389584720134735,
           "ale",
           "feat08"
          ],
          [
           0.08389584720134735,
           "ale",
           "feat08"
          ],
          [
           0.08389584720134735,
           "ale",
           "feat08"
          ],
          [
           0.08389584720134735,
           "ale",
           "feat08"
          ],
          [
           0.08389584720134735,
           "ale",
           "feat08"
          ],
          [
           0.08389584720134735,
           "ale",
           "feat08"
          ],
          [
           0.08389584720134735,
           "ale",
           "feat08"
          ],
          [
           0.08389584720134735,
           "ale",
           "feat08"
          ],
          [
           0.08389584720134735,
           "ale",
           "feat08"
          ],
          [
           0.08389584720134735,
           "ale",
           "feat08"
          ],
          [
           0.08389584720134735,
           "ale",
           "feat08"
          ],
          [
           0.08389584720134735,
           "ale",
           "feat08"
          ],
          [
           0.08389584720134735,
           "ale",
           "feat08"
          ],
          [
           0.08389584720134735,
           "ale",
           "feat08"
          ],
          [
           0.08389584720134735,
           "ale",
           "feat08"
          ],
          [
           0.08389584720134735,
           "ale",
           "feat08"
          ],
          [
           0.08389584720134735,
           "ale",
           "feat08"
          ],
          [
           0.08389584720134735,
           "ale",
           "feat08"
          ],
          [
           0.08389584720134735,
           "ale",
           "feat08"
          ],
          [
           0.08389584720134735,
           "ale",
           "feat08"
          ],
          [
           0.08389584720134735,
           "ale",
           "feat08"
          ],
          [
           0.08389584720134735,
           "ale",
           "feat08"
          ],
          [
           0.08389584720134735,
           "ale",
           "feat08"
          ],
          [
           0.08389584720134735,
           "ale",
           "feat08"
          ],
          [
           0.08389584720134735,
           "ale",
           "feat08"
          ],
          [
           0.08389584720134735,
           "ale",
           "feat08"
          ],
          [
           0.08389584720134735,
           "ale",
           "feat08"
          ],
          [
           0.08389584720134735,
           "ale",
           "feat08"
          ],
          [
           0.08389584720134735,
           "ale",
           "feat08"
          ],
          [
           0.08389584720134735,
           "ale",
           "feat08"
          ],
          [
           0.08389584720134735,
           "ale",
           "feat08"
          ],
          [
           0.08389584720134735,
           "ale",
           "feat08"
          ],
          [
           0.08389584720134735,
           "ale",
           "feat08"
          ],
          [
           0.08389584720134735,
           "ale",
           "feat08"
          ],
          [
           0.08389584720134735,
           "ale",
           "feat08"
          ],
          [
           0.08389584720134735,
           "ale",
           "feat08"
          ],
          [
           0.08389584720134735,
           "ale",
           "feat08"
          ],
          [
           0.08389584720134735,
           "ale",
           "feat08"
          ],
          [
           0.08389584720134735,
           "ale",
           "feat08"
          ],
          [
           0.08389584720134735,
           "ale",
           "feat08"
          ],
          [
           0.08389584720134735,
           "ale",
           "feat08"
          ],
          [
           0.08389584720134735,
           "ale",
           "feat08"
          ],
          [
           0.08389584720134735,
           "ale",
           "feat08"
          ],
          [
           0.08389584720134735,
           "ale",
           "feat08"
          ]
         ],
         "hovertemplate": "<b>%{hovertext}</b><br><br>prediction=%{y:.3f}<br>mean_prediction=%{customdata[0]:.3f}<extra></extra>",
         "hovertext": [
          "ale",
          "ale",
          "ale",
          "ale",
          "ale",
          "ale",
          "ale",
          "ale",
          "ale",
          "ale",
          "ale",
          "ale",
          "ale",
          "ale",
          "ale",
          "ale",
          "ale",
          "ale",
          "ale",
          "ale",
          "ale",
          "ale",
          "ale",
          "ale",
          "ale",
          "ale",
          "ale",
          "ale",
          "ale",
          "ale",
          "ale",
          "ale",
          "ale",
          "ale",
          "ale",
          "ale",
          "ale",
          "ale",
          "ale",
          "ale",
          "ale",
          "ale",
          "ale",
          "ale",
          "ale",
          "ale",
          "ale",
          "ale",
          "ale",
          "ale",
          "ale",
          "ale",
          "ale",
          "ale",
          "ale",
          "ale",
          "ale",
          "ale",
          "ale",
          "ale",
          "ale",
          "ale",
          "ale",
          "ale",
          "ale",
          "ale",
          "ale",
          "ale",
          "ale",
          "ale",
          "ale",
          "ale",
          "ale",
          "ale",
          "ale",
          "ale",
          "ale",
          "ale",
          "ale",
          "ale",
          "ale",
          "ale",
          "ale",
          "ale",
          "ale",
          "ale",
          "ale",
          "ale",
          "ale",
          "ale",
          "ale",
          "ale",
          "ale",
          "ale",
          "ale",
          "ale",
          "ale",
          "ale",
          "ale",
          "ale",
          "ale"
         ],
         "legendgroup": "ale",
         "line": {
          "color": "#4378bf",
          "dash": "solid",
          "width": 2
         },
         "marker": {
          "symbol": "circle"
         },
         "mode": "lines",
         "name": "ale",
         "opacity": 1,
         "orientation": "v",
         "showlegend": false,
         "type": "scatter",
         "x": [
          0.1391154653726862,
          0.15653957744781655,
          0.17396368952294688,
          0.19138780159807722,
          0.20881191367320756,
          0.2262360257483379,
          0.24366013782346824,
          0.2610842498985986,
          0.2785083619737289,
          0.29593247404885925,
          0.3133565861239896,
          0.3307806981991199,
          0.34820481027425026,
          0.3656289223493806,
          0.38305303442451094,
          0.4004771464996413,
          0.4179012585747716,
          0.43532537064990195,
          0.4527494827250323,
          0.47017359480016263,
          0.48759770687529297,
          0.5050218189504233,
          0.5224459310255536,
          0.539870043100684,
          0.5572941551758144,
          0.5747182672509447,
          0.5921423793260749,
          0.6095664914012053,
          0.6269906034763357,
          0.6444147155514661,
          0.6618388276265963,
          0.6792629397017267,
          0.6966870517768571,
          0.7141111638519875,
          0.7315352759271176,
          0.748959388002248,
          0.7663835000773784,
          0.7838076121525088,
          0.801231724227639,
          0.8186558363027694,
          0.8360799483778998,
          0.8535040604530302,
          0.8709281725281603,
          0.8883522846032907,
          0.9057763966784211,
          0.9232005087535515,
          0.9406246208286817,
          0.9580487329038121,
          0.9754728449789425,
          0.9928969570540729,
          1.010321069129203,
          1.0277451812043334,
          1.0451692932794638,
          1.0625934053545942,
          1.0800175174297244,
          1.0974416295048548,
          1.1148657415799852,
          1.1322898536551156,
          1.149713965730246,
          1.1671380778053762,
          1.1845621898805065,
          1.201986301955637,
          1.219410414030767,
          1.2368345261058975,
          1.254258638181028,
          1.2716827502561583,
          1.2891068623312887,
          1.3065309744064189,
          1.3239550864815492,
          1.3413791985566796,
          1.3588033106318098,
          1.3762274227069402,
          1.3936515347820706,
          1.411075646857201,
          1.4284997589323314,
          1.4459238710074616,
          1.463347983082592,
          1.4807720951577223,
          1.4981962072328525,
          1.515620319307983,
          1.5330444313831133,
          1.5504685434582437,
          1.567892655533374,
          1.5853167676085043,
          1.6027408796836347,
          1.620164991758765,
          1.6375891038338952,
          1.6550132159090256,
          1.672437327984156,
          1.6898614400592864,
          1.7072855521344168,
          1.724709664209547,
          1.7421337762846774,
          1.7595578883598078,
          1.776982000434938,
          1.7944061125100683,
          1.8118302245851987,
          1.829254336660329,
          1.8466784487354595,
          1.8641025608105897,
          1.88152667288572
         ],
         "xaxis": "x3",
         "y": [
          0.08392163139218461,
          0.08392163139218461,
          0.08392163139218461,
          0.08392163139218461,
          0.08392163139218461,
          0.08392163139218461,
          0.08392163139218461,
          0.08392163139218461,
          0.08392163139218461,
          0.08392163139218461,
          0.08392163139218461,
          0.08392163139218461,
          0.08392163139218461,
          0.08392163139218461,
          0.08392163139218461,
          0.08392163139218461,
          0.08392163139218461,
          0.09009558429023763,
          0.09112572393484347,
          0.0900733124597788,
          0.0900733124597788,
          0.08406395818426694,
          0.08406395818426694,
          0.08513261243627904,
          0.08470272178457727,
          0.09232866514944921,
          0.09228241552219935,
          0.09169863995610458,
          0.08632955831006478,
          0.08402216171419269,
          0.08931979293881605,
          0.08872913791818382,
          0.0950662477187739,
          0.09559869185195582,
          0.10539593980173667,
          0.09659480933446167,
          0.0936137366896756,
          0.1004549141880855,
          0.0992420225729262,
          0.09577150396059111,
          0.09145836962887605,
          0.09160791666942031,
          0.09114593328532605,
          0.09114593328532605,
          0.08588051971834165,
          0.0860001690613732,
          0.08601361516037581,
          0.08760814864973063,
          0.08754969110434692,
          0.08783713626437255,
          0.08803898544388819,
          0.09041230642305113,
          0.09138646991780684,
          0.09294663316448623,
          0.09487140114409459,
          0.0961302301109901,
          0.09854653570915312,
          0.10257083989897442,
          0.1026700510424765,
          0.10036810708805367,
          0.10003139357781912,
          0.0996991337291663,
          0.09951414641755554,
          0.09980457588189844,
          0.09830035876335218,
          0.09823098826817475,
          0.09869079690290453,
          0.10201818314422027,
          0.102170300398372,
          0.10115047377029486,
          0.10239187995364929,
          0.10407297387670912,
          0.09171083008966599,
          0.1069588727176871,
          0.11734175905019115,
          0.0853150552555013,
          0.0853150552555013,
          0.0853150552555013,
          0.08464948942738183,
          0.08249317436589704,
          0.08249317436589704,
          0.09631164982634963,
          0.09631164982634963,
          0.09631164982634963,
          0.09835158409645935,
          0.09835158409645935,
          0.09835158409645935,
          0.09835158409645935,
          0.09835158409645935,
          0.09835158409645935,
          0.09835158409645935,
          0.09835158409645935,
          0.09835158409645935,
          0.09835158409645935,
          0.09835158409645935,
          0.09835158409645935,
          0.09835158409645935,
          0.09835158409645935,
          0.09835158409645935,
          0.09835158409645935,
          0.09835158409645935
         ],
         "yaxis": "y3"
        },
        {
         "customdata": [
          [
           0.08389584720134735,
           "ale",
           "feat09"
          ],
          [
           0.08389584720134735,
           "ale",
           "feat09"
          ],
          [
           0.08389584720134735,
           "ale",
           "feat09"
          ],
          [
           0.08389584720134735,
           "ale",
           "feat09"
          ],
          [
           0.08389584720134735,
           "ale",
           "feat09"
          ],
          [
           0.08389584720134735,
           "ale",
           "feat09"
          ],
          [
           0.08389584720134735,
           "ale",
           "feat09"
          ],
          [
           0.08389584720134735,
           "ale",
           "feat09"
          ],
          [
           0.08389584720134735,
           "ale",
           "feat09"
          ],
          [
           0.08389584720134735,
           "ale",
           "feat09"
          ],
          [
           0.08389584720134735,
           "ale",
           "feat09"
          ],
          [
           0.08389584720134735,
           "ale",
           "feat09"
          ],
          [
           0.08389584720134735,
           "ale",
           "feat09"
          ],
          [
           0.08389584720134735,
           "ale",
           "feat09"
          ],
          [
           0.08389584720134735,
           "ale",
           "feat09"
          ],
          [
           0.08389584720134735,
           "ale",
           "feat09"
          ],
          [
           0.08389584720134735,
           "ale",
           "feat09"
          ],
          [
           0.08389584720134735,
           "ale",
           "feat09"
          ],
          [
           0.08389584720134735,
           "ale",
           "feat09"
          ],
          [
           0.08389584720134735,
           "ale",
           "feat09"
          ],
          [
           0.08389584720134735,
           "ale",
           "feat09"
          ],
          [
           0.08389584720134735,
           "ale",
           "feat09"
          ],
          [
           0.08389584720134735,
           "ale",
           "feat09"
          ],
          [
           0.08389584720134735,
           "ale",
           "feat09"
          ],
          [
           0.08389584720134735,
           "ale",
           "feat09"
          ],
          [
           0.08389584720134735,
           "ale",
           "feat09"
          ],
          [
           0.08389584720134735,
           "ale",
           "feat09"
          ],
          [
           0.08389584720134735,
           "ale",
           "feat09"
          ],
          [
           0.08389584720134735,
           "ale",
           "feat09"
          ],
          [
           0.08389584720134735,
           "ale",
           "feat09"
          ],
          [
           0.08389584720134735,
           "ale",
           "feat09"
          ],
          [
           0.08389584720134735,
           "ale",
           "feat09"
          ],
          [
           0.08389584720134735,
           "ale",
           "feat09"
          ],
          [
           0.08389584720134735,
           "ale",
           "feat09"
          ],
          [
           0.08389584720134735,
           "ale",
           "feat09"
          ],
          [
           0.08389584720134735,
           "ale",
           "feat09"
          ],
          [
           0.08389584720134735,
           "ale",
           "feat09"
          ],
          [
           0.08389584720134735,
           "ale",
           "feat09"
          ],
          [
           0.08389584720134735,
           "ale",
           "feat09"
          ],
          [
           0.08389584720134735,
           "ale",
           "feat09"
          ],
          [
           0.08389584720134735,
           "ale",
           "feat09"
          ],
          [
           0.08389584720134735,
           "ale",
           "feat09"
          ],
          [
           0.08389584720134735,
           "ale",
           "feat09"
          ],
          [
           0.08389584720134735,
           "ale",
           "feat09"
          ],
          [
           0.08389584720134735,
           "ale",
           "feat09"
          ],
          [
           0.08389584720134735,
           "ale",
           "feat09"
          ],
          [
           0.08389584720134735,
           "ale",
           "feat09"
          ],
          [
           0.08389584720134735,
           "ale",
           "feat09"
          ],
          [
           0.08389584720134735,
           "ale",
           "feat09"
          ],
          [
           0.08389584720134735,
           "ale",
           "feat09"
          ],
          [
           0.08389584720134735,
           "ale",
           "feat09"
          ],
          [
           0.08389584720134735,
           "ale",
           "feat09"
          ],
          [
           0.08389584720134735,
           "ale",
           "feat09"
          ],
          [
           0.08389584720134735,
           "ale",
           "feat09"
          ],
          [
           0.08389584720134735,
           "ale",
           "feat09"
          ],
          [
           0.08389584720134735,
           "ale",
           "feat09"
          ],
          [
           0.08389584720134735,
           "ale",
           "feat09"
          ],
          [
           0.08389584720134735,
           "ale",
           "feat09"
          ],
          [
           0.08389584720134735,
           "ale",
           "feat09"
          ],
          [
           0.08389584720134735,
           "ale",
           "feat09"
          ],
          [
           0.08389584720134735,
           "ale",
           "feat09"
          ],
          [
           0.08389584720134735,
           "ale",
           "feat09"
          ],
          [
           0.08389584720134735,
           "ale",
           "feat09"
          ],
          [
           0.08389584720134735,
           "ale",
           "feat09"
          ],
          [
           0.08389584720134735,
           "ale",
           "feat09"
          ],
          [
           0.08389584720134735,
           "ale",
           "feat09"
          ],
          [
           0.08389584720134735,
           "ale",
           "feat09"
          ],
          [
           0.08389584720134735,
           "ale",
           "feat09"
          ],
          [
           0.08389584720134735,
           "ale",
           "feat09"
          ],
          [
           0.08389584720134735,
           "ale",
           "feat09"
          ],
          [
           0.08389584720134735,
           "ale",
           "feat09"
          ],
          [
           0.08389584720134735,
           "ale",
           "feat09"
          ],
          [
           0.08389584720134735,
           "ale",
           "feat09"
          ],
          [
           0.08389584720134735,
           "ale",
           "feat09"
          ],
          [
           0.08389584720134735,
           "ale",
           "feat09"
          ],
          [
           0.08389584720134735,
           "ale",
           "feat09"
          ],
          [
           0.08389584720134735,
           "ale",
           "feat09"
          ],
          [
           0.08389584720134735,
           "ale",
           "feat09"
          ],
          [
           0.08389584720134735,
           "ale",
           "feat09"
          ],
          [
           0.08389584720134735,
           "ale",
           "feat09"
          ],
          [
           0.08389584720134735,
           "ale",
           "feat09"
          ],
          [
           0.08389584720134735,
           "ale",
           "feat09"
          ],
          [
           0.08389584720134735,
           "ale",
           "feat09"
          ],
          [
           0.08389584720134735,
           "ale",
           "feat09"
          ],
          [
           0.08389584720134735,
           "ale",
           "feat09"
          ],
          [
           0.08389584720134735,
           "ale",
           "feat09"
          ],
          [
           0.08389584720134735,
           "ale",
           "feat09"
          ],
          [
           0.08389584720134735,
           "ale",
           "feat09"
          ],
          [
           0.08389584720134735,
           "ale",
           "feat09"
          ],
          [
           0.08389584720134735,
           "ale",
           "feat09"
          ],
          [
           0.08389584720134735,
           "ale",
           "feat09"
          ],
          [
           0.08389584720134735,
           "ale",
           "feat09"
          ],
          [
           0.08389584720134735,
           "ale",
           "feat09"
          ],
          [
           0.08389584720134735,
           "ale",
           "feat09"
          ],
          [
           0.08389584720134735,
           "ale",
           "feat09"
          ],
          [
           0.08389584720134735,
           "ale",
           "feat09"
          ],
          [
           0.08389584720134735,
           "ale",
           "feat09"
          ],
          [
           0.08389584720134735,
           "ale",
           "feat09"
          ],
          [
           0.08389584720134735,
           "ale",
           "feat09"
          ],
          [
           0.08389584720134735,
           "ale",
           "feat09"
          ],
          [
           0.08389584720134735,
           "ale",
           "feat09"
          ]
         ],
         "hovertemplate": "<b>%{hovertext}</b><br><br>prediction=%{y:.3f}<br>mean_prediction=%{customdata[0]:.3f}<extra></extra>",
         "hovertext": [
          "ale",
          "ale",
          "ale",
          "ale",
          "ale",
          "ale",
          "ale",
          "ale",
          "ale",
          "ale",
          "ale",
          "ale",
          "ale",
          "ale",
          "ale",
          "ale",
          "ale",
          "ale",
          "ale",
          "ale",
          "ale",
          "ale",
          "ale",
          "ale",
          "ale",
          "ale",
          "ale",
          "ale",
          "ale",
          "ale",
          "ale",
          "ale",
          "ale",
          "ale",
          "ale",
          "ale",
          "ale",
          "ale",
          "ale",
          "ale",
          "ale",
          "ale",
          "ale",
          "ale",
          "ale",
          "ale",
          "ale",
          "ale",
          "ale",
          "ale",
          "ale",
          "ale",
          "ale",
          "ale",
          "ale",
          "ale",
          "ale",
          "ale",
          "ale",
          "ale",
          "ale",
          "ale",
          "ale",
          "ale",
          "ale",
          "ale",
          "ale",
          "ale",
          "ale",
          "ale",
          "ale",
          "ale",
          "ale",
          "ale",
          "ale",
          "ale",
          "ale",
          "ale",
          "ale",
          "ale",
          "ale",
          "ale",
          "ale",
          "ale",
          "ale",
          "ale",
          "ale",
          "ale",
          "ale",
          "ale",
          "ale",
          "ale",
          "ale",
          "ale",
          "ale",
          "ale",
          "ale",
          "ale",
          "ale",
          "ale",
          "ale"
         ],
         "legendgroup": "ale",
         "line": {
          "color": "#4378bf",
          "dash": "solid",
          "width": 2
         },
         "marker": {
          "symbol": "circle"
         },
         "mode": "lines",
         "name": "ale",
         "opacity": 1,
         "orientation": "v",
         "showlegend": false,
         "type": "scatter",
         "x": [
          0.2407530786059586,
          0.25669677935720714,
          0.27264048010845565,
          0.28858418085970416,
          0.30452788161095273,
          0.32047158236220125,
          0.3364152831134498,
          0.3523589838646983,
          0.36830268461594684,
          0.38424638536719535,
          0.40019008611844387,
          0.41613378686969243,
          0.432077487620941,
          0.4480211883721895,
          0.46396488912343803,
          0.47990858987468654,
          0.49585229062593505,
          0.5117959913771836,
          0.5277396921284322,
          0.5436833928796807,
          0.5596270936309292,
          0.5755707943821777,
          0.5915144951334262,
          0.6074581958846748,
          0.6234018966359234,
          0.6393455973871719,
          0.6552892981384204,
          0.6712329988896689,
          0.6871766996409174,
          0.703120400392166,
          0.7190641011434145,
          0.7350078018946631,
          0.7509515026459116,
          0.7668952033971601,
          0.7828389041484086,
          0.7987826048996571,
          0.8147263056509058,
          0.8306700064021543,
          0.8466137071534028,
          0.8625574079046513,
          0.8785011086558998,
          0.8944448094071483,
          0.910388510158397,
          0.9263322109096455,
          0.942275911660894,
          0.9582196124121425,
          0.974163313163391,
          0.9901070139146395,
          1.0060507146658881,
          1.0219944154171365,
          1.0379381161683852,
          1.0538818169196336,
          1.0698255176708822,
          1.0857692184221306,
          1.1017129191733792,
          1.1176566199246278,
          1.1336003206758762,
          1.1495440214271249,
          1.1654877221783733,
          1.1814314229296219,
          1.1973751236808703,
          1.213318824432119,
          1.2292625251833675,
          1.245206225934616,
          1.2611499266858646,
          1.2770936274371132,
          1.2930373281883616,
          1.3089810289396102,
          1.3249247296908586,
          1.3408684304421072,
          1.3568121311933556,
          1.3727558319446043,
          1.388699532695853,
          1.4046432334471013,
          1.42058693419835,
          1.4365306349495983,
          1.452474335700847,
          1.4684180364520956,
          1.484361737203344,
          1.5003054379545926,
          1.516249138705841,
          1.5321928394570896,
          1.548136540208338,
          1.5640802409595866,
          1.5800239417108353,
          1.5959676424620837,
          1.6119113432133323,
          1.6278550439645807,
          1.6437987447158293,
          1.6597424454670777,
          1.6756861462183263,
          1.691629846969575,
          1.7075735477208234,
          1.723517248472072,
          1.7394609492233204,
          1.755404649974569,
          1.7713483507258176,
          1.787292051477066,
          1.8032357522283147,
          1.819179452979563,
          1.8351231537308117
         ],
         "xaxis": "x4",
         "y": [
          0.08392163139218461,
          0.08392163139218461,
          0.08392163139218461,
          0.08392163139218461,
          0.08392163139218461,
          0.08392163139218461,
          0.08392163139218461,
          0.08392163139218461,
          0.08392163139218461,
          0.07974224599738089,
          0.07974224599738089,
          0.08326552234553812,
          0.08326552234553812,
          0.08326552234553812,
          0.0822549541512916,
          0.08774982438003501,
          0.08840743028061093,
          0.08627494693136853,
          0.0883566131262465,
          0.08600769937616379,
          0.08277551466621663,
          0.08423773904634298,
          0.08399631220627704,
          0.08550028986515894,
          0.08839200701863562,
          0.08702855889655967,
          0.08702855889655967,
          0.09354276041938833,
          0.08537356186493963,
          0.0845175064376137,
          0.08095096212187508,
          0.0804749188201839,
          0.0842082140273322,
          0.0865418550548689,
          0.08643067796509829,
          0.08773460061168145,
          0.08690881175076041,
          0.07972894939078069,
          0.07945282491764968,
          0.08149123079786713,
          0.08029951878160776,
          0.07982067986441922,
          0.07932261709739905,
          0.07896295764659185,
          0.08128212920692847,
          0.07929417867958598,
          0.08123902196408092,
          0.08228974711324283,
          0.08850076961694277,
          0.08653119985839637,
          0.08468868284232821,
          0.07739962927715255,
          0.0780864820497753,
          0.07941690358410482,
          0.08359905006372187,
          0.08370488239167496,
          0.07693880033520734,
          0.07698386712267552,
          0.07881735772232489,
          0.07858060092150503,
          0.07043177770634358,
          0.06799544424901902,
          0.06873711235093548,
          0.07604373996752234,
          0.0789274664793083,
          0.08347403032803104,
          0.08597497539122892,
          0.08547817554233035,
          0.08343982000003645,
          0.07869479669664851,
          0.08681120775854488,
          0.08698661429664692,
          0.08305890550206774,
          0.08285391004469694,
          0.08717626550684685,
          0.08742986417174105,
          0.0782856666830203,
          0.07833884390397579,
          0.07745476573312136,
          0.07547088717160534,
          0.07547088717160534,
          0.07402267801613562,
          0.07560274165951228,
          0.07560274165951228,
          0.07267194871639437,
          0.07267194871639437,
          0.07267194871639437,
          0.07267194871639437,
          0.07267194871639437,
          0.07267194871639437,
          0.07267194871639437,
          0.07267194871639437,
          0.07267194871639437,
          0.07267194871639437,
          0.07267194871639437,
          0.07267194871639437,
          0.07267194871639437,
          0.07267194871639437,
          0.07267194871639437,
          0.07267194871639437,
          0.07267194871639437
         ],
         "yaxis": "y4"
        },
        {
         "customdata": [
          [
           0.08389584720134735,
           "ale",
           "heart_disease"
          ],
          [
           0.08389584720134735,
           "ale",
           "heart_disease"
          ],
          [
           0.08389584720134735,
           "ale",
           "heart_disease"
          ],
          [
           0.08389584720134735,
           "ale",
           "heart_disease"
          ],
          [
           0.08389584720134735,
           "ale",
           "heart_disease"
          ],
          [
           0.08389584720134735,
           "ale",
           "heart_disease"
          ],
          [
           0.08389584720134735,
           "ale",
           "heart_disease"
          ],
          [
           0.08389584720134735,
           "ale",
           "heart_disease"
          ],
          [
           0.08389584720134735,
           "ale",
           "heart_disease"
          ],
          [
           0.08389584720134735,
           "ale",
           "heart_disease"
          ],
          [
           0.08389584720134735,
           "ale",
           "heart_disease"
          ],
          [
           0.08389584720134735,
           "ale",
           "heart_disease"
          ],
          [
           0.08389584720134735,
           "ale",
           "heart_disease"
          ],
          [
           0.08389584720134735,
           "ale",
           "heart_disease"
          ],
          [
           0.08389584720134735,
           "ale",
           "heart_disease"
          ],
          [
           0.08389584720134735,
           "ale",
           "heart_disease"
          ],
          [
           0.08389584720134735,
           "ale",
           "heart_disease"
          ],
          [
           0.08389584720134735,
           "ale",
           "heart_disease"
          ],
          [
           0.08389584720134735,
           "ale",
           "heart_disease"
          ],
          [
           0.08389584720134735,
           "ale",
           "heart_disease"
          ],
          [
           0.08389584720134735,
           "ale",
           "heart_disease"
          ],
          [
           0.08389584720134735,
           "ale",
           "heart_disease"
          ],
          [
           0.08389584720134735,
           "ale",
           "heart_disease"
          ],
          [
           0.08389584720134735,
           "ale",
           "heart_disease"
          ],
          [
           0.08389584720134735,
           "ale",
           "heart_disease"
          ],
          [
           0.08389584720134735,
           "ale",
           "heart_disease"
          ],
          [
           0.08389584720134735,
           "ale",
           "heart_disease"
          ],
          [
           0.08389584720134735,
           "ale",
           "heart_disease"
          ],
          [
           0.08389584720134735,
           "ale",
           "heart_disease"
          ],
          [
           0.08389584720134735,
           "ale",
           "heart_disease"
          ],
          [
           0.08389584720134735,
           "ale",
           "heart_disease"
          ],
          [
           0.08389584720134735,
           "ale",
           "heart_disease"
          ],
          [
           0.08389584720134735,
           "ale",
           "heart_disease"
          ],
          [
           0.08389584720134735,
           "ale",
           "heart_disease"
          ],
          [
           0.08389584720134735,
           "ale",
           "heart_disease"
          ],
          [
           0.08389584720134735,
           "ale",
           "heart_disease"
          ],
          [
           0.08389584720134735,
           "ale",
           "heart_disease"
          ],
          [
           0.08389584720134735,
           "ale",
           "heart_disease"
          ],
          [
           0.08389584720134735,
           "ale",
           "heart_disease"
          ],
          [
           0.08389584720134735,
           "ale",
           "heart_disease"
          ],
          [
           0.08389584720134735,
           "ale",
           "heart_disease"
          ],
          [
           0.08389584720134735,
           "ale",
           "heart_disease"
          ],
          [
           0.08389584720134735,
           "ale",
           "heart_disease"
          ],
          [
           0.08389584720134735,
           "ale",
           "heart_disease"
          ],
          [
           0.08389584720134735,
           "ale",
           "heart_disease"
          ],
          [
           0.08389584720134735,
           "ale",
           "heart_disease"
          ],
          [
           0.08389584720134735,
           "ale",
           "heart_disease"
          ],
          [
           0.08389584720134735,
           "ale",
           "heart_disease"
          ],
          [
           0.08389584720134735,
           "ale",
           "heart_disease"
          ],
          [
           0.08389584720134735,
           "ale",
           "heart_disease"
          ],
          [
           0.08389584720134735,
           "ale",
           "heart_disease"
          ],
          [
           0.08389584720134735,
           "ale",
           "heart_disease"
          ],
          [
           0.08389584720134735,
           "ale",
           "heart_disease"
          ],
          [
           0.08389584720134735,
           "ale",
           "heart_disease"
          ],
          [
           0.08389584720134735,
           "ale",
           "heart_disease"
          ],
          [
           0.08389584720134735,
           "ale",
           "heart_disease"
          ],
          [
           0.08389584720134735,
           "ale",
           "heart_disease"
          ],
          [
           0.08389584720134735,
           "ale",
           "heart_disease"
          ],
          [
           0.08389584720134735,
           "ale",
           "heart_disease"
          ],
          [
           0.08389584720134735,
           "ale",
           "heart_disease"
          ],
          [
           0.08389584720134735,
           "ale",
           "heart_disease"
          ],
          [
           0.08389584720134735,
           "ale",
           "heart_disease"
          ],
          [
           0.08389584720134735,
           "ale",
           "heart_disease"
          ],
          [
           0.08389584720134735,
           "ale",
           "heart_disease"
          ],
          [
           0.08389584720134735,
           "ale",
           "heart_disease"
          ],
          [
           0.08389584720134735,
           "ale",
           "heart_disease"
          ],
          [
           0.08389584720134735,
           "ale",
           "heart_disease"
          ],
          [
           0.08389584720134735,
           "ale",
           "heart_disease"
          ],
          [
           0.08389584720134735,
           "ale",
           "heart_disease"
          ],
          [
           0.08389584720134735,
           "ale",
           "heart_disease"
          ],
          [
           0.08389584720134735,
           "ale",
           "heart_disease"
          ],
          [
           0.08389584720134735,
           "ale",
           "heart_disease"
          ],
          [
           0.08389584720134735,
           "ale",
           "heart_disease"
          ],
          [
           0.08389584720134735,
           "ale",
           "heart_disease"
          ],
          [
           0.08389584720134735,
           "ale",
           "heart_disease"
          ],
          [
           0.08389584720134735,
           "ale",
           "heart_disease"
          ],
          [
           0.08389584720134735,
           "ale",
           "heart_disease"
          ],
          [
           0.08389584720134735,
           "ale",
           "heart_disease"
          ],
          [
           0.08389584720134735,
           "ale",
           "heart_disease"
          ],
          [
           0.08389584720134735,
           "ale",
           "heart_disease"
          ],
          [
           0.08389584720134735,
           "ale",
           "heart_disease"
          ],
          [
           0.08389584720134735,
           "ale",
           "heart_disease"
          ],
          [
           0.08389584720134735,
           "ale",
           "heart_disease"
          ],
          [
           0.08389584720134735,
           "ale",
           "heart_disease"
          ],
          [
           0.08389584720134735,
           "ale",
           "heart_disease"
          ],
          [
           0.08389584720134735,
           "ale",
           "heart_disease"
          ],
          [
           0.08389584720134735,
           "ale",
           "heart_disease"
          ],
          [
           0.08389584720134735,
           "ale",
           "heart_disease"
          ],
          [
           0.08389584720134735,
           "ale",
           "heart_disease"
          ],
          [
           0.08389584720134735,
           "ale",
           "heart_disease"
          ],
          [
           0.08389584720134735,
           "ale",
           "heart_disease"
          ],
          [
           0.08389584720134735,
           "ale",
           "heart_disease"
          ],
          [
           0.08389584720134735,
           "ale",
           "heart_disease"
          ],
          [
           0.08389584720134735,
           "ale",
           "heart_disease"
          ],
          [
           0.08389584720134735,
           "ale",
           "heart_disease"
          ],
          [
           0.08389584720134735,
           "ale",
           "heart_disease"
          ],
          [
           0.08389584720134735,
           "ale",
           "heart_disease"
          ],
          [
           0.08389584720134735,
           "ale",
           "heart_disease"
          ],
          [
           0.08389584720134735,
           "ale",
           "heart_disease"
          ],
          [
           0.08389584720134735,
           "ale",
           "heart_disease"
          ],
          [
           0.08389584720134735,
           "ale",
           "heart_disease"
          ]
         ],
         "hovertemplate": "<b>%{hovertext}</b><br><br>prediction=%{y:.3f}<br>mean_prediction=%{customdata[0]:.3f}<extra></extra>",
         "hovertext": [
          "ale",
          "ale",
          "ale",
          "ale",
          "ale",
          "ale",
          "ale",
          "ale",
          "ale",
          "ale",
          "ale",
          "ale",
          "ale",
          "ale",
          "ale",
          "ale",
          "ale",
          "ale",
          "ale",
          "ale",
          "ale",
          "ale",
          "ale",
          "ale",
          "ale",
          "ale",
          "ale",
          "ale",
          "ale",
          "ale",
          "ale",
          "ale",
          "ale",
          "ale",
          "ale",
          "ale",
          "ale",
          "ale",
          "ale",
          "ale",
          "ale",
          "ale",
          "ale",
          "ale",
          "ale",
          "ale",
          "ale",
          "ale",
          "ale",
          "ale",
          "ale",
          "ale",
          "ale",
          "ale",
          "ale",
          "ale",
          "ale",
          "ale",
          "ale",
          "ale",
          "ale",
          "ale",
          "ale",
          "ale",
          "ale",
          "ale",
          "ale",
          "ale",
          "ale",
          "ale",
          "ale",
          "ale",
          "ale",
          "ale",
          "ale",
          "ale",
          "ale",
          "ale",
          "ale",
          "ale",
          "ale",
          "ale",
          "ale",
          "ale",
          "ale",
          "ale",
          "ale",
          "ale",
          "ale",
          "ale",
          "ale",
          "ale",
          "ale",
          "ale",
          "ale",
          "ale",
          "ale",
          "ale",
          "ale",
          "ale",
          "ale"
         ],
         "legendgroup": "ale",
         "line": {
          "color": "#4378bf",
          "dash": "solid",
          "width": 2
         },
         "marker": {
          "symbol": "circle"
         },
         "mode": "lines",
         "name": "ale",
         "opacity": 1,
         "orientation": "v",
         "showlegend": false,
         "type": "scatter",
         "x": [
          0,
          0.01,
          0.02,
          0.03,
          0.04,
          0.05,
          0.06,
          0.07,
          0.08,
          0.09,
          0.1,
          0.11,
          0.12,
          0.13,
          0.14,
          0.15,
          0.16,
          0.17,
          0.18,
          0.19,
          0.2,
          0.21,
          0.22,
          0.23,
          0.24,
          0.25,
          0.26,
          0.27,
          0.28,
          0.29,
          0.3,
          0.31,
          0.32,
          0.33,
          0.34,
          0.35000000000000003,
          0.36,
          0.37,
          0.38,
          0.39,
          0.4,
          0.41000000000000003,
          0.42,
          0.43,
          0.44,
          0.45,
          0.46,
          0.47000000000000003,
          0.48,
          0.49,
          0.5,
          0.51,
          0.52,
          0.53,
          0.54,
          0.55,
          0.56,
          0.5700000000000001,
          0.58,
          0.59,
          0.6,
          0.61,
          0.62,
          0.63,
          0.64,
          0.65,
          0.66,
          0.67,
          0.68,
          0.6900000000000001,
          0.7000000000000001,
          0.71,
          0.72,
          0.73,
          0.74,
          0.75,
          0.76,
          0.77,
          0.78,
          0.79,
          0.8,
          0.81,
          0.8200000000000001,
          0.8300000000000001,
          0.84,
          0.85,
          0.86,
          0.87,
          0.88,
          0.89,
          0.9,
          0.91,
          0.92,
          0.93,
          0.9400000000000001,
          0.9500000000000001,
          0.96,
          0.97,
          0.98,
          0.99,
          1
         ],
         "xaxis": "x",
         "y": [
          0.08392163139218461,
          0.08392163139218461,
          0.08392163139218461,
          0.08392163139218461,
          0.08392163139218461,
          0.08392163139218461,
          0.08392163139218461,
          0.08392163139218461,
          0.08392163139218461,
          0.08392163139218461,
          0.08392163139218461,
          0.08392163139218461,
          0.08392163139218461,
          0.08392163139218461,
          0.08392163139218461,
          0.08392163139218461,
          0.08392163139218461,
          0.08392163139218461,
          0.08392163139218461,
          0.08392163139218461,
          0.08392163139218461,
          0.08392163139218461,
          0.08392163139218461,
          0.08392163139218461,
          0.08392163139218461,
          0.08392163139218461,
          0.08392163139218461,
          0.08392163139218461,
          0.08392163139218461,
          0.08392163139218461,
          0.08392163139218461,
          0.08392163139218461,
          0.08392163139218461,
          0.08392163139218461,
          0.08392163139218461,
          0.08392163139218461,
          0.08392163139218461,
          0.08392163139218461,
          0.08392163139218461,
          0.08392163139218461,
          0.08392163139218461,
          0.08392163139218461,
          0.08392163139218461,
          0.08392163139218461,
          0.08392163139218461,
          0.08392163139218461,
          0.08392163139218461,
          0.08392163139218461,
          0.08392163139218461,
          0.08392163139218461,
          0.08392163139218461,
          0.08392163139218461,
          0.08392163139218461,
          0.08392163139218461,
          0.08392163139218461,
          0.08392163139218461,
          0.08392163139218461,
          0.08392163139218461,
          0.08392163139218461,
          0.08392163139218461,
          0.08392163139218461,
          0.08392163139218461,
          0.08392163139218461,
          0.08392163139218461,
          0.08392163139218461,
          0.08392163139218461,
          0.08392163139218461,
          0.08392163139218461,
          0.08392163139218461,
          0.08392163139218461,
          0.08392163139218461,
          0.08392163139218461,
          0.08392163139218461,
          0.08392163139218461,
          0.08392163139218461,
          0.08392163139218461,
          0.08392163139218461,
          0.08392163139218461,
          0.08392163139218461,
          0.08392163139218461,
          0.08392163139218461,
          0.08392163139218461,
          0.08392163139218461,
          0.08392163139218461,
          0.08392163139218461,
          0.08392163139218461,
          0.08392163139218461,
          0.08392163139218461,
          0.08392163139218461,
          0.08392163139218461,
          0.08392163139218461,
          0.08392163139218461,
          0.08392163139218461,
          0.08392163139218461,
          0.08392163139218461,
          0.08392163139218461,
          0.08392163139218461,
          0.08392163139218461,
          0.08392163139218461,
          0.08392163139218461,
          0.12471741472581865
         ],
         "yaxis": "y"
        },
        {
         "customdata": [
          [
           0.08389584720134735,
           "ale",
           "hypertension"
          ],
          [
           0.08389584720134735,
           "ale",
           "hypertension"
          ],
          [
           0.08389584720134735,
           "ale",
           "hypertension"
          ],
          [
           0.08389584720134735,
           "ale",
           "hypertension"
          ],
          [
           0.08389584720134735,
           "ale",
           "hypertension"
          ],
          [
           0.08389584720134735,
           "ale",
           "hypertension"
          ],
          [
           0.08389584720134735,
           "ale",
           "hypertension"
          ],
          [
           0.08389584720134735,
           "ale",
           "hypertension"
          ],
          [
           0.08389584720134735,
           "ale",
           "hypertension"
          ],
          [
           0.08389584720134735,
           "ale",
           "hypertension"
          ],
          [
           0.08389584720134735,
           "ale",
           "hypertension"
          ],
          [
           0.08389584720134735,
           "ale",
           "hypertension"
          ],
          [
           0.08389584720134735,
           "ale",
           "hypertension"
          ],
          [
           0.08389584720134735,
           "ale",
           "hypertension"
          ],
          [
           0.08389584720134735,
           "ale",
           "hypertension"
          ],
          [
           0.08389584720134735,
           "ale",
           "hypertension"
          ],
          [
           0.08389584720134735,
           "ale",
           "hypertension"
          ],
          [
           0.08389584720134735,
           "ale",
           "hypertension"
          ],
          [
           0.08389584720134735,
           "ale",
           "hypertension"
          ],
          [
           0.08389584720134735,
           "ale",
           "hypertension"
          ],
          [
           0.08389584720134735,
           "ale",
           "hypertension"
          ],
          [
           0.08389584720134735,
           "ale",
           "hypertension"
          ],
          [
           0.08389584720134735,
           "ale",
           "hypertension"
          ],
          [
           0.08389584720134735,
           "ale",
           "hypertension"
          ],
          [
           0.08389584720134735,
           "ale",
           "hypertension"
          ],
          [
           0.08389584720134735,
           "ale",
           "hypertension"
          ],
          [
           0.08389584720134735,
           "ale",
           "hypertension"
          ],
          [
           0.08389584720134735,
           "ale",
           "hypertension"
          ],
          [
           0.08389584720134735,
           "ale",
           "hypertension"
          ],
          [
           0.08389584720134735,
           "ale",
           "hypertension"
          ],
          [
           0.08389584720134735,
           "ale",
           "hypertension"
          ],
          [
           0.08389584720134735,
           "ale",
           "hypertension"
          ],
          [
           0.08389584720134735,
           "ale",
           "hypertension"
          ],
          [
           0.08389584720134735,
           "ale",
           "hypertension"
          ],
          [
           0.08389584720134735,
           "ale",
           "hypertension"
          ],
          [
           0.08389584720134735,
           "ale",
           "hypertension"
          ],
          [
           0.08389584720134735,
           "ale",
           "hypertension"
          ],
          [
           0.08389584720134735,
           "ale",
           "hypertension"
          ],
          [
           0.08389584720134735,
           "ale",
           "hypertension"
          ],
          [
           0.08389584720134735,
           "ale",
           "hypertension"
          ],
          [
           0.08389584720134735,
           "ale",
           "hypertension"
          ],
          [
           0.08389584720134735,
           "ale",
           "hypertension"
          ],
          [
           0.08389584720134735,
           "ale",
           "hypertension"
          ],
          [
           0.08389584720134735,
           "ale",
           "hypertension"
          ],
          [
           0.08389584720134735,
           "ale",
           "hypertension"
          ],
          [
           0.08389584720134735,
           "ale",
           "hypertension"
          ],
          [
           0.08389584720134735,
           "ale",
           "hypertension"
          ],
          [
           0.08389584720134735,
           "ale",
           "hypertension"
          ],
          [
           0.08389584720134735,
           "ale",
           "hypertension"
          ],
          [
           0.08389584720134735,
           "ale",
           "hypertension"
          ],
          [
           0.08389584720134735,
           "ale",
           "hypertension"
          ],
          [
           0.08389584720134735,
           "ale",
           "hypertension"
          ],
          [
           0.08389584720134735,
           "ale",
           "hypertension"
          ],
          [
           0.08389584720134735,
           "ale",
           "hypertension"
          ],
          [
           0.08389584720134735,
           "ale",
           "hypertension"
          ],
          [
           0.08389584720134735,
           "ale",
           "hypertension"
          ],
          [
           0.08389584720134735,
           "ale",
           "hypertension"
          ],
          [
           0.08389584720134735,
           "ale",
           "hypertension"
          ],
          [
           0.08389584720134735,
           "ale",
           "hypertension"
          ],
          [
           0.08389584720134735,
           "ale",
           "hypertension"
          ],
          [
           0.08389584720134735,
           "ale",
           "hypertension"
          ],
          [
           0.08389584720134735,
           "ale",
           "hypertension"
          ],
          [
           0.08389584720134735,
           "ale",
           "hypertension"
          ],
          [
           0.08389584720134735,
           "ale",
           "hypertension"
          ],
          [
           0.08389584720134735,
           "ale",
           "hypertension"
          ],
          [
           0.08389584720134735,
           "ale",
           "hypertension"
          ],
          [
           0.08389584720134735,
           "ale",
           "hypertension"
          ],
          [
           0.08389584720134735,
           "ale",
           "hypertension"
          ],
          [
           0.08389584720134735,
           "ale",
           "hypertension"
          ],
          [
           0.08389584720134735,
           "ale",
           "hypertension"
          ],
          [
           0.08389584720134735,
           "ale",
           "hypertension"
          ],
          [
           0.08389584720134735,
           "ale",
           "hypertension"
          ],
          [
           0.08389584720134735,
           "ale",
           "hypertension"
          ],
          [
           0.08389584720134735,
           "ale",
           "hypertension"
          ],
          [
           0.08389584720134735,
           "ale",
           "hypertension"
          ],
          [
           0.08389584720134735,
           "ale",
           "hypertension"
          ],
          [
           0.08389584720134735,
           "ale",
           "hypertension"
          ],
          [
           0.08389584720134735,
           "ale",
           "hypertension"
          ],
          [
           0.08389584720134735,
           "ale",
           "hypertension"
          ],
          [
           0.08389584720134735,
           "ale",
           "hypertension"
          ],
          [
           0.08389584720134735,
           "ale",
           "hypertension"
          ],
          [
           0.08389584720134735,
           "ale",
           "hypertension"
          ],
          [
           0.08389584720134735,
           "ale",
           "hypertension"
          ],
          [
           0.08389584720134735,
           "ale",
           "hypertension"
          ],
          [
           0.08389584720134735,
           "ale",
           "hypertension"
          ],
          [
           0.08389584720134735,
           "ale",
           "hypertension"
          ],
          [
           0.08389584720134735,
           "ale",
           "hypertension"
          ],
          [
           0.08389584720134735,
           "ale",
           "hypertension"
          ],
          [
           0.08389584720134735,
           "ale",
           "hypertension"
          ],
          [
           0.08389584720134735,
           "ale",
           "hypertension"
          ],
          [
           0.08389584720134735,
           "ale",
           "hypertension"
          ],
          [
           0.08389584720134735,
           "ale",
           "hypertension"
          ],
          [
           0.08389584720134735,
           "ale",
           "hypertension"
          ],
          [
           0.08389584720134735,
           "ale",
           "hypertension"
          ],
          [
           0.08389584720134735,
           "ale",
           "hypertension"
          ],
          [
           0.08389584720134735,
           "ale",
           "hypertension"
          ],
          [
           0.08389584720134735,
           "ale",
           "hypertension"
          ],
          [
           0.08389584720134735,
           "ale",
           "hypertension"
          ],
          [
           0.08389584720134735,
           "ale",
           "hypertension"
          ],
          [
           0.08389584720134735,
           "ale",
           "hypertension"
          ],
          [
           0.08389584720134735,
           "ale",
           "hypertension"
          ]
         ],
         "hovertemplate": "<b>%{hovertext}</b><br><br>prediction=%{y:.3f}<br>mean_prediction=%{customdata[0]:.3f}<extra></extra>",
         "hovertext": [
          "ale",
          "ale",
          "ale",
          "ale",
          "ale",
          "ale",
          "ale",
          "ale",
          "ale",
          "ale",
          "ale",
          "ale",
          "ale",
          "ale",
          "ale",
          "ale",
          "ale",
          "ale",
          "ale",
          "ale",
          "ale",
          "ale",
          "ale",
          "ale",
          "ale",
          "ale",
          "ale",
          "ale",
          "ale",
          "ale",
          "ale",
          "ale",
          "ale",
          "ale",
          "ale",
          "ale",
          "ale",
          "ale",
          "ale",
          "ale",
          "ale",
          "ale",
          "ale",
          "ale",
          "ale",
          "ale",
          "ale",
          "ale",
          "ale",
          "ale",
          "ale",
          "ale",
          "ale",
          "ale",
          "ale",
          "ale",
          "ale",
          "ale",
          "ale",
          "ale",
          "ale",
          "ale",
          "ale",
          "ale",
          "ale",
          "ale",
          "ale",
          "ale",
          "ale",
          "ale",
          "ale",
          "ale",
          "ale",
          "ale",
          "ale",
          "ale",
          "ale",
          "ale",
          "ale",
          "ale",
          "ale",
          "ale",
          "ale",
          "ale",
          "ale",
          "ale",
          "ale",
          "ale",
          "ale",
          "ale",
          "ale",
          "ale",
          "ale",
          "ale",
          "ale",
          "ale",
          "ale",
          "ale",
          "ale",
          "ale",
          "ale"
         ],
         "legendgroup": "ale",
         "line": {
          "color": "#4378bf",
          "dash": "solid",
          "width": 2
         },
         "marker": {
          "symbol": "circle"
         },
         "mode": "lines",
         "name": "ale",
         "opacity": 1,
         "orientation": "v",
         "showlegend": false,
         "type": "scatter",
         "x": [
          0,
          0.01,
          0.02,
          0.03,
          0.04,
          0.05,
          0.06,
          0.07,
          0.08,
          0.09,
          0.1,
          0.11,
          0.12,
          0.13,
          0.14,
          0.15,
          0.16,
          0.17,
          0.18,
          0.19,
          0.2,
          0.21,
          0.22,
          0.23,
          0.24,
          0.25,
          0.26,
          0.27,
          0.28,
          0.29,
          0.3,
          0.31,
          0.32,
          0.33,
          0.34,
          0.35000000000000003,
          0.36,
          0.37,
          0.38,
          0.39,
          0.4,
          0.41000000000000003,
          0.42,
          0.43,
          0.44,
          0.45,
          0.46,
          0.47000000000000003,
          0.48,
          0.49,
          0.5,
          0.51,
          0.52,
          0.53,
          0.54,
          0.55,
          0.56,
          0.5700000000000001,
          0.58,
          0.59,
          0.6,
          0.61,
          0.62,
          0.63,
          0.64,
          0.65,
          0.66,
          0.67,
          0.68,
          0.6900000000000001,
          0.7000000000000001,
          0.71,
          0.72,
          0.73,
          0.74,
          0.75,
          0.76,
          0.77,
          0.78,
          0.79,
          0.8,
          0.81,
          0.8200000000000001,
          0.8300000000000001,
          0.84,
          0.85,
          0.86,
          0.87,
          0.88,
          0.89,
          0.9,
          0.91,
          0.92,
          0.93,
          0.9400000000000001,
          0.9500000000000001,
          0.96,
          0.97,
          0.98,
          0.99,
          1
         ],
         "xaxis": "x2",
         "y": [
          0.08392163139218461,
          0.08392163139218461,
          0.08392163139218461,
          0.08392163139218461,
          0.08392163139218461,
          0.08392163139218461,
          0.08392163139218461,
          0.08392163139218461,
          0.08392163139218461,
          0.08392163139218461,
          0.08392163139218461,
          0.08392163139218461,
          0.08392163139218461,
          0.08392163139218461,
          0.08392163139218461,
          0.08392163139218461,
          0.08392163139218461,
          0.08392163139218461,
          0.08392163139218461,
          0.08392163139218461,
          0.08392163139218461,
          0.08392163139218461,
          0.08392163139218461,
          0.08392163139218461,
          0.08392163139218461,
          0.08392163139218461,
          0.08392163139218461,
          0.08392163139218461,
          0.08392163139218461,
          0.08392163139218461,
          0.08392163139218461,
          0.08392163139218461,
          0.08392163139218461,
          0.08392163139218461,
          0.08392163139218461,
          0.08392163139218461,
          0.08392163139218461,
          0.08392163139218461,
          0.08392163139218461,
          0.08392163139218461,
          0.08392163139218461,
          0.08392163139218461,
          0.08392163139218461,
          0.08392163139218461,
          0.08392163139218461,
          0.08392163139218461,
          0.08392163139218461,
          0.08392163139218461,
          0.08392163139218461,
          0.08392163139218461,
          0.08392163139218461,
          0.08392163139218461,
          0.08392163139218461,
          0.08392163139218461,
          0.08392163139218461,
          0.08392163139218461,
          0.08392163139218461,
          0.08392163139218461,
          0.08392163139218461,
          0.08392163139218461,
          0.08392163139218461,
          0.08392163139218461,
          0.08392163139218461,
          0.08392163139218461,
          0.08392163139218461,
          0.08392163139218461,
          0.08392163139218461,
          0.08392163139218461,
          0.08392163139218461,
          0.08392163139218461,
          0.08392163139218461,
          0.08392163139218461,
          0.08392163139218461,
          0.08392163139218461,
          0.08392163139218461,
          0.08392163139218461,
          0.08392163139218461,
          0.08392163139218461,
          0.08392163139218461,
          0.08392163139218461,
          0.08392163139218461,
          0.08392163139218461,
          0.08392163139218461,
          0.08392163139218461,
          0.08392163139218461,
          0.08392163139218461,
          0.08392163139218461,
          0.08392163139218461,
          0.08392163139218461,
          0.08392163139218461,
          0.08392163139218461,
          0.08392163139218461,
          0.08392163139218461,
          0.08392163139218461,
          0.08392163139218461,
          0.08392163139218461,
          0.08392163139218461,
          0.08392163139218461,
          0.08392163139218461,
          0.08392163139218461,
          0.13660443571320666
         ],
         "yaxis": "y2"
        }
       ],
       "layout": {
        "annotations": [
         {
          "font": {
           "size": 13
          },
          "showarrow": false,
          "text": "heart_disease",
          "x": 0.2375,
          "xanchor": "center",
          "xref": "paper",
          "y": 0.19375,
          "yanchor": "bottom",
          "yref": "paper"
         },
         {
          "font": {
           "size": 13
          },
          "showarrow": false,
          "text": "hypertension",
          "x": 0.7625,
          "xanchor": "center",
          "xref": "paper",
          "y": 0.19375,
          "yanchor": "bottom",
          "yref": "paper"
         },
         {
          "font": {
           "size": 13
          },
          "showarrow": false,
          "text": "feat08",
          "x": 0.2375,
          "xanchor": "center",
          "xref": "paper",
          "y": 0.4625,
          "yanchor": "bottom",
          "yref": "paper"
         },
         {
          "font": {
           "size": 13
          },
          "showarrow": false,
          "text": "feat09",
          "x": 0.7625,
          "xanchor": "center",
          "xref": "paper",
          "y": 0.4625,
          "yanchor": "bottom",
          "yref": "paper"
         },
         {
          "font": {
           "size": 13
          },
          "showarrow": false,
          "text": "feat06",
          "x": 0.2375,
          "xanchor": "center",
          "xref": "paper",
          "y": 0.73125,
          "yanchor": "bottom",
          "yref": "paper"
         },
         {
          "font": {
           "size": 13
          },
          "showarrow": false,
          "text": "feat07",
          "x": 0.7625,
          "xanchor": "center",
          "xref": "paper",
          "y": 0.73125,
          "yanchor": "bottom",
          "yref": "paper"
         },
         {
          "font": {
           "size": 13
          },
          "showarrow": false,
          "text": "feat03",
          "x": 0.2375,
          "xanchor": "center",
          "xref": "paper",
          "y": 1,
          "yanchor": "bottom",
          "yref": "paper"
         },
         {
          "font": {
           "size": 13
          },
          "showarrow": false,
          "text": "feat04",
          "x": 0.7625,
          "xanchor": "center",
          "xref": "paper",
          "y": 1,
          "yanchor": "bottom",
          "yref": "paper"
         },
         {
          "font": {
           "size": 13
          },
          "showarrow": false,
          "text": "prediction",
          "textangle": -90,
          "x": -0.07,
          "xref": "paper",
          "y": 0.5,
          "yref": "paper"
         }
        ],
        "font": {
         "color": "#371ea3"
        },
        "height": 1509,
        "hovermode": "x unified",
        "legend": {
         "font": {
          "size": 11
         },
         "itemsizing": "constant",
         "orientation": "h",
         "title": {
          "font": {
           "size": 12
          },
          "text": "label"
         },
         "tracegroupgap": 0,
         "x": 1,
         "xanchor": "right",
         "y": 1.0198807157057654,
         "yanchor": "bottom"
        },
        "margin": {
         "b": 71,
         "r": 30,
         "t": 78
        },
        "template": {
         "data": {
          "scatter": [
           {
            "type": "scatter"
           }
          ]
         }
        },
        "title": {
         "font": {
          "size": 16
         },
         "text": "Aggregated Profiles",
         "x": 0.15
        },
        "xaxis": {
         "anchor": "y",
         "automargin": true,
         "domain": [
          0,
          0.475
         ],
         "fixedrange": true,
         "gridwidth": 2,
         "showticklabels": true,
         "tickcolor": "white",
         "ticklen": 3,
         "ticks": "outside",
         "title": {
          "text": ""
         },
         "type": "linear",
         "zeroline": false
        },
        "xaxis2": {
         "anchor": "y2",
         "automargin": true,
         "domain": [
          0.525,
          1
         ],
         "fixedrange": true,
         "gridwidth": 2,
         "showticklabels": true,
         "tickcolor": "white",
         "ticklen": 3,
         "ticks": "outside",
         "title": {
          "text": ""
         },
         "type": "linear",
         "zeroline": false
        },
        "xaxis3": {
         "anchor": "y3",
         "automargin": true,
         "domain": [
          0,
          0.475
         ],
         "fixedrange": true,
         "gridwidth": 2,
         "showticklabels": true,
         "tickcolor": "white",
         "ticklen": 3,
         "ticks": "outside",
         "title": {
          "text": ""
         },
         "type": "linear",
         "zeroline": false
        },
        "xaxis4": {
         "anchor": "y4",
         "automargin": true,
         "domain": [
          0.525,
          1
         ],
         "fixedrange": true,
         "gridwidth": 2,
         "showticklabels": true,
         "tickcolor": "white",
         "ticklen": 3,
         "ticks": "outside",
         "title": {
          "text": ""
         },
         "type": "linear",
         "zeroline": false
        },
        "xaxis5": {
         "anchor": "y5",
         "automargin": true,
         "domain": [
          0,
          0.475
         ],
         "fixedrange": true,
         "gridwidth": 2,
         "showticklabels": true,
         "tickcolor": "white",
         "ticklen": 3,
         "ticks": "outside",
         "title": {
          "text": ""
         },
         "type": "linear",
         "zeroline": false
        },
        "xaxis6": {
         "anchor": "y6",
         "automargin": true,
         "domain": [
          0.525,
          1
         ],
         "fixedrange": true,
         "gridwidth": 2,
         "showticklabels": true,
         "tickcolor": "white",
         "ticklen": 3,
         "ticks": "outside",
         "title": {
          "text": ""
         },
         "type": "linear",
         "zeroline": false
        },
        "xaxis7": {
         "anchor": "y7",
         "automargin": true,
         "domain": [
          0,
          0.475
         ],
         "fixedrange": true,
         "gridwidth": 2,
         "showticklabels": true,
         "tickcolor": "white",
         "ticklen": 3,
         "ticks": "outside",
         "title": {
          "text": ""
         },
         "type": "linear",
         "zeroline": false
        },
        "xaxis8": {
         "anchor": "y8",
         "automargin": true,
         "domain": [
          0.525,
          1
         ],
         "fixedrange": true,
         "gridwidth": 2,
         "showticklabels": true,
         "tickcolor": "white",
         "ticklen": 3,
         "ticks": "outside",
         "title": {
          "text": ""
         },
         "type": "linear",
         "zeroline": false
        },
        "yaxis": {
         "anchor": "x",
         "automargin": true,
         "domain": [
          0,
          0.19375
         ],
         "fixedrange": true,
         "gridwidth": 2,
         "range": [
          0.033329844850190984,
          0.1459930348825717
         ],
         "tickcolor": "white",
         "ticklen": 3,
         "ticks": "outside",
         "title": {
          "text": ""
         },
         "type": "linear",
         "zeroline": false
        },
        "yaxis2": {
         "anchor": "x2",
         "automargin": true,
         "domain": [
          0,
          0.19375
         ],
         "fixedrange": true,
         "gridwidth": 2,
         "matches": "y",
         "showticklabels": false,
         "tickcolor": "white",
         "ticklen": 3,
         "ticks": "outside",
         "title": {
          "text": ""
         },
         "type": "linear",
         "zeroline": false
        },
        "yaxis3": {
         "anchor": "x3",
         "automargin": true,
         "domain": [
          0.26875,
          0.4625
         ],
         "fixedrange": true,
         "gridwidth": 2,
         "matches": "y",
         "range": [
          0.033329844850190984,
          0.1459930348825717
         ],
         "tickcolor": "white",
         "ticklen": 3,
         "ticks": "outside",
         "title": {
          "text": ""
         },
         "type": "linear",
         "zeroline": false
        },
        "yaxis4": {
         "anchor": "x4",
         "automargin": true,
         "domain": [
          0.26875,
          0.4625
         ],
         "fixedrange": true,
         "gridwidth": 2,
         "matches": "y",
         "showticklabels": false,
         "tickcolor": "white",
         "ticklen": 3,
         "ticks": "outside",
         "title": {
          "text": ""
         },
         "type": "linear",
         "zeroline": false
        },
        "yaxis5": {
         "anchor": "x5",
         "automargin": true,
         "domain": [
          0.5375,
          0.73125
         ],
         "fixedrange": true,
         "gridwidth": 2,
         "matches": "y",
         "range": [
          0.033329844850190984,
          0.1459930348825717
         ],
         "tickcolor": "white",
         "ticklen": 3,
         "ticks": "outside",
         "title": {
          "text": ""
         },
         "type": "linear",
         "zeroline": false
        },
        "yaxis6": {
         "anchor": "x6",
         "automargin": true,
         "domain": [
          0.5375,
          0.73125
         ],
         "fixedrange": true,
         "gridwidth": 2,
         "matches": "y",
         "showticklabels": false,
         "tickcolor": "white",
         "ticklen": 3,
         "ticks": "outside",
         "title": {
          "text": ""
         },
         "type": "linear",
         "zeroline": false
        },
        "yaxis7": {
         "anchor": "x7",
         "automargin": true,
         "domain": [
          0.80625,
          1
         ],
         "fixedrange": true,
         "gridwidth": 2,
         "matches": "y",
         "range": [
          0.033329844850190984,
          0.1459930348825717
         ],
         "tickcolor": "white",
         "ticklen": 3,
         "ticks": "outside",
         "title": {
          "text": ""
         },
         "type": "linear",
         "zeroline": false
        },
        "yaxis8": {
         "anchor": "x8",
         "automargin": true,
         "domain": [
          0.80625,
          1
         ],
         "fixedrange": true,
         "gridwidth": 2,
         "matches": "y",
         "showticklabels": false,
         "tickcolor": "white",
         "ticklen": 3,
         "ticks": "outside",
         "title": {
          "text": ""
         },
         "type": "linear",
         "zeroline": false
        }
       }
      }
     },
     "metadata": {},
     "output_type": "display_data"
    }
   ],
   "source": [
    "vi = exp.model_parts()\n",
    "# pd.options.display.float_format = '{:.3f}'.format\n",
    "# vi.result\n",
    "\n",
    "# exp = dx.Explainer(model, X_train, y_train)\n",
    "# y_test_pred = exp.predict_parts(X_test[0], type='break_down')\n",
    "\n",
    "# vi = exp.model_parts()\n",
    "# vi.result\n",
    "pdp_num = exp.model_profile(type = 'partial', label=\"pdp\")\n",
    "ale_num = exp.model_profile(type = 'accumulated', label=\"ale\")\n",
    "pdp_num.plot(ale_num)"
   ]
  },
  {
   "cell_type": "code",
   "execution_count": 64,
   "metadata": {},
   "outputs": [
    {
     "ename": "NameError",
     "evalue": "name 'aaaaaaaaaaaaaaaa' is not defined",
     "output_type": "error",
     "traceback": [
      "\u001b[1;31m---------------------------------------------------------------------------\u001b[0m",
      "\u001b[1;31mNameError\u001b[0m                                 Traceback (most recent call last)",
      "\u001b[1;32mc:\\Users\\zumiaz\\OneDrive - SAS\\Desktop\\moje\\ml2\\projekt\\ML2-project\\notebooks\\Classification.ipynb Cell 21\u001b[0m line \u001b[0;36m1\n\u001b[1;32m----> <a href='vscode-notebook-cell:/c%3A/Users/zumiaz/OneDrive%20-%20SAS/Desktop/moje/ml2/projekt/ML2-project/notebooks/Classification.ipynb#X26sZmlsZQ%3D%3D?line=0'>1</a>\u001b[0m aaaaaaaaaaaaaaaa\n",
      "\u001b[1;31mNameError\u001b[0m: name 'aaaaaaaaaaaaaaaa' is not defined"
     ]
    }
   ],
   "source": [
    "# aaaaaaaaaaaaaaaa"
   ]
  },
  {
   "cell_type": "markdown",
   "metadata": {},
   "source": [
    "### MLP"
   ]
  },
  {
   "cell_type": "code",
   "execution_count": 98,
   "metadata": {},
   "outputs": [
    {
     "ename": "ValueError",
     "evalue": "Input X contains NaN.\nMLPClassifier does not accept missing values encoded as NaN natively. For supervised learning, you might want to consider sklearn.ensemble.HistGradientBoostingClassifier and Regressor which accept missing values encoded as NaNs natively. Alternatively, it is possible to preprocess the data, for instance by using an imputer transformer in a pipeline or drop samples with missing values. See https://scikit-learn.org/stable/modules/impute.html You can find a list of all estimators that handle NaN values at the following page: https://scikit-learn.org/stable/modules/impute.html#estimators-that-handle-nan-values",
     "output_type": "error",
     "traceback": [
      "\u001b[1;31m---------------------------------------------------------------------------\u001b[0m",
      "\u001b[1;31mValueError\u001b[0m                                Traceback (most recent call last)",
      "\u001b[1;32mc:\\Users\\zumiaz\\OneDrive - SAS\\Desktop\\moje\\ml2\\projekt\\ML2-project\\notebooks\\Classification.ipynb Cell 29\u001b[0m line \u001b[0;36m2\n\u001b[0;32m      <a href='vscode-notebook-cell:/c%3A/Users/zumiaz/OneDrive%20-%20SAS/Desktop/moje/ml2/projekt/ML2-project/notebooks/Classification.ipynb#X31sZmlsZQ%3D%3D?line=0'>1</a>\u001b[0m classifier \u001b[39m=\u001b[39m MLPClassifier(random_state\u001b[39m=\u001b[39m\u001b[39m0\u001b[39m)\n\u001b[1;32m----> <a href='vscode-notebook-cell:/c%3A/Users/zumiaz/OneDrive%20-%20SAS/Desktop/moje/ml2/projekt/ML2-project/notebooks/Classification.ipynb#X31sZmlsZQ%3D%3D?line=1'>2</a>\u001b[0m classifier\u001b[39m.\u001b[39;49mfit(X_train, y_train)\n\u001b[0;32m      <a href='vscode-notebook-cell:/c%3A/Users/zumiaz/OneDrive%20-%20SAS/Desktop/moje/ml2/projekt/ML2-project/notebooks/Classification.ipynb#X31sZmlsZQ%3D%3D?line=2'>3</a>\u001b[0m y_pred \u001b[39m=\u001b[39m classifier\u001b[39m.\u001b[39mpredict(X_test)\n\u001b[0;32m      <a href='vscode-notebook-cell:/c%3A/Users/zumiaz/OneDrive%20-%20SAS/Desktop/moje/ml2/projekt/ML2-project/notebooks/Classification.ipynb#X31sZmlsZQ%3D%3D?line=5'>6</a>\u001b[0m predictions \u001b[39m=\u001b[39m [\u001b[39mround\u001b[39m(value) \u001b[39mfor\u001b[39;00m value \u001b[39min\u001b[39;00m y_pred]\n",
      "File \u001b[1;32m~\\AppData\\Local\\Packages\\PythonSoftwareFoundation.Python.3.8_qbz5n2kfra8p0\\LocalCache\\local-packages\\Python38\\site-packages\\sklearn\\base.py:1152\u001b[0m, in \u001b[0;36m_fit_context.<locals>.decorator.<locals>.wrapper\u001b[1;34m(estimator, *args, **kwargs)\u001b[0m\n\u001b[0;32m   1145\u001b[0m     estimator\u001b[39m.\u001b[39m_validate_params()\n\u001b[0;32m   1147\u001b[0m \u001b[39mwith\u001b[39;00m config_context(\n\u001b[0;32m   1148\u001b[0m     skip_parameter_validation\u001b[39m=\u001b[39m(\n\u001b[0;32m   1149\u001b[0m         prefer_skip_nested_validation \u001b[39mor\u001b[39;00m global_skip_validation\n\u001b[0;32m   1150\u001b[0m     )\n\u001b[0;32m   1151\u001b[0m ):\n\u001b[1;32m-> 1152\u001b[0m     \u001b[39mreturn\u001b[39;00m fit_method(estimator, \u001b[39m*\u001b[39;49margs, \u001b[39m*\u001b[39;49m\u001b[39m*\u001b[39;49mkwargs)\n",
      "File \u001b[1;32m~\\AppData\\Local\\Packages\\PythonSoftwareFoundation.Python.3.8_qbz5n2kfra8p0\\LocalCache\\local-packages\\Python38\\site-packages\\sklearn\\neural_network\\_multilayer_perceptron.py:753\u001b[0m, in \u001b[0;36mBaseMultilayerPerceptron.fit\u001b[1;34m(self, X, y)\u001b[0m\n\u001b[0;32m    735\u001b[0m \u001b[39m@_fit_context\u001b[39m(prefer_skip_nested_validation\u001b[39m=\u001b[39m\u001b[39mTrue\u001b[39;00m)\n\u001b[0;32m    736\u001b[0m \u001b[39mdef\u001b[39;00m \u001b[39mfit\u001b[39m(\u001b[39mself\u001b[39m, X, y):\n\u001b[0;32m    737\u001b[0m \u001b[39m    \u001b[39m\u001b[39m\"\"\"Fit the model to data matrix X and target(s) y.\u001b[39;00m\n\u001b[0;32m    738\u001b[0m \n\u001b[0;32m    739\u001b[0m \u001b[39m    Parameters\u001b[39;00m\n\u001b[1;32m   (...)\u001b[0m\n\u001b[0;32m    751\u001b[0m \u001b[39m        Returns a trained MLP model.\u001b[39;00m\n\u001b[0;32m    752\u001b[0m \u001b[39m    \"\"\"\u001b[39;00m\n\u001b[1;32m--> 753\u001b[0m     \u001b[39mreturn\u001b[39;00m \u001b[39mself\u001b[39;49m\u001b[39m.\u001b[39;49m_fit(X, y, incremental\u001b[39m=\u001b[39;49m\u001b[39mFalse\u001b[39;49;00m)\n",
      "File \u001b[1;32m~\\AppData\\Local\\Packages\\PythonSoftwareFoundation.Python.3.8_qbz5n2kfra8p0\\LocalCache\\local-packages\\Python38\\site-packages\\sklearn\\neural_network\\_multilayer_perceptron.py:442\u001b[0m, in \u001b[0;36mBaseMultilayerPerceptron._fit\u001b[1;34m(self, X, y, incremental)\u001b[0m\n\u001b[0;32m    435\u001b[0m     \u001b[39mraise\u001b[39;00m \u001b[39mValueError\u001b[39;00m(\n\u001b[0;32m    436\u001b[0m         \u001b[39m\"\u001b[39m\u001b[39mhidden_layer_sizes must be > 0, got \u001b[39m\u001b[39m%s\u001b[39;00m\u001b[39m.\u001b[39m\u001b[39m\"\u001b[39m \u001b[39m%\u001b[39m hidden_layer_sizes\n\u001b[0;32m    437\u001b[0m     )\n\u001b[0;32m    438\u001b[0m first_pass \u001b[39m=\u001b[39m \u001b[39mnot\u001b[39;00m \u001b[39mhasattr\u001b[39m(\u001b[39mself\u001b[39m, \u001b[39m\"\u001b[39m\u001b[39mcoefs_\u001b[39m\u001b[39m\"\u001b[39m) \u001b[39mor\u001b[39;00m (\n\u001b[0;32m    439\u001b[0m     \u001b[39mnot\u001b[39;00m \u001b[39mself\u001b[39m\u001b[39m.\u001b[39mwarm_start \u001b[39mand\u001b[39;00m \u001b[39mnot\u001b[39;00m incremental\n\u001b[0;32m    440\u001b[0m )\n\u001b[1;32m--> 442\u001b[0m X, y \u001b[39m=\u001b[39m \u001b[39mself\u001b[39;49m\u001b[39m.\u001b[39;49m_validate_input(X, y, incremental, reset\u001b[39m=\u001b[39;49mfirst_pass)\n\u001b[0;32m    444\u001b[0m n_samples, n_features \u001b[39m=\u001b[39m X\u001b[39m.\u001b[39mshape\n\u001b[0;32m    446\u001b[0m \u001b[39m# Ensure y is 2D\u001b[39;00m\n",
      "File \u001b[1;32m~\\AppData\\Local\\Packages\\PythonSoftwareFoundation.Python.3.8_qbz5n2kfra8p0\\LocalCache\\local-packages\\Python38\\site-packages\\sklearn\\neural_network\\_multilayer_perceptron.py:1093\u001b[0m, in \u001b[0;36mMLPClassifier._validate_input\u001b[1;34m(self, X, y, incremental, reset)\u001b[0m\n\u001b[0;32m   1092\u001b[0m \u001b[39mdef\u001b[39;00m \u001b[39m_validate_input\u001b[39m(\u001b[39mself\u001b[39m, X, y, incremental, reset):\n\u001b[1;32m-> 1093\u001b[0m     X, y \u001b[39m=\u001b[39m \u001b[39mself\u001b[39;49m\u001b[39m.\u001b[39;49m_validate_data(\n\u001b[0;32m   1094\u001b[0m         X,\n\u001b[0;32m   1095\u001b[0m         y,\n\u001b[0;32m   1096\u001b[0m         accept_sparse\u001b[39m=\u001b[39;49m[\u001b[39m\"\u001b[39;49m\u001b[39mcsr\u001b[39;49m\u001b[39m\"\u001b[39;49m, \u001b[39m\"\u001b[39;49m\u001b[39mcsc\u001b[39;49m\u001b[39m\"\u001b[39;49m],\n\u001b[0;32m   1097\u001b[0m         multi_output\u001b[39m=\u001b[39;49m\u001b[39mTrue\u001b[39;49;00m,\n\u001b[0;32m   1098\u001b[0m         dtype\u001b[39m=\u001b[39;49m(np\u001b[39m.\u001b[39;49mfloat64, np\u001b[39m.\u001b[39;49mfloat32),\n\u001b[0;32m   1099\u001b[0m         reset\u001b[39m=\u001b[39;49mreset,\n\u001b[0;32m   1100\u001b[0m     )\n\u001b[0;32m   1101\u001b[0m     \u001b[39mif\u001b[39;00m y\u001b[39m.\u001b[39mndim \u001b[39m==\u001b[39m \u001b[39m2\u001b[39m \u001b[39mand\u001b[39;00m y\u001b[39m.\u001b[39mshape[\u001b[39m1\u001b[39m] \u001b[39m==\u001b[39m \u001b[39m1\u001b[39m:\n\u001b[0;32m   1102\u001b[0m         y \u001b[39m=\u001b[39m column_or_1d(y, warn\u001b[39m=\u001b[39m\u001b[39mTrue\u001b[39;00m)\n",
      "File \u001b[1;32m~\\AppData\\Local\\Packages\\PythonSoftwareFoundation.Python.3.8_qbz5n2kfra8p0\\LocalCache\\local-packages\\Python38\\site-packages\\sklearn\\base.py:622\u001b[0m, in \u001b[0;36mBaseEstimator._validate_data\u001b[1;34m(self, X, y, reset, validate_separately, cast_to_ndarray, **check_params)\u001b[0m\n\u001b[0;32m    620\u001b[0m         y \u001b[39m=\u001b[39m check_array(y, input_name\u001b[39m=\u001b[39m\u001b[39m\"\u001b[39m\u001b[39my\u001b[39m\u001b[39m\"\u001b[39m, \u001b[39m*\u001b[39m\u001b[39m*\u001b[39mcheck_y_params)\n\u001b[0;32m    621\u001b[0m     \u001b[39melse\u001b[39;00m:\n\u001b[1;32m--> 622\u001b[0m         X, y \u001b[39m=\u001b[39m check_X_y(X, y, \u001b[39m*\u001b[39;49m\u001b[39m*\u001b[39;49mcheck_params)\n\u001b[0;32m    623\u001b[0m     out \u001b[39m=\u001b[39m X, y\n\u001b[0;32m    625\u001b[0m \u001b[39mif\u001b[39;00m \u001b[39mnot\u001b[39;00m no_val_X \u001b[39mand\u001b[39;00m check_params\u001b[39m.\u001b[39mget(\u001b[39m\"\u001b[39m\u001b[39mensure_2d\u001b[39m\u001b[39m\"\u001b[39m, \u001b[39mTrue\u001b[39;00m):\n",
      "File \u001b[1;32m~\\AppData\\Local\\Packages\\PythonSoftwareFoundation.Python.3.8_qbz5n2kfra8p0\\LocalCache\\local-packages\\Python38\\site-packages\\sklearn\\utils\\validation.py:1146\u001b[0m, in \u001b[0;36mcheck_X_y\u001b[1;34m(X, y, accept_sparse, accept_large_sparse, dtype, order, copy, force_all_finite, ensure_2d, allow_nd, multi_output, ensure_min_samples, ensure_min_features, y_numeric, estimator)\u001b[0m\n\u001b[0;32m   1141\u001b[0m         estimator_name \u001b[39m=\u001b[39m _check_estimator_name(estimator)\n\u001b[0;32m   1142\u001b[0m     \u001b[39mraise\u001b[39;00m \u001b[39mValueError\u001b[39;00m(\n\u001b[0;32m   1143\u001b[0m         \u001b[39mf\u001b[39m\u001b[39m\"\u001b[39m\u001b[39m{\u001b[39;00mestimator_name\u001b[39m}\u001b[39;00m\u001b[39m requires y to be passed, but the target y is None\u001b[39m\u001b[39m\"\u001b[39m\n\u001b[0;32m   1144\u001b[0m     )\n\u001b[1;32m-> 1146\u001b[0m X \u001b[39m=\u001b[39m check_array(\n\u001b[0;32m   1147\u001b[0m     X,\n\u001b[0;32m   1148\u001b[0m     accept_sparse\u001b[39m=\u001b[39;49maccept_sparse,\n\u001b[0;32m   1149\u001b[0m     accept_large_sparse\u001b[39m=\u001b[39;49maccept_large_sparse,\n\u001b[0;32m   1150\u001b[0m     dtype\u001b[39m=\u001b[39;49mdtype,\n\u001b[0;32m   1151\u001b[0m     order\u001b[39m=\u001b[39;49morder,\n\u001b[0;32m   1152\u001b[0m     copy\u001b[39m=\u001b[39;49mcopy,\n\u001b[0;32m   1153\u001b[0m     force_all_finite\u001b[39m=\u001b[39;49mforce_all_finite,\n\u001b[0;32m   1154\u001b[0m     ensure_2d\u001b[39m=\u001b[39;49mensure_2d,\n\u001b[0;32m   1155\u001b[0m     allow_nd\u001b[39m=\u001b[39;49mallow_nd,\n\u001b[0;32m   1156\u001b[0m     ensure_min_samples\u001b[39m=\u001b[39;49mensure_min_samples,\n\u001b[0;32m   1157\u001b[0m     ensure_min_features\u001b[39m=\u001b[39;49mensure_min_features,\n\u001b[0;32m   1158\u001b[0m     estimator\u001b[39m=\u001b[39;49mestimator,\n\u001b[0;32m   1159\u001b[0m     input_name\u001b[39m=\u001b[39;49m\u001b[39m\"\u001b[39;49m\u001b[39mX\u001b[39;49m\u001b[39m\"\u001b[39;49m,\n\u001b[0;32m   1160\u001b[0m )\n\u001b[0;32m   1162\u001b[0m y \u001b[39m=\u001b[39m _check_y(y, multi_output\u001b[39m=\u001b[39mmulti_output, y_numeric\u001b[39m=\u001b[39my_numeric, estimator\u001b[39m=\u001b[39mestimator)\n\u001b[0;32m   1164\u001b[0m check_consistent_length(X, y)\n",
      "File \u001b[1;32m~\\AppData\\Local\\Packages\\PythonSoftwareFoundation.Python.3.8_qbz5n2kfra8p0\\LocalCache\\local-packages\\Python38\\site-packages\\sklearn\\utils\\validation.py:957\u001b[0m, in \u001b[0;36mcheck_array\u001b[1;34m(array, accept_sparse, accept_large_sparse, dtype, order, copy, force_all_finite, ensure_2d, allow_nd, ensure_min_samples, ensure_min_features, estimator, input_name)\u001b[0m\n\u001b[0;32m    951\u001b[0m         \u001b[39mraise\u001b[39;00m \u001b[39mValueError\u001b[39;00m(\n\u001b[0;32m    952\u001b[0m             \u001b[39m\"\u001b[39m\u001b[39mFound array with dim \u001b[39m\u001b[39m%d\u001b[39;00m\u001b[39m. \u001b[39m\u001b[39m%s\u001b[39;00m\u001b[39m expected <= 2.\u001b[39m\u001b[39m\"\u001b[39m\n\u001b[0;32m    953\u001b[0m             \u001b[39m%\u001b[39m (array\u001b[39m.\u001b[39mndim, estimator_name)\n\u001b[0;32m    954\u001b[0m         )\n\u001b[0;32m    956\u001b[0m     \u001b[39mif\u001b[39;00m force_all_finite:\n\u001b[1;32m--> 957\u001b[0m         _assert_all_finite(\n\u001b[0;32m    958\u001b[0m             array,\n\u001b[0;32m    959\u001b[0m             input_name\u001b[39m=\u001b[39;49minput_name,\n\u001b[0;32m    960\u001b[0m             estimator_name\u001b[39m=\u001b[39;49mestimator_name,\n\u001b[0;32m    961\u001b[0m             allow_nan\u001b[39m=\u001b[39;49mforce_all_finite \u001b[39m==\u001b[39;49m \u001b[39m\"\u001b[39;49m\u001b[39mallow-nan\u001b[39;49m\u001b[39m\"\u001b[39;49m,\n\u001b[0;32m    962\u001b[0m         )\n\u001b[0;32m    964\u001b[0m \u001b[39mif\u001b[39;00m ensure_min_samples \u001b[39m>\u001b[39m \u001b[39m0\u001b[39m:\n\u001b[0;32m    965\u001b[0m     n_samples \u001b[39m=\u001b[39m _num_samples(array)\n",
      "File \u001b[1;32m~\\AppData\\Local\\Packages\\PythonSoftwareFoundation.Python.3.8_qbz5n2kfra8p0\\LocalCache\\local-packages\\Python38\\site-packages\\sklearn\\utils\\validation.py:122\u001b[0m, in \u001b[0;36m_assert_all_finite\u001b[1;34m(X, allow_nan, msg_dtype, estimator_name, input_name)\u001b[0m\n\u001b[0;32m    119\u001b[0m \u001b[39mif\u001b[39;00m first_pass_isfinite:\n\u001b[0;32m    120\u001b[0m     \u001b[39mreturn\u001b[39;00m\n\u001b[1;32m--> 122\u001b[0m _assert_all_finite_element_wise(\n\u001b[0;32m    123\u001b[0m     X,\n\u001b[0;32m    124\u001b[0m     xp\u001b[39m=\u001b[39;49mxp,\n\u001b[0;32m    125\u001b[0m     allow_nan\u001b[39m=\u001b[39;49mallow_nan,\n\u001b[0;32m    126\u001b[0m     msg_dtype\u001b[39m=\u001b[39;49mmsg_dtype,\n\u001b[0;32m    127\u001b[0m     estimator_name\u001b[39m=\u001b[39;49mestimator_name,\n\u001b[0;32m    128\u001b[0m     input_name\u001b[39m=\u001b[39;49minput_name,\n\u001b[0;32m    129\u001b[0m )\n",
      "File \u001b[1;32m~\\AppData\\Local\\Packages\\PythonSoftwareFoundation.Python.3.8_qbz5n2kfra8p0\\LocalCache\\local-packages\\Python38\\site-packages\\sklearn\\utils\\validation.py:171\u001b[0m, in \u001b[0;36m_assert_all_finite_element_wise\u001b[1;34m(X, xp, allow_nan, msg_dtype, estimator_name, input_name)\u001b[0m\n\u001b[0;32m    154\u001b[0m \u001b[39mif\u001b[39;00m estimator_name \u001b[39mand\u001b[39;00m input_name \u001b[39m==\u001b[39m \u001b[39m\"\u001b[39m\u001b[39mX\u001b[39m\u001b[39m\"\u001b[39m \u001b[39mand\u001b[39;00m has_nan_error:\n\u001b[0;32m    155\u001b[0m     \u001b[39m# Improve the error message on how to handle missing values in\u001b[39;00m\n\u001b[0;32m    156\u001b[0m     \u001b[39m# scikit-learn.\u001b[39;00m\n\u001b[0;32m    157\u001b[0m     msg_err \u001b[39m+\u001b[39m\u001b[39m=\u001b[39m (\n\u001b[0;32m    158\u001b[0m         \u001b[39mf\u001b[39m\u001b[39m\"\u001b[39m\u001b[39m\\n\u001b[39;00m\u001b[39m{\u001b[39;00mestimator_name\u001b[39m}\u001b[39;00m\u001b[39m does not accept missing values\u001b[39m\u001b[39m\"\u001b[39m\n\u001b[0;32m    159\u001b[0m         \u001b[39m\"\u001b[39m\u001b[39m encoded as NaN natively. For supervised learning, you might want\u001b[39m\u001b[39m\"\u001b[39m\n\u001b[1;32m   (...)\u001b[0m\n\u001b[0;32m    169\u001b[0m         \u001b[39m\"\u001b[39m\u001b[39m#estimators-that-handle-nan-values\u001b[39m\u001b[39m\"\u001b[39m\n\u001b[0;32m    170\u001b[0m     )\n\u001b[1;32m--> 171\u001b[0m \u001b[39mraise\u001b[39;00m \u001b[39mValueError\u001b[39;00m(msg_err)\n",
      "\u001b[1;31mValueError\u001b[0m: Input X contains NaN.\nMLPClassifier does not accept missing values encoded as NaN natively. For supervised learning, you might want to consider sklearn.ensemble.HistGradientBoostingClassifier and Regressor which accept missing values encoded as NaNs natively. Alternatively, it is possible to preprocess the data, for instance by using an imputer transformer in a pipeline or drop samples with missing values. See https://scikit-learn.org/stable/modules/impute.html You can find a list of all estimators that handle NaN values at the following page: https://scikit-learn.org/stable/modules/impute.html#estimators-that-handle-nan-values"
     ]
    }
   ],
   "source": [
    "classifier = MLPClassifier(random_state=0)\n",
    "classifier.fit(X_train, y_train)\n",
    "y_pred = classifier.predict(X_test)\n",
    "\n",
    "\n",
    "predictions = [round(value) for value in y_pred]\n",
    "\n",
    "accuracy = accuracy_score(y_test, predictions)\n",
    "print(\"Accuracy: %.2f%%\" % (accuracy * 100.0))\n",
    "\n",
    "# 3. Get predicted probabilities for both training and testing data\n",
    "y_train_prob = classifier.predict_proba(X_train)[:, 1]\n",
    "y_test_prob = classifier.predict_proba(X_test)[:, 1]\n",
    "\n",
    "# 4. Compute ROC curves and AUC for both datasets\n",
    "fpr_train, tpr_train, _ = roc_curve(y_train, y_train_prob)\n",
    "roc_auc_train = auc(fpr_train, tpr_train)\n",
    "\n",
    "fpr_test, tpr_test, _ = roc_curve(y_test, y_test_prob)\n",
    "roc_auc_test = auc(fpr_test, tpr_test)\n",
    "\n",
    "# Plot both ROC curves on one graph\n",
    "plt.figure(figsize=(8, 6))\n",
    "plt.plot(fpr_train, tpr_train, color='darkorange', lw=2, label=f'Train ROC curve (AUC = {roc_auc_train:.2f})')\n",
    "plt.plot(fpr_test, tpr_test, color='navy', lw=2, label=f'Test ROC curve (AUC = {roc_auc_test:.2f})')\n",
    "plt.plot([0, 1], [0, 1], color='gray', lw=1, linestyle='--')\n",
    "plt.xlim([0.0, 1.0])\n",
    "plt.ylim([0.0, 1.05])\n",
    "plt.xlabel('False Positive Rate')\n",
    "plt.ylabel('True Positive Rate')\n",
    "plt.title('Receiver Operating Characteristic (ROC)')\n",
    "plt.legend(loc='lower right')\n",
    "plt.show()"
   ]
  },
  {
   "cell_type": "code",
   "execution_count": 100,
   "metadata": {},
   "outputs": [
    {
     "name": "stdout",
     "output_type": "stream",
     "text": [
      "Accuracy: 92.63%\n"
     ]
    },
    {
     "data": {
      "image/png": "[encoded data removed]",
      "text/plain": [
       "<Figure size 800x600 with 1 Axes>"
      ]
     },
     "metadata": {},
     "output_type": "display_data"
    },
    {
     "data": {
      "image/png": "[encoded data removed]",
      "text/plain": [
       "<Figure size 1000x1500 with 1 Axes>"
      ]
     },
     "metadata": {},
     "output_type": "display_data"
    }
   ],
   "source": [
    "# fit model no training data\n",
    "model = XGBClassifier(learning_rate = 0.3, n_estimators = 400, max_depth = 10, min_child_weight = 8)#, scale_pos_weight = 0.07)\n",
    "model.fit(X_train, y_train)\n",
    "\n",
    "y_pred = model.predict(X_test)\n",
    "predictions = [round(value) for value in y_pred]\n",
    "\n",
    "accuracy = accuracy_score(y_test, predictions)\n",
    "print(\"Accuracy: %.2f%%\" % (accuracy * 100.0))\n",
    "\n",
    "# 3. Get predicted probabilities for both training and testing data\n",
    "y_train_prob = model.predict_proba(X_train)[:, 1]\n",
    "y_test_prob = model.predict_proba(X_test)[:, 1]\n",
    "\n",
    "# 4. Compute ROC curves and AUC for both datasets\n",
    "fpr_train, tpr_train, _ = roc_curve(y_train, y_train_prob)\n",
    "roc_auc_train = auc(fpr_train, tpr_train)\n",
    "\n",
    "fpr_test, tpr_test, _ = roc_curve(y_test, y_test_prob)\n",
    "roc_auc_test = auc(fpr_test, tpr_test)\n",
    "\n",
    "# Plot both ROC curves on one graph\n",
    "plt.figure(figsize=(8, 6))\n",
    "plt.plot(fpr_train, tpr_train, color='fuchsia', lw=2, label=f'Train ROC curve (AUC = {roc_auc_train:.2f})')\n",
    "plt.plot(fpr_test, tpr_test, color='steelblue', lw=2, label=f'Test ROC curve (AUC = {roc_auc_test:.2f})')\n",
    "plt.plot([0, 1], [0, 1], color='gray', lw=1, linestyle='--')\n",
    "plt.xlim([0.0, 1.0])\n",
    "plt.ylim([0.0, 1.05])\n",
    "plt.xlabel('False Positive Rate')\n",
    "plt.ylabel('True Positive Rate')\n",
    "plt.title('Receiver Operating Characteristic (ROC)')\n",
    "plt.legend(loc='lower right')\n",
    "plt.show()\n",
    "# model.feature_importances_\n",
    "sorted_idx = model.feature_importances_.argsort()\n",
    "plt.figure(figsize=(10,15))\n",
    "plt.barh(X_train.columns[sorted_idx], model.feature_importances_[sorted_idx])\n",
    "plt.show()"
   ]
  },
  {
   "cell_type": "markdown",
   "metadata": {},
   "source": [
    "### Feature selection"
   ]
  },
  {
   "cell_type": "code",
   "execution_count": null,
   "metadata": {},
   "outputs": [
    {
     "ename": "IndexError",
     "evalue": "index 29 is out of bounds for axis 0 with size 26",
     "output_type": "error",
     "traceback": [
      "\u001b[1;31m---------------------------------------------------------------------------\u001b[0m",
      "\u001b[1;31mIndexError\u001b[0m                                Traceback (most recent call last)",
      "Cell \u001b[1;32mIn[539], line 25\u001b[0m\n\u001b[0;32m      1\u001b[0m \u001b[38;5;66;03m# train_selected, drop_lst= toad.selection.select(frame = X_train,\u001b[39;00m\n\u001b[0;32m      2\u001b[0m \u001b[38;5;66;03m#                                                 target=y_train,  \u001b[39;00m\n\u001b[0;32m      3\u001b[0m \u001b[38;5;66;03m#                                                 iv = 0.03, corr = 0.6, \u001b[39;00m\n\u001b[1;32m   (...)\u001b[0m\n\u001b[0;32m     18\u001b[0m \u001b[38;5;66;03m# df_iv = df_iv[df_iv['iv'] < 0.95]\u001b[39;00m\n\u001b[0;32m     19\u001b[0m \u001b[38;5;66;03m# df_iv.shape\u001b[39;00m\n\u001b[0;32m     23\u001b[0m X_train, X_test, y_train, y_test \u001b[38;5;241m=\u001b[39m train_test_split(X, y, test_size\u001b[38;5;241m=\u001b[39mtest_size, random_state\u001b[38;5;241m=\u001b[39mseed)\n\u001b[1;32m---> 25\u001b[0m X_train \u001b[38;5;241m=\u001b[39m X_train[\u001b[43mX_train\u001b[49m\u001b[38;5;241;43m.\u001b[39;49m\u001b[43mcolumns\u001b[49m\u001b[43m[\u001b[49m\u001b[43msorted_idx\u001b[49m\u001b[43m]\u001b[49m[\u001b[38;5;241m0\u001b[39m:\u001b[38;5;241m14\u001b[39m]]\n\u001b[0;32m     26\u001b[0m X_test \u001b[38;5;241m=\u001b[39m X_test[X_test\u001b[38;5;241m.\u001b[39mcolumns[sorted_idx][\u001b[38;5;241m0\u001b[39m:\u001b[38;5;241m14\u001b[39m]]\n\u001b[0;32m     28\u001b[0m \u001b[38;5;66;03m# df_iv\u001b[39;00m\n",
      "File \u001b[1;32mc:\\Users\\HP\\AppData\\Local\\Programs\\Python\\Python311\\Lib\\site-packages\\pandas\\core\\indexes\\base.py:5382\u001b[0m, in \u001b[0;36mIndex.__getitem__\u001b[1;34m(self, key)\u001b[0m\n\u001b[0;32m   5379\u001b[0m     \u001b[38;5;28;01melse\u001b[39;00m:\n\u001b[0;32m   5380\u001b[0m         key \u001b[38;5;241m=\u001b[39m np\u001b[38;5;241m.\u001b[39masarray(key, dtype\u001b[38;5;241m=\u001b[39m\u001b[38;5;28mbool\u001b[39m)\n\u001b[1;32m-> 5382\u001b[0m result \u001b[38;5;241m=\u001b[39m \u001b[43mgetitem\u001b[49m\u001b[43m(\u001b[49m\u001b[43mkey\u001b[49m\u001b[43m)\u001b[49m\n\u001b[0;32m   5383\u001b[0m \u001b[38;5;66;03m# Because we ruled out integer above, we always get an arraylike here\u001b[39;00m\n\u001b[0;32m   5384\u001b[0m \u001b[38;5;28;01mif\u001b[39;00m result\u001b[38;5;241m.\u001b[39mndim \u001b[38;5;241m>\u001b[39m \u001b[38;5;241m1\u001b[39m:\n",
      "\u001b[1;31mIndexError\u001b[0m: index 29 is out of bounds for axis 0 with size 26"
     ]
    }
   ],
   "source": [
    "# train_selected, drop_lst= toad.selection.select(frame = X_train,\n",
    "#                                                 target=y_train,  \n",
    "#                                                 iv = 0.03, corr = 0.6, \n",
    "#                                                 return_drop=True \n",
    "#                                                 )\n",
    "# print(\"keep:\",train_selected.shape[1],\n",
    "#       \"drop empty:\",len(drop_lst['empty']),\n",
    "#       \"drop iv:\",len(drop_lst['iv']),\n",
    "#       \"drop corr:\",len(drop_lst['corr']))\n",
    "\n",
    "# def output_iv_importance(train_selected,label_col):\n",
    "#     feat_import_iv = toad.quality(train_selected,label_col,iv_only=True)\n",
    "#     feat_import_iv=feat_import_iv['iv']\n",
    "#     feat_import_iv = feat_import_iv.reset_index()\n",
    "#     feat_import_iv.columns = ['name','iv']\n",
    "#     return feat_import_iv\n",
    "# df_iv=output_iv_importance(train_selected, y_train)\n",
    "# df_iv = df_iv[df_iv['iv'] < 0.95]\n",
    "# df_iv.shape\n",
    "\n",
    "\n",
    "\n",
    "X_train, X_test, y_train, y_test = train_test_split(X, y, test_size=test_size, random_state=seed)\n",
    "\n",
    "X_train = X_train[X_train.columns[sorted_idx][0:14]]\n",
    "X_test = X_test[X_test.columns[sorted_idx][0:14]]\n",
    "\n",
    "# df_iv"
   ]
  },
  {
   "cell_type": "code",
   "execution_count": 101,
   "metadata": {},
   "outputs": [
    {
     "name": "stdout",
     "output_type": "stream",
     "text": [
      "Accuracy: 92.35%\n"
     ]
    },
    {
     "data": {
      "image/png": "[encoded data removed]",
      "text/plain": [
       "<Figure size 800x600 with 1 Axes>"
      ]
     },
     "metadata": {},
     "output_type": "display_data"
    }
   ],
   "source": [
    "# fit model no training data\n",
    "model = XGBClassifier()#learning_rate = 0.3, n_estimators = 400, max_depth = 10, min_child_weight = 8, scale_pos_weight = 0.07)\n",
    "model.fit(X_train, y_train)\n",
    "\n",
    "y_pred = model.predict(X_test)\n",
    "predictions = [round(value) for value in y_pred]\n",
    "\n",
    "accuracy = accuracy_score(y_test, predictions)\n",
    "print(\"Accuracy: %.2f%%\" % (accuracy * 100.0))\n",
    "\n",
    "# 3. Get predicted probabilities for both training and testing data\n",
    "y_train_prob = model.predict_proba(X_train)[:, 1]\n",
    "y_test_prob = model.predict_proba(X_test)[:, 1]\n",
    "\n",
    "# 4. Compute ROC curves and AUC for both datasets\n",
    "fpr_train, tpr_train, _ = roc_curve(y_train, y_train_prob)\n",
    "roc_auc_train = auc(fpr_train, tpr_train)\n",
    "\n",
    "fpr_test, tpr_test, _ = roc_curve(y_test, y_test_prob)\n",
    "roc_auc_test = auc(fpr_test, tpr_test)\n",
    "\n",
    "# Plot both ROC curves on one graph\n",
    "plt.figure(figsize=(8, 6))\n",
    "plt.plot(fpr_train, tpr_train, color='fuchsia', lw=2, label=f'Train ROC curve (AUC = {roc_auc_train:.2f})')\n",
    "plt.plot(fpr_test, tpr_test, color='steelblue', lw=2, label=f'Test ROC curve (AUC = {roc_auc_test:.2f})')\n",
    "plt.plot([0, 1], [0, 1], color='gray', lw=1, linestyle='--')\n",
    "plt.xlim([0.0, 1.0])\n",
    "plt.ylim([0.0, 1.05])\n",
    "plt.xlabel('False Positive Rate')\n",
    "plt.ylabel('True Positive Rate')\n",
    "plt.title('Receiver Operating Characteristic (ROC)')\n",
    "plt.legend(loc='lower right')\n",
    "plt.show()"
   ]
  },
  {
   "cell_type": "code",
   "execution_count": null,
   "metadata": {},
   "outputs": [
    {
     "data": {
      "text/plain": [
       "<BarContainer object of 26 artists>"
      ]
     },
     "execution_count": 73,
     "metadata": {},
     "output_type": "execute_result"
    },
    {
     "data": {
      "image/png": "[encoded data removed]",
      "text/plain": [
       "<Figure size 1000x1500 with 1 Axes>"
      ]
     },
     "metadata": {},
     "output_type": "display_data"
    }
   ],
   "source": [
    "# model.feature_importances_\n",
    "sorted_idx = model.feature_importances_.argsort()\n",
    "plt.figure(figsize=(10,15))\n",
    "plt.barh(X_train.columns[sorted_idx], model.feature_importances_[sorted_idx])"
   ]
  },
  {
   "cell_type": "code",
   "execution_count": null,
   "metadata": {},
   "outputs": [
    {
     "ename": "KeyError",
     "evalue": "\"['id'] not found in axis\"",
     "output_type": "error",
     "traceback": [
      "\u001b[1;31m---------------------------------------------------------------------------\u001b[0m",
      "\u001b[1;31mKeyError\u001b[0m                                  Traceback (most recent call last)",
      "Cell \u001b[1;32mIn[74], line 4\u001b[0m\n\u001b[0;32m      1\u001b[0m \u001b[38;5;28;01mfrom\u001b[39;00m \u001b[38;5;21;01msklearn\u001b[39;00m\u001b[38;5;21;01m.\u001b[39;00m\u001b[38;5;21;01mmodel_selection\u001b[39;00m \u001b[38;5;28;01mimport\u001b[39;00m StratifiedKFold, cross_val_score\n\u001b[0;32m      2\u001b[0m \u001b[38;5;28;01mfrom\u001b[39;00m \u001b[38;5;21;01msklearn\u001b[39;00m\u001b[38;5;21;01m.\u001b[39;00m\u001b[38;5;21;01mmetrics\u001b[39;00m \u001b[38;5;28;01mimport\u001b[39;00m balanced_accuracy_score\n\u001b[1;32m----> 4\u001b[0m X \u001b[38;5;241m=\u001b[39m \u001b[43mdf\u001b[49m\u001b[38;5;241;43m.\u001b[39;49m\u001b[43mdrop\u001b[49m\u001b[43m(\u001b[49m\u001b[43m[\u001b[49m\u001b[38;5;124;43m'\u001b[39;49m\u001b[38;5;124;43mid\u001b[39;49m\u001b[38;5;124;43m'\u001b[39;49m\u001b[43m,\u001b[49m\u001b[43m \u001b[49m\u001b[38;5;124;43m'\u001b[39;49m\u001b[38;5;124;43mstroke\u001b[39;49m\u001b[38;5;124;43m'\u001b[39;49m\u001b[43m]\u001b[49m\u001b[43m,\u001b[49m\u001b[43m \u001b[49m\u001b[43maxis\u001b[49m\u001b[38;5;241;43m=\u001b[39;49m\u001b[38;5;241;43m1\u001b[39;49m\u001b[43m)\u001b[49m\n\u001b[0;32m      5\u001b[0m y \u001b[38;5;241m=\u001b[39m df[\u001b[38;5;124m'\u001b[39m\u001b[38;5;124mstroke\u001b[39m\u001b[38;5;124m'\u001b[39m]\n\u001b[0;32m      8\u001b[0m numerical_features \u001b[38;5;241m=\u001b[39m [\u001b[38;5;124m'\u001b[39m\u001b[38;5;124mage\u001b[39m\u001b[38;5;124m'\u001b[39m, \u001b[38;5;124m'\u001b[39m\u001b[38;5;124mavg_glucose_level\u001b[39m\u001b[38;5;124m'\u001b[39m, \u001b[38;5;124m'\u001b[39m\u001b[38;5;124mbmi\u001b[39m\u001b[38;5;124m'\u001b[39m, \u001b[38;5;124m'\u001b[39m\u001b[38;5;124mfeat01\u001b[39m\u001b[38;5;124m'\u001b[39m, \u001b[38;5;124m'\u001b[39m\u001b[38;5;124mfeat02\u001b[39m\u001b[38;5;124m'\u001b[39m,\n\u001b[0;32m      9\u001b[0m        \u001b[38;5;124m'\u001b[39m\u001b[38;5;124mfeat03\u001b[39m\u001b[38;5;124m'\u001b[39m, \u001b[38;5;124m'\u001b[39m\u001b[38;5;124mfeat04\u001b[39m\u001b[38;5;124m'\u001b[39m, \u001b[38;5;124m'\u001b[39m\u001b[38;5;124mfeat05\u001b[39m\u001b[38;5;124m'\u001b[39m, \u001b[38;5;124m'\u001b[39m\u001b[38;5;124mfeat06\u001b[39m\u001b[38;5;124m'\u001b[39m, \u001b[38;5;124m'\u001b[39m\u001b[38;5;124mfeat07\u001b[39m\u001b[38;5;124m'\u001b[39m, \u001b[38;5;124m'\u001b[39m\u001b[38;5;124mfeat08\u001b[39m\u001b[38;5;124m'\u001b[39m, \u001b[38;5;124m'\u001b[39m\u001b[38;5;124mfeat09\u001b[39m\u001b[38;5;124m'\u001b[39m,\n\u001b[0;32m     10\u001b[0m        \u001b[38;5;124m'\u001b[39m\u001b[38;5;124mfeat10\u001b[39m\u001b[38;5;124m'\u001b[39m, \u001b[38;5;124m'\u001b[39m\u001b[38;5;124mheart_disease\u001b[39m\u001b[38;5;124m'\u001b[39m, \u001b[38;5;124m'\u001b[39m\u001b[38;5;124mhypertension\u001b[39m\u001b[38;5;124m'\u001b[39m]\n",
      "File \u001b[1;32mc:\\Users\\HP\\AppData\\Local\\Programs\\Python\\Python311\\Lib\\site-packages\\pandas\\util\\_decorators.py:331\u001b[0m, in \u001b[0;36mdeprecate_nonkeyword_arguments.<locals>.decorate.<locals>.wrapper\u001b[1;34m(*args, **kwargs)\u001b[0m\n\u001b[0;32m    325\u001b[0m \u001b[38;5;28;01mif\u001b[39;00m \u001b[38;5;28mlen\u001b[39m(args) \u001b[38;5;241m>\u001b[39m num_allow_args:\n\u001b[0;32m    326\u001b[0m     warnings\u001b[38;5;241m.\u001b[39mwarn(\n\u001b[0;32m    327\u001b[0m         msg\u001b[38;5;241m.\u001b[39mformat(arguments\u001b[38;5;241m=\u001b[39m_format_argument_list(allow_args)),\n\u001b[0;32m    328\u001b[0m         \u001b[38;5;167;01mFutureWarning\u001b[39;00m,\n\u001b[0;32m    329\u001b[0m         stacklevel\u001b[38;5;241m=\u001b[39mfind_stack_level(),\n\u001b[0;32m    330\u001b[0m     )\n\u001b[1;32m--> 331\u001b[0m \u001b[38;5;28;01mreturn\u001b[39;00m \u001b[43mfunc\u001b[49m\u001b[43m(\u001b[49m\u001b[38;5;241;43m*\u001b[39;49m\u001b[43margs\u001b[49m\u001b[43m,\u001b[49m\u001b[43m \u001b[49m\u001b[38;5;241;43m*\u001b[39;49m\u001b[38;5;241;43m*\u001b[39;49m\u001b[43mkwargs\u001b[49m\u001b[43m)\u001b[49m\n",
      "File \u001b[1;32mc:\\Users\\HP\\AppData\\Local\\Programs\\Python\\Python311\\Lib\\site-packages\\pandas\\core\\frame.py:5396\u001b[0m, in \u001b[0;36mDataFrame.drop\u001b[1;34m(self, labels, axis, index, columns, level, inplace, errors)\u001b[0m\n\u001b[0;32m   5248\u001b[0m \u001b[38;5;129m@deprecate_nonkeyword_arguments\u001b[39m(version\u001b[38;5;241m=\u001b[39m\u001b[38;5;28;01mNone\u001b[39;00m, allowed_args\u001b[38;5;241m=\u001b[39m[\u001b[38;5;124m\"\u001b[39m\u001b[38;5;124mself\u001b[39m\u001b[38;5;124m\"\u001b[39m, \u001b[38;5;124m\"\u001b[39m\u001b[38;5;124mlabels\u001b[39m\u001b[38;5;124m\"\u001b[39m])\n\u001b[0;32m   5249\u001b[0m \u001b[38;5;28;01mdef\u001b[39;00m \u001b[38;5;21mdrop\u001b[39m(  \u001b[38;5;66;03m# type: ignore[override]\u001b[39;00m\n\u001b[0;32m   5250\u001b[0m     \u001b[38;5;28mself\u001b[39m,\n\u001b[1;32m   (...)\u001b[0m\n\u001b[0;32m   5257\u001b[0m     errors: IgnoreRaise \u001b[38;5;241m=\u001b[39m \u001b[38;5;124m\"\u001b[39m\u001b[38;5;124mraise\u001b[39m\u001b[38;5;124m\"\u001b[39m,\n\u001b[0;32m   5258\u001b[0m ) \u001b[38;5;241m-\u001b[39m\u001b[38;5;241m>\u001b[39m DataFrame \u001b[38;5;241m|\u001b[39m \u001b[38;5;28;01mNone\u001b[39;00m:\n\u001b[0;32m   5259\u001b[0m \u001b[38;5;250m    \u001b[39m\u001b[38;5;124;03m\"\"\"\u001b[39;00m\n\u001b[0;32m   5260\u001b[0m \u001b[38;5;124;03m    Drop specified labels from rows or columns.\u001b[39;00m\n\u001b[0;32m   5261\u001b[0m \n\u001b[1;32m   (...)\u001b[0m\n\u001b[0;32m   5394\u001b[0m \u001b[38;5;124;03m            weight  1.0     0.8\u001b[39;00m\n\u001b[0;32m   5395\u001b[0m \u001b[38;5;124;03m    \"\"\"\u001b[39;00m\n\u001b[1;32m-> 5396\u001b[0m     \u001b[38;5;28;01mreturn\u001b[39;00m \u001b[38;5;28;43msuper\u001b[39;49m\u001b[43m(\u001b[49m\u001b[43m)\u001b[49m\u001b[38;5;241;43m.\u001b[39;49m\u001b[43mdrop\u001b[49m\u001b[43m(\u001b[49m\n\u001b[0;32m   5397\u001b[0m \u001b[43m        \u001b[49m\u001b[43mlabels\u001b[49m\u001b[38;5;241;43m=\u001b[39;49m\u001b[43mlabels\u001b[49m\u001b[43m,\u001b[49m\n\u001b[0;32m   5398\u001b[0m \u001b[43m        \u001b[49m\u001b[43maxis\u001b[49m\u001b[38;5;241;43m=\u001b[39;49m\u001b[43maxis\u001b[49m\u001b[43m,\u001b[49m\n\u001b[0;32m   5399\u001b[0m \u001b[43m        \u001b[49m\u001b[43mindex\u001b[49m\u001b[38;5;241;43m=\u001b[39;49m\u001b[43mindex\u001b[49m\u001b[43m,\u001b[49m\n\u001b[0;32m   5400\u001b[0m \u001b[43m        \u001b[49m\u001b[43mcolumns\u001b[49m\u001b[38;5;241;43m=\u001b[39;49m\u001b[43mcolumns\u001b[49m\u001b[43m,\u001b[49m\n\u001b[0;32m   5401\u001b[0m \u001b[43m        \u001b[49m\u001b[43mlevel\u001b[49m\u001b[38;5;241;43m=\u001b[39;49m\u001b[43mlevel\u001b[49m\u001b[43m,\u001b[49m\n\u001b[0;32m   5402\u001b[0m \u001b[43m        \u001b[49m\u001b[43minplace\u001b[49m\u001b[38;5;241;43m=\u001b[39;49m\u001b[43minplace\u001b[49m\u001b[43m,\u001b[49m\n\u001b[0;32m   5403\u001b[0m \u001b[43m        \u001b[49m\u001b[43merrors\u001b[49m\u001b[38;5;241;43m=\u001b[39;49m\u001b[43merrors\u001b[49m\u001b[43m,\u001b[49m\n\u001b[0;32m   5404\u001b[0m \u001b[43m    \u001b[49m\u001b[43m)\u001b[49m\n",
      "File \u001b[1;32mc:\\Users\\HP\\AppData\\Local\\Programs\\Python\\Python311\\Lib\\site-packages\\pandas\\util\\_decorators.py:331\u001b[0m, in \u001b[0;36mdeprecate_nonkeyword_arguments.<locals>.decorate.<locals>.wrapper\u001b[1;34m(*args, **kwargs)\u001b[0m\n\u001b[0;32m    325\u001b[0m \u001b[38;5;28;01mif\u001b[39;00m \u001b[38;5;28mlen\u001b[39m(args) \u001b[38;5;241m>\u001b[39m num_allow_args:\n\u001b[0;32m    326\u001b[0m     warnings\u001b[38;5;241m.\u001b[39mwarn(\n\u001b[0;32m    327\u001b[0m         msg\u001b[38;5;241m.\u001b[39mformat(arguments\u001b[38;5;241m=\u001b[39m_format_argument_list(allow_args)),\n\u001b[0;32m    328\u001b[0m         \u001b[38;5;167;01mFutureWarning\u001b[39;00m,\n\u001b[0;32m    329\u001b[0m         stacklevel\u001b[38;5;241m=\u001b[39mfind_stack_level(),\n\u001b[0;32m    330\u001b[0m     )\n\u001b[1;32m--> 331\u001b[0m \u001b[38;5;28;01mreturn\u001b[39;00m \u001b[43mfunc\u001b[49m\u001b[43m(\u001b[49m\u001b[38;5;241;43m*\u001b[39;49m\u001b[43margs\u001b[49m\u001b[43m,\u001b[49m\u001b[43m \u001b[49m\u001b[38;5;241;43m*\u001b[39;49m\u001b[38;5;241;43m*\u001b[39;49m\u001b[43mkwargs\u001b[49m\u001b[43m)\u001b[49m\n",
      "File \u001b[1;32mc:\\Users\\HP\\AppData\\Local\\Programs\\Python\\Python311\\Lib\\site-packages\\pandas\\core\\generic.py:4505\u001b[0m, in \u001b[0;36mNDFrame.drop\u001b[1;34m(self, labels, axis, index, columns, level, inplace, errors)\u001b[0m\n\u001b[0;32m   4503\u001b[0m \u001b[38;5;28;01mfor\u001b[39;00m axis, labels \u001b[38;5;129;01min\u001b[39;00m axes\u001b[38;5;241m.\u001b[39mitems():\n\u001b[0;32m   4504\u001b[0m     \u001b[38;5;28;01mif\u001b[39;00m labels \u001b[38;5;129;01mis\u001b[39;00m \u001b[38;5;129;01mnot\u001b[39;00m \u001b[38;5;28;01mNone\u001b[39;00m:\n\u001b[1;32m-> 4505\u001b[0m         obj \u001b[38;5;241m=\u001b[39m \u001b[43mobj\u001b[49m\u001b[38;5;241;43m.\u001b[39;49m\u001b[43m_drop_axis\u001b[49m\u001b[43m(\u001b[49m\u001b[43mlabels\u001b[49m\u001b[43m,\u001b[49m\u001b[43m \u001b[49m\u001b[43maxis\u001b[49m\u001b[43m,\u001b[49m\u001b[43m \u001b[49m\u001b[43mlevel\u001b[49m\u001b[38;5;241;43m=\u001b[39;49m\u001b[43mlevel\u001b[49m\u001b[43m,\u001b[49m\u001b[43m \u001b[49m\u001b[43merrors\u001b[49m\u001b[38;5;241;43m=\u001b[39;49m\u001b[43merrors\u001b[49m\u001b[43m)\u001b[49m\n\u001b[0;32m   4507\u001b[0m \u001b[38;5;28;01mif\u001b[39;00m inplace:\n\u001b[0;32m   4508\u001b[0m     \u001b[38;5;28mself\u001b[39m\u001b[38;5;241m.\u001b[39m_update_inplace(obj)\n",
      "File \u001b[1;32mc:\\Users\\HP\\AppData\\Local\\Programs\\Python\\Python311\\Lib\\site-packages\\pandas\\core\\generic.py:4546\u001b[0m, in \u001b[0;36mNDFrame._drop_axis\u001b[1;34m(self, labels, axis, level, errors, only_slice)\u001b[0m\n\u001b[0;32m   4544\u001b[0m         new_axis \u001b[38;5;241m=\u001b[39m axis\u001b[38;5;241m.\u001b[39mdrop(labels, level\u001b[38;5;241m=\u001b[39mlevel, errors\u001b[38;5;241m=\u001b[39merrors)\n\u001b[0;32m   4545\u001b[0m     \u001b[38;5;28;01melse\u001b[39;00m:\n\u001b[1;32m-> 4546\u001b[0m         new_axis \u001b[38;5;241m=\u001b[39m \u001b[43maxis\u001b[49m\u001b[38;5;241;43m.\u001b[39;49m\u001b[43mdrop\u001b[49m\u001b[43m(\u001b[49m\u001b[43mlabels\u001b[49m\u001b[43m,\u001b[49m\u001b[43m \u001b[49m\u001b[43merrors\u001b[49m\u001b[38;5;241;43m=\u001b[39;49m\u001b[43merrors\u001b[49m\u001b[43m)\u001b[49m\n\u001b[0;32m   4547\u001b[0m     indexer \u001b[38;5;241m=\u001b[39m axis\u001b[38;5;241m.\u001b[39mget_indexer(new_axis)\n\u001b[0;32m   4549\u001b[0m \u001b[38;5;66;03m# Case for non-unique axis\u001b[39;00m\n\u001b[0;32m   4550\u001b[0m \u001b[38;5;28;01melse\u001b[39;00m:\n",
      "File \u001b[1;32mc:\\Users\\HP\\AppData\\Local\\Programs\\Python\\Python311\\Lib\\site-packages\\pandas\\core\\indexes\\base.py:6977\u001b[0m, in \u001b[0;36mIndex.drop\u001b[1;34m(self, labels, errors)\u001b[0m\n\u001b[0;32m   6975\u001b[0m \u001b[38;5;28;01mif\u001b[39;00m mask\u001b[38;5;241m.\u001b[39many():\n\u001b[0;32m   6976\u001b[0m     \u001b[38;5;28;01mif\u001b[39;00m errors \u001b[38;5;241m!=\u001b[39m \u001b[38;5;124m\"\u001b[39m\u001b[38;5;124mignore\u001b[39m\u001b[38;5;124m\"\u001b[39m:\n\u001b[1;32m-> 6977\u001b[0m         \u001b[38;5;28;01mraise\u001b[39;00m \u001b[38;5;167;01mKeyError\u001b[39;00m(\u001b[38;5;124mf\u001b[39m\u001b[38;5;124m\"\u001b[39m\u001b[38;5;132;01m{\u001b[39;00m\u001b[38;5;28mlist\u001b[39m(labels[mask])\u001b[38;5;132;01m}\u001b[39;00m\u001b[38;5;124m not found in axis\u001b[39m\u001b[38;5;124m\"\u001b[39m)\n\u001b[0;32m   6978\u001b[0m     indexer \u001b[38;5;241m=\u001b[39m indexer[\u001b[38;5;241m~\u001b[39mmask]\n\u001b[0;32m   6979\u001b[0m \u001b[38;5;28;01mreturn\u001b[39;00m \u001b[38;5;28mself\u001b[39m\u001b[38;5;241m.\u001b[39mdelete(indexer)\n",
      "\u001b[1;31mKeyError\u001b[0m: \"['id'] not found in axis\""
     ]
    }
   ],
   "source": [
    "from sklearn.model_selection import StratifiedKFold, cross_val_score\n",
    "from sklearn.metrics import balanced_accuracy_score\n",
    "\n",
    "X = df.drop(['id', 'stroke'], axis=1)\n",
    "y = df['stroke']\n",
    "\n",
    "\n",
    "numerical_features = ['age', 'avg_glucose_level', 'bmi', 'feat01', 'feat02',\n",
    "       'feat03', 'feat04', 'feat05', 'feat06', 'feat07', 'feat08', 'feat09',\n",
    "       'feat10', 'heart_disease', 'hypertension']\n",
    "numerical_transformer = Pipeline(\n",
    "    steps=[\n",
    "        ('imputer', SimpleImputer(strategy='median')),\n",
    "        ('scaler', StandardScaler())\n",
    "    ]\n",
    ")\n",
    "\n",
    "categorical_features = [ 'Residence_type', 'smoking_status', 'work_type', 'ever_married']\n",
    "categorical_transformer = Pipeline(\n",
    "    steps=[\n",
    "        ('imputer', SimpleImputer(strategy='constant', fill_value=np.nan)),\n",
    "        ('onehot', OneHotEncoder(handle_unknown='ignore'))\n",
    "    ]\n",
    ")\n",
    "\n",
    "preprocessor = ColumnTransformer(\n",
    "    transformers=[\n",
    "        ('num', numerical_transformer, numerical_features),\n",
    "        ('cat', categorical_transformer, categorical_features)\n",
    "    ]\n",
    ")\n",
    "\n",
    "classifier = MLPClassifier(random_state=0, max_iter = 500, learning_rate = 0.01, hidden_layer_sizes = (100, 100, 100))\n",
    "\n",
    "clf = Pipeline(steps=[('preprocessor', preprocessor),\n",
    "                      ('classifier', classifier)])\n",
    "\n",
    "stratified_kf = StratifiedKFold(n_splits=5, shuffle=True, random_state=42)\n",
    "\n",
    "accuracies_test = []\n",
    "accuracies_train = []\n",
    "\n",
    "for train_index, test_index in stratified_kf.split(X, y):\n",
    "    X_train, X_test = X.iloc[train_index], X.iloc[test_index]\n",
    "    y_train, y_test = y.iloc[train_index], y.iloc[test_index]\n",
    "    clf.fit(X_train, y_train)\n",
    "\n",
    "    y_pred = clf.predict(X_test)\n",
    "    acc_train = balanced_accuracy_score(y_train, clf.predict(X_train))\n",
    "    acc_test = balanced_accuracy_score(y_test, y_pred)\n",
    "    accuracies_test.append(acc_test)\n",
    "    accuracies_train.append(acc_train)\n",
    "\n",
    "\n",
    "\n",
    "# Calculate the mean AUC score from cross-validation\n",
    "mean_accuracy_train = np.mean(accuracies_train)\n",
    "mean_accuracy_test = np.mean(accuracies_test)\n",
    "\n",
    "\n",
    "print('train:', accuracies_train, 'test:', accuracies_test)\n"
   ]
  },
  {
   "cell_type": "code",
   "execution_count": null,
   "metadata": {},
   "outputs": [
    {
     "name": "stdout",
     "output_type": "stream",
     "text": [
      "Fitting 5 folds for each of 50 candidates, totalling 250 fits\n",
      "Best Hyperparameters: {'classifier__activation': 'relu', 'classifier__alpha': 0.01, 'classifier__early_stopping': False, 'classifier__hidden_layer_sizes': (150,), 'classifier__learning_rate': 'constant', 'classifier__learning_rate_init': 0.1, 'classifier__max_iter': 493, 'classifier__solver': 'sgd', 'classifier__validation_fraction': 0.1}\n",
      "Best Balanced Accuracy: 0.6728957370899817\n"
     ]
    }
   ],
   "source": [
    "from sklearn.neural_network import MLPClassifier\n",
    "from sklearn.model_selection import RandomizedSearchCV\n",
    "from scipy.stats import randint\n",
    "\n",
    "# Define the range of hyperparameters\n",
    "param_dist = {\n",
    "    'classifier__hidden_layer_sizes': [(50, ), (100, ), (150, ), (50, 50), (100, 100), (150, 150)],\n",
    "    'classifier__activation': ['logistic', 'tanh', 'relu'],\n",
    "    'classifier__solver': ['adam', 'sgd'],\n",
    "    'classifier__alpha': [0.0001, 0.001, 0.01, 0.1],\n",
    "    'classifier__learning_rate': ['constant', 'adaptive'],\n",
    "    'classifier__learning_rate_init': [0.001, 0.01, 0.1],\n",
    "    'classifier__max_iter': randint(200, 1000),  # Range from 200 to 1000\n",
    "    'classifier__early_stopping': [True, False],\n",
    "    'classifier__validation_fraction': [0.1, 0.2, 0.3]\n",
    "}\n",
    "\n",
    "# Create an MLPClassifier\n",
    "classifier = MLPClassifier(random_state=0)\n",
    "\n",
    "# Use the pipeline and include the classifier inside the pipeline\n",
    "clf = Pipeline(steps=[('preprocessor', preprocessor),\n",
    "                      ('classifier', classifier)])\n",
    "\n",
    "# Create RandomizedSearchCV\n",
    "random_search = RandomizedSearchCV(clf, param_distributions=param_dist, n_iter=50, cv=stratified_kf, scoring='balanced_accuracy', verbose=1, n_jobs=-1, random_state=42)\n",
    "\n",
    "# Fit the random search to find the best hyperparameters\n",
    "random_search.fit(X, y)\n",
    "\n",
    "# Get the best hyperparameters\n",
    "best_params = random_search.best_params_\n",
    "best_estimator = random_search.best_estimator_\n",
    "best_score = random_search.best_score_\n",
    "\n",
    "print(\"Best Hyperparameters:\", best_params)\n",
    "print(\"Best Balanced Accuracy:\", best_score)\n"
   ]
  }
 ],
 "metadata": {
  "kernelspec": {
   "display_name": "Python 3",
   "language": "python",
   "name": "python3"
  },
  "language_info": {
   "codemirror_mode": {
    "name": "ipython",
    "version": 3
   },
   "file_extension": ".py",
   "mimetype": "text/x-python",
   "name": "python",
   "nbconvert_exporter": "python",
   "pygments_lexer": "ipython3",
   "version": "3.8.10"
  }
 },
 "nbformat": 4,
 "nbformat_minor": 2
}
