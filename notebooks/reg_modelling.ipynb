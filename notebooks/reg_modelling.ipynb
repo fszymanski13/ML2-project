{
 "cells": [
  {
   "cell_type": "code",
   "execution_count": 39,
   "metadata": {},
   "outputs": [],
   "source": [
    "import pandas as pd\n",
    "pd.set_option('display.max_columns', 200)\n",
    "from pathlib import Path\n",
    "import numpy as np\n",
    "from sklearn.linear_model import LinearRegression\n",
    "from sklearn.ensemble import BaggingRegressor, RandomForestRegressor, VotingRegressor, StackingRegressor\n",
    "from sklearn.tree import DecisionTreeRegressor\n",
    "from xgboost import XGBRegressor\n",
    "from lightgbm import LGBMRegressor\n",
    "from sklearn.svm import SVR\n",
    "from sklearn.model_selection import train_test_split, RandomizedSearchCV, cross_val_score\n",
    "from sklearn.metrics import r2_score, mean_squared_error, mean_absolute_error\n",
    "from sklearn.preprocessing import MinMaxScaler, OneHotEncoder\n",
    "from sklearn.compose import ColumnTransformer\n",
    "from sklearn.ensemble import VotingRegressor\n",
    "from sklearn.pipeline import Pipeline\n",
    "\n",
    "\n",
    "import tensorflow as tf\n",
    "from tensorflow.keras.models import Sequential\n",
    "from tensorflow.keras.layers import Dense, Dropout\n",
    "\n",
    "import matplotlib.pyplot as plt\n",
    "\n",
    "from mlxtend.feature_selection import SequentialFeatureSelector\n"
   ]
  },
  {
   "cell_type": "code",
   "execution_count": 40,
   "metadata": {},
   "outputs": [],
   "source": [
    "path = Path.cwd().parent / \"data/r2.csv\"\n",
    "df = pd.read_csv(path)"
   ]
  },
  {
   "cell_type": "markdown",
   "metadata": {},
   "source": [
    "### Feature Engineering\n"
   ]
  },
  {
   "cell_type": "markdown",
   "metadata": {},
   "source": [
    "In order to adress the outliers, quantile bucketization has been applied for chlorides, residual sugar and sulphates"
   ]
  },
  {
   "cell_type": "code",
   "execution_count": 41,
   "metadata": {},
   "outputs": [],
   "source": [
    "quantiles_chlorides = list(df['chlorides'].quantile([0, 0.25, 0.5, 0.75, 1.0]))"
   ]
  },
  {
   "cell_type": "code",
   "execution_count": 42,
   "metadata": {},
   "outputs": [],
   "source": [
    "labels = ['Q1', 'Q2', 'Q3', 'Q4']\n",
    "\n",
    "df['chlorides'] = pd.cut(df['chlorides'], bins=quantiles_chlorides, labels=labels, right=True, include_lowest=True)"
   ]
  },
  {
   "cell_type": "code",
   "execution_count": 43,
   "metadata": {},
   "outputs": [
    {
     "data": {
      "text/plain": [
       "Q1    356\n",
       "Q3    355\n",
       "Q2    347\n",
       "Q4    342\n",
       "Name: chlorides, dtype: int64"
      ]
     },
     "execution_count": 43,
     "metadata": {},
     "output_type": "execute_result"
    }
   ],
   "source": [
    "df['chlorides'].value_counts()"
   ]
  },
  {
   "cell_type": "code",
   "execution_count": 44,
   "metadata": {},
   "outputs": [],
   "source": [
    "quantiles_residual_sugar = list(df['residual sugar'].quantile([0, 0.25, 0.5, 0.75, 1.0]))"
   ]
  },
  {
   "cell_type": "code",
   "execution_count": 45,
   "metadata": {},
   "outputs": [],
   "source": [
    "labels = ['Q1', 'Q2', 'Q3', 'Q4']\n",
    "\n",
    "df['residual sugar'] = pd.cut(df['residual sugar'], bins=quantiles_residual_sugar, labels=labels, right=True, include_lowest=True)"
   ]
  },
  {
   "cell_type": "code",
   "execution_count": 46,
   "metadata": {},
   "outputs": [],
   "source": [
    "quantiles_sulphates = list(df['sulphates'].quantile([0, 0.25, 0.5, 0.75, 1.0]))"
   ]
  },
  {
   "cell_type": "code",
   "execution_count": 47,
   "metadata": {},
   "outputs": [],
   "source": [
    "labels = ['Q1', 'Q2', 'Q3', 'Q4']\n",
    "\n",
    "df['sulphates'] = pd.cut(df['sulphates'], bins=quantiles_sulphates, labels=labels, right=True, include_lowest=True)"
   ]
  },
  {
   "cell_type": "markdown",
   "metadata": {},
   "source": [
    "### Feature Preprocessing"
   ]
  },
  {
   "cell_type": "markdown",
   "metadata": {},
   "source": [
    "For numeric features MinMax scaling has been applied, and categorical ones have been encoded using one hot encoder.\n",
    "Preprocessor has been fitted and transformed on the train sample, only transformed on the tast sample to avoid data leakge."
   ]
  },
  {
   "cell_type": "code",
   "execution_count": 48,
   "metadata": {},
   "outputs": [],
   "source": [
    "X = df.drop(['quality', 'id'], axis=1)\n",
    "y = df['quality']\n",
    "\n",
    "X_train, X_test, y_train, y_test = train_test_split(X, y, test_size=0.2, random_state=123)\n",
    "\n",
    "cols_to_scale = X_train.columns.drop(['chlorides', 'residual sugar', 'sulphates'])\n",
    "cols_to_encode = ['chlorides', 'residual sugar', 'sulphates']\n",
    "\n",
    "numeric_transformer = MinMaxScaler()\n",
    "categoric_transformer = OneHotEncoder(sparse=False, handle_unknown='ignore')\n",
    "\n",
    "\n",
    "preprocessor = ColumnTransformer(\n",
    "    transformers=[\n",
    "        ('num', MinMaxScaler(), cols_to_scale),\n",
    "        ('cat', OneHotEncoder(), cols_to_encode)\n",
    "    ]\n",
    ")\n",
    "\n",
    "X_train = preprocessor.fit_transform(X_train)\n",
    "columns = cols_to_scale.tolist() + preprocessor.named_transformers_['cat'].get_feature_names_out(cols_to_encode).tolist()\n",
    "X_train = pd.DataFrame(X_train, columns=columns)\n",
    "\n",
    "X_test = preprocessor.transform(X_test)\n",
    "X_test = pd.DataFrame(X_test, columns=columns)"
   ]
  },
  {
   "cell_type": "code",
   "execution_count": 49,
   "metadata": {},
   "outputs": [],
   "source": [
    "X_train_sample, X_val, y_train_sample, y_val = train_test_split(X_train, y_train, test_size=0.2, random_state=123)"
   ]
  },
  {
   "cell_type": "code",
   "execution_count": 50,
   "metadata": {},
   "outputs": [],
   "source": [
    "def mean_absolute_percentage_error(y_true, y_pred):\n",
    "    y_true, y_pred = np.array(y_true), np.array(y_pred)\n",
    "    return np.mean(np.abs((y_true - y_pred) / y_true)) * 100"
   ]
  },
  {
   "cell_type": "markdown",
   "metadata": {},
   "source": [
    "Initially, 8 base regressors have been applied. "
   ]
  },
  {
   "cell_type": "code",
   "execution_count": 51,
   "metadata": {},
   "outputs": [
    {
     "data": {
      "text/html": [
       "<div>\n",
       "<style scoped>\n",
       "    .dataframe tbody tr th:only-of-type {\n",
       "        vertical-align: middle;\n",
       "    }\n",
       "\n",
       "    .dataframe tbody tr th {\n",
       "        vertical-align: top;\n",
       "    }\n",
       "\n",
       "    .dataframe thead th {\n",
       "        text-align: right;\n",
       "    }\n",
       "</style>\n",
       "<table border=\"1\" class=\"dataframe\">\n",
       "  <thead>\n",
       "    <tr style=\"text-align: right;\">\n",
       "      <th></th>\n",
       "      <th>Train_R2</th>\n",
       "      <th>Val_R2</th>\n",
       "      <th>Train_MAPE</th>\n",
       "      <th>Val_MAPE</th>\n",
       "      <th>Train_RMSE</th>\n",
       "      <th>Val_RMSE</th>\n",
       "    </tr>\n",
       "  </thead>\n",
       "  <tbody>\n",
       "    <tr>\n",
       "      <th>Decision Tree</th>\n",
       "      <td>0.166873</td>\n",
       "      <td>0.090677</td>\n",
       "      <td>17.585576</td>\n",
       "      <td>19.54868</td>\n",
       "      <td>1.119756</td>\n",
       "      <td>1.258874</td>\n",
       "    </tr>\n",
       "    <tr>\n",
       "      <th>SVR</th>\n",
       "      <td>0.44701</td>\n",
       "      <td>0.188573</td>\n",
       "      <td>13.274385</td>\n",
       "      <td>18.837877</td>\n",
       "      <td>0.912276</td>\n",
       "      <td>1.189181</td>\n",
       "    </tr>\n",
       "    <tr>\n",
       "      <th>XGBoost</th>\n",
       "      <td>0.999689</td>\n",
       "      <td>0.156318</td>\n",
       "      <td>0.284894</td>\n",
       "      <td>18.755004</td>\n",
       "      <td>0.021644</td>\n",
       "      <td>1.212586</td>\n",
       "    </tr>\n",
       "    <tr>\n",
       "      <th>Bagging SVR</th>\n",
       "      <td>0.44708</td>\n",
       "      <td>0.193568</td>\n",
       "      <td>13.751856</td>\n",
       "      <td>18.723399</td>\n",
       "      <td>0.912218</td>\n",
       "      <td>1.185515</td>\n",
       "    </tr>\n",
       "    <tr>\n",
       "      <th>LightGBM</th>\n",
       "      <td>0.972617</td>\n",
       "      <td>0.197541</td>\n",
       "      <td>3.043187</td>\n",
       "      <td>18.487144</td>\n",
       "      <td>0.203005</td>\n",
       "      <td>1.182591</td>\n",
       "    </tr>\n",
       "    <tr>\n",
       "      <th>Random Forest</th>\n",
       "      <td>0.892246</td>\n",
       "      <td>0.242856</td>\n",
       "      <td>6.337504</td>\n",
       "      <td>17.75722</td>\n",
       "      <td>0.402702</td>\n",
       "      <td>1.148716</td>\n",
       "    </tr>\n",
       "    <tr>\n",
       "      <th>Bagging Linear Regression</th>\n",
       "      <td>0.257351</td>\n",
       "      <td>0.242384</td>\n",
       "      <td>16.64001</td>\n",
       "      <td>17.588544</td>\n",
       "      <td>1.057206</td>\n",
       "      <td>1.149073</td>\n",
       "    </tr>\n",
       "    <tr>\n",
       "      <th>Linear Regression</th>\n",
       "      <td>0.252533</td>\n",
       "      <td>0.238291</td>\n",
       "      <td>16.569106</td>\n",
       "      <td>17.485227</td>\n",
       "      <td>1.06063</td>\n",
       "      <td>1.152173</td>\n",
       "    </tr>\n",
       "  </tbody>\n",
       "</table>\n",
       "</div>"
      ],
      "text/plain": [
       "                           Train_R2    Val_R2 Train_MAPE   Val_MAPE  \\\n",
       "Decision Tree              0.166873  0.090677  17.585576   19.54868   \n",
       "SVR                         0.44701  0.188573  13.274385  18.837877   \n",
       "XGBoost                    0.999689  0.156318   0.284894  18.755004   \n",
       "Bagging SVR                 0.44708  0.193568  13.751856  18.723399   \n",
       "LightGBM                   0.972617  0.197541   3.043187  18.487144   \n",
       "Random Forest              0.892246  0.242856   6.337504   17.75722   \n",
       "Bagging Linear Regression  0.257351  0.242384   16.64001  17.588544   \n",
       "Linear Regression          0.252533  0.238291  16.569106  17.485227   \n",
       "\n",
       "                          Train_RMSE  Val_RMSE  \n",
       "Decision Tree               1.119756  1.258874  \n",
       "SVR                         0.912276  1.189181  \n",
       "XGBoost                     0.021644  1.212586  \n",
       "Bagging SVR                 0.912218  1.185515  \n",
       "LightGBM                    0.203005  1.182591  \n",
       "Random Forest               0.402702  1.148716  \n",
       "Bagging Linear Regression   1.057206  1.149073  \n",
       "Linear Regression            1.06063  1.152173  "
      ]
     },
     "metadata": {},
     "output_type": "display_data"
    }
   ],
   "source": [
    "# Empty DataFrame to store results\n",
    "results_df = pd.DataFrame(index=['Linear Regression', 'Bagging Linear Regression', 'SVR', 'Bagging SVR', 'Decision Tree', 'Random Forest', 'XGBoost', 'LightGBM'],\n",
    "                           columns=['Train_R2', 'Val_R2', 'Train_MAPE', 'Val_MAPE', 'Train_RMSE', 'Val_RMSE'])\n",
    "\n",
    "base_reg_lr = LinearRegression()\n",
    "base_reg_svr = SVR()\n",
    "\n",
    "models = {\n",
    "    'Linear Regression': LinearRegression(),\n",
    "    'Bagging Linear Regression': BaggingRegressor(base_reg_lr, n_estimators=30, random_state=123),\n",
    "    'SVR': SVR(),\n",
    "    'Bagging SVR': BaggingRegressor(base_reg_svr, n_estimators=30, random_state=123),\n",
    "    'Decision Tree': DecisionTreeRegressor(random_state=123, max_depth=3, min_samples_leaf=0.13),\n",
    "    'Random Forest': RandomForestRegressor(random_state=123),\n",
    "    'XGBoost': XGBRegressor(random_state=123),\n",
    "    'LightGBM': LGBMRegressor(random_state=123)\n",
    "}\n",
    "\n",
    "for model_name, model in models.items():\n",
    "    # Fit the model on the training set\n",
    "    model.fit(X_train_sample, y_train_sample)\n",
    "    \n",
    "    # Evaluate on the training set\n",
    "    train_predictions = model.predict(X_train_sample)\n",
    "    train_r2 = r2_score(y_train_sample, train_predictions)\n",
    "    train_rmse = np.sqrt(mean_squared_error(y_train_sample, train_predictions))\n",
    "    train_mape = mean_absolute_percentage_error(y_train_sample, train_predictions)\n",
    "    \n",
    "    # Evaluate on the validation set\n",
    "    val_predictions = model.predict(X_val)\n",
    "    val_r2 = r2_score(y_val, val_predictions)\n",
    "    val_rmse = np.sqrt(mean_squared_error(y_val, val_predictions))\n",
    "    val_mape = mean_absolute_percentage_error(y_val, val_predictions)\n",
    "    \n",
    "    results_df.loc[model_name] = [train_r2, val_r2, train_mape, val_mape, train_rmse, val_rmse]\n",
    "\n",
    "display(results_df.sort_values(by='Val_MAPE', ascending=False))\n"
   ]
  },
  {
   "cell_type": "markdown",
   "metadata": {},
   "source": [
    "Then, voting regressor with 5 base models, that initially gave the best results was trained."
   ]
  },
  {
   "cell_type": "code",
   "execution_count": 52,
   "metadata": {},
   "outputs": [
    {
     "data": {
      "text/html": [
       "<div>\n",
       "<style scoped>\n",
       "    .dataframe tbody tr th:only-of-type {\n",
       "        vertical-align: middle;\n",
       "    }\n",
       "\n",
       "    .dataframe tbody tr th {\n",
       "        vertical-align: top;\n",
       "    }\n",
       "\n",
       "    .dataframe thead th {\n",
       "        text-align: right;\n",
       "    }\n",
       "</style>\n",
       "<table border=\"1\" class=\"dataframe\">\n",
       "  <thead>\n",
       "    <tr style=\"text-align: right;\">\n",
       "      <th></th>\n",
       "      <th>Train_R2</th>\n",
       "      <th>Val_R2</th>\n",
       "      <th>Train_MAPE</th>\n",
       "      <th>Val_MAPE</th>\n",
       "      <th>Train_RMSE</th>\n",
       "      <th>Val_RMSE</th>\n",
       "    </tr>\n",
       "  </thead>\n",
       "  <tbody>\n",
       "    <tr>\n",
       "      <th>Voting Regressor</th>\n",
       "      <td>0.855406</td>\n",
       "      <td>0.211744</td>\n",
       "      <td>7.285072</td>\n",
       "      <td>18.239054</td>\n",
       "      <td>0.46649</td>\n",
       "      <td>1.172079</td>\n",
       "    </tr>\n",
       "  </tbody>\n",
       "</table>\n",
       "</div>"
      ],
      "text/plain": [
       "                  Train_R2    Val_R2 Train_MAPE   Val_MAPE Train_RMSE  \\\n",
       "Voting Regressor  0.855406  0.211744   7.285072  18.239054    0.46649   \n",
       "\n",
       "                  Val_RMSE  \n",
       "Voting Regressor  1.172079  "
      ]
     },
     "metadata": {},
     "output_type": "display_data"
    }
   ],
   "source": [
    "results_df = pd.DataFrame(index=['Voting Regressor'],\n",
    "                           columns=['Train_R2', 'Val_R2', 'Train_MAPE', 'Val_MAPE', 'Train_RMSE', 'Val_RMSE'])\n",
    "\n",
    "base_reg_lr = LinearRegression()\n",
    "base_reg_svr = SVR()\n",
    "\n",
    "models = [\n",
    "    ('Bagging Linear Regression', BaggingRegressor(base_reg_lr, n_estimators=30, random_state=123)),\n",
    "    ('Bagging SVR', BaggingRegressor(base_reg_svr, n_estimators=30, random_state=123)),\n",
    "    ('Decision Tree', DecisionTreeRegressor(random_state=123)),\n",
    "    ('Random Forest', RandomForestRegressor(random_state=123)),\n",
    "    ('XGBoost', XGBRegressor(random_state=123))\n",
    "]\n",
    "\n",
    "voting_regressor = VotingRegressor(models)\n",
    "\n",
    "# Fit the model on the training set\n",
    "voting_regressor.fit(X_train_sample, y_train_sample)\n",
    "\n",
    "# Evaluate on the training set\n",
    "train_predictions = voting_regressor.predict(X_train_sample)\n",
    "train_r2 = r2_score(y_train_sample, train_predictions)\n",
    "train_rmse = np.sqrt(mean_squared_error(y_train_sample, train_predictions))\n",
    "train_mape = mean_absolute_percentage_error(y_train_sample, train_predictions)\n",
    "\n",
    "# Evaluate on the validation set\n",
    "val_predictions = voting_regressor.predict(X_val)\n",
    "val_r2 = r2_score(y_val, val_predictions)\n",
    "val_rmse = np.sqrt(mean_squared_error(y_val, val_predictions))\n",
    "val_mape = mean_absolute_percentage_error(y_val, val_predictions)\n",
    "\n",
    "results_df.loc['Voting Regressor'] = [train_r2, val_r2, train_mape, val_mape, train_rmse, val_rmse]\n",
    "display(results_df)\n"
   ]
  },
  {
   "cell_type": "markdown",
   "metadata": {},
   "source": [
    "Similarly, stacking regressor with Linear Regression meta estimator has been fitted. "
   ]
  },
  {
   "cell_type": "code",
   "execution_count": 53,
   "metadata": {},
   "outputs": [
    {
     "data": {
      "text/html": [
       "<div>\n",
       "<style scoped>\n",
       "    .dataframe tbody tr th:only-of-type {\n",
       "        vertical-align: middle;\n",
       "    }\n",
       "\n",
       "    .dataframe tbody tr th {\n",
       "        vertical-align: top;\n",
       "    }\n",
       "\n",
       "    .dataframe thead th {\n",
       "        text-align: right;\n",
       "    }\n",
       "</style>\n",
       "<table border=\"1\" class=\"dataframe\">\n",
       "  <thead>\n",
       "    <tr style=\"text-align: right;\">\n",
       "      <th></th>\n",
       "      <th>Train_R2</th>\n",
       "      <th>Test_R2</th>\n",
       "      <th>Train_MAPE</th>\n",
       "      <th>Test_MAPE</th>\n",
       "      <th>Train_RMSE</th>\n",
       "      <th>Test_RMSE</th>\n",
       "    </tr>\n",
       "  </thead>\n",
       "  <tbody>\n",
       "    <tr>\n",
       "      <th>Stacking Regressor</th>\n",
       "      <td>0.698237</td>\n",
       "      <td>0.25451</td>\n",
       "      <td>10.580024</td>\n",
       "      <td>17.603045</td>\n",
       "      <td>0.673909</td>\n",
       "      <td>1.139841</td>\n",
       "    </tr>\n",
       "  </tbody>\n",
       "</table>\n",
       "</div>"
      ],
      "text/plain": [
       "                    Train_R2  Test_R2 Train_MAPE  Test_MAPE Train_RMSE  \\\n",
       "Stacking Regressor  0.698237  0.25451  10.580024  17.603045   0.673909   \n",
       "\n",
       "                   Test_RMSE  \n",
       "Stacking Regressor  1.139841  "
      ]
     },
     "metadata": {},
     "output_type": "display_data"
    }
   ],
   "source": [
    "results_df = pd.DataFrame(index=['Stacking Regressor'],\n",
    "                           columns=['Train_R2', 'Test_R2', 'Train_MAPE', 'Test_MAPE', 'Train_RMSE', 'Test_RMSE'])\n",
    "\n",
    "base_reg_lr = LinearRegression()\n",
    "base_reg_svr = SVR()\n",
    "\n",
    "base_models = [\n",
    "    ('Bagging Linear Regression', BaggingRegressor(base_reg_lr, n_estimators=30, random_state=123)),\n",
    "    ('Bagging SVR', BaggingRegressor(base_reg_svr, n_estimators=30, random_state=123)),\n",
    "    ('Decision Tree', DecisionTreeRegressor(random_state=123)),\n",
    "    ('Random Forest', RandomForestRegressor(random_state=123)),\n",
    "    ('XGBoost', XGBRegressor(random_state=123))\n",
    "]\n",
    "\n",
    "stacking_regressor = StackingRegressor(estimators=base_models, final_estimator=LinearRegression())\n",
    "\n",
    "# Fit the model on the training set\n",
    "stacking_regressor.fit(X_train_sample, y_train_sample)\n",
    "\n",
    "# Evaluate on the training set\n",
    "train_predictions = stacking_regressor.predict(X_train_sample)\n",
    "train_r2 = r2_score(y_train_sample, train_predictions)\n",
    "train_rmse = np.sqrt(mean_squared_error(y_train_sample, train_predictions))\n",
    "train_mape = mean_absolute_percentage_error(y_train_sample, train_predictions)\n",
    "\n",
    "# Evaluate on the validation set\n",
    "test_predictions = stacking_regressor.predict(X_val)\n",
    "test_r2 = r2_score(y_val, test_predictions)\n",
    "test_rmse = np.sqrt(mean_squared_error(y_val, test_predictions))\n",
    "test_mape = mean_absolute_percentage_error(y_val, test_predictions)\n",
    "\n",
    "results_df.loc['Stacking Regressor'] = [train_r2, test_r2, train_mape, test_mape, train_rmse, test_rmse]\n",
    "display(results_df)\n"
   ]
  },
  {
   "cell_type": "code",
   "execution_count": 54,
   "metadata": {},
   "outputs": [
    {
     "data": {
      "text/plain": [
       "(1120, 30)"
      ]
     },
     "execution_count": 54,
     "metadata": {},
     "output_type": "execute_result"
    }
   ],
   "source": [
    "X_train.shape"
   ]
  },
  {
   "cell_type": "markdown",
   "metadata": {},
   "source": [
    "After checking the initial performance of different models and configurations we processed with Sequental Feature Seection with Random Forest Regressor. The algorithm selected the most relevant features."
   ]
  },
  {
   "cell_type": "code",
   "execution_count": 55,
   "metadata": {},
   "outputs": [],
   "source": [
    "# FSS_rf = SequentialFeatureSelector(\n",
    "#     RandomForestRegressor(random_state=123),\n",
    "#     k_features=(1,30),\n",
    "#     forward=True,\n",
    "#     verbose=2,\n",
    "#     cv=5,\n",
    "#     scoring='neg_mean_absolute_percentage_error',\n",
    "#     n_jobs=-1).fit(X_train, y_train)"
   ]
  },
  {
   "cell_type": "code",
   "execution_count": 56,
   "metadata": {},
   "outputs": [],
   "source": [
    "# list(FSS_rf.k_feature_names_)"
   ]
  },
  {
   "cell_type": "code",
   "execution_count": 57,
   "metadata": {},
   "outputs": [],
   "source": [
    "selected_feature_names = ['alcohol',\n",
    " 'citric acid',\n",
    " 'feat01',\n",
    " 'feat04',\n",
    " 'feat07',\n",
    " 'free sulfur dioxide',\n",
    " 'pH',\n",
    " 'total sulfur dioxide',\n",
    " 'volatile acidity',\n",
    " 'chlorides_Q1',\n",
    " 'chlorides_Q2',\n",
    " 'chlorides_Q3',\n",
    " 'chlorides_Q4',\n",
    " 'residual sugar_Q1',\n",
    " 'residual sugar_Q2',\n",
    " 'residual sugar_Q3',\n",
    " 'residual sugar_Q4',\n",
    " 'sulphates_Q1',\n",
    " 'sulphates_Q2',\n",
    " 'sulphates_Q3',\n",
    " 'sulphates_Q4']"
   ]
  },
  {
   "cell_type": "code",
   "execution_count": 58,
   "metadata": {},
   "outputs": [],
   "source": [
    "X_train = X_train[selected_feature_names]\n",
    "X_test = X_test[selected_feature_names]"
   ]
  },
  {
   "cell_type": "markdown",
   "metadata": {},
   "source": [
    "### Hyperparameter tuning"
   ]
  },
  {
   "cell_type": "markdown",
   "metadata": {},
   "source": [
    "The next step was to fine tune separately each model used in both stacking and voting regressors. For this purpose, Randomized search algorithm with cross-validation on 5 folds were used."
   ]
  },
  {
   "cell_type": "code",
   "execution_count": 59,
   "metadata": {},
   "outputs": [
    {
     "name": "stderr",
     "output_type": "stream",
     "text": [
      "c:\\Users\\filsz\\AppData\\Local\\Programs\\Python\\Python310\\lib\\site-packages\\sklearn\\model_selection\\_search.py:307: UserWarning: The total space of parameters 80 is smaller than n_iter=100. Running 80 iterations. For exhaustive searches, use GridSearchCV.\n",
      "  warnings.warn(\n"
     ]
    },
    {
     "name": "stdout",
     "output_type": "stream",
     "text": [
      "Fitting 5 folds for each of 80 candidates, totalling 400 fits\n"
     ]
    },
    {
     "name": "stdout",
     "output_type": "stream",
     "text": [
      "Best Hyperparameters: {'n_estimators': 20, 'max_samples': 0.5, 'max_features': 1.0}\n",
      "RMSE: RandomizedSearchCV 1.0510461246277991\n",
      "MAPE: RandomizedSearchCV 15.407364490220651\n",
      "R2: RandomizedSearchCV 0.16162969028701635\n"
     ]
    }
   ],
   "source": [
    "# Base Linear Regression model\n",
    "base_model = LinearRegression()\n",
    "\n",
    "# Bagging Regressor with Linear Regression as base estimator\n",
    "bagging_reg = BaggingRegressor(base_model, random_state=123)\n",
    "\n",
    "# Hyperparameter grid for Bagging Regressor\n",
    "params = {\n",
    "    'n_estimators': [10, 20, 30, 40, 50],\n",
    "    'max_samples': [0.5, 0.7, 0.9, 1.0],\n",
    "    'max_features': [0.5, 0.7, 0.9, 1.0],\n",
    "}\n",
    "\n",
    "# RandomizedSearchCV for hyperparameter tuning\n",
    "random_search_bagging = RandomizedSearchCV(\n",
    "    estimator=bagging_reg,\n",
    "    param_distributions=params,\n",
    "    n_iter=100,\n",
    "    scoring='neg_mean_squared_error',\n",
    "    n_jobs=-1,\n",
    "    cv=5,\n",
    "    verbose=3,\n",
    "    random_state=123\n",
    ")\n",
    "\n",
    "random_search_bagging.fit(X_train, y_train)\n",
    "\n",
    "print(\"Best Hyperparameters:\", random_search_bagging.best_params_)\n",
    "\n",
    "# Evaluate the model on the test set\n",
    "predictions = random_search_bagging.predict(X_test)\n",
    "rmse = mean_squared_error(y_test, predictions, squared=False)\n",
    "mape = mean_absolute_percentage_error(y_test, predictions)\n",
    "r2 = r2_score(y_test, predictions)\n",
    "\n",
    "print(\"RMSE:\", random_search_bagging.__class__.__name__, rmse)\n",
    "print(\"MAPE:\", random_search_bagging.__class__.__name__, mape)\n",
    "print(\"R2:\", random_search_bagging.__class__.__name__, r2)\n"
   ]
  },
  {
   "cell_type": "code",
   "execution_count": 60,
   "metadata": {},
   "outputs": [],
   "source": [
    "best_params_bagging_lr = {'n_estimators': 20, 'max_samples': 0.5, 'max_features': 1.0}"
   ]
  },
  {
   "cell_type": "code",
   "execution_count": 61,
   "metadata": {},
   "outputs": [
    {
     "name": "stdout",
     "output_type": "stream",
     "text": [
      "Fitting 5 folds for each of 20 candidates, totalling 100 fits\n"
     ]
    },
    {
     "name": "stderr",
     "output_type": "stream",
     "text": [
      "c:\\Users\\filsz\\AppData\\Local\\Programs\\Python\\Python310\\lib\\site-packages\\sklearn\\model_selection\\_search.py:307: UserWarning: The total space of parameters 80 is smaller than n_iter=100. Running 80 iterations. For exhaustive searches, use GridSearchCV.\n",
      "  warnings.warn(\n"
     ]
    },
    {
     "name": "stdout",
     "output_type": "stream",
     "text": [
      "Fitting 5 folds for each of 80 candidates, totalling 400 fits\n",
      "Best Hyperparameters for SVR: {'kernel': 'linear', 'gamma': 'scale', 'epsilon': 0.1, 'C': 1}\n",
      "Best Hyperparameters for Bagging Regressor: {'n_estimators': 20, 'max_samples': 1.0, 'max_features': 1.0}\n",
      "RMSE: RandomizedSearchCV 1.050015568641571\n",
      "MAPE: RandomizedSearchCV 15.385464547488878\n",
      "R2: RandomizedSearchCV 0.16327293685643185\n"
     ]
    }
   ],
   "source": [
    "base_model = SVR()\n",
    "\n",
    "# Hyperparameter grid for svr\n",
    "params_svr = {\n",
    "    'C': [0.1, 1, 10],\n",
    "    'kernel': ['linear', 'rbf'],\n",
    "    'gamma': ['scale', 'auto'],\n",
    "    'epsilon': [0.1, 0.2, 0.5],\n",
    "}\n",
    "\n",
    "# Hyperparameter grid for Bagging Regressor\n",
    "params_bagging_regressor = {\n",
    "    'n_estimators': [10, 20, 30, 40, 50],\n",
    "    'max_samples': [0.5, 0.7, 0.9, 1.0],\n",
    "    'max_features': [0.5, 0.7, 0.9, 1.0],\n",
    "}\n",
    "\n",
    "# RandomizedSearchCV for hyperparameter tuning for SVR\n",
    "random_search_svr = RandomizedSearchCV(\n",
    "    estimator=base_model,\n",
    "    param_distributions=params_svr,\n",
    "    n_iter=20,\n",
    "    scoring='neg_mean_squared_error',  \n",
    "    n_jobs=-1,\n",
    "    cv=5,\n",
    "    verbose=3,\n",
    "    random_state=123\n",
    ")\n",
    "\n",
    "random_search_svr.fit(X_train, y_train)\n",
    "\n",
    "# Best hyperparameters for SVR\n",
    "best_params_svr = random_search_svr.best_params_\n",
    "\n",
    "# Base SVR model with optimized hyperparameters\n",
    "base_model_optimized = SVR(**best_params_svr)\n",
    "\n",
    "bagging_reg = BaggingRegressor(base_model_optimized, random_state=123)\n",
    "random_search_bagging = RandomizedSearchCV(\n",
    "    estimator=bagging_reg,\n",
    "    param_distributions=params_bagging_regressor,\n",
    "    n_iter=100,\n",
    "    scoring='neg_mean_squared_error',\n",
    "    n_jobs=-1,\n",
    "    cv=5,\n",
    "    verbose=3,\n",
    "    random_state=123\n",
    ")\n",
    "\n",
    "random_search_bagging.fit(X_train, y_train)\n",
    "\n",
    "print(\"Best Hyperparameters for SVR:\", best_params_svr)\n",
    "print(\"Best Hyperparameters for Bagging Regressor:\", random_search_bagging.best_params_)\n",
    "\n",
    "# Evaluate the model on the test set\n",
    "predictions = random_search_bagging.predict(X_test)\n",
    "rmse = mean_squared_error(y_test, predictions, squared=False)\n",
    "mape = mean_absolute_percentage_error(y_test, predictions)\n",
    "r2 = r2_score(y_test, predictions)\n",
    "\n",
    "print(\"RMSE:\", random_search_bagging.__class__.__name__, rmse)\n",
    "print(\"MAPE:\", random_search_bagging.__class__.__name__, mape)\n",
    "print(\"R2:\", random_search_bagging.__class__.__name__, r2)\n"
   ]
  },
  {
   "cell_type": "code",
   "execution_count": 62,
   "metadata": {},
   "outputs": [],
   "source": [
    "best_params_svr = {'kernel': 'linear', 'gamma': 'scale', 'epsilon': 0.1, 'C': 1}\n",
    "best_params_bagging_svr = {'n_estimators': 20, 'max_samples': 1.0, 'max_features': 1.0}"
   ]
  },
  {
   "cell_type": "code",
   "execution_count": 63,
   "metadata": {},
   "outputs": [
    {
     "name": "stdout",
     "output_type": "stream",
     "text": [
      "Fitting 5 folds for each of 270 candidates, totalling 1350 fits\n"
     ]
    },
    {
     "name": "stderr",
     "output_type": "stream",
     "text": [
      "c:\\Users\\filsz\\AppData\\Local\\Programs\\Python\\Python310\\lib\\site-packages\\sklearn\\model_selection\\_search.py:307: UserWarning: The total space of parameters 270 is smaller than n_iter=500. Running 270 iterations. For exhaustive searches, use GridSearchCV.\n",
      "  warnings.warn(\n"
     ]
    },
    {
     "name": "stdout",
     "output_type": "stream",
     "text": [
      "Best Hyperparameters for Decision Tree Regressor: {'splitter': 'random', 'min_samples_split': 10, 'min_samples_leaf': 2, 'max_features': None, 'max_depth': 5}\n",
      "RMSE: RandomizedSearchCV 1.1085302055581054\n",
      "MAPE: RandomizedSearchCV 16.46987022805065\n",
      "R2: RandomizedSearchCV 0.06741719856247586\n"
     ]
    }
   ],
   "source": [
    "decision_tree = DecisionTreeRegressor()\n",
    "\n",
    "params = {\n",
    "    'max_depth': [None, 5, 10, 15, 20],\n",
    "    'min_samples_split': [2, 5, 10],\n",
    "    'min_samples_leaf': [1, 2, 4],\n",
    "    'max_features': ['sqrt', 'log2', None], \n",
    "    'splitter': ['best', 'random'],\n",
    "}\n",
    "\n",
    "\n",
    "random_search_decision_tree = RandomizedSearchCV(\n",
    "    estimator=decision_tree,\n",
    "    param_distributions=params,\n",
    "    n_iter=500,\n",
    "    scoring='neg_mean_squared_error',\n",
    "    n_jobs=-1,\n",
    "    cv=5,\n",
    "    verbose=3,\n",
    "    random_state=123\n",
    ")\n",
    "\n",
    "random_search_decision_tree.fit(X_train, y_train)\n",
    "\n",
    "print(\"Best Hyperparameters for Decision Tree Regressor:\", random_search_decision_tree.best_params_)\n",
    "\n",
    "# Evaluate the model on the test set\n",
    "predictions = random_search_decision_tree.predict(X_test)\n",
    "rmse = mean_squared_error(y_test, predictions, squared=False)\n",
    "mape = mean_absolute_percentage_error(y_test, predictions)\n",
    "r2 = r2_score(y_test, predictions)\n",
    "\n",
    "\n",
    "print(\"RMSE:\", random_search_decision_tree.__class__.__name__, rmse)\n",
    "print(\"MAPE:\", random_search_decision_tree.__class__.__name__, mape)\n",
    "print(\"R2:\", random_search_decision_tree.__class__.__name__, r2)\n"
   ]
  },
  {
   "cell_type": "code",
   "execution_count": 64,
   "metadata": {},
   "outputs": [],
   "source": [
    "best_params_decision_tree = {'splitter': 'best', 'min_samples_split': 2, 'min_samples_leaf': 4, 'max_features': 'log2', 'max_depth': 5}"
   ]
  },
  {
   "cell_type": "code",
   "execution_count": 65,
   "metadata": {},
   "outputs": [
    {
     "name": "stdout",
     "output_type": "stream",
     "text": [
      "Fitting 5 folds for each of 100 candidates, totalling 500 fits\n",
      "Best Hyperparameters for Random Forest: {'n_estimators': 200, 'min_weight_fraction_leaf': 0.0, 'min_samples_split': 5, 'min_samples_leaf': 4, 'min_impurity_decrease': 0.0, 'max_leaf_nodes': None, 'max_features': 'sqrt', 'max_depth': 30, 'bootstrap': False}\n",
      "RMSE: RandomizedSearchCV 1.01258485918395\n",
      "MAPE: RandomizedSearchCV 15.040934854435225\n",
      "R2: RandomizedSearchCV 0.22186455624615142\n"
     ]
    }
   ],
   "source": [
    "base_model = RandomForestRegressor()\n",
    "\n",
    "param_grid = {\n",
    "    'n_estimators': [50, 100, 150, 200],\n",
    "    'max_depth': [None, 10, 20, 30],\n",
    "    'min_samples_split': [2, 5, 10],\n",
    "    'min_samples_leaf': [1, 2, 4],\n",
    "    'max_features': ['sqrt', 'log2'],\n",
    "    'bootstrap': [True, False],\n",
    "    'min_weight_fraction_leaf': [0.0, 0.1, 0.2],\n",
    "    'max_leaf_nodes': [None, 10, 20, 30],\n",
    "    'min_impurity_decrease': [0.0, 0.1, 0.2]\n",
    "}\n",
    "\n",
    "\n",
    "random_search_random_forest = RandomizedSearchCV(\n",
    "    estimator=base_model,\n",
    "    param_distributions=param_grid,\n",
    "    n_iter=100,\n",
    "    scoring='neg_mean_squared_error',\n",
    "    n_jobs=-1,\n",
    "    cv=5,\n",
    "    verbose=3,\n",
    "    random_state=123\n",
    ")\n",
    "\n",
    "random_search_random_forest.fit(X_train, y_train)\n",
    "\n",
    "print(\"Best Hyperparameters for Random Forest:\", random_search_random_forest.best_params_)\n",
    "\n",
    "# Evaluate the model on the test set\n",
    "predictions = random_search_random_forest.predict(X_test)\n",
    "rmse = mean_squared_error(y_test, predictions, squared=False)\n",
    "mape = mean_absolute_percentage_error(y_test, predictions)\n",
    "r2 = r2_score(y_test, predictions)\n",
    "\n",
    "print(\"RMSE:\", random_search_random_forest.__class__.__name__, rmse)\n",
    "print(\"MAPE:\", random_search_random_forest.__class__.__name__, mape)\n",
    "print(\"R2:\", random_search_random_forest.__class__.__name__, r2)\n"
   ]
  },
  {
   "cell_type": "code",
   "execution_count": 66,
   "metadata": {},
   "outputs": [],
   "source": [
    "best_params_rf = {'n_estimators': 200, 'min_weight_fraction_leaf': 0.0, 'min_samples_split': 5, 'min_samples_leaf': 4, 'min_impurity_decrease': 0.0, 'max_leaf_nodes': None, 'max_features': 'sqrt', 'max_depth': 30, 'bootstrap': False}"
   ]
  },
  {
   "cell_type": "code",
   "execution_count": 67,
   "metadata": {},
   "outputs": [
    {
     "name": "stdout",
     "output_type": "stream",
     "text": [
      "Fitting 5 folds for each of 100 candidates, totalling 500 fits\n",
      "Best Hyperparameters for XGBoost: {'subsample': 0.5, 'reg_lambda': 1.0, 'reg_alpha': 0.1, 'n_estimators': 100, 'min_child_weight': 1, 'max_depth': 3, 'learning_rate': 0.05, 'colsample_bytree': 0.5}\n",
      "RMSE: RandomizedSearchCV 1.024684619324475\n",
      "MAPE: RandomizedSearchCV 15.295918861707545\n",
      "R2: RandomizedSearchCV 0.20315697762011253\n"
     ]
    }
   ],
   "source": [
    "base_model = XGBRegressor()\n",
    "\n",
    "params_xgboost = {\n",
    "    'n_estimators': [100, 200, 300, 400, 500],\n",
    "    'learning_rate': [0.01, 0.05, 0.1, 0.2],\n",
    "    'max_depth': [3, 5, 10, 15],\n",
    "    'subsample': [0.5, 0.7, 0.9, 1.0],\n",
    "    'colsample_bytree': [0.5, 0.7, 0.9, 1.0],\n",
    "    'reg_alpha': [0.0, 0.1, 0.5, 1.0],\n",
    "    'reg_lambda': [0.0, 0.1, 0.5, 1.0],\n",
    "    'min_child_weight': [0, 1, 2, 3, 4, 5],\n",
    "}\n",
    "\n",
    "random_search_xgboost = RandomizedSearchCV(\n",
    "    estimator=base_model,\n",
    "    param_distributions=params_xgboost,\n",
    "    n_iter=100,\n",
    "    scoring='neg_mean_squared_error',\n",
    "    n_jobs=-1,\n",
    "    cv=5,\n",
    "    verbose=3,\n",
    "    random_state=123\n",
    ")\n",
    "\n",
    "random_search_xgboost.fit(X_train, y_train)\n",
    "\n",
    "print(\"Best Hyperparameters for XGBoost:\", random_search_xgboost.best_params_)\n",
    "\n",
    "# Evaluate the model on the test set\n",
    "predictions = random_search_xgboost.predict(X_test)\n",
    "rmse = mean_squared_error(y_test, predictions, squared=False)\n",
    "mape = mean_absolute_percentage_error(y_test, predictions)\n",
    "r2 = r2_score(y_test, predictions)\n",
    "\n",
    "print(\"RMSE:\", random_search_xgboost.__class__.__name__, rmse)\n",
    "print(\"MAPE:\", random_search_xgboost.__class__.__name__, mape)\n",
    "print(\"R2:\", random_search_xgboost.__class__.__name__, r2)\n"
   ]
  },
  {
   "cell_type": "code",
   "execution_count": 68,
   "metadata": {},
   "outputs": [],
   "source": [
    "best_params_xgb = {'subsample': 0.5, 'reg_lambda': 1.0, 'reg_alpha': 0.1, 'n_estimators': 100, 'min_child_weight': 1, 'max_depth': 3, 'learning_rate': 0.05, 'colsample_bytree': 0.5}"
   ]
  },
  {
   "cell_type": "markdown",
   "metadata": {},
   "source": [
    "Having the hyperparameter for each model tuned, time to check if we managed to improve results of base models. Let's do it in a proper way, defining a pipeline for for transformation and modelling and validate the results using 5 fold crossvalidation."
   ]
  },
  {
   "cell_type": "markdown",
   "metadata": {},
   "source": [
    "Stacking Regressor"
   ]
  },
  {
   "cell_type": "code",
   "execution_count": 72,
   "metadata": {},
   "outputs": [
    {
     "name": "stderr",
     "output_type": "stream",
     "text": [
      "c:\\Users\\filsz\\AppData\\Local\\Programs\\Python\\Python310\\lib\\site-packages\\sklearn\\preprocessing\\_encoders.py:975: FutureWarning: `sparse` was renamed to `sparse_output` in version 1.2 and will be removed in 1.4. `sparse_output` is ignored unless you leave `sparse` to its default value.\n",
      "  warnings.warn(\n",
      "c:\\Users\\filsz\\AppData\\Local\\Programs\\Python\\Python310\\lib\\site-packages\\sklearn\\preprocessing\\_encoders.py:975: FutureWarning: `sparse` was renamed to `sparse_output` in version 1.2 and will be removed in 1.4. `sparse_output` is ignored unless you leave `sparse` to its default value.\n",
      "  warnings.warn(\n",
      "c:\\Users\\filsz\\AppData\\Local\\Programs\\Python\\Python310\\lib\\site-packages\\sklearn\\preprocessing\\_encoders.py:975: FutureWarning: `sparse` was renamed to `sparse_output` in version 1.2 and will be removed in 1.4. `sparse_output` is ignored unless you leave `sparse` to its default value.\n",
      "  warnings.warn(\n",
      "c:\\Users\\filsz\\AppData\\Local\\Programs\\Python\\Python310\\lib\\site-packages\\sklearn\\preprocessing\\_encoders.py:975: FutureWarning: `sparse` was renamed to `sparse_output` in version 1.2 and will be removed in 1.4. `sparse_output` is ignored unless you leave `sparse` to its default value.\n",
      "  warnings.warn(\n",
      "c:\\Users\\filsz\\AppData\\Local\\Programs\\Python\\Python310\\lib\\site-packages\\sklearn\\preprocessing\\_encoders.py:975: FutureWarning: `sparse` was renamed to `sparse_output` in version 1.2 and will be removed in 1.4. `sparse_output` is ignored unless you leave `sparse` to its default value.\n",
      "  warnings.warn(\n",
      "c:\\Users\\filsz\\AppData\\Local\\Programs\\Python\\Python310\\lib\\site-packages\\sklearn\\preprocessing\\_encoders.py:975: FutureWarning: `sparse` was renamed to `sparse_output` in version 1.2 and will be removed in 1.4. `sparse_output` is ignored unless you leave `sparse` to its default value.\n",
      "  warnings.warn(\n",
      "c:\\Users\\filsz\\AppData\\Local\\Programs\\Python\\Python310\\lib\\site-packages\\sklearn\\preprocessing\\_encoders.py:975: FutureWarning: `sparse` was renamed to `sparse_output` in version 1.2 and will be removed in 1.4. `sparse_output` is ignored unless you leave `sparse` to its default value.\n",
      "  warnings.warn(\n",
      "c:\\Users\\filsz\\AppData\\Local\\Programs\\Python\\Python310\\lib\\site-packages\\sklearn\\preprocessing\\_encoders.py:975: FutureWarning: `sparse` was renamed to `sparse_output` in version 1.2 and will be removed in 1.4. `sparse_output` is ignored unless you leave `sparse` to its default value.\n",
      "  warnings.warn(\n",
      "c:\\Users\\filsz\\AppData\\Local\\Programs\\Python\\Python310\\lib\\site-packages\\sklearn\\preprocessing\\_encoders.py:975: FutureWarning: `sparse` was renamed to `sparse_output` in version 1.2 and will be removed in 1.4. `sparse_output` is ignored unless you leave `sparse` to its default value.\n",
      "  warnings.warn(\n",
      "c:\\Users\\filsz\\AppData\\Local\\Programs\\Python\\Python310\\lib\\site-packages\\sklearn\\preprocessing\\_encoders.py:975: FutureWarning: `sparse` was renamed to `sparse_output` in version 1.2 and will be removed in 1.4. `sparse_output` is ignored unless you leave `sparse` to its default value.\n",
      "  warnings.warn(\n",
      "c:\\Users\\filsz\\AppData\\Local\\Programs\\Python\\Python310\\lib\\site-packages\\sklearn\\preprocessing\\_encoders.py:975: FutureWarning: `sparse` was renamed to `sparse_output` in version 1.2 and will be removed in 1.4. `sparse_output` is ignored unless you leave `sparse` to its default value.\n",
      "  warnings.warn(\n",
      "c:\\Users\\filsz\\AppData\\Local\\Programs\\Python\\Python310\\lib\\site-packages\\sklearn\\preprocessing\\_encoders.py:975: FutureWarning: `sparse` was renamed to `sparse_output` in version 1.2 and will be removed in 1.4. `sparse_output` is ignored unless you leave `sparse` to its default value.\n",
      "  warnings.warn(\n",
      "c:\\Users\\filsz\\AppData\\Local\\Programs\\Python\\Python310\\lib\\site-packages\\sklearn\\preprocessing\\_encoders.py:975: FutureWarning: `sparse` was renamed to `sparse_output` in version 1.2 and will be removed in 1.4. `sparse_output` is ignored unless you leave `sparse` to its default value.\n",
      "  warnings.warn(\n",
      "c:\\Users\\filsz\\AppData\\Local\\Programs\\Python\\Python310\\lib\\site-packages\\sklearn\\preprocessing\\_encoders.py:975: FutureWarning: `sparse` was renamed to `sparse_output` in version 1.2 and will be removed in 1.4. `sparse_output` is ignored unless you leave `sparse` to its default value.\n",
      "  warnings.warn(\n",
      "c:\\Users\\filsz\\AppData\\Local\\Programs\\Python\\Python310\\lib\\site-packages\\sklearn\\preprocessing\\_encoders.py:975: FutureWarning: `sparse` was renamed to `sparse_output` in version 1.2 and will be removed in 1.4. `sparse_output` is ignored unless you leave `sparse` to its default value.\n",
      "  warnings.warn(\n"
     ]
    },
    {
     "data": {
      "text/html": [
       "<div>\n",
       "<style scoped>\n",
       "    .dataframe tbody tr th:only-of-type {\n",
       "        vertical-align: middle;\n",
       "    }\n",
       "\n",
       "    .dataframe tbody tr th {\n",
       "        vertical-align: top;\n",
       "    }\n",
       "\n",
       "    .dataframe thead th {\n",
       "        text-align: right;\n",
       "    }\n",
       "</style>\n",
       "<table border=\"1\" class=\"dataframe\">\n",
       "  <thead>\n",
       "    <tr style=\"text-align: right;\">\n",
       "      <th></th>\n",
       "      <th>RMSE</th>\n",
       "      <th>MAPE</th>\n",
       "      <th>R2</th>\n",
       "    </tr>\n",
       "  </thead>\n",
       "  <tbody>\n",
       "    <tr>\n",
       "      <th>Stacking Regressor</th>\n",
       "      <td>1.062143</td>\n",
       "      <td>16.528961</td>\n",
       "      <td>0.248389</td>\n",
       "    </tr>\n",
       "  </tbody>\n",
       "</table>\n",
       "</div>"
      ],
      "text/plain": [
       "                        RMSE       MAPE        R2\n",
       "Stacking Regressor  1.062143  16.528961  0.248389"
      ]
     },
     "metadata": {},
     "output_type": "display_data"
    }
   ],
   "source": [
    "X = df.drop(['quality', 'id', 'density', 'feat02', 'feat03', 'feat05', 'feat06', 'feat08', 'feat09', 'feat10', 'fixed acidity'], axis=1)\n",
    "y = df['quality']\n",
    "\n",
    "cols_to_scale = X.columns.drop(['chlorides', 'residual sugar', 'sulphates'])\n",
    "\n",
    "cols_to_encode = ['chlorides', 'residual sugar', 'sulphates']\n",
    "\n",
    "numeric_transformer = MinMaxScaler()\n",
    "categoric_transformer = OneHotEncoder(sparse=False, handle_unknown='ignore')\n",
    "\n",
    "preprocessor = ColumnTransformer(\n",
    "    transformers=[\n",
    "        ('num', numeric_transformer, cols_to_scale),\n",
    "        ('cat', categoric_transformer, cols_to_encode)\n",
    "    ]\n",
    ")\n",
    "\n",
    "base_reg_lr = LinearRegression()\n",
    "base_reg_svr = SVR(**best_params_svr)\n",
    "\n",
    "base_models = [\n",
    "    ('Bagging Linear Regression', BaggingRegressor(base_reg_lr, **best_params_bagging_lr, random_state=123)),\n",
    "    ('Bagging SVR', BaggingRegressor(base_reg_svr, **best_params_bagging_svr, random_state=123)),\n",
    "    ('Decision Tree', DecisionTreeRegressor(**best_params_decision_tree, random_state=123)),\n",
    "    ('Random Forest', RandomForestRegressor(**best_params_rf, random_state=123)),\n",
    "    ('XGBoost', XGBRegressor(**best_params_xgb, random_state=123))\n",
    "]\n",
    "\n",
    "stacking_regressor = StackingRegressor(estimators=base_models, final_estimator=base_reg_lr)\n",
    "\n",
    "pipeline = Pipeline(\n",
    "    steps=[\n",
    "        ('preprocessor', preprocessor),\n",
    "        ('regressor', stacking_regressor)\n",
    "    ] \n",
    ")\n",
    "\n",
    "def mape_scorer(estimator, X, y):\n",
    "    y_pred = estimator.predict(X)\n",
    "    return mean_absolute_percentage_error(y, y_pred)\n",
    "\n",
    "cv_rmse = cross_val_score(pipeline, X, y, cv=5, scoring='neg_root_mean_squared_error')\n",
    "cv_mape = cross_val_score(pipeline, X, y, cv=5, scoring=mape_scorer)\n",
    "cv_r2 = cross_val_score(pipeline, X, y, cv=5, scoring='r2')\n",
    "\n",
    "resutls_df2 = pd.DataFrame(index=['Stacking Regressor'],\n",
    "                            columns=['RMSE', 'MAPE', 'R2'])\n",
    "\n",
    "resutls_df2.loc['Stacking Regressor'] = [-cv_rmse.mean(), cv_mape.mean(), cv_r2.mean()]\n",
    "display(resutls_df2)"
   ]
  },
  {
   "cell_type": "markdown",
   "metadata": {},
   "source": [
    "Voting Regressor"
   ]
  },
  {
   "cell_type": "code",
   "execution_count": 73,
   "metadata": {},
   "outputs": [
    {
     "name": "stderr",
     "output_type": "stream",
     "text": [
      "c:\\Users\\filsz\\AppData\\Local\\Programs\\Python\\Python310\\lib\\site-packages\\sklearn\\preprocessing\\_encoders.py:975: FutureWarning: `sparse` was renamed to `sparse_output` in version 1.2 and will be removed in 1.4. `sparse_output` is ignored unless you leave `sparse` to its default value.\n",
      "  warnings.warn(\n",
      "c:\\Users\\filsz\\AppData\\Local\\Programs\\Python\\Python310\\lib\\site-packages\\sklearn\\preprocessing\\_encoders.py:975: FutureWarning: `sparse` was renamed to `sparse_output` in version 1.2 and will be removed in 1.4. `sparse_output` is ignored unless you leave `sparse` to its default value.\n",
      "  warnings.warn(\n",
      "c:\\Users\\filsz\\AppData\\Local\\Programs\\Python\\Python310\\lib\\site-packages\\sklearn\\preprocessing\\_encoders.py:975: FutureWarning: `sparse` was renamed to `sparse_output` in version 1.2 and will be removed in 1.4. `sparse_output` is ignored unless you leave `sparse` to its default value.\n",
      "  warnings.warn(\n",
      "c:\\Users\\filsz\\AppData\\Local\\Programs\\Python\\Python310\\lib\\site-packages\\sklearn\\preprocessing\\_encoders.py:975: FutureWarning: `sparse` was renamed to `sparse_output` in version 1.2 and will be removed in 1.4. `sparse_output` is ignored unless you leave `sparse` to its default value.\n",
      "  warnings.warn(\n",
      "c:\\Users\\filsz\\AppData\\Local\\Programs\\Python\\Python310\\lib\\site-packages\\sklearn\\preprocessing\\_encoders.py:975: FutureWarning: `sparse` was renamed to `sparse_output` in version 1.2 and will be removed in 1.4. `sparse_output` is ignored unless you leave `sparse` to its default value.\n",
      "  warnings.warn(\n",
      "c:\\Users\\filsz\\AppData\\Local\\Programs\\Python\\Python310\\lib\\site-packages\\sklearn\\preprocessing\\_encoders.py:975: FutureWarning: `sparse` was renamed to `sparse_output` in version 1.2 and will be removed in 1.4. `sparse_output` is ignored unless you leave `sparse` to its default value.\n",
      "  warnings.warn(\n",
      "c:\\Users\\filsz\\AppData\\Local\\Programs\\Python\\Python310\\lib\\site-packages\\sklearn\\preprocessing\\_encoders.py:975: FutureWarning: `sparse` was renamed to `sparse_output` in version 1.2 and will be removed in 1.4. `sparse_output` is ignored unless you leave `sparse` to its default value.\n",
      "  warnings.warn(\n",
      "c:\\Users\\filsz\\AppData\\Local\\Programs\\Python\\Python310\\lib\\site-packages\\sklearn\\preprocessing\\_encoders.py:975: FutureWarning: `sparse` was renamed to `sparse_output` in version 1.2 and will be removed in 1.4. `sparse_output` is ignored unless you leave `sparse` to its default value.\n",
      "  warnings.warn(\n",
      "c:\\Users\\filsz\\AppData\\Local\\Programs\\Python\\Python310\\lib\\site-packages\\sklearn\\preprocessing\\_encoders.py:975: FutureWarning: `sparse` was renamed to `sparse_output` in version 1.2 and will be removed in 1.4. `sparse_output` is ignored unless you leave `sparse` to its default value.\n",
      "  warnings.warn(\n",
      "c:\\Users\\filsz\\AppData\\Local\\Programs\\Python\\Python310\\lib\\site-packages\\sklearn\\preprocessing\\_encoders.py:975: FutureWarning: `sparse` was renamed to `sparse_output` in version 1.2 and will be removed in 1.4. `sparse_output` is ignored unless you leave `sparse` to its default value.\n",
      "  warnings.warn(\n",
      "c:\\Users\\filsz\\AppData\\Local\\Programs\\Python\\Python310\\lib\\site-packages\\sklearn\\preprocessing\\_encoders.py:975: FutureWarning: `sparse` was renamed to `sparse_output` in version 1.2 and will be removed in 1.4. `sparse_output` is ignored unless you leave `sparse` to its default value.\n",
      "  warnings.warn(\n",
      "c:\\Users\\filsz\\AppData\\Local\\Programs\\Python\\Python310\\lib\\site-packages\\sklearn\\preprocessing\\_encoders.py:975: FutureWarning: `sparse` was renamed to `sparse_output` in version 1.2 and will be removed in 1.4. `sparse_output` is ignored unless you leave `sparse` to its default value.\n",
      "  warnings.warn(\n",
      "c:\\Users\\filsz\\AppData\\Local\\Programs\\Python\\Python310\\lib\\site-packages\\sklearn\\preprocessing\\_encoders.py:975: FutureWarning: `sparse` was renamed to `sparse_output` in version 1.2 and will be removed in 1.4. `sparse_output` is ignored unless you leave `sparse` to its default value.\n",
      "  warnings.warn(\n",
      "c:\\Users\\filsz\\AppData\\Local\\Programs\\Python\\Python310\\lib\\site-packages\\sklearn\\preprocessing\\_encoders.py:975: FutureWarning: `sparse` was renamed to `sparse_output` in version 1.2 and will be removed in 1.4. `sparse_output` is ignored unless you leave `sparse` to its default value.\n",
      "  warnings.warn(\n",
      "c:\\Users\\filsz\\AppData\\Local\\Programs\\Python\\Python310\\lib\\site-packages\\sklearn\\preprocessing\\_encoders.py:975: FutureWarning: `sparse` was renamed to `sparse_output` in version 1.2 and will be removed in 1.4. `sparse_output` is ignored unless you leave `sparse` to its default value.\n",
      "  warnings.warn(\n"
     ]
    },
    {
     "data": {
      "text/html": [
       "<div>\n",
       "<style scoped>\n",
       "    .dataframe tbody tr th:only-of-type {\n",
       "        vertical-align: middle;\n",
       "    }\n",
       "\n",
       "    .dataframe tbody tr th {\n",
       "        vertical-align: top;\n",
       "    }\n",
       "\n",
       "    .dataframe thead th {\n",
       "        text-align: right;\n",
       "    }\n",
       "</style>\n",
       "<table border=\"1\" class=\"dataframe\">\n",
       "  <thead>\n",
       "    <tr style=\"text-align: right;\">\n",
       "      <th></th>\n",
       "      <th>RMSE</th>\n",
       "      <th>MAPE</th>\n",
       "      <th>R2</th>\n",
       "    </tr>\n",
       "  </thead>\n",
       "  <tbody>\n",
       "    <tr>\n",
       "      <th>Stacking Regressor</th>\n",
       "      <td>1.062143</td>\n",
       "      <td>16.528961</td>\n",
       "      <td>0.248389</td>\n",
       "    </tr>\n",
       "    <tr>\n",
       "      <th>Voting Regressor</th>\n",
       "      <td>1.08101</td>\n",
       "      <td>16.854866</td>\n",
       "      <td>0.221863</td>\n",
       "    </tr>\n",
       "  </tbody>\n",
       "</table>\n",
       "</div>"
      ],
      "text/plain": [
       "                        RMSE       MAPE        R2\n",
       "Stacking Regressor  1.062143  16.528961  0.248389\n",
       "Voting Regressor     1.08101  16.854866  0.221863"
      ]
     },
     "metadata": {},
     "output_type": "display_data"
    }
   ],
   "source": [
    "X = df.drop(['quality', 'id', 'density', 'feat02', 'feat03', 'feat05', 'feat06', 'feat08', 'feat09', 'feat10', 'fixed acidity'], axis=1)\n",
    "y = df['quality']\n",
    "\n",
    "cols_to_scale = X.columns.drop(['chlorides', 'residual sugar', 'sulphates'])\n",
    "\n",
    "cols_to_encode = ['chlorides', 'residual sugar', 'sulphates']\n",
    "\n",
    "numeric_transformer = MinMaxScaler()\n",
    "categoric_transformer = OneHotEncoder(sparse=False, handle_unknown='ignore')\n",
    "\n",
    "preprocessor = ColumnTransformer(\n",
    "    transformers=[\n",
    "        ('num', numeric_transformer, cols_to_scale),\n",
    "        ('cat', categoric_transformer, cols_to_encode)\n",
    "    ]\n",
    ")\n",
    "\n",
    "base_reg_lr = LinearRegression()\n",
    "base_reg_svr = SVR(**best_params_svr)\n",
    "\n",
    "models = [\n",
    "    ('Bagging Linear Regression', BaggingRegressor(base_reg_lr, **best_params_bagging_lr, random_state=123)),\n",
    "    ('Bagging SVR', BaggingRegressor(base_reg_svr, **best_params_bagging_svr, random_state=123)),\n",
    "    ('Decision Tree', DecisionTreeRegressor(**best_params_decision_tree, random_state=123)),\n",
    "    ('Random Forest', RandomForestRegressor(**best_params_rf, random_state=123)),\n",
    "    ('XGBoost', XGBRegressor(**best_params_xgb, random_state=123))\n",
    "]\n",
    "\n",
    "voting_regressor = VotingRegressor(models)\n",
    "\n",
    "pipeline = Pipeline(\n",
    "    steps=[\n",
    "        ('preprocessor', preprocessor),\n",
    "        ('regressor', voting_regressor)\n",
    "    ]\n",
    ")\n",
    "\n",
    "def mape_scorer(estimator, X, y):\n",
    "    y_pred = estimator.predict(X)\n",
    "    return mean_absolute_percentage_error(y, y_pred)\n",
    "\n",
    "# Perform cross-validation\n",
    "cv_rmse = cross_val_score(pipeline, X, y, cv=5, scoring='neg_root_mean_squared_error')\n",
    "cv_mape = cross_val_score(pipeline, X, y, cv=5, scoring=mape_scorer)\n",
    "cv_r2 = cross_val_score(pipeline, X, y, cv=5, scoring='r2')\n",
    "\n",
    "resutls_df2.loc['Voting Regressor'] = [-cv_rmse.mean(), cv_mape.mean(), cv_r2.mean()]\n",
    "display(resutls_df2)\n"
   ]
  },
  {
   "cell_type": "markdown",
   "metadata": {},
   "source": [
    "And additionally, Random Forest Regressor"
   ]
  },
  {
   "cell_type": "code",
   "execution_count": 74,
   "metadata": {},
   "outputs": [
    {
     "name": "stderr",
     "output_type": "stream",
     "text": [
      "c:\\Users\\filsz\\AppData\\Local\\Programs\\Python\\Python310\\lib\\site-packages\\sklearn\\preprocessing\\_encoders.py:975: FutureWarning: `sparse` was renamed to `sparse_output` in version 1.2 and will be removed in 1.4. `sparse_output` is ignored unless you leave `sparse` to its default value.\n",
      "  warnings.warn(\n",
      "c:\\Users\\filsz\\AppData\\Local\\Programs\\Python\\Python310\\lib\\site-packages\\sklearn\\preprocessing\\_encoders.py:975: FutureWarning: `sparse` was renamed to `sparse_output` in version 1.2 and will be removed in 1.4. `sparse_output` is ignored unless you leave `sparse` to its default value.\n",
      "  warnings.warn(\n",
      "c:\\Users\\filsz\\AppData\\Local\\Programs\\Python\\Python310\\lib\\site-packages\\sklearn\\preprocessing\\_encoders.py:975: FutureWarning: `sparse` was renamed to `sparse_output` in version 1.2 and will be removed in 1.4. `sparse_output` is ignored unless you leave `sparse` to its default value.\n",
      "  warnings.warn(\n",
      "c:\\Users\\filsz\\AppData\\Local\\Programs\\Python\\Python310\\lib\\site-packages\\sklearn\\preprocessing\\_encoders.py:975: FutureWarning: `sparse` was renamed to `sparse_output` in version 1.2 and will be removed in 1.4. `sparse_output` is ignored unless you leave `sparse` to its default value.\n",
      "  warnings.warn(\n",
      "c:\\Users\\filsz\\AppData\\Local\\Programs\\Python\\Python310\\lib\\site-packages\\sklearn\\preprocessing\\_encoders.py:975: FutureWarning: `sparse` was renamed to `sparse_output` in version 1.2 and will be removed in 1.4. `sparse_output` is ignored unless you leave `sparse` to its default value.\n",
      "  warnings.warn(\n",
      "c:\\Users\\filsz\\AppData\\Local\\Programs\\Python\\Python310\\lib\\site-packages\\sklearn\\preprocessing\\_encoders.py:975: FutureWarning: `sparse` was renamed to `sparse_output` in version 1.2 and will be removed in 1.4. `sparse_output` is ignored unless you leave `sparse` to its default value.\n",
      "  warnings.warn(\n",
      "c:\\Users\\filsz\\AppData\\Local\\Programs\\Python\\Python310\\lib\\site-packages\\sklearn\\preprocessing\\_encoders.py:975: FutureWarning: `sparse` was renamed to `sparse_output` in version 1.2 and will be removed in 1.4. `sparse_output` is ignored unless you leave `sparse` to its default value.\n",
      "  warnings.warn(\n",
      "c:\\Users\\filsz\\AppData\\Local\\Programs\\Python\\Python310\\lib\\site-packages\\sklearn\\preprocessing\\_encoders.py:975: FutureWarning: `sparse` was renamed to `sparse_output` in version 1.2 and will be removed in 1.4. `sparse_output` is ignored unless you leave `sparse` to its default value.\n",
      "  warnings.warn(\n",
      "c:\\Users\\filsz\\AppData\\Local\\Programs\\Python\\Python310\\lib\\site-packages\\sklearn\\preprocessing\\_encoders.py:975: FutureWarning: `sparse` was renamed to `sparse_output` in version 1.2 and will be removed in 1.4. `sparse_output` is ignored unless you leave `sparse` to its default value.\n",
      "  warnings.warn(\n",
      "c:\\Users\\filsz\\AppData\\Local\\Programs\\Python\\Python310\\lib\\site-packages\\sklearn\\preprocessing\\_encoders.py:975: FutureWarning: `sparse` was renamed to `sparse_output` in version 1.2 and will be removed in 1.4. `sparse_output` is ignored unless you leave `sparse` to its default value.\n",
      "  warnings.warn(\n",
      "c:\\Users\\filsz\\AppData\\Local\\Programs\\Python\\Python310\\lib\\site-packages\\sklearn\\preprocessing\\_encoders.py:975: FutureWarning: `sparse` was renamed to `sparse_output` in version 1.2 and will be removed in 1.4. `sparse_output` is ignored unless you leave `sparse` to its default value.\n",
      "  warnings.warn(\n",
      "c:\\Users\\filsz\\AppData\\Local\\Programs\\Python\\Python310\\lib\\site-packages\\sklearn\\preprocessing\\_encoders.py:975: FutureWarning: `sparse` was renamed to `sparse_output` in version 1.2 and will be removed in 1.4. `sparse_output` is ignored unless you leave `sparse` to its default value.\n",
      "  warnings.warn(\n",
      "c:\\Users\\filsz\\AppData\\Local\\Programs\\Python\\Python310\\lib\\site-packages\\sklearn\\preprocessing\\_encoders.py:975: FutureWarning: `sparse` was renamed to `sparse_output` in version 1.2 and will be removed in 1.4. `sparse_output` is ignored unless you leave `sparse` to its default value.\n",
      "  warnings.warn(\n",
      "c:\\Users\\filsz\\AppData\\Local\\Programs\\Python\\Python310\\lib\\site-packages\\sklearn\\preprocessing\\_encoders.py:975: FutureWarning: `sparse` was renamed to `sparse_output` in version 1.2 and will be removed in 1.4. `sparse_output` is ignored unless you leave `sparse` to its default value.\n",
      "  warnings.warn(\n",
      "c:\\Users\\filsz\\AppData\\Local\\Programs\\Python\\Python310\\lib\\site-packages\\sklearn\\preprocessing\\_encoders.py:975: FutureWarning: `sparse` was renamed to `sparse_output` in version 1.2 and will be removed in 1.4. `sparse_output` is ignored unless you leave `sparse` to its default value.\n",
      "  warnings.warn(\n"
     ]
    },
    {
     "data": {
      "text/html": [
       "<div>\n",
       "<style scoped>\n",
       "    .dataframe tbody tr th:only-of-type {\n",
       "        vertical-align: middle;\n",
       "    }\n",
       "\n",
       "    .dataframe tbody tr th {\n",
       "        vertical-align: top;\n",
       "    }\n",
       "\n",
       "    .dataframe thead th {\n",
       "        text-align: right;\n",
       "    }\n",
       "</style>\n",
       "<table border=\"1\" class=\"dataframe\">\n",
       "  <thead>\n",
       "    <tr style=\"text-align: right;\">\n",
       "      <th></th>\n",
       "      <th>RMSE</th>\n",
       "      <th>MAPE</th>\n",
       "      <th>R2</th>\n",
       "    </tr>\n",
       "  </thead>\n",
       "  <tbody>\n",
       "    <tr>\n",
       "      <th>Stacking Regressor</th>\n",
       "      <td>1.062143</td>\n",
       "      <td>16.528961</td>\n",
       "      <td>0.248389</td>\n",
       "    </tr>\n",
       "    <tr>\n",
       "      <th>Voting Regressor</th>\n",
       "      <td>1.08101</td>\n",
       "      <td>16.854866</td>\n",
       "      <td>0.221863</td>\n",
       "    </tr>\n",
       "    <tr>\n",
       "      <th>Random Forest</th>\n",
       "      <td>1.062052</td>\n",
       "      <td>16.545573</td>\n",
       "      <td>0.248867</td>\n",
       "    </tr>\n",
       "  </tbody>\n",
       "</table>\n",
       "</div>"
      ],
      "text/plain": [
       "                        RMSE       MAPE        R2\n",
       "Stacking Regressor  1.062143  16.528961  0.248389\n",
       "Voting Regressor     1.08101  16.854866  0.221863\n",
       "Random Forest       1.062052  16.545573  0.248867"
      ]
     },
     "metadata": {},
     "output_type": "display_data"
    }
   ],
   "source": [
    "X = df.drop(['quality', 'id', 'density', 'feat02', 'feat03', 'feat05', 'feat06', 'feat08', 'feat09', 'feat10', 'fixed acidity'], axis=1)\n",
    "y = df['quality']\n",
    "\n",
    "cols_to_scale = X.columns.drop(['chlorides', 'residual sugar', 'sulphates'])\n",
    "\n",
    "cols_to_encode = ['chlorides', 'residual sugar', 'sulphates']\n",
    "\n",
    "numeric_transformer = MinMaxScaler()\n",
    "categoric_transformer = OneHotEncoder(sparse=False, handle_unknown='ignore')\n",
    "\n",
    "preprocessor = ColumnTransformer(\n",
    "    transformers=[\n",
    "        ('num', numeric_transformer, cols_to_scale),\n",
    "        ('cat', categoric_transformer, cols_to_encode)\n",
    "    ]\n",
    ")\n",
    "\n",
    "rf = RandomForestRegressor(**best_params_rf, random_state=123)\n",
    "\n",
    "pipeline = Pipeline(\n",
    "    steps=[\n",
    "        ('preprocessor', preprocessor),\n",
    "        ('regressor', rf)\n",
    "    ]\n",
    ")\n",
    "\n",
    "def mape_scorer(estimator, X, y):\n",
    "    y_pred = estimator.predict(X)\n",
    "    return mean_absolute_percentage_error(y, y_pred)\n",
    "\n",
    "# Perform cross-validation\n",
    "cv_rmse = cross_val_score(pipeline, X, y, cv=5, scoring='neg_root_mean_squared_error')\n",
    "cv_mape = cross_val_score(pipeline, X, y, cv=5, scoring=mape_scorer)\n",
    "cv_r2 = cross_val_score(pipeline, X, y, cv=5, scoring='r2')\n",
    "\n",
    "resutls_df2.loc['Random Forest'] = [-cv_rmse.mean(), cv_mape.mean(), cv_r2.mean()]\n",
    "display(resutls_df2)\n",
    "\n",
    "\n",
    "\n"
   ]
  },
  {
   "cell_type": "markdown",
   "metadata": {},
   "source": [
    "And the very end, we can check the feature importance in our model. It seems like features 04 and 01, added by the Proffessor, player ver significant role in our model."
   ]
  },
  {
   "cell_type": "code",
   "execution_count": 85,
   "metadata": {},
   "outputs": [
    {
     "name": "stderr",
     "output_type": "stream",
     "text": [
      "c:\\Users\\filsz\\AppData\\Local\\Programs\\Python\\Python310\\lib\\site-packages\\sklearn\\preprocessing\\_encoders.py:975: FutureWarning: `sparse` was renamed to `sparse_output` in version 1.2 and will be removed in 1.4. `sparse_output` is ignored unless you leave `sparse` to its default value.\n",
      "  warnings.warn(\n"
     ]
    },
    {
     "data": {
      "image/png": "[encoded data removed]",
      "text/plain": [
       "<Figure size 1000x600 with 1 Axes>"
      ]
     },
     "metadata": {},
     "output_type": "display_data"
    }
   ],
   "source": [
    "pipeline.fit(X, y)\n",
    "\n",
    "sorted_idx = rf.feature_importances_.argsort()\n",
    "\n",
    "# Select the last five elements\n",
    "top_features_idx = sorted_idx[-5:]\n",
    "\n",
    "# Plotting only the top five features\n",
    "plt.figure(figsize=(10, 6))\n",
    "plt.barh(X.columns[top_features_idx], rf.feature_importances_[top_features_idx], color = '#54b8d1')\n",
    "plt.xlabel('Feature Importance')\n",
    "plt.title('Top 5 Features Importance')\n",
    "plt.show()"
   ]
  },
  {
   "cell_type": "markdown",
   "metadata": {},
   "source": [
    "For practice we wanted to check the performance of neural networks in our data. We wanted to chekc some of the configurations and it's performance. We tested many architectures of the network of neurons, and the configuration below gave the best results. Then we wanted to check which activation fuction would be the most powerful. To do that we created a loop that train and validate the model outcome for different confgurations f learning rate and activation functions. It turned out that learing rate = 0.01 adn activation fuction 'relu' gave the best results. "
   ]
  },
  {
   "cell_type": "code",
   "execution_count": 76,
   "metadata": {},
   "outputs": [
    {
     "name": "stderr",
     "output_type": "stream",
     "text": [
      "c:\\Users\\filsz\\AppData\\Local\\Programs\\Python\\Python310\\lib\\site-packages\\sklearn\\preprocessing\\_encoders.py:975: FutureWarning: `sparse` was renamed to `sparse_output` in version 1.2 and will be removed in 1.4. `sparse_output` is ignored unless you leave `sparse` to its default value.\n",
      "  warnings.warn(\n"
     ]
    },
    {
     "name": "stdout",
     "output_type": "stream",
     "text": [
      "WARNING:tensorflow:From c:\\Users\\filsz\\AppData\\Local\\Programs\\Python\\Python310\\lib\\site-packages\\keras\\src\\backend.py:873: The name tf.get_default_graph is deprecated. Please use tf.compat.v1.get_default_graph instead.\n",
      "\n",
      "WARNING:tensorflow:From c:\\Users\\filsz\\AppData\\Local\\Programs\\Python\\Python310\\lib\\site-packages\\keras\\src\\utils\\tf_utils.py:492: The name tf.ragged.RaggedTensorValue is deprecated. Please use tf.compat.v1.ragged.RaggedTensorValue instead.\n",
      "\n",
      "WARNING:tensorflow:From c:\\Users\\filsz\\AppData\\Local\\Programs\\Python\\Python310\\lib\\site-packages\\keras\\src\\engine\\base_layer_utils.py:384: The name tf.executing_eagerly_outside_functions is deprecated. Please use tf.compat.v1.executing_eagerly_outside_functions instead.\n",
      "\n",
      "9/9 [==============================] - 0s 2ms/step\n",
      "9/9 [==============================] - 0s 2ms/step\n",
      "9/9 [==============================] - 0s 2ms/step\n",
      "9/9 [==============================] - 0s 2ms/step\n",
      "9/9 [==============================] - 0s 2ms/step\n",
      "9/9 [==============================] - 0s 2ms/step\n",
      "9/9 [==============================] - 0s 2ms/step\n",
      "9/9 [==============================] - 0s 2ms/step\n",
      "9/9 [==============================] - 0s 2ms/step\n"
     ]
    },
    {
     "data": {
      "text/html": [
       "<div>\n",
       "<style scoped>\n",
       "    .dataframe tbody tr th:only-of-type {\n",
       "        vertical-align: middle;\n",
       "    }\n",
       "\n",
       "    .dataframe tbody tr th {\n",
       "        vertical-align: top;\n",
       "    }\n",
       "\n",
       "    .dataframe thead th {\n",
       "        text-align: right;\n",
       "    }\n",
       "</style>\n",
       "<table border=\"1\" class=\"dataframe\">\n",
       "  <thead>\n",
       "    <tr style=\"text-align: right;\">\n",
       "      <th></th>\n",
       "      <th>lr</th>\n",
       "      <th>activation_func</th>\n",
       "      <th>mse</th>\n",
       "      <th>mae</th>\n",
       "      <th>mape</th>\n",
       "      <th>rmse</th>\n",
       "      <th>r2</th>\n",
       "    </tr>\n",
       "  </thead>\n",
       "  <tbody>\n",
       "    <tr>\n",
       "      <th>3</th>\n",
       "      <td>0.010</td>\n",
       "      <td>relu</td>\n",
       "      <td>1.211825</td>\n",
       "      <td>0.868018</td>\n",
       "      <td>15.087844</td>\n",
       "      <td>1.100829</td>\n",
       "      <td>0.080330</td>\n",
       "    </tr>\n",
       "    <tr>\n",
       "      <th>4</th>\n",
       "      <td>0.010</td>\n",
       "      <td>tanh</td>\n",
       "      <td>1.317773</td>\n",
       "      <td>0.914930</td>\n",
       "      <td>15.903255</td>\n",
       "      <td>1.147943</td>\n",
       "      <td>-0.000076</td>\n",
       "    </tr>\n",
       "    <tr>\n",
       "      <th>7</th>\n",
       "      <td>0.100</td>\n",
       "      <td>tanh</td>\n",
       "      <td>1.319503</td>\n",
       "      <td>0.916068</td>\n",
       "      <td>15.923037</td>\n",
       "      <td>1.148696</td>\n",
       "      <td>-0.001389</td>\n",
       "    </tr>\n",
       "    <tr>\n",
       "      <th>5</th>\n",
       "      <td>0.010</td>\n",
       "      <td>sigmoid</td>\n",
       "      <td>1.323625</td>\n",
       "      <td>0.918186</td>\n",
       "      <td>15.959859</td>\n",
       "      <td>1.150489</td>\n",
       "      <td>-0.004517</td>\n",
       "    </tr>\n",
       "    <tr>\n",
       "      <th>6</th>\n",
       "      <td>0.100</td>\n",
       "      <td>relu</td>\n",
       "      <td>1.362759</td>\n",
       "      <td>0.933385</td>\n",
       "      <td>16.224039</td>\n",
       "      <td>1.167373</td>\n",
       "      <td>-0.034216</td>\n",
       "    </tr>\n",
       "    <tr>\n",
       "      <th>8</th>\n",
       "      <td>0.100</td>\n",
       "      <td>sigmoid</td>\n",
       "      <td>1.377482</td>\n",
       "      <td>0.938429</td>\n",
       "      <td>16.311721</td>\n",
       "      <td>1.173662</td>\n",
       "      <td>-0.045390</td>\n",
       "    </tr>\n",
       "    <tr>\n",
       "      <th>1</th>\n",
       "      <td>0.001</td>\n",
       "      <td>tanh</td>\n",
       "      <td>1.409723</td>\n",
       "      <td>0.949526</td>\n",
       "      <td>16.504602</td>\n",
       "      <td>1.187318</td>\n",
       "      <td>-0.069858</td>\n",
       "    </tr>\n",
       "    <tr>\n",
       "      <th>2</th>\n",
       "      <td>0.001</td>\n",
       "      <td>sigmoid</td>\n",
       "      <td>1.432669</td>\n",
       "      <td>0.957252</td>\n",
       "      <td>16.638893</td>\n",
       "      <td>1.196941</td>\n",
       "      <td>-0.087272</td>\n",
       "    </tr>\n",
       "    <tr>\n",
       "      <th>0</th>\n",
       "      <td>0.001</td>\n",
       "      <td>relu</td>\n",
       "      <td>1.543144</td>\n",
       "      <td>0.988366</td>\n",
       "      <td>17.179721</td>\n",
       "      <td>1.242234</td>\n",
       "      <td>-0.171113</td>\n",
       "    </tr>\n",
       "  </tbody>\n",
       "</table>\n",
       "</div>"
      ],
      "text/plain": [
       "      lr activation_func       mse       mae       mape      rmse        r2\n",
       "3  0.010            relu  1.211825  0.868018  15.087844  1.100829  0.080330\n",
       "4  0.010            tanh  1.317773  0.914930  15.903255  1.147943 -0.000076\n",
       "7  0.100            tanh  1.319503  0.916068  15.923037  1.148696 -0.001389\n",
       "5  0.010         sigmoid  1.323625  0.918186  15.959859  1.150489 -0.004517\n",
       "6  0.100            relu  1.362759  0.933385  16.224039  1.167373 -0.034216\n",
       "8  0.100         sigmoid  1.377482  0.938429  16.311721  1.173662 -0.045390\n",
       "1  0.001            tanh  1.409723  0.949526  16.504602  1.187318 -0.069858\n",
       "2  0.001         sigmoid  1.432669  0.957252  16.638893  1.196941 -0.087272\n",
       "0  0.001            relu  1.543144  0.988366  17.179721  1.242234 -0.171113"
      ]
     },
     "execution_count": 76,
     "metadata": {},
     "output_type": "execute_result"
    }
   ],
   "source": [
    "X = df.drop(['quality', 'id', 'density', 'feat02', 'feat03', 'feat05', 'feat06', 'feat08', 'feat09', 'feat10', 'fixed acidity'], axis=1)\n",
    "y = df['quality']\n",
    "\n",
    "cols_to_scale = X.columns.drop(['chlorides', 'residual sugar', 'sulphates'])\n",
    "\n",
    "cols_to_encode = ['chlorides', 'residual sugar', 'sulphates']\n",
    "\n",
    "numeric_transformer = MinMaxScaler()\n",
    "categoric_transformer = OneHotEncoder(sparse=False, handle_unknown='ignore')\n",
    "\n",
    "preprocessor = ColumnTransformer(\n",
    "    transformers=[\n",
    "        ('num', numeric_transformer, cols_to_scale),\n",
    "        ('cat', categoric_transformer, cols_to_encode)\n",
    "    ]\n",
    ")\n",
    "\n",
    "X_train, X_test, y_train, y_test = train_test_split(X, y, test_size=0.2, random_state=123)\n",
    "\n",
    "X_train = preprocessor.fit_transform(X_train)\n",
    "columns = cols_to_scale.tolist() + preprocessor.named_transformers_['cat'].get_feature_names_out(cols_to_encode).tolist()\n",
    "X_train_scaled = pd.DataFrame(X_train, columns=columns)\n",
    "\n",
    "X_test = preprocessor.transform(X_test)\n",
    "X_test_scaled = pd.DataFrame(X_test, columns=columns)\n",
    "\n",
    "learning_rates = [0.001, 0.01, 0.1]\n",
    "activation_functions = ['relu', 'tanh', 'sigmoid']\n",
    "\n",
    "results = []\n",
    "\n",
    "for lr in learning_rates:\n",
    "    for activation_func in activation_functions:\n",
    "        model = Sequential()\n",
    "        model.add(Dense(128, input_dim=X_train_scaled.shape[1], activation=activation_func))\n",
    "        model.add(Dropout(0.5))\n",
    "        model.add(Dense(64, activation=activation_func))\n",
    "        model.add(Dropout(0.5))\n",
    "        model.add(Dense(64, activation=activation_func))\n",
    "        model.add(Dropout(0.4))\n",
    "        model.add(Dense(64, activation=activation_func))\n",
    "        model.add(Dropout(0.3))\n",
    "        model.add(Dense(32, activation=activation_func))\n",
    "        model.add(Dropout(0.5))\n",
    "        model.add(Dense(16, activation=activation_func))\n",
    "        model.add(Dropout(0.5))\n",
    "        model.add(Dense(1))\n",
    "\n",
    "        optimizer = tf.keras.optimizers.Adam(learning_rate=lr)\n",
    "        model.compile(optimizer=optimizer, loss='mean_squared_error', metrics=['mae'])\n",
    "\n",
    "        # Train the model\n",
    "        model.fit(X_train_scaled, y_train, epochs=300, batch_size=64, validation_split=0.2, verbose=0)\n",
    "\n",
    "        # Evaluate the model on the test set\n",
    "        predictions = model.predict(X_test_scaled)\n",
    "        mse = mean_squared_error(y_test, predictions)\n",
    "        mae = mean_absolute_error(y_test, predictions)\n",
    "        mape = mean_absolute_error(y_test, predictions) / abs(y_test).mean() * 100\n",
    "        rmse = mean_squared_error(y_test, predictions, squared=False)\n",
    "        r2 = r2_score(y_test, predictions)\n",
    "\n",
    "        results.append({\n",
    "            'lr': lr,\n",
    "            'activation_func': activation_func,\n",
    "            'mse': mse,\n",
    "            'mae': mae,\n",
    "            'mape': mape,\n",
    "            'rmse': rmse,\n",
    "            'r2': r2\n",
    "        })\n",
    "\n",
    "results_df = pd.DataFrame(results)\n",
    "results_df.sort_values('mape', ascending=True)"
   ]
  },
  {
   "cell_type": "markdown",
   "metadata": {},
   "source": [
    "## Summary"
   ]
  },
  {
   "cell_type": "markdown",
   "metadata": {},
   "source": [
    "The project aimed to apply a comprehensive set of machine learning techniques learned in class, including boosting, bagging, stacking, and neural networks. It involved a systematic approach to machine learning, covering essential steps such as initial data preprocessing, data cleaning, exploratory data analysis, feature engineering, and preprocessing. To ensure robustness, the project employed advanced methodologies like avoiding data leakage through the use of pipelines.\n",
    "\n",
    "The modeling phase included the implementation of various ensemble methods like boosting, bagging, and stacking, along with the integration of neural networks to explore their capabilities. The project followed best practices in machine learning, incorporating hyperparameter tuning through randomized search to optimize model performance.\n",
    "\n",
    "Results of the modeeling were discussed during the presentation in class."
   ]
  }
 ],
 "metadata": {
  "kernelspec": {
   "display_name": "Python 3",
   "language": "python",
   "name": "python3"
  },
  "language_info": {
   "codemirror_mode": {
    "name": "ipython",
    "version": 3
   },
   "file_extension": ".py",
   "mimetype": "text/x-python",
   "name": "python",
   "nbconvert_exporter": "python",
   "pygments_lexer": "ipython3",
   "version": "3.10.8"
  }
 },
 "nbformat": 4,
 "nbformat_minor": 2
}
